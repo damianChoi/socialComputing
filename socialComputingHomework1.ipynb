{
  "nbformat": 4,
  "nbformat_minor": 0,
  "metadata": {
    "colab": {
      "name": "socialComputingHomework1.ipynb",
      "version": "0.3.2",
      "provenance": [],
      "include_colab_link": true
    },
    "kernelspec": {
      "name": "python3",
      "display_name": "Python 3"
    }
  },
  "cells": [
    {
      "cell_type": "markdown",
      "metadata": {
        "id": "view-in-github",
        "colab_type": "text"
      },
      "source": [
        "<a href=\"https://colab.research.google.com/github/damianChoi/socialComputing/blob/master/socialComputingHomework1.ipynb\" target=\"_parent\"><img src=\"https://colab.research.google.com/assets/colab-badge.svg\" alt=\"Open In Colab\"/></a>"
      ]
    },
    {
      "metadata": {
        "id": "SnIEXG2dkiyH",
        "colab_type": "text"
      },
      "cell_type": "markdown",
      "source": [
        "# Twitter Connection"
      ]
    },
    {
      "metadata": {
        "id": "EolQ4PODF2O1",
        "colab_type": "code",
        "outputId": "24e79983-eca5-45d5-e242-ae00877910f7",
        "colab": {
          "base_uri": "https://localhost:8080/",
          "height": 122
        }
      },
      "cell_type": "code",
      "source": [
        "# install twitter module on a jupyter command line\n",
        "!pip install twitter"
      ],
      "execution_count": 0,
      "outputs": [
        {
          "output_type": "stream",
          "text": [
            "Collecting twitter\n",
            "\u001b[?25l  Downloading https://files.pythonhosted.org/packages/85/e2/f602e3f584503f03e0389491b251464f8ecfe2596ac86e6b9068fe7419d3/twitter-1.18.0-py2.py3-none-any.whl (54kB)\n",
            "\u001b[K    100% |████████████████████████████████| 61kB 4.0MB/s \n",
            "\u001b[?25hInstalling collected packages: twitter\n",
            "Successfully installed twitter-1.18.0\n"
          ],
          "name": "stdout"
        }
      ]
    },
    {
      "metadata": {
        "id": "DKExZX7-GQIS",
        "colab_type": "code",
        "colab": {}
      },
      "cell_type": "code",
      "source": [
        "# allocate the keys to variables\n",
        "CONSUMER_KEY = \"UFfRJVjJLFSpYxQn6oTDOYE2l\"\n",
        "CONSUMER_SECRET = \"5LvcRVQoA05cJMadDQ9TD9is1kh82Otc0aEIlpZbQciA3OpcOM\"\n",
        "OAUTH_TOKEN = \"1106364183690436608-r8fCgG8Ev5yKpYPneVOLNjLoixjiSk\"\n",
        "OAUTH_TOKEN_SECRET = \"F5YHMPIZiopkKifa3sVVE0FLhnQLZIgnoW4E1nbVBRaK9\""
      ],
      "execution_count": 0,
      "outputs": []
    },
    {
      "metadata": {
        "id": "G_rhMZIIHHJx",
        "colab_type": "code",
        "outputId": "00b73ff7-46a8-4f22-bf8e-0742fbab7a90",
        "colab": {
          "base_uri": "https://localhost:8080/",
          "height": 34
        }
      },
      "cell_type": "code",
      "source": [
        "# initiate twitter api objects\n",
        "import twitter\n",
        "auth = twitter.oauth.OAuth(OAUTH_TOKEN, OAUTH_TOKEN_SECRET, CONSUMER_KEY, CONSUMER_SECRET)\n",
        "twitter_api = twitter.Twitter(auth=auth)\n",
        "print(twitter_api)"
      ],
      "execution_count": 0,
      "outputs": [
        {
          "output_type": "stream",
          "text": [
            "<twitter.api.Twitter object at 0x7f2e1abe7ac8>\n"
          ],
          "name": "stdout"
        }
      ]
    },
    {
      "metadata": {
        "id": "C-AkhAsCluiQ",
        "colab_type": "text"
      },
      "cell_type": "markdown",
      "source": [
        "# Exploring Trending Topics"
      ]
    },
    {
      "metadata": {
        "id": "biJGB8eZHe44",
        "colab_type": "code",
        "colab": {}
      },
      "cell_type": "code",
      "source": [
        "# Where On Earth ID for World, US, Seoul\n",
        "WORLD_WOE_ID = 1 \n",
        "US_WOE_ID = 23424977\n",
        "SEOUL_WOE_ID = 1132599\n",
        "world_trends = twitter_api.trends.place(_id=WORLD_WOE_ID)\n",
        "us_trends = twitter_api.trends.place(_id=US_WOE_ID)\n",
        "seoul_trends = twitter_api.trends.place(_id=SEOUL_WOE_ID)"
      ],
      "execution_count": 0,
      "outputs": []
    },
    {
      "metadata": {
        "id": "W8CIafkshxZ6",
        "colab_type": "code",
        "outputId": "67018e93-b2ac-419e-e6e7-c19a75550fe3",
        "colab": {
          "base_uri": "https://localhost:8080/",
          "height": 54
        }
      },
      "cell_type": "code",
      "source": [
        "print(world_trends)"
      ],
      "execution_count": 0,
      "outputs": [
        {
          "output_type": "stream",
          "text": [
            "[{'trends': [{'name': '#Popocatépetl', 'url': 'http://twitter.com/search?q=%23Popocat%C3%A9petl', 'promoted_content': None, 'query': '%23Popocat%C3%A9petl', 'tweet_volume': 37259}, {'name': '#195TLdenTTVerilir', 'url': 'http://twitter.com/search?q=%23195TLdenTTVerilir', 'promoted_content': None, 'query': '%23195TLdenTTVerilir', 'tweet_volume': None}, {'name': '#salı', 'url': 'http://twitter.com/search?q=%23sal%C4%B1', 'promoted_content': None, 'query': '%23sal%C4%B1', 'tweet_volume': None}, {'name': '#كلمه_ل_الجامعه', 'url': 'http://twitter.com/search?q=%23%D9%83%D9%84%D9%85%D9%87_%D9%84_%D8%A7%D9%84%D8%AC%D8%A7%D9%85%D8%B9%D9%87', 'promoted_content': None, 'query': '%23%D9%83%D9%84%D9%85%D9%87_%D9%84_%D8%A7%D9%84%D8%AC%D8%A7%D9%85%D8%B9%D9%87', 'tweet_volume': None}, {'name': '#WeWantChowkidar', 'url': 'http://twitter.com/search?q=%23WeWantChowkidar', 'promoted_content': None, 'query': '%23WeWantChowkidar', 'tweet_volume': 15495}, {'name': 'Don Goyo', 'url': 'http://twitter.com/search?q=%22Don+Goyo%22', 'promoted_content': None, 'query': '%22Don+Goyo%22', 'tweet_volume': None}, {'name': 'Devin Nunes', 'url': 'http://twitter.com/search?q=%22Devin+Nunes%22', 'promoted_content': None, 'query': '%22Devin+Nunes%22', 'tweet_volume': 108919}, {'name': '時の戦闘力', 'url': 'http://twitter.com/search?q=%E6%99%82%E3%81%AE%E6%88%A6%E9%97%98%E5%8A%9B', 'promoted_content': None, 'query': '%E6%99%82%E3%81%AE%E6%88%A6%E9%97%98%E5%8A%9B', 'tweet_volume': None}, {'name': '地球人の成人の戦闘力', 'url': 'http://twitter.com/search?q=%E5%9C%B0%E7%90%83%E4%BA%BA%E3%81%AE%E6%88%90%E4%BA%BA%E3%81%AE%E6%88%A6%E9%97%98%E5%8A%9B', 'promoted_content': None, 'query': '%E5%9C%B0%E7%90%83%E4%BA%BA%E3%81%AE%E6%88%90%E4%BA%BA%E3%81%AE%E6%88%A6%E9%97%98%E5%8A%9B', 'tweet_volume': None}, {'name': 'Elizabeth Holmes', 'url': 'http://twitter.com/search?q=%22Elizabeth+Holmes%22', 'promoted_content': None, 'query': '%22Elizabeth+Holmes%22', 'tweet_volume': None}, {'name': '第六感', 'url': 'http://twitter.com/search?q=%E7%AC%AC%E5%85%AD%E6%84%9F', 'promoted_content': None, 'query': '%E7%AC%AC%E5%85%AD%E6%84%9F', 'tweet_volume': 12012}, {'name': 'Miguel Barbosa', 'url': 'http://twitter.com/search?q=%22Miguel+Barbosa%22', 'promoted_content': None, 'query': '%22Miguel+Barbosa%22', 'tweet_volume': None}, {'name': 'サカイマッスル', 'url': 'http://twitter.com/search?q=%E3%82%B5%E3%82%AB%E3%82%A4%E3%83%9E%E3%83%83%E3%82%B9%E3%83%AB', 'promoted_content': None, 'query': '%E3%82%B5%E3%82%AB%E3%82%A4%E3%83%9E%E3%83%83%E3%82%B9%E3%83%AB', 'tweet_volume': 60345}, {'name': '親の体罰禁止', 'url': 'http://twitter.com/search?q=%E8%A6%AA%E3%81%AE%E4%BD%93%E7%BD%B0%E7%A6%81%E6%AD%A2', 'promoted_content': None, 'query': '%E8%A6%AA%E3%81%AE%E4%BD%93%E7%BD%B0%E7%A6%81%E6%AD%A2', 'tweet_volume': None}, {'name': 'Corbin', 'url': 'http://twitter.com/search?q=Corbin', 'promoted_content': None, 'query': 'Corbin', 'tweet_volume': 16523}, {'name': '#SweetenerWorldTour', 'url': 'http://twitter.com/search?q=%23SweetenerWorldTour', 'promoted_content': None, 'query': '%23SweetenerWorldTour', 'tweet_volume': 114080}, {'name': '#OAprendizNaBand', 'url': 'http://twitter.com/search?q=%23OAprendizNaBand', 'promoted_content': None, 'query': '%23OAprendizNaBand', 'tweet_volume': 19883}, {'name': '#WeCannotIgnore', 'url': 'http://twitter.com/search?q=%23WeCannotIgnore', 'promoted_content': None, 'query': '%23WeCannotIgnore', 'tweet_volume': None}, {'name': '#一番似ている二人をアップした人が優勝', 'url': 'http://twitter.com/search?q=%23%E4%B8%80%E7%95%AA%E4%BC%BC%E3%81%A6%E3%81%84%E3%82%8B%E4%BA%8C%E4%BA%BA%E3%82%92%E3%82%A2%E3%83%83%E3%83%97%E3%81%97%E3%81%9F%E4%BA%BA%E3%81%8C%E5%84%AA%E5%8B%9D', 'promoted_content': None, 'query': '%23%E4%B8%80%E7%95%AA%E4%BC%BC%E3%81%A6%E3%81%84%E3%82%8B%E4%BA%8C%E4%BA%BA%E3%82%92%E3%82%A2%E3%83%83%E3%83%97%E3%81%97%E3%81%9F%E4%BA%BA%E3%81%8C%E5%84%AA%E5%8B%9D', 'tweet_volume': 21502}, {'name': '#Beşiktaş116Yaşında', 'url': 'http://twitter.com/search?q=%23Be%C5%9Fikta%C5%9F116Ya%C5%9F%C4%B1nda', 'promoted_content': None, 'query': '%23Be%C5%9Fikta%C5%9F116Ya%C5%9F%C4%B1nda', 'tweet_volume': 21854}, {'name': '#صباح_الثلاثاء', 'url': 'http://twitter.com/search?q=%23%D8%B5%D8%A8%D8%A7%D8%AD_%D8%A7%D9%84%D8%AB%D9%84%D8%A7%D8%AB%D8%A7%D8%A1', 'promoted_content': None, 'query': '%23%D8%B5%D8%A8%D8%A7%D8%AD_%D8%A7%D9%84%D8%AB%D9%84%D8%A7%D8%AB%D8%A7%D8%A1', 'tweet_volume': None}, {'name': '#YoLeCreoAKrauze', 'url': 'http://twitter.com/search?q=%23YoLeCreoAKrauze', 'promoted_content': None, 'query': '%23YoLeCreoAKrauze', 'tweet_volume': 12069}, {'name': '#TheInventor', 'url': 'http://twitter.com/search?q=%23TheInventor', 'promoted_content': None, 'query': '%23TheInventor', 'tweet_volume': None}, {'name': '#Inshallah', 'url': 'http://twitter.com/search?q=%23Inshallah', 'promoted_content': None, 'query': '%23Inshallah', 'tweet_volume': None}, {'name': '#شخص_لا_يمكن_رفض_طلبه', 'url': 'http://twitter.com/search?q=%23%D8%B4%D8%AE%D8%B5_%D9%84%D8%A7_%D9%8A%D9%85%D9%83%D9%86_%D8%B1%D9%81%D8%B6_%D8%B7%D9%84%D8%A8%D9%87', 'promoted_content': None, 'query': '%23%D8%B4%D8%AE%D8%B5_%D9%84%D8%A7_%D9%8A%D9%85%D9%83%D9%86_%D8%B1%D9%81%D8%B6_%D8%B7%D9%84%D8%A8%D9%87', 'tweet_volume': None}, {'name': '#เสือดํา', 'url': 'http://twitter.com/search?q=%23%E0%B9%80%E0%B8%AA%E0%B8%B7%E0%B8%AD%E0%B8%94%E0%B9%8D%E0%B8%B2', 'promoted_content': None, 'query': '%23%E0%B9%80%E0%B8%AA%E0%B8%B7%E0%B8%AD%E0%B8%94%E0%B9%8D%E0%B8%B2', 'tweet_volume': 76289}, {'name': '#LoSabeTodo', 'url': 'http://twitter.com/search?q=%23LoSabeTodo', 'promoted_content': None, 'query': '%23LoSabeTodo', 'tweet_volume': None}, {'name': '#GençlerinYerindeOlsam', 'url': 'http://twitter.com/search?q=%23Gen%C3%A7lerinYerindeOlsam', 'promoted_content': None, 'query': '%23Gen%C3%A7lerinYerindeOlsam', 'tweet_volume': None}, {'name': '#DoakanPrabowoSandi', 'url': 'http://twitter.com/search?q=%23DoakanPrabowoSandi', 'promoted_content': None, 'query': '%23DoakanPrabowoSandi', 'tweet_volume': 23472}, {'name': '#TuesdayMotivation', 'url': 'http://twitter.com/search?q=%23TuesdayMotivation', 'promoted_content': None, 'query': '%23TuesdayMotivation', 'tweet_volume': None}, {'name': '#AdamKutnerPowerPlay', 'url': 'http://twitter.com/search?q=%23AdamKutnerPowerPlay', 'promoted_content': None, 'query': '%23AdamKutnerPowerPlay', 'tweet_volume': None}, {'name': '#ALosMexicanosNosEncanta', 'url': 'http://twitter.com/search?q=%23ALosMexicanosNosEncanta', 'promoted_content': None, 'query': '%23ALosMexicanosNosEncanta', 'tweet_volume': None}, {'name': '#LHHMIA', 'url': 'http://twitter.com/search?q=%23LHHMIA', 'promoted_content': None, 'query': '%23LHHMIA', 'tweet_volume': 10958}, {'name': '#GoSpursGo', 'url': 'http://twitter.com/search?q=%23GoSpursGo', 'promoted_content': None, 'query': '%23GoSpursGo', 'tweet_volume': 16389}, {'name': '#AçıkSeçikOrtada', 'url': 'http://twitter.com/search?q=%23A%C3%A7%C4%B1kSe%C3%A7ikOrtada', 'promoted_content': None, 'query': '%23A%C3%A7%C4%B1kSe%C3%A7ikOrtada', 'tweet_volume': None}, {'name': '#ShowtimeLAUGHTour', 'url': 'http://twitter.com/search?q=%23ShowtimeLAUGHTour', 'promoted_content': None, 'query': '%23ShowtimeLAUGHTour', 'tweet_volume': None}, {'name': '#GarlicBreadKokola', 'url': 'http://twitter.com/search?q=%23GarlicBreadKokola', 'promoted_content': None, 'query': '%23GarlicBreadKokola', 'tweet_volume': None}, {'name': '#WarrenTownHall', 'url': 'http://twitter.com/search?q=%23WarrenTownHall', 'promoted_content': None, 'query': '%23WarrenTownHall', 'tweet_volume': 32428}, {'name': '#ModiMeinHaiDum', 'url': 'http://twitter.com/search?q=%23ModiMeinHaiDum', 'promoted_content': None, 'query': '%23ModiMeinHaiDum', 'tweet_volume': 19550}, {'name': '#من_واقع_تجربتك_بالحياه', 'url': 'http://twitter.com/search?q=%23%D9%85%D9%86_%D9%88%D8%A7%D9%82%D8%B9_%D8%AA%D8%AC%D8%B1%D8%A8%D8%AA%D9%83_%D8%A8%D8%A7%D9%84%D8%AD%D9%8A%D8%A7%D9%87', 'promoted_content': None, 'query': '%23%D9%85%D9%86_%D9%88%D8%A7%D9%82%D8%B9_%D8%AA%D8%AC%D8%B1%D8%A8%D8%AA%D9%83_%D8%A8%D8%A7%D9%84%D8%AD%D9%8A%D8%A7%D9%87', 'tweet_volume': 14478}, {'name': '#DMKManifesto', 'url': 'http://twitter.com/search?q=%23DMKManifesto', 'promoted_content': None, 'query': '%23DMKManifesto', 'tweet_volume': None}, {'name': '#TercaDetremuraSDV', 'url': 'http://twitter.com/search?q=%23TercaDetremuraSDV', 'promoted_content': None, 'query': '%23TercaDetremuraSDV', 'tweet_volume': None}, {'name': '#診断で免許を', 'url': 'http://twitter.com/search?q=%23%E8%A8%BA%E6%96%AD%E3%81%A7%E5%85%8D%E8%A8%B1%E3%82%92', 'promoted_content': None, 'query': '%23%E8%A8%BA%E6%96%AD%E3%81%A7%E5%85%8D%E8%A8%B1%E3%82%92', 'tweet_volume': None}, {'name': '#VegasBorn', 'url': 'http://twitter.com/search?q=%23VegasBorn', 'promoted_content': None, 'query': '%23VegasBorn', 'tweet_volume': None}, {'name': '#ಒಂದ್_ಕೈ_ನೋಡ್ತೀವಿ', 'url': 'http://twitter.com/search?q=%23%E0%B2%92%E0%B2%82%E0%B2%A6%E0%B3%8D_%E0%B2%95%E0%B3%88_%E0%B2%A8%E0%B3%8B%E0%B2%A1%E0%B3%8D%E0%B2%A4%E0%B3%80%E0%B2%B5%E0%B2%BF', 'promoted_content': None, 'query': '%23%E0%B2%92%E0%B2%82%E0%B2%A6%E0%B3%8D_%E0%B2%95%E0%B3%88_%E0%B2%A8%E0%B3%8B%E0%B2%A1%E0%B3%8D%E0%B2%A4%E0%B3%80%E0%B2%B5%E0%B2%BF', 'tweet_volume': 21010}, {'name': '#911onFOX', 'url': 'http://twitter.com/search?q=%23911onFOX', 'promoted_content': None, 'query': '%23911onFOX', 'tweet_volume': 12817}, {'name': '#SpamDeSonrisas', 'url': 'http://twitter.com/search?q=%23SpamDeSonrisas', 'promoted_content': None, 'query': '%23SpamDeSonrisas', 'tweet_volume': None}, {'name': '#PumpRules', 'url': 'http://twitter.com/search?q=%23PumpRules', 'promoted_content': None, 'query': '%23PumpRules', 'tweet_volume': None}, {'name': '#TraiciónYAmor', 'url': 'http://twitter.com/search?q=%23Traici%C3%B3nYAmor', 'promoted_content': None, 'query': '%23Traici%C3%B3nYAmor', 'tweet_volume': None}, {'name': '#ミュージックの日', 'url': 'http://twitter.com/search?q=%23%E3%83%9F%E3%83%A5%E3%83%BC%E3%82%B8%E3%83%83%E3%82%AF%E3%81%AE%E6%97%A5', 'promoted_content': None, 'query': '%23%E3%83%9F%E3%83%A5%E3%83%BC%E3%82%B8%E3%83%83%E3%82%AF%E3%81%AE%E6%97%A5', 'tweet_volume': 22653}], 'as_of': '2019-03-19T06:15:45Z', 'created_at': '2019-03-19T06:09:30Z', 'locations': [{'name': 'Worldwide', 'woeid': 1}]}]\n"
          ],
          "name": "stdout"
        }
      ]
    },
    {
      "metadata": {
        "id": "QdpZGCtHh21Q",
        "colab_type": "code",
        "outputId": "71ebec82-d550-44d9-cf98-46033ca8bcb1",
        "colab": {
          "base_uri": "https://localhost:8080/",
          "height": 54
        }
      },
      "cell_type": "code",
      "source": [
        "print(us_trends)"
      ],
      "execution_count": 0,
      "outputs": [
        {
          "output_type": "stream",
          "text": [
            "[{'trends': [{'name': '#TheInventor', 'url': 'http://twitter.com/search?q=%23TheInventor', 'promoted_content': None, 'query': '%23TheInventor', 'tweet_volume': None}, {'name': 'Devin Nunes', 'url': 'http://twitter.com/search?q=%22Devin+Nunes%22', 'promoted_content': None, 'query': '%22Devin+Nunes%22', 'tweet_volume': 108919}, {'name': 'Elizabeth Holmes', 'url': 'http://twitter.com/search?q=%22Elizabeth+Holmes%22', 'promoted_content': None, 'query': '%22Elizabeth+Holmes%22', 'tweet_volume': None}, {'name': '#LHHMIA', 'url': 'http://twitter.com/search?q=%23LHHMIA', 'promoted_content': None, 'query': '%23LHHMIA', 'tweet_volume': 10958}, {'name': '#SweetenerWorldTour', 'url': 'http://twitter.com/search?q=%23SweetenerWorldTour', 'promoted_content': None, 'query': '%23SweetenerWorldTour', 'tweet_volume': 114080}, {'name': '#WarrenTownHall', 'url': 'http://twitter.com/search?q=%23WarrenTownHall', 'promoted_content': None, 'query': '%23WarrenTownHall', 'tweet_volume': 32428}, {'name': '#911onFOX', 'url': 'http://twitter.com/search?q=%23911onFOX', 'promoted_content': None, 'query': '%23911onFOX', 'tweet_volume': 12817}, {'name': 'Theranos', 'url': 'http://twitter.com/search?q=Theranos', 'promoted_content': None, 'query': 'Theranos', 'tweet_volume': None}, {'name': 'Cookie Monster', 'url': 'http://twitter.com/search?q=%22Cookie+Monster%22', 'promoted_content': None, 'query': '%22Cookie+Monster%22', 'tweet_volume': 13896}, {'name': 'Corbin', 'url': 'http://twitter.com/search?q=Corbin', 'promoted_content': None, 'query': 'Corbin', 'tweet_volume': 16523}, {'name': 'Grover', 'url': 'http://twitter.com/search?q=Grover', 'promoted_content': None, 'query': 'Grover', 'tweet_volume': 14691}, {'name': 'Franken', 'url': 'http://twitter.com/search?q=Franken', 'promoted_content': None, 'query': 'Franken', 'tweet_volume': None}, {'name': 'Lala', 'url': 'http://twitter.com/search?q=Lala', 'promoted_content': None, 'query': 'Lala', 'tweet_volume': 26061}, {'name': 'Normani', 'url': 'http://twitter.com/search?q=Normani', 'promoted_content': None, 'query': 'Normani', 'tweet_volume': 80773}, {'name': 'Kurt Angle', 'url': 'http://twitter.com/search?q=%22Kurt+Angle%22', 'promoted_content': None, 'query': '%22Kurt+Angle%22', 'tweet_volume': None}, {'name': 'Deutsche Bank', 'url': 'http://twitter.com/search?q=%22Deutsche+Bank%22', 'promoted_content': None, 'query': '%22Deutsche+Bank%22', 'tweet_volume': 48844}, {'name': 'Elmo', 'url': 'http://twitter.com/search?q=Elmo', 'promoted_content': None, 'query': 'Elmo', 'tweet_volume': 13926}, {'name': 'Amara', 'url': 'http://twitter.com/search?q=Amara', 'promoted_content': None, 'query': 'Amara', 'tweet_volume': None}, {'name': 'Tamba', 'url': 'http://twitter.com/search?q=Tamba', 'promoted_content': None, 'query': 'Tamba', 'tweet_volume': None}, {'name': 'WNIT', 'url': 'http://twitter.com/search?q=WNIT', 'promoted_content': None, 'query': 'WNIT', 'tweet_volume': None}, {'name': 'elfrid payton', 'url': 'http://twitter.com/search?q=%22elfrid+payton%22', 'promoted_content': None, 'query': '%22elfrid+payton%22', 'tweet_volume': None}, {'name': 'Travis Browne', 'url': 'http://twitter.com/search?q=%22Travis+Browne%22', 'promoted_content': None, 'query': '%22Travis+Browne%22', 'tweet_volume': None}, {'name': 'Track 14', 'url': 'http://twitter.com/search?q=%22Track+14%22', 'promoted_content': None, 'query': '%22Track+14%22', 'tweet_volume': None}, {'name': 'Isaiah Thomas', 'url': 'http://twitter.com/search?q=%22Isaiah+Thomas%22', 'promoted_content': None, 'query': '%22Isaiah+Thomas%22', 'tweet_volume': 18087}, {'name': 'Dana Brooke', 'url': 'http://twitter.com/search?q=%22Dana+Brooke%22', 'promoted_content': None, 'query': '%22Dana+Brooke%22', 'tweet_volume': None}, {'name': 'Reilly Smith', 'url': 'http://twitter.com/search?q=%22Reilly+Smith%22', 'promoted_content': None, 'query': '%22Reilly+Smith%22', 'tweet_volume': None}, {'name': '#PumpRules', 'url': 'http://twitter.com/search?q=%23PumpRules', 'promoted_content': None, 'query': '%23PumpRules', 'tweet_volume': None}, {'name': '#GoSpursGo', 'url': 'http://twitter.com/search?q=%23GoSpursGo', 'promoted_content': None, 'query': '%23GoSpursGo', 'tweet_volume': 16389}, {'name': '#AdamKutnerPowerPlay', 'url': 'http://twitter.com/search?q=%23AdamKutnerPowerPlay', 'promoted_content': None, 'query': '%23AdamKutnerPowerPlay', 'tweet_volume': None}, {'name': '#LHHReunion', 'url': 'http://twitter.com/search?q=%23LHHReunion', 'promoted_content': None, 'query': '%23LHHReunion', 'tweet_volume': 10823}, {'name': '#VegasBorn', 'url': 'http://twitter.com/search?q=%23VegasBorn', 'promoted_content': None, 'query': '%23VegasBorn', 'tweet_volume': None}, {'name': '#FavoriteThingsToOverdo', 'url': 'http://twitter.com/search?q=%23FavoriteThingsToOverdo', 'promoted_content': None, 'query': '%23FavoriteThingsToOverdo', 'tweet_volume': None}, {'name': '#TheFix', 'url': 'http://twitter.com/search?q=%23TheFix', 'promoted_content': None, 'query': '%23TheFix', 'tweet_volume': None}, {'name': '#ThingsIWouldSuperSize', 'url': 'http://twitter.com/search?q=%23ThingsIWouldSuperSize', 'promoted_content': None, 'query': '%23ThingsIWouldSuperSize', 'tweet_volume': None}, {'name': '#BlackLightning', 'url': 'http://twitter.com/search?q=%23BlackLightning', 'promoted_content': None, 'query': '%23BlackLightning', 'tweet_volume': 11479}, {'name': '#MakeAComplimentAwkward', 'url': 'http://twitter.com/search?q=%23MakeAComplimentAwkward', 'promoted_content': None, 'query': '%23MakeAComplimentAwkward', 'tweet_volume': None}, {'name': '#VGKvsSJS', 'url': 'http://twitter.com/search?q=%23VGKvsSJS', 'promoted_content': None, 'query': '%23VGKvsSJS', 'tweet_volume': None}, {'name': '#GoKnightsGo', 'url': 'http://twitter.com/search?q=%23GoKnightsGo', 'promoted_content': None, 'query': '%23GoKnightsGo', 'tweet_volume': None}, {'name': '#VoiceBlinds', 'url': 'http://twitter.com/search?q=%23VoiceBlinds', 'promoted_content': None, 'query': '%23VoiceBlinds', 'tweet_volume': None}, {'name': '#TheVoice', 'url': 'http://twitter.com/search?q=%23TheVoice', 'promoted_content': None, 'query': '%23TheVoice', 'tweet_volume': None}, {'name': '#HowIGotOnStarSearch', 'url': 'http://twitter.com/search?q=%23HowIGotOnStarSearch', 'promoted_content': None, 'query': '%23HowIGotOnStarSearch', 'tweet_volume': None}, {'name': '#LHHATL', 'url': 'http://twitter.com/search?q=%23LHHATL', 'promoted_content': None, 'query': '%23LHHATL', 'tweet_volume': None}, {'name': '#RAWChicago', 'url': 'http://twitter.com/search?q=%23RAWChicago', 'promoted_content': None, 'query': '%23RAWChicago', 'tweet_volume': None}, {'name': '#TeenMom2', 'url': 'http://twitter.com/search?q=%23TeenMom2', 'promoted_content': None, 'query': '%23TeenMom2', 'tweet_volume': None}, {'name': '#LHHNY', 'url': 'http://twitter.com/search?q=%23LHHNY', 'promoted_content': None, 'query': '%23LHHNY', 'tweet_volume': None}, {'name': '#UnlikelyToGoExtinct', 'url': 'http://twitter.com/search?q=%23UnlikelyToGoExtinct', 'promoted_content': None, 'query': '%23UnlikelyToGoExtinct', 'tweet_volume': None}, {'name': '#SummerHouse', 'url': 'http://twitter.com/search?q=%23SummerHouse', 'promoted_content': None, 'query': '%23SummerHouse', 'tweet_volume': None}, {'name': '#TheEnemyWithin', 'url': 'http://twitter.com/search?q=%23TheEnemyWithin', 'promoted_content': None, 'query': '%23TheEnemyWithin', 'tweet_volume': None}, {'name': '#TuesdayThoughts', 'url': 'http://twitter.com/search?q=%23TuesdayThoughts', 'promoted_content': None, 'query': '%23TuesdayThoughts', 'tweet_volume': 14261}, {'name': '#BTS2MPreordersParty', 'url': 'http://twitter.com/search?q=%23BTS2MPreordersParty', 'promoted_content': None, 'query': '%23BTS2MPreordersParty', 'tweet_volume': 48610}], 'as_of': '2019-03-19T06:15:45Z', 'created_at': '2019-03-19T06:09:30Z', 'locations': [{'name': 'United States', 'woeid': 23424977}]}]\n"
          ],
          "name": "stdout"
        }
      ]
    },
    {
      "metadata": {
        "id": "RhP6NlJdh9Yo",
        "colab_type": "code",
        "outputId": "c55ea54e-47b7-4ac6-d561-3177c76dc5da",
        "colab": {
          "base_uri": "https://localhost:8080/",
          "height": 54
        }
      },
      "cell_type": "code",
      "source": [
        "print(seoul_trends)"
      ],
      "execution_count": 0,
      "outputs": [
        {
          "output_type": "stream",
          "text": [
            "[{'trends': [{'name': '전생체험', 'url': 'http://twitter.com/search?q=%EC%A0%84%EC%83%9D%EC%B2%B4%ED%97%98', 'promoted_content': None, 'query': '%EC%A0%84%EC%83%9D%EC%B2%B4%ED%97%98', 'tweet_volume': 105407}, {'name': '오타쿠', 'url': 'http://twitter.com/search?q=%EC%98%A4%ED%83%80%EC%BF%A0', 'promoted_content': None, 'query': '%EC%98%A4%ED%83%80%EC%BF%A0', 'tweet_volume': 29958}, {'name': '좋은거', 'url': 'http://twitter.com/search?q=%EC%A2%8B%EC%9D%80%EA%B1%B0', 'promoted_content': None, 'query': '%EC%A2%8B%EC%9D%80%EA%B1%B0', 'tweet_volume': 39545}, {'name': '같은 느낌', 'url': 'http://twitter.com/search?q=%22%EA%B0%99%EC%9D%80+%EB%8A%90%EB%82%8C%22', 'promoted_content': None, 'query': '%22%EA%B0%99%EC%9D%80+%EB%8A%90%EB%82%8C%22', 'tweet_volume': None}, {'name': '저희 단코코리', 'url': 'http://twitter.com/search?q=%22%EC%A0%80%ED%9D%AC+%EB%8B%A8%EC%BD%94%EC%BD%94%EB%A6%AC%22', 'promoted_content': None, 'query': '%22%EC%A0%80%ED%9D%AC+%EB%8B%A8%EC%BD%94%EC%BD%94%EB%A6%AC%22', 'tweet_volume': None}, {'name': '하나씩', 'url': 'http://twitter.com/search?q=%ED%95%98%EB%82%98%EC%94%A9', 'promoted_content': None, 'query': '%ED%95%98%EB%82%98%EC%94%A9', 'tweet_volume': None}, {'name': '토착왜구', 'url': 'http://twitter.com/search?q=%ED%86%A0%EC%B0%A9%EC%99%9C%EA%B5%AC', 'promoted_content': None, 'query': '%ED%86%A0%EC%B0%A9%EC%99%9C%EA%B5%AC', 'tweet_volume': None}, {'name': '무언가', 'url': 'http://twitter.com/search?q=%EB%AC%B4%EC%96%B8%EA%B0%80', 'promoted_content': None, 'query': '%EB%AC%B4%EC%96%B8%EA%B0%80', 'tweet_volume': None}, {'name': '버닝썬', 'url': 'http://twitter.com/search?q=%EB%B2%84%EB%8B%9D%EC%8D%AC', 'promoted_content': None, 'query': '%EB%B2%84%EB%8B%9D%EC%8D%AC', 'tweet_volume': 53994}, {'name': '한마디', 'url': 'http://twitter.com/search?q=%ED%95%9C%EB%A7%88%EB%94%94', 'promoted_content': None, 'query': '%ED%95%9C%EB%A7%88%EB%94%94', 'tweet_volume': 12720}, {'name': '너의 낙원', 'url': 'http://twitter.com/search?q=%22%EB%84%88%EC%9D%98+%EB%82%99%EC%9B%90%22', 'promoted_content': None, 'query': '%22%EB%84%88%EC%9D%98+%EB%82%99%EC%9B%90%22', 'tweet_volume': None}, {'name': '니시타', 'url': 'http://twitter.com/search?q=%EB%8B%88%EC%8B%9C%ED%83%80', 'promoted_content': None, 'query': '%EB%8B%88%EC%8B%9C%ED%83%80', 'tweet_volume': None}, {'name': '나츠메', 'url': 'http://twitter.com/search?q=%EB%82%98%EC%B8%A0%EB%A9%94', 'promoted_content': None, 'query': '%EB%82%98%EC%B8%A0%EB%A9%94', 'tweet_volume': None}, {'name': '파쿠리', 'url': 'http://twitter.com/search?q=%ED%8C%8C%EC%BF%A0%EB%A6%AC', 'promoted_content': None, 'query': '%ED%8C%8C%EC%BF%A0%EB%A6%AC', 'tweet_volume': None}, {'name': '개츠비', 'url': 'http://twitter.com/search?q=%EA%B0%9C%EC%B8%A0%EB%B9%84', 'promoted_content': None, 'query': '%EA%B0%9C%EC%B8%A0%EB%B9%84', 'tweet_volume': None}, {'name': '에이프릴', 'url': 'http://twitter.com/search?q=%EC%97%90%EC%9D%B4%ED%94%84%EB%A6%B4', 'promoted_content': None, 'query': '%EC%97%90%EC%9D%B4%ED%94%84%EB%A6%B4', 'tweet_volume': None}, {'name': '키노앨범', 'url': 'http://twitter.com/search?q=%ED%82%A4%EB%85%B8%EC%95%A8%EB%B2%94', 'promoted_content': None, 'query': '%ED%82%A4%EB%85%B8%EC%95%A8%EB%B2%94', 'tweet_volume': None}, {'name': '엄복동', 'url': 'http://twitter.com/search?q=%EC%97%84%EB%B3%B5%EB%8F%99', 'promoted_content': None, 'query': '%EC%97%84%EB%B3%B5%EB%8F%99', 'tweet_volume': None}, {'name': '종대 앨범', 'url': 'http://twitter.com/search?q=%22%EC%A2%85%EB%8C%80+%EC%95%A8%EB%B2%94%22', 'promoted_content': None, 'query': '%22%EC%A2%85%EB%8C%80+%EC%95%A8%EB%B2%94%22', 'tweet_volume': None}, {'name': '문명국', 'url': 'http://twitter.com/search?q=%EB%AC%B8%EB%AA%85%EA%B5%AD', 'promoted_content': None, 'query': '%EB%AC%B8%EB%AA%85%EA%B5%AD', 'tweet_volume': None}, {'name': '핵심증인', 'url': 'http://twitter.com/search?q=%ED%95%B5%EC%8B%AC%EC%A6%9D%EC%9D%B8', 'promoted_content': None, 'query': '%ED%95%B5%EC%8B%AC%EC%A6%9D%EC%9D%B8', 'tweet_volume': None}, {'name': '원작 그림체', 'url': 'http://twitter.com/search?q=%22%EC%9B%90%EC%9E%91+%EA%B7%B8%EB%A6%BC%EC%B2%B4%22', 'promoted_content': None, 'query': '%22%EC%9B%90%EC%9E%91+%EA%B7%B8%EB%A6%BC%EC%B2%B4%22', 'tweet_volume': None}, {'name': '이재명 궁지', 'url': 'http://twitter.com/search?q=%22%EC%9D%B4%EC%9E%AC%EB%AA%85+%EA%B6%81%EC%A7%80%22', 'promoted_content': None, 'query': '%22%EC%9D%B4%EC%9E%AC%EB%AA%85+%EA%B6%81%EC%A7%80%22', 'tweet_volume': None}, {'name': '이석기', 'url': 'http://twitter.com/search?q=%EC%9D%B4%EC%84%9D%EA%B8%B0', 'promoted_content': None, 'query': '%EC%9D%B4%EC%84%9D%EA%B8%B0', 'tweet_volume': None}, {'name': '수수께끼 선거제', 'url': 'http://twitter.com/search?q=%22%EC%88%98%EC%88%98%EA%BB%98%EB%81%BC+%EC%84%A0%EA%B1%B0%EC%A0%9C%22', 'promoted_content': None, 'query': '%22%EC%88%98%EC%88%98%EA%BB%98%EB%81%BC+%EC%84%A0%EA%B1%B0%EC%A0%9C%22', 'tweet_volume': None}, {'name': '김상교', 'url': 'http://twitter.com/search?q=%EA%B9%80%EC%83%81%EA%B5%90', 'promoted_content': None, 'query': '%EA%B9%80%EC%83%81%EA%B5%90', 'tweet_volume': None}, {'name': '귀걸이 한짝', 'url': 'http://twitter.com/search?q=%22%EA%B7%80%EA%B1%B8%EC%9D%B4+%ED%95%9C%EC%A7%9D%22', 'promoted_content': None, 'query': '%22%EA%B7%80%EA%B1%B8%EC%9D%B4+%ED%95%9C%EC%A7%9D%22', 'tweet_volume': None}, {'name': '#April_and_a_flower', 'url': 'http://twitter.com/search?q=%23April_and_a_flower', 'promoted_content': None, 'query': '%23April_and_a_flower', 'tweet_volume': 91018}, {'name': '#CHEN', 'url': 'http://twitter.com/search?q=%23CHEN', 'promoted_content': None, 'query': '%23CHEN', 'tweet_volume': 153123}, {'name': '안타까운 어투', 'url': 'http://twitter.com/search?q=%22%EC%95%88%ED%83%80%EA%B9%8C%EC%9A%B4+%EC%96%B4%ED%88%AC%22', 'promoted_content': None, 'query': '%22%EC%95%88%ED%83%80%EA%B9%8C%EC%9A%B4+%EC%96%B4%ED%88%AC%22', 'tweet_volume': None}, {'name': '로판이', 'url': 'http://twitter.com/search?q=%EB%A1%9C%ED%8C%90%EC%9D%B4', 'promoted_content': None, 'query': '%EB%A1%9C%ED%8C%90%EC%9D%B4', 'tweet_volume': None}, {'name': '차문호', 'url': 'http://twitter.com/search?q=%EC%B0%A8%EB%AC%B8%ED%98%B8', 'promoted_content': None, 'query': '%EC%B0%A8%EB%AC%B8%ED%98%B8', 'tweet_volume': None}, {'name': 'vs 심상정', 'url': 'http://twitter.com/search?q=%22vs+%EC%8B%AC%EC%83%81%EC%A0%95%22', 'promoted_content': None, 'query': '%22vs+%EC%8B%AC%EC%83%81%EC%A0%95%22', 'tweet_volume': None}, {'name': '여주판', 'url': 'http://twitter.com/search?q=%EC%97%AC%EC%A3%BC%ED%8C%90', 'promoted_content': None, 'query': '%EC%97%AC%EC%A3%BC%ED%8C%90', 'tweet_volume': None}, {'name': '우리 경제', 'url': 'http://twitter.com/search?q=%22%EC%9A%B0%EB%A6%AC+%EA%B2%BD%EC%A0%9C%22', 'promoted_content': None, 'query': '%22%EC%9A%B0%EB%A6%AC+%EA%B2%BD%EC%A0%9C%22', 'tweet_volume': None}, {'name': '김경수 2심', 'url': 'http://twitter.com/search?q=%22%EA%B9%80%EA%B2%BD%EC%88%98+2%EC%8B%AC%22', 'promoted_content': None, 'query': '%22%EA%B9%80%EA%B2%BD%EC%88%98+2%EC%8B%AC%22', 'tweet_volume': None}, {'name': '제조업', 'url': 'http://twitter.com/search?q=%EC%A0%9C%EC%A1%B0%EC%97%85', 'promoted_content': None, 'query': '%EC%A0%9C%EC%A1%B0%EC%97%85', 'tweet_volume': None}, {'name': '아들 특혜채용', 'url': 'http://twitter.com/search?q=%22%EC%95%84%EB%93%A4+%ED%8A%B9%ED%98%9C%EC%B1%84%EC%9A%A9%22', 'promoted_content': None, 'query': '%22%EC%95%84%EB%93%A4+%ED%8A%B9%ED%98%9C%EC%B1%84%EC%9A%A9%22', 'tweet_volume': None}, {'name': '조가 가짜뉴스', 'url': 'http://twitter.com/search?q=%22%EC%A1%B0%EA%B0%80+%EA%B0%80%EC%A7%9C%EB%89%B4%EC%8A%A4%22', 'promoted_content': None, 'query': '%22%EC%A1%B0%EA%B0%80+%EA%B0%80%EC%A7%9C%EB%89%B4%EC%8A%A4%22', 'tweet_volume': None}, {'name': '제육볶음', 'url': 'http://twitter.com/search?q=%EC%A0%9C%EC%9C%A1%EB%B3%B6%EC%9D%8C', 'promoted_content': None, 'query': '%EC%A0%9C%EC%9C%A1%EB%B3%B6%EC%9D%8C', 'tweet_volume': None}, {'name': '사건 규명', 'url': 'http://twitter.com/search?q=%22%EC%82%AC%EA%B1%B4+%EA%B7%9C%EB%AA%85%22', 'promoted_content': None, 'query': '%22%EC%82%AC%EA%B1%B4+%EA%B7%9C%EB%AA%85%22', 'tweet_volume': None}, {'name': '특혜채용 논란', 'url': 'http://twitter.com/search?q=%22%ED%8A%B9%ED%98%9C%EC%B1%84%EC%9A%A9+%EB%85%BC%EB%9E%80%22', 'promoted_content': None, 'query': '%22%ED%8A%B9%ED%98%9C%EC%B1%84%EC%9A%A9+%EB%85%BC%EB%9E%80%22', 'tweet_volume': None}, {'name': '발매일이', 'url': 'http://twitter.com/search?q=%EB%B0%9C%EB%A7%A4%EC%9D%BC%EC%9D%B4', 'promoted_content': None, 'query': '%EB%B0%9C%EB%A7%A4%EC%9D%BC%EC%9D%B4', 'tweet_volume': None}, {'name': '가짜뉴스 생산', 'url': 'http://twitter.com/search?q=%22%EA%B0%80%EC%A7%9C%EB%89%B4%EC%8A%A4+%EC%83%9D%EC%82%B0%22', 'promoted_content': None, 'query': '%22%EA%B0%80%EC%A7%9C%EB%89%B4%EC%8A%A4+%EC%83%9D%EC%82%B0%22', 'tweet_volume': None}, {'name': '병역특례', 'url': 'http://twitter.com/search?q=%EB%B3%91%EC%97%AD%ED%8A%B9%EB%A1%80', 'promoted_content': None, 'query': '%EB%B3%91%EC%97%AD%ED%8A%B9%EB%A1%80', 'tweet_volume': None}, {'name': '총막공', 'url': 'http://twitter.com/search?q=%EC%B4%9D%EB%A7%89%EA%B3%B5', 'promoted_content': None, 'query': '%EC%B4%9D%EB%A7%89%EA%B3%B5', 'tweet_volume': None}, {'name': '출항식', 'url': 'http://twitter.com/search?q=%EC%B6%9C%ED%95%AD%EC%8B%9D', 'promoted_content': None, 'query': '%EC%B6%9C%ED%95%AD%EC%8B%9D', 'tweet_volume': None}, {'name': '기능치', 'url': 'http://twitter.com/search?q=%EA%B8%B0%EB%8A%A5%EC%B9%98', 'promoted_content': None, 'query': '%EA%B8%B0%EB%8A%A5%EC%B9%98', 'tweet_volume': None}, {'name': '철저 수사', 'url': 'http://twitter.com/search?q=%22%EC%B2%A0%EC%A0%80+%EC%88%98%EC%82%AC%22', 'promoted_content': None, 'query': '%22%EC%B2%A0%EC%A0%80+%EC%88%98%EC%82%AC%22', 'tweet_volume': None}, {'name': '경찰 출석', 'url': 'http://twitter.com/search?q=%22%EA%B2%BD%EC%B0%B0+%EC%B6%9C%EC%84%9D%22', 'promoted_content': None, 'query': '%22%EA%B2%BD%EC%B0%B0+%EC%B6%9C%EC%84%9D%22', 'tweet_volume': None}], 'as_of': '2019-03-19T06:15:45Z', 'created_at': '2019-03-19T06:09:32Z', 'locations': [{'name': 'Seoul', 'woeid': 1132599}]}]\n"
          ],
          "name": "stdout"
        }
      ]
    },
    {
      "metadata": {
        "id": "XKbyRQDVmdou",
        "colab_type": "text"
      },
      "cell_type": "markdown",
      "source": [
        "# Searching Tweets\n"
      ]
    },
    {
      "metadata": {
        "id": "fWyq-hBTjY_x",
        "colab_type": "code",
        "colab": {}
      },
      "cell_type": "code",
      "source": [
        "q = 'python'\n",
        "count = 100\n",
        "search_results = twitter_api.search.tweets(q=q, count=count)\n",
        "statuses = search_results['statuses']"
      ],
      "execution_count": 0,
      "outputs": []
    },
    {
      "metadata": {
        "id": "M3NMHvXRxR8G",
        "colab_type": "code",
        "colab": {}
      },
      "cell_type": "code",
      "source": [
        "import json"
      ],
      "execution_count": 0,
      "outputs": []
    },
    {
      "metadata": {
        "id": "oGIXc-XyzXPr",
        "colab_type": "code",
        "outputId": "8c14d803-eb9f-4c8b-d5db-29f6694d96d2",
        "colab": {
          "base_uri": "https://localhost:8080/",
          "height": 54
        }
      },
      "cell_type": "code",
      "source": [
        "json.dumps?\n",
        "\"\"\"\n",
        "If ``indent`` is a non-negative integer, then JSON array elements and\n",
        "object members will be pretty-printed with that indent level. An indent\n",
        "level of 0 will only insert newlines. ``None`` is the most compact\n",
        "representation.\n",
        "\"\"\""
      ],
      "execution_count": 0,
      "outputs": [
        {
          "output_type": "execute_result",
          "data": {
            "text/plain": [
              "'\\nIf ``indent`` is a non-negative integer, then JSON array elements and\\nobject members will be pretty-printed with that indent level. An indent\\nlevel of 0 will only insert newlines. ``None`` is the most compact\\nrepresentation.\\n'"
            ]
          },
          "metadata": {
            "tags": []
          },
          "execution_count": 20
        }
      ]
    },
    {
      "metadata": {
        "id": "6QQlifjCzEnc",
        "colab_type": "code",
        "outputId": "296c24d7-0d6e-41dc-b9d9-b4c2cf214129",
        "colab": {
          "base_uri": "https://localhost:8080/",
          "height": 204
        }
      },
      "cell_type": "code",
      "source": [
        "print(json.dumps(search_results['search_metadata'], indent=1))"
      ],
      "execution_count": 0,
      "outputs": [
        {
          "output_type": "stream",
          "text": [
            "{\n",
            " \"completed_in\": 0.053,\n",
            " \"max_id\": 1107886539629977606,\n",
            " \"max_id_str\": \"1107886539629977606\",\n",
            " \"next_results\": \"?max_id=1107883642716450815&q=python&count=100&include_entities=1\",\n",
            " \"query\": \"python\",\n",
            " \"refresh_url\": \"?since_id=1107886539629977606&q=python&include_entities=1\",\n",
            " \"count\": 100,\n",
            " \"since_id\": 0,\n",
            " \"since_id_str\": \"0\"\n",
            "}\n"
          ],
          "name": "stdout"
        }
      ]
    },
    {
      "metadata": {
        "id": "5CCuJLxQ2F2D",
        "colab_type": "code",
        "outputId": "50b13542-b56d-4808-b06d-9f6be4b55237",
        "colab": {
          "base_uri": "https://localhost:8080/",
          "height": 34
        }
      },
      "cell_type": "code",
      "source": [
        "search_results['search_metadata']['next_results']"
      ],
      "execution_count": 0,
      "outputs": [
        {
          "output_type": "execute_result",
          "data": {
            "text/plain": [
              "'?max_id=1107883642716450815&q=python&count=100&include_entities=1'"
            ]
          },
          "metadata": {
            "tags": []
          },
          "execution_count": 11
        }
      ]
    },
    {
      "metadata": {
        "id": "hIunRmef2NNs",
        "colab_type": "code",
        "outputId": "560b96b1-d7e9-4cc8-e52d-4b5c112de500",
        "colab": {
          "base_uri": "https://localhost:8080/",
          "height": 34
        }
      },
      "cell_type": "code",
      "source": [
        "search_results['search_metadata']['next_results'][1:]"
      ],
      "execution_count": 0,
      "outputs": [
        {
          "output_type": "execute_result",
          "data": {
            "text/plain": [
              "'max_id=1107883642716450815&q=python&count=100&include_entities=1'"
            ]
          },
          "metadata": {
            "tags": []
          },
          "execution_count": 12
        }
      ]
    },
    {
      "metadata": {
        "id": "eHfLNtcr2YEl",
        "colab_type": "code",
        "outputId": "caf150c6-2271-4e07-fc51-028d02a256b7",
        "colab": {
          "base_uri": "https://localhost:8080/",
          "height": 34
        }
      },
      "cell_type": "code",
      "source": [
        "search_results['search_metadata']['next_results'][1:].split(\"&\")"
      ],
      "execution_count": 0,
      "outputs": [
        {
          "output_type": "execute_result",
          "data": {
            "text/plain": [
              "['max_id=1107883642716450815', 'q=python', 'count=100', 'include_entities=1']"
            ]
          },
          "metadata": {
            "tags": []
          },
          "execution_count": 13
        }
      ]
    },
    {
      "metadata": {
        "id": "yYLfdM_RzCLp",
        "colab_type": "code",
        "outputId": "bd1aab2f-07c3-436d-8686-6cf2f32e8a10",
        "colab": {
          "base_uri": "https://localhost:8080/",
          "height": 119
        }
      },
      "cell_type": "code",
      "source": [
        "for _ in range(6):\n",
        "  print(\"Length of Statuses\", len(statuses))\n",
        "  try:\n",
        "    next_results = search_results['search_metadata']['next_results']\n",
        "  except KeyError and e:\n",
        "    print(search_results['search_metadata'])\n",
        "    break\n",
        "    \n",
        "  kwargs = dict([kv.split('=') for kv in next_results[1:].split(\"&\")])\n",
        "  search_results = twitter_api.search.tweets(**kwargs)\n",
        "  statuses += search_results['statuses']"
      ],
      "execution_count": 0,
      "outputs": [
        {
          "output_type": "stream",
          "text": [
            "Length of Statuses 587\n",
            "Length of Statuses 687\n",
            "Length of Statuses 773\n",
            "Length of Statuses 873\n",
            "Length of Statuses 968\n",
            "Length of Statuses 1065\n"
          ],
          "name": "stdout"
        }
      ]
    },
    {
      "metadata": {
        "id": "7LMazJvzweyA",
        "colab_type": "code",
        "outputId": "4e6712c4-45fc-44ed-929b-74000fe82419",
        "colab": {
          "base_uri": "https://localhost:8080/",
          "height": 2077
        }
      },
      "cell_type": "code",
      "source": [
        "print(json.dumps(statuses[0], indent=3))"
      ],
      "execution_count": 0,
      "outputs": [
        {
          "output_type": "stream",
          "text": [
            "{\n",
            "   \"created_at\": \"Tue Mar 19 06:31:56 +0000 2019\",\n",
            "   \"id\": 1107892442655846400,\n",
            "   \"id_str\": \"1107892442655846400\",\n",
            "   \"text\": \"Interesting... Optimizing Deep-Learning Inference For Embedded Devices - SemiEngineering\\n\\n#tech #technology\\u2026 https://t.co/40mdbXUh1d\",\n",
            "   \"truncated\": true,\n",
            "   \"entities\": {\n",
            "      \"hashtags\": [\n",
            "         {\n",
            "            \"text\": \"tech\",\n",
            "            \"indices\": [\n",
            "               90,\n",
            "               95\n",
            "            ]\n",
            "         },\n",
            "         {\n",
            "            \"text\": \"technology\",\n",
            "            \"indices\": [\n",
            "               96,\n",
            "               107\n",
            "            ]\n",
            "         }\n",
            "      ],\n",
            "      \"symbols\": [],\n",
            "      \"user_mentions\": [],\n",
            "      \"urls\": [\n",
            "         {\n",
            "            \"url\": \"https://t.co/40mdbXUh1d\",\n",
            "            \"expanded_url\": \"https://twitter.com/i/web/status/1107892442655846400\",\n",
            "            \"display_url\": \"twitter.com/i/web/status/1\\u2026\",\n",
            "            \"indices\": [\n",
            "               109,\n",
            "               132\n",
            "            ]\n",
            "         }\n",
            "      ]\n",
            "   },\n",
            "   \"metadata\": {\n",
            "      \"iso_language_code\": \"en\",\n",
            "      \"result_type\": \"recent\"\n",
            "   },\n",
            "   \"source\": \"<a href=\\\"http://www.bitechwatch.com\\\" rel=\\\"nofollow\\\">SocialyAnxious</a>\",\n",
            "   \"in_reply_to_status_id\": null,\n",
            "   \"in_reply_to_status_id_str\": null,\n",
            "   \"in_reply_to_user_id\": null,\n",
            "   \"in_reply_to_user_id_str\": null,\n",
            "   \"in_reply_to_screen_name\": null,\n",
            "   \"user\": {\n",
            "      \"id\": 22631958,\n",
            "      \"id_str\": \"22631958\",\n",
            "      \"name\": \"Chuck Russell\",\n",
            "      \"screen_name\": \"iamChuckRussell\",\n",
            "      \"location\": \"Harrisburg, PA\",\n",
            "      \"description\": \"Founder Collective Intelligence - President Technology Council PA #TheFutureOfWork #BMGI #TheBigShift #ai #datascience #blockchain #IOT\",\n",
            "      \"url\": \"https://t.co/Fz05cosWBh\",\n",
            "      \"entities\": {\n",
            "         \"url\": {\n",
            "            \"urls\": [\n",
            "               {\n",
            "                  \"url\": \"https://t.co/Fz05cosWBh\",\n",
            "                  \"expanded_url\": \"http://www.collectiveintelligence.com\",\n",
            "                  \"display_url\": \"collectiveintelligence.com\",\n",
            "                  \"indices\": [\n",
            "                     0,\n",
            "                     23\n",
            "                  ]\n",
            "               }\n",
            "            ]\n",
            "         },\n",
            "         \"description\": {\n",
            "            \"urls\": []\n",
            "         }\n",
            "      },\n",
            "      \"protected\": false,\n",
            "      \"followers_count\": 9213,\n",
            "      \"friends_count\": 7523,\n",
            "      \"listed_count\": 601,\n",
            "      \"created_at\": \"Tue Mar 03 15:05:32 +0000 2009\",\n",
            "      \"favourites_count\": 4437,\n",
            "      \"utc_offset\": null,\n",
            "      \"time_zone\": null,\n",
            "      \"geo_enabled\": true,\n",
            "      \"verified\": false,\n",
            "      \"statuses_count\": 40606,\n",
            "      \"lang\": \"en\",\n",
            "      \"contributors_enabled\": false,\n",
            "      \"is_translator\": false,\n",
            "      \"is_translation_enabled\": false,\n",
            "      \"profile_background_color\": \"709397\",\n",
            "      \"profile_background_image_url\": \"http://abs.twimg.com/images/themes/theme6/bg.gif\",\n",
            "      \"profile_background_image_url_https\": \"https://abs.twimg.com/images/themes/theme6/bg.gif\",\n",
            "      \"profile_background_tile\": false,\n",
            "      \"profile_image_url\": \"http://pbs.twimg.com/profile_images/1071464844547760128/xMYEz39W_normal.jpg\",\n",
            "      \"profile_image_url_https\": \"https://pbs.twimg.com/profile_images/1071464844547760128/xMYEz39W_normal.jpg\",\n",
            "      \"profile_banner_url\": \"https://pbs.twimg.com/profile_banners/22631958/1355679181\",\n",
            "      \"profile_link_color\": \"FF3300\",\n",
            "      \"profile_sidebar_border_color\": \"FFFFFF\",\n",
            "      \"profile_sidebar_fill_color\": \"A0C5C7\",\n",
            "      \"profile_text_color\": \"333333\",\n",
            "      \"profile_use_background_image\": true,\n",
            "      \"has_extended_profile\": true,\n",
            "      \"default_profile\": false,\n",
            "      \"default_profile_image\": false,\n",
            "      \"following\": false,\n",
            "      \"follow_request_sent\": false,\n",
            "      \"notifications\": false,\n",
            "      \"translator_type\": \"none\"\n",
            "   },\n",
            "   \"geo\": null,\n",
            "   \"coordinates\": null,\n",
            "   \"place\": null,\n",
            "   \"contributors\": null,\n",
            "   \"is_quote_status\": false,\n",
            "   \"retweet_count\": 0,\n",
            "   \"favorite_count\": 0,\n",
            "   \"favorited\": false,\n",
            "   \"retweeted\": false,\n",
            "   \"possibly_sensitive\": false,\n",
            "   \"lang\": \"en\"\n",
            "}\n"
          ],
          "name": "stdout"
        }
      ]
    },
    {
      "metadata": {
        "id": "Ey2dMH1dyEZG",
        "colab_type": "code",
        "outputId": "3d0806ec-58b9-49b6-97b0-c10fe7f323bd",
        "colab": {
          "base_uri": "https://localhost:8080/",
          "height": 34
        }
      },
      "cell_type": "code",
      "source": [
        "print(statuses[0]['text'])"
      ],
      "execution_count": 0,
      "outputs": [
        {
          "output_type": "stream",
          "text": [
            "そうキアラ。殺生丸キアラ。\n"
          ],
          "name": "stdout"
        }
      ]
    },
    {
      "metadata": {
        "id": "m7pF-12I3dy4",
        "colab_type": "code",
        "colab": {}
      },
      "cell_type": "code",
      "source": [
        "status_texts = [status['text'] for status in statuses]"
      ],
      "execution_count": 0,
      "outputs": []
    },
    {
      "metadata": {
        "id": "pQJ101gS33cT",
        "colab_type": "code",
        "colab": {}
      },
      "cell_type": "code",
      "source": [
        "screen_names = [status['user']['screen_name'] for status in statuses]"
      ],
      "execution_count": 0,
      "outputs": []
    },
    {
      "metadata": {
        "id": "YA6tQkHv4Bth",
        "colab_type": "code",
        "colab": {}
      },
      "cell_type": "code",
      "source": [
        "hashtags = [hashtag['text'] for status in statuses for hashtag in status['entities']['hashtags']]"
      ],
      "execution_count": 0,
      "outputs": []
    },
    {
      "metadata": {
        "id": "o6Gs5MYa4Vcv",
        "colab_type": "code",
        "colab": {}
      },
      "cell_type": "code",
      "source": [
        "words = [w for t in status_texts for w in t.split()]"
      ],
      "execution_count": 0,
      "outputs": []
    },
    {
      "metadata": {
        "id": "T2hUqjab4jRZ",
        "colab_type": "code",
        "outputId": "22b737fd-b7bc-4525-e5c2-92fd9556f443",
        "colab": {
          "base_uri": "https://localhost:8080/",
          "height": 54
        }
      },
      "cell_type": "code",
      "source": [
        "print(words)"
      ],
      "execution_count": 0,
      "outputs": [
        {
          "output_type": "stream",
          "text": [
            "['そうキアラ。殺生丸キアラ。', 'Itertools', 'in', 'Python', '3:', 'https://t.co/SatcK7qByd', '#Python', 'context', 'manager', 'for', 'redirecting', 'stdout:', '-', 'see', 'https://t.co/DqBRlue0C4', '🐍', 'Check', 'out', 'more', '@pybites', 'tips', 'at…', 'https://t.co/fZqUzHWdmp', 'What', 'is', 'Map-Reduce?', 'https://t.co/c18K01Xy3p', '#DeepLearning', '#MachineLearning', '#AI', '#DataScience', '#NeuralNetworks', '#CNN…', 'https://t.co/Nz1db9sqjl', 'RT', '@TosinOlugbenga:', '@OceandigitsNG', 'new', 'coding', 'training', 'session', 'starts', 'April', '2nd,', '2019.', 'For', 'Full', 'Stack', 'Web', 'development,', 'register', 'via', 'https:…', 'わいわい動物たちと命あるものが仲良く放りこまれたカレー、食べることができる人はキアラくらいしかおらんやろ。', 'King', 'Cobra', 'And', 'Giant', 'Python', 'Literally', 'Fight', 'To', 'The', 'Death', 'Of', 'Both', 'Lethal', 'Snakes', 'https://t.co/tx0vo7rRWY', 'RT', '@ZonePhysics:', 'King', 'cobra', 'bites', 'python.', 'Python', 'constricts', 'cobra.', 'Cobra', 'dies', 'of', 'constriction.', 'Python', 'dies', 'from', 'venom.', '100%', 'holy', 'shit..', 'htt…', 'RT', '@rakko8513:', 'LinkedIn', 'で', '日常会話レベルで', 'R、母国語で', 'Python', 'を使うとんでもない人材を発見した。', 'https://t.co/zYcE2vuNuT', 'RT', '@tayooye:', 'Personal', '\"5', 'to', 'midnight\"', 'stories.', '1.', 'Wrote', 'and', 'published', 'two', 'books.', '2.', 'Started', 'multiple', 'businesses.', '3.', 'Took', 'the', 'GRE/GMAT.', '4.…', 'RT', '@JODYHiGHROLLER:', '\\U0001f9e0\\U0001f9e0\\U0001f9e0\\U0001f9e0\\U0001f9e0\\U0001f9e0\\U0001f9e0', 'RiFF', 'RAFF', '\\U0001f9e0\\U0001f9e0\\U0001f9e0\\U0001f9e0\\U0001f9e0\\U0001f9e0\\U0001f9e0', 'PiNK', 'PYTHōN', '\\U0001f9e0\\U0001f9e0\\U0001f9e0\\U0001f9e0\\U0001f9e0\\U0001f9e0\\U0001f9e0\\U0001f9e0', 'APRiL', '12', '\\U0001f9e0\\U0001f9e0\\U0001f9e0\\U0001f9e0\\U0001f9e0\\U0001f9e0\\U0001f9e0\\U0001f9e0', 'ALBUM', 'PRE-SALE', 'LiNK:', 'https://t.co/FbNQZK44Aj', 'h…', 'RT', '@go_cycle:', 'Remember', 'to', 'really', 'enjoy', '#projects', 'when', 'they', 'spin', 'around.', 'Exposure', 'to', 'the', 'live', 'system', 'might', 'be', 'limited,', 'but', 'exposure', 'to', 'the', 't…', 'じゃあそのカレー誰が食べるんや？キアラか？', 'The', 'new', 'raspberry', 'pi', 'killer?', 'Though', 'the', '$99', 'pricetag', 'is', 'sort', 'of', 'a', 'deal', 'breaker', 'when', 'you', 'want', 'a', 'small', 'cost', 'effectiv…', 'https://t.co/XlIR1eF7N0', 'RT', '@ProgrammerBooks:', 'Burp', 'Suite', 'Essentials', ':', 'https://t.co/rU54jiOjCJ', '#python', '#javascript', '#angular', '#reactjs', '#vuejs', '#perl', '#ruby', '#Csharp', '#Java…', 'RT', '@ProgrammerBooks:', 'Burp', 'Suite', 'Essentials', ':', 'https://t.co/rU54jiOjCJ', '#python', '#javascript', '#angular', '#reactjs', '#vuejs', '#perl', '#ruby', '#Csharp', '#Java…', '@HQawiyy', 'Mxolisi', 'Ndlovu', 'finance', 'degree', 'holder+8year', 'investment', 'banking', 'professional', 'currently', 'unemployed.', 'studying…', 'https://t.co/W4134tT4T8', 'python-repoze.profile', '2.3-2', '(any/Community)', '\"Aggregate', 'profiling', 'for', 'WSGI', 'requests\"', '&lt;2019-03-19&gt;', '逃走中とは聞いていましたが、まさか基地司令ともあろうお方がこんなところに隠れていらしたとは', 'Introduction', 'to', 'Classes,', 'Learn', 'Python', '2,', '@Codecademy', 'Remember', 'to', 'really', 'enjoy', '#projects', 'when', 'they', 'spin', 'around.', 'Exposure', 'to', 'the', 'live', 'system', 'might', 'be', 'limited,', 'but', 'exposur…', 'https://t.co/0QmZF17Cqg', '@rulii_crypto', 'ごめんなさい😭', 'ですが、pythonの教材は、これからどんどん増やしていく予定です！', 'python-queuelib', '1.5.0-3', '(any/Community)', '\"Collection', 'of', 'persistent', '(disk-based)', 'queues.\"', '&lt;2019-03-19&gt;', 'RT', '@Qiita:', '400いいね！', '|', 'Pythonでデスクトップアプリを作る', 'with', 'Electron', 'by', '@yoshizaki_kkgk', 'https://t.co/MbZ0I2YLc4', 'RT', '@robertswiecki:', 'In', 'addition', 'to', 'the', 'Sandboxed', 'API', '(https://t.co/QMd97JOiFI)', 'its', 'sandboxing', 'driver,', 'so-called', '\"Sandbox', '2\",', 'has', 'been', 'releas…', 'RT', '@tensorflow_geek:', 'Make', 'predictions', 'with', 'Python', 'machine', 'learning', 'for', 'apps', '☞', 'https://t.co/bnzpj4Xabh', '#DeepLearning', '#ai', 'https://t.co/EQNT…', 'Mastery', 'Research', 'Program', 'on', 'Financial', 'Analysis', '&amp;', 'Trading', 'Using', 'Python.', 'Visit:', 'https://t.co/sSj2XijGBQ', 'to', 'know', 'more…', 'https://t.co/FBUj3e9j3m', 'Let', 'me', 'introduce', 'to', 'my', 'friend', '\"python\"', ':D', 'https://t.co/U6lGYCJSOa', 'RT', '@ZonePhysics:', 'King', 'cobra', 'bites', 'python.', 'Python', 'constricts', 'cobra.', 'Cobra', 'dies', 'of', 'constriction.', 'Python', 'dies', 'from', 'venom.', '100%', 'holy', 'shit..', 'htt…', 'Make', 'predictions', 'with', 'Python', 'machine', 'learning', 'for', 'apps', '☞', 'https://t.co/bnzpj4Xabh', '#DeepLearning', '#ai', 'https://t.co/EQNTjaJ3xF', 'RT', '@algarne2012:', 'لمن', 'يريد', 'تعلم', 'بايثون', 'افضل', 'دورة', 'على', 'الإطلاق', 'لتعلم', 'لغة', 'البرمجة', 'بايثون', 'وبالامثلة', 'من', 'إعداد', '@MhamadHarmush', 'https://t.co/GUTtM…', 'Artificial', 'Neural', 'Networks', 'Optimization', 'using', 'Genetic', 'Algorithm', 'with', 'Python', 'https://t.co/CO3qOcMJxe', 'Dutch', 'PM', 'compares', 'Theresa', 'May', 'to', 'Monty', 'Python', 'limbless', 'knight', 'https://t.co/Egy3Ry1QAi', 'RT', '@trendingdiveos:', 'The', 'question', \"isn't\", 'who', 'is', 'going', 'to', 'let', 'me;', \"it's\", 'who', 'is', 'going', 'to', 'stop', 'me.', '.', '#100DaysOfCode', '#development', '#Docker', '#PHP', '#ja…', 'RT', '@LaLoutreBizarre:', '#100DaysOfCode', 'day', '15:', 'I', 'finally', 'finished', 'the', '#Python', 'journal', 'app', 'in', 'the', '@TalkPython', 'course!', 'Upon', 'completion,', 'I', 'made', '8…', 'Make', 'predictions', 'with', 'Python', 'machine', 'learning', 'for', 'apps', '☞', 'https://t.co/lHY9RJYmJg', '#DeepLearning', '#ai', 'https://t.co/cMKkk8uMtp', '箸で食えよ？', 'RT', '@pythoninstitute:', 'Hey,', \"we've\", 'just', 'released', 'Programming', 'Essentials', 'in', 'Python', '-', 'free,', 'online,', 'self-study:', 'https://t.co/kaeRjmMfEL', '-', 'Sign', 'u…', 'インテリアでもいいからレスポールほしいなぜならかっこいいから、以上', 'Make', 'predictions', 'with', 'Python', 'machine', 'learning', 'for', 'apps', '☞', 'https://t.co/nF1FCA64lF', '#DeepLearning', '#ai', 'https://t.co/au2tHascAh', 'RT', '@WWCodePython:', 'Join', 'the', '🆕', 'global', '🌎🌍🌏python', '🐍', 'community', 'by', 'womenwhocode', '🔗', 'in', 'the', 'bio!', 'https://t.co/Zxr9OidsMf', 'Female', 'Mandarin', 'Female', 'Ball', 'Python', 'by', 'Caldera805,', '$4000', '#snake', '#reptile', '#morph', '#herp', '#pets', '#reptiles', '#herps', '#morphs…', 'https://t.co/T6UFPCSJGb', 'RT', '@LaLoutreBizarre:', '#100DaysOfCode', 'day', '15:', 'I', 'finally', 'finished', 'the', '#Python', 'journal', 'app', 'in', 'the', '@TalkPython', 'course!', 'Upon', 'completion,', 'I', 'made', '8…', 'Make', 'predictions', 'with', 'Python', 'machine', 'learning', 'for', 'apps', '☞', 'https://t.co/1yoYwFMUJK', '#DeepLearning', '#ai', 'https://t.co/wIoBqXlTa6', '先日GET', 'Pythonミンク襟ジャケットかなりお気に入りです', 'https://t.co/qQfWADGqNy', 'まとめてカレーに入れてやれ', 'The', '#Switzerland', 'Picture', 'of', 'the', 'day', 'is', 'from:', '#Pully', '#VD', 'Credits:', 'maria', 'del', 'carmen', 'gaitan', '-', 'https://t.co/V8pI8MhNoS…', 'https://t.co/zz0TZYBTG2', 'Cracking', 'Codes', 'With', 'Python:', 'An', 'Introduction', 'To', 'Building', 'And', 'Breaking', 'Ciphers', 'https://t.co/h9s60lfirO', '#software', '#development', '#python', 'Tips', 'and', 'tricks', 'to', 'write', 'LaTeX', 'papers', 'in', 'with', 'figures', 'generated', 'in', 'Python', 'https://t.co/iw1JivE9FF', '@nfirvine', 'remove', 'globbing', 'limitations,', 'no', 'need', 'for', 'xargs.', 'multiprocessing', 'as', 'first', 'class', 'citizen.', 'python-based', 'shell', 'but', 'more', 'terse.', 'RT', '@Aquilaniie:', 'มีเจ้านึงอยากได้', 'BA', 'โดยมีข้อแม้ว่า', '-', 'เขียน', 'business', 'flow', 'และ', 'swim', 'lane', '-', 'ออกแบบ', 'mockup', '-', 'ออกแบบ', 'UX/Ui', '-', 'ออกแบบ', 'Test', 'case', '-…', 'RT', '@Aquilaniie:', 'มีเจ้านึงอยากได้', 'BA', 'โดยมีข้อแม้ว่า', '-', 'เขียน', 'business', 'flow', 'และ', 'swim', 'lane', '-', 'ออกแบบ', 'mockup', '-', 'ออกแบบ', 'UX/Ui', '-', 'ออกแบบ', 'Test', 'case', '-…', 'RT', '@ZonePhysics:', 'King', 'cobra', 'bites', 'python.', 'Python', 'constricts', 'cobra.', 'Cobra', 'dies', 'of', 'constriction.', 'Python', 'dies', 'from', 'venom.', '100%', 'holy', 'shit..', 'htt…', 'RT', '@ProgrammerBooks:', 'Burp', 'Suite', 'Essentials', ':', 'https://t.co/rU54jiOjCJ', '#python', '#javascript', '#angular', '#reactjs', '#vuejs', '#perl', '#ruby', '#Csharp', '#Java…', 'RT', '@DataCamp:', 'Top', '5', '#Python', 'IDEs', 'for', '#DataScience', 'that', 'make', '#DataAnalysis', 'and', '#MachineLearning', 'easier!', 'https://t.co/YAKyetFRiG', 'https://t.co…', '「どこかの誰かの作った動かないPythonコードを動くようにする」仕事に、「この世で一番めんどくさい仕事」の称号を与えたい', '@YerboutiSheik', '@TuckerCarlson', 'Disagree:', 'He', 'filibustered', 'and', 'when', 'called', 'on', 'it', 'he', 'denied', 'it.', 'And', 'when', 'asked', 'why', 'shou…', 'https://t.co/fzwAFmy3xl', 'RT', '@ProgrammerBooks:', 'Burp', 'Suite', 'Essentials', ':', 'https://t.co/rU54jiOjCJ', '#python', '#javascript', '#angular', '#reactjs', '#vuejs', '#perl', '#ruby', '#Csharp', '#Java…', 'This', 'is', 'fan', 'page?', '—', 'if', 'you’re', 'a', 'fan', 'of', 'my', 'self', 'aka', 'brian', 'the', 'royal', 'python', 'then', 'yes', 'https://t.co/U8uLHXly46', 'python-qrcode', '6.1-2', '(any/Community)', '\"Python', 'library', 'to', 'generate', 'QR', 'codes\"', '&lt;2019-03-19&gt;', '話そうと思えば話せるけど迷惑やん？苦手かなぁ', '#peing', '#質問箱', 'https://t.co/wOZoymeK3i', 'Can', 'you', 'answer', 'this?', 'Applying', 'Scikit-Learn', 'Linear', 'Kernel', 'with', 'a', 'generator', 'for', 'low', 'memory', 'pressure', 'https://t.co/rBXYsTVH0i', '#python', 'RT', '@gp_pulipaka:', 'Bitcoin', 'Made', 'Easy.', '#BigData', '#Analytics', '#DataScience', '#AI', '#MachineLearning', '#BitCoin', '#BlockChain', '#FinTech', '#Crypto', '#IoT', '#IIoT…', 'Use', 'Kafka', 'triggers', 'in', 'a', 'modified', 'CloudServer', 'environment', 'to', 'run', 'Python,', 'Ruby,', 'or', 'Node.js', 'functions.', 'https://t.co/Olpmqw5kgc', 'Burp', 'Suite', 'Essentials', ':', 'https://t.co/rU54jiOjCJ', '#python', '#javascript', '#angular', '#reactjs', '#vuejs', '#perl', '#ruby', '#Csharp…', 'https://t.co/iAPFAfIYKp', 'Here', 'are', 'some', 'of', 'the', 'languages', 'blockchain', 'developers', 'can', 'use', 'to', 'code', 'on', 'the', 'blockchain:', 'C++,', 'Python,', 'Javascript,', 'an…', 'https://t.co/R1f7gM46UL', 'Open', 'Source', 'Python', 'AI', 'Camera', 'on', 'Android', 'https://t.co/BhgjIaPMSC', '#Spectrum', 'My', '#InternetSpeed', ':', 'Ping:', '36.861', 'ms', 'Download:', '139.64', 'Mbit/s', 'Upload:', '11.86', 'Mbit/s', '#automagic', '#python', '#corporateaccountability', 'We', 'are', 'looking', 'for', 'candidates', 'proficient', 'in', 'Python/Django', 'and', 'Javascript', 'to', 'join', 'our', 'AI', 'team.', 'Experience', 'needed', '1-2…', 'https://t.co/HtdveBYIoe', 'python:ベンチマーク関数お試しコード', 'https://t.co/Jh3PhSZ5Be', 'RT', '@BBCkatyaadler:', 'EU', 'has', 'almost', 'given', 'up', 'trying', 'to', 'understand', 'what’s', 'going', 'on', 'in', 'UK.', 'Dutch', 'PM', 'Rutte', 'compares', 'Theresa', 'May', 'to', 'Monty', 'Python', 'k…', '当日のコンテンツとしては', '-', 'numbaを完全に理解するための最速入門', '-', 'サメ映画好きのためのpython型変換', '-', '参加者LT枠＊２（募集中！）', 'を予定しています', '@OceandigitsNG', 'new', 'coding', 'training', 'session', 'starts', 'April', '2nd,', '2019.', 'For', 'Full', 'Stack', 'Web', 'development,', 'register', 'via…', 'https://t.co/NM62a9nG4h', 'RT', '@8Programming:', 'Python', 'and', 'PHP', 'Programming', 'Bundle', '☞', 'https://t.co/8TAU9DdWAD', '#python', '#programming', 'https://t.co/Gdpsk3ia8G', '【python高速化】Faster', 'Python', 'Meet', 'up', 'LT会#1', '@', '千代田区西神田2-7-14', 'YS西神田ビル2F', 'https://t.co/oq5Avj8HQV', 'When', 'a', 'python', 'eats', 'something,', '37', 'percent', 'of', 'the', 'energy', 'in', 'the', 'food', 'is', 'spent', 'just', 'digesting', 'it.', 'わからんねぇけどうちのオカンといえばバッサバッサに乾いた個体のスパゲティ', '#peing', '#質問箱', 'https://t.co/w1si2LHTt6', 'Measurements', 'in', 'the', 'last', '12', 'hours', 'Data', 'set:', '21256,', 'from', '5314', 'measurements', 'Mean', 'temp:', '14.78°C,', 'std:', '0.98', 'Min', 'and…', 'https://t.co/c8WUJzNQSD', '【Auto', 'Post】No', 'trade', '#phi_shinonome', '#FX', '#python', '【2019/03/19', '06:00:04】', 'YOW!!!', 'I', 'am', 'having', 'fun!!!', '#cherrybombbot', 'powered', 'by:', '#aws', 'and', '#python', 'Only', '9', 'months', '12', 'days', '18', 'hours', 'left', 'until', 'Python', '2', 'retires', '@halby24', '配列ならこっち', 'https://t.co/Mb9sD1xswi', 'じゃないとだめな気がしてきた', '/', 'あとfloat配列に対して重めの計算するならいっそのことnumpy使ってしまうほうが楽かも', 'https://t.co/p9X5uk50Ng', 'RT', '@KiigenKoech:', 'King', 'Cobra', 'bites', 'Python.', 'Python', 'constricts', 'Cobra.', 'Cobra', 'dies', 'of', 'constriction.', 'Python', 'dies', 'from', 'venom.', 'Both', 'William', 'Ruto', 'a…', 'RT', '@ZonePhysics:', 'King', 'cobra', 'bites', 'python.', 'Python', 'constricts', 'cobra.', 'Cobra', 'dies', 'of', 'constriction.', 'Python', 'dies', 'from', 'venom.', '100%', 'holy', 'shit..', 'htt…', 'RT', '@adafruit:', 'Coming', 'up', 'this', 'week', 'on', 'the', 'ALL', 'THINGS', 'PYTHON', '&amp;', 'HARDWARE', 'newsletter!', 'Python', 'in', 'SPACE,', 'a', 'sight', 'for', 'THOR', 'eyes,', 'new', 'hardware,', 'and…', 'Python:', 'Object', 'Oriented', 'Programming', '|', 'Udemy', 'https://t.co/ouoy0cabqA', 'RT', '@rakko8513:', 'LinkedIn', 'で', '日常会話レベルで', 'R、母国語で', 'Python', 'を使うとんでもない人材を発見した。', 'https://t.co/zYcE2vuNuT', 'いえす', '#peing', '#質問箱', 'https://t.co/ahDfbkteD6', 'わかんねーーーーーーまあ、でもだいたいみんな部活同じ子とかとなかいいんじゃない？知らんけど', '#peing', '#質問箱', 'https://t.co/tEF45taqtS', 'RT', '@Deep_In_Depth:', 'Colorizing', 'Black', 'and', 'White', 'Image', 'with', 'FastAI', '–', 'Becoming', 'Human:', 'Artificial', 'Intelligence', 'Magazine', 'https://t.co/6ifjGfXqEF…', 'RT', '@xarray_dev:', 'Xarray', 'v0.12', 'is', 'out.', 'Highlights', 'include:', '-', 'dropped', 'supported', 'for', 'Python', '2', '-', 'new', 'coarsen()', 'and', 'integrate()', 'methods', '-', 'nearly…', '#Repost', 'adriennetacke', 'with', 'make_repost', '・・・', 'ONE', 'MORE', 'DAY', 'UNTIL', 'MY', 'BOOK', 'IS', 'OFFICIALLY', 'RELEASED!', '___', \"It's\", 'almost', 'time…', 'https://t.co/ho8mXw0aOk', 'RT', '@rakko8513:', 'LinkedIn', 'で', '日常会話レベルで', 'R、母国語で', 'Python', 'を使うとんでもない人材を発見した。', 'https://t.co/zYcE2vuNuT', 'RT', '@motakasoft:', 'GitHub', 'Trending', 'Archive,', '17', 'Mar', '2019,', 'Python.', 'yunjey/pytorch-tutorial,', 'trailofbits/algo,', 'deepfakes/faceswap,', '0xAX/linux-ins…', 'monty', 'python', 'and', 'the', 'holy', 'grail', '(1975)', '“are', 'you', 'suggesting', 'coconuts', 'migrate?”', 'https://t.co/e3SOGHOvQ0', 'RT', '@TDataScience:', 'Using', 'Wrappers', 'to', 'Log', 'in', 'Python', 'https://t.co/GyOEab226O', 'RT', '@trendingdiveos:', 'The', 'question', \"isn't\", 'who', 'is', 'going', 'to', 'let', 'me;', \"it's\", 'who', 'is', 'going', 'to', 'stop', 'me.', '.', '#100DaysOfCode', '#development', '#Docker', '#PHP', '#ja…', 'RT', '@rakko8513:', 'LinkedIn', 'で', '日常会話レベルで', 'R、母国語で', 'Python', 'を使うとんでもない人材を発見した。', 'https://t.co/zYcE2vuNuT', 'RT', '@rakko8513:', 'LinkedIn', 'で', '日常会話レベルで', 'R、母国語で', 'Python', 'を使うとんでもない人材を発見した。', 'https://t.co/zYcE2vuNuT', 'RT', '@rakko8513:', 'LinkedIn', 'で', '日常会話レベルで', 'R、母国語で', 'Python', 'を使うとんでもない人材を発見した。', 'https://t.co/zYcE2vuNuT', 'RT', '@Deep_In_Depth:', 'How', 'to', 'use', 'process', 'data', 'mining', 'to', 'improve', 'DevOps', 'https://t.co/yJT3dr361R', '#DeepLearning', '#MachineLearning', '#AI', '#DataScience…', 'Julian', 'Avila、Trent', 'Hauck『Python機械学習ライブラリ', 'scikit-learn活用レシピ80+』（インプレス）入荷しました。', '★Python機械学習ライブラリscikit-learnの基本的な考え方から、80を超える手法をレシピとして網羅的に解説。', '@nf_shirosawa', 'pythonと打ってPython3を起動します、とかでもいいな', 'RT', '@byt3bl33d3r:', 'I', 'made', 'a', 'bunch', 'of', 'Ansible', 'playbooks', 'the', 'other', 'day', 'in', 'order', 'to', 'streamline/automate', 'my', 'workflow', 'during', 'engagements.', 'Specific…', 'pythonのtoxっていうテストツールいじってる。', 'ふむふむ。なるほど。', 'わからん。', 'RT', '@TeraBytesMemory:', 'python高速化の勉強会、FasterPythonMeetup', 'LT会#1', 'の参加募集開始です！', '4/8（月）の20:00より開始しますのでよろしくお願いします！', 'LT枠もconnpassにて受け付けていますのでそちらも募集していま…', 'RT', '@fullstackjob:', 'From', '#php', 'over', '#nodejs', '/', '#javascript', 'to', '#GoLang', 'and', '#Python', 'Find', 'always', 'newest', '#fullstack', 'dev', 'jobs,', 'local', 'and', '#remotewor…', 'RT', '@gp_pulipaka:', 'A', 'Gentle', 'Introduction', 'to', 'SHAP', 'Values', 'in', 'R', '[Interpretable', '#MachineLearning].', '#BigData', '#Analytics', '#DataScience', '#AI', '#IoT', '#IIo…', 'RT', '@AnsonMccadeAus:', 'What', 'is', 'Web', 'Scraping', 'and', 'How', 'to', 'Implement', 'it', 'using', 'Python?', 'https://t.co/ZDFdxx2lmm', '#technology', '#TechNews', '#DataScience', '#…', 'python-qiniu', '7.2.2-3', '(any/Community)', '\"Qiniu', 'Resource', 'Storage', 'SDK', 'for', 'Python\"', '&lt;2019-03-19&gt;', 'カレー……', 'RT', '@Hakin9:', 'A', 'short', '&amp;', 'practical', 'HOW-TO', 'guide', 'to', 'scrape', 'data', 'from', 'a', 'website', 'using', 'Python', 'by', 'Félix', 'Revert', 'https://t.co/aEIQAIXCaZ', '#infosec', '#…', '待って動物だったものが混じってた', 'RT', '@mdmgfun:', '🐡🐹🐙🍛', 'python高速化の勉強会、FasterPythonMeetup', 'LT会#1', 'の参加募集開始です！', '4/8（月）の20:00より開始しますのでよろしくお願いします！', 'LT枠もconnpassにて受け付けていますのでそちらも募集し…', 'https://t.co/JFmXvnOv6V', 'RT', '@rakko8513:', 'LinkedIn', 'で', '日常会話レベルで', 'R、母国語で', 'Python', 'を使うとんでもない人材を発見した。', 'https://t.co/zYcE2vuNuT', 'RT', '@pyconindia:', 'Sponsorship', 'for', 'PyCon', 'India', '2019', 'is', 'open!', 'Get', 'the', 'prospectus', 'from', 'https://t.co/06ieJVPXk3', '#Python', '#PyConIndia2019', 'RT', '@dditucci:', 'Day', '9', 'of', '#100DaysOfCode', '-', 'Continued', 'the', 'salary', 'prediction', 'project.', 'Made', 'plenty', 'of', 'errors', 'but', 'learned', 'a', 'lot', 'by', 'fixing', 'them!', 'Th…', 'わいを愉快な動物たちと並べるな', 'RT', '@Hakin9:', 'A', 'short', '&amp;', 'practical', 'HOW-TO', 'guide', 'to', 'scrape', 'data', 'from', 'a', 'website', 'using', 'Python', 'by', 'Félix', 'Revert', 'https://t.co/aEIQAIXCaZ', '#infosec', '#…', 'RT', '@dditucci:', 'Day', '8', 'of', '#100DaysOfCode:', 'Data', 'loaded,', 'which', 'took', 'longer', 'than', 'expected', 'due', 'to', '\"file', 'not', 'found\"', 'errors.', 'Figured', 'out', 'why.', 'At', 'lea…', 'RT', '@PyImageSearch:', 'Big', 'news', 'today!🚀💥', '-', \"I'm\", 'writing', 'a', 'brand', 'new', 'book', 'on', '#ComputerVision', 'with', 'the', '@Raspberry_Pi!', '-', '40+', 'chapters', 'planned', 'on', 'CV…', 'RT', '@gp_pulipaka:', 'NVIDIA’s', 'RAPIDS', 'Joins', 'Set', 'of', '#DeepLearning', 'VM', 'Images', 'for', 'Faster', 'Data', 'Science.', '#BigData', '#Analytics', '#DataScience', '#AI', '#Machin…', 'RT', '@AI_Developers:', 'Make', 'predictions', 'with', 'Python', 'machine', 'learning', 'for', 'apps', '☞', 'https://t.co/ADMOj9RiJs', '#DeepLearning', '#ai', 'https://t.co/RPOpTZ…', 'RT', '@AI_GameDesign:', 'Make', 'predictions', 'with', 'Python', 'machine', 'learning', 'for', 'apps', '☞', 'https://t.co/xtv2P5VGdI', '#DeepLearning', '#ai', 'https://t.co/mRICDO…', 'RT', '@pythontrending:', 'paper-tips-and-tricks', '-', 'Best', 'practice', 'and', 'tips', '&amp;', 'tricks', 'to', 'write', 'scientific', 'papers', 'in', 'LaTeX,', 'with', 'figures', 'generated', 'in…', 'RT', '@dditucci:', 'Day', '7', 'of', '#100DaysOfCode:', 'Portfolio', 'officially', 'started!', 'My', 'first', 'project', 'will', 'be', 'salary', 'predictions.', 'https://t.co/8YqT7Q2WnM…', 'RT', '@gp_pulipaka:', 'Sandboxed', 'API', 'Automatically', 'Generates', 'Sandboxes', 'for', '#C/', '#CPP', 'Libraries.', '#BigData', '#Analytics', '#DataScience', '#AI', '#MachineLearn…', 'RT', '@dditucci:', 'Day', '6', 'of', '#100DaysOfCode:', 'Decided', 'to', 'practice', 'more', 'EDA', 'with', 'other', 'datasets', 'from', '#kaggle', 'and', 'dig', 'deeper', 'into', 'understanding', '#dat…', 'RT', '@dditucci:', 'Day', '5', 'of', '#100DaysOfCode:', 'Finished', 'EDA', 'on', 'dataset', 'from', 'yesterday.', 'Put', 'in', 'a', 'couple', 'hours', 'reviewing', 'lectures', 'on', '#MachineLearning…', 'RT', '@dditucci:', 'Day', '10', 'of', '#100DaysOfCode', '-', 'More', 'data', 'cleansing', 'and', 'EDA', 'for', 'the', 'salary', 'prediction', 'project.', 'Only', 'deleted', 'ALL', 'of', 'my', 'data', 'once', 'th…', 'Make', 'predictions', 'with', 'Python', 'machine', 'learning', 'for', 'apps', '☞', 'https://t.co/ADMOj9RiJs', '#DeepLearning', '#ai', 'https://t.co/RPOpTZ4JmR', 'RT', '@gp_pulipaka:', 'Azure', 'Data', 'Backup', 'for', '#MSSQLServer', 'in', '#Azure', 'Virtual', 'Machines.', '#BigData', '#Analytics', '#DataScience', '#AI', '#MachineLearning', '#IoT…', 'RT', '@gp_pulipaka:', 'Bitcoin', 'Made', 'Easy.', '#BigData', '#Analytics', '#DataScience', '#AI', '#MachineLearning', '#BitCoin', '#BlockChain', '#FinTech', '#Crypto', '#IoT', '#IIoT…', 'RT', '@BBCkatyaadler:', 'EU', 'has', 'almost', 'given', 'up', 'trying', 'to', 'understand', 'what’s', 'going', 'on', 'in', 'UK.', 'Dutch', 'PM', 'Rutte', 'compares', 'Theresa', 'May', 'to', 'Monty', 'Python', 'k…', 'RT', '@rakko8513:', 'LinkedIn', 'で', '日常会話レベルで', 'R、母国語で', 'Python', 'を使うとんでもない人材を発見した。', 'https://t.co/zYcE2vuNuT', 'RT', '@adafruit:', 'Python', 'on', 'Microcontrollers', 'Newsletter:', 'learn', 'more', 'here!', '#python', '#circuitpython', '#microcontrollers', '@CircuitPython', '@micropython…', 'Make', 'predictions', 'with', 'Python', 'machine', 'learning', 'for', 'apps', '☞', 'https://t.co/xtv2P5VGdI', '#DeepLearning', '#ai', 'https://t.co/mRICDO8QO4', 'RT', '@dditucci:', 'Day', '10', 'of', '#100DaysOfCode', '-', 'More', 'data', 'cleansing', 'and', 'EDA', 'for', 'the', 'salary', 'prediction', 'project.', 'Only', 'deleted', 'ALL', 'of', 'my', 'data', 'once', 'th…', 'モナコインマイニングプールのVIPPOOL、仮想通貨関連システム開発向けOSS2種を公開', '〜Web', 'API経由でPythonを用いてブロックチェーンを扱うアプリケーション', 'https://t.co/ZhjqWxbxh2', 'https://t.co/CfuEbOAFiV', '文系でもできるランえげつい', '文系しかPython', 'Pythonしか文系', '@halby24', 'https://t.co/PDY9cHP0hn', '?', 'RT', '@CouponOnlineCo1:', 'BESTSELLER', 'Courses', 'Free', 'Discount', '-', 'Python', 'for', 'Financial', 'Analysis', 'and', 'Algorithmic', 'Trading', '-&gt;', 'https://t.co/wKXSJ8Vmdx', '#…', 'Once', 'upon', 'a', 'time,', 'Python', 'the', 'experimental', 'difficult', 'language', 'went', 'to', 'seek', 'her', 'forture.', 'Python', 'went', 'home.', 'https://t.co/K2yAZkh23b', 'pythonさん神か(掌返し)', 'RT', '@CouponOnlineCo1:', 'Courses', 'Free', 'Discount', '-', 'Practical', 'SQL', 'Bootcamp', 'for', 'Data', 'Analysts', 'and', 'Data', 'Scientists', '-&gt;', 'https://t.co/qTDFwTEu54', '#udem…', '熱さがらなさすぎしにそ', 'RT', '@ProgrammerBooks:', 'Spark', 'in', 'Action', ':', 'https://t.co/FL9cYlI8tS', '#python', '#javascript', '#angular', '#reactjs', '#vuejs', '#perl', '#ruby', '#Csharp', '#Java', '#linu…', 'Hello', 'Folks', '!!', 'Greetings.', 'We', 'are', 'hunting', 'high', 'and', 'low', 'for', 'some', 'reputed', 'training', 'institutes', '/', 'freelancers', 'into', 'techn…', 'https://t.co/BFfuGH6TRS', 'RT', '@django_tutorial:', 'The', 'Complete', 'Course', 'on', 'Data', 'analysis', 'with', 'Pandas', ':', 'Python', '☞', 'https://t.co/2Mom8HwW46', '#python', '#programming', 'https://t.c…', '#python', 'simplifies', 'everything', 'https://t.co/iIJN1lAXf7', 'RT', '@kodriskodlama:', 'Bu', 'hafta', 'ki', 'durağımız', 'Bahçeşehir', 'Okulları', 'Ümraniye', 'Kampüsü.', 'Öğrencilerimiz', 'kodlarken', 'eğleniyor,', 'eğlenirken', 'öğreniyor.', '@b…', 'RT', '@CyberDomain:', '#CyberSecurity', '#Hacker', 'Web', 'Scraping', 'with', 'Python', '-', 'https://t.co/wfnMi2wsWs', 'RT', '@realpython:', 'Forecasting', 'in', 'Python', 'with', 'Prophet', 'https://t.co/rlvPtMY5uQ', 'Make', 'predictions', 'with', 'Python', 'machine', 'learning', 'for', 'apps', '☞', 'https://t.co/rr0ahvhUmF', '#DeepLearning', '#ai', 'https://t.co/zRHIMzDtoG', 'RT', '@ProgrammerBooks:', 'Java', 'Game', 'Development', 'with', 'LibGDX,', '2nd', 'Edition', ':', 'https://t.co/N4GYDoma69', '#python', '#javascript', '#angular', '#reactjs', '#vuejs…', '@LisaKenway', '@FaranSilverton', '@DireleafeHall', '@calling33', '@JoyRhoades1', '@truedialogue', '@renay', '@byMorganWright…', 'https://t.co/DSXLShCqIq', 'RT', '@amandathedevnyc:', 'Shameless', 'self', 'promotion', 'tweet:', 'I', 'am', 'a', 'recent', 'bootcamp', 'grad.', 'I', 'live', 'in', 'NYC', 'but', 'would', 'be', 'willing', 'to', 'relocate', 'for', 'the', 'r…', 'RT', '@ZonePhysics:', 'King', 'cobra', 'bites', 'python.', 'Python', 'constricts', 'cobra.', 'Cobra', 'dies', 'of', 'constriction.', 'Python', 'dies', 'from', 'venom.', '100%', 'holy', 'shit..', 'htt…', 'Pythonでバイト列からfloat配列にするのわからん', 'RT', '@BBCkatyaadler:', 'EU', 'has', 'almost', 'given', 'up', 'trying', 'to', 'understand', 'what’s', 'going', 'on', 'in', 'UK.', 'Dutch', 'PM', 'Rutte', 'compares', 'Theresa', 'May', 'to', 'Monty', 'Python', 'k…', 'RT', '@tutorial_dev:', 'Python', 'and', 'Javascript', 'Programming', 'Bundle', '☞', 'https://t.co/VQH9L4ZDeU', '#python', '#programming', 'https://t.co/KiX8tELBG8', 'RT', '@trendingdiveos:', 'The', 'question', \"isn't\", 'who', 'is', 'going', 'to', 'let', 'me;', \"it's\", 'who', 'is', 'going', 'to', 'stop', 'me.', '.', '#100DaysOfCode', '#development', '#Docker', '#PHP', '#ja…', '1件のコメント', 'https://t.co/u2FiO3LXyr', '“PythonでSeleniumを使い毎朝の業務を自動化させたらストレスから開放された件について、手こずった点を列挙する', '-', 'アウトプットして苦悩する”', '(18', 'us…', 'https://t.co/KwPDU0f9DN', 'RT', '@gp_pulipaka:', 'Bitcoin', 'Made', 'Easy.', '#BigData', '#Analytics', '#DataScience', '#AI', '#MachineLearning', '#BitCoin', '#BlockChain', '#FinTech', '#Crypto', '#IoT', '#IIoT…', 'RT', '@Trading_Tech:', \"We're\", 'seeking', 'a', 'Python', 'Developer', 'to', 'join', 'our', 'Site', 'Reliability', 'Engineering', 'team', 'in', 'Chicago.', 'Candidates', 'should', 'have', '#Python…', 'RT', '@BBCkatyaadler:', 'EU', 'has', 'almost', 'given', 'up', 'trying', 'to', 'understand', 'what’s', 'going', 'on', 'in', 'UK.', 'Dutch', 'PM', 'Rutte', 'compares', 'Theresa', 'May', 'to', 'Monty', 'Python', 'k…', 'I', 'learn', 'Python,', 'play', 'video', 'games,', 'talk', 'to', 'you', 'more', 'soon', '—', 'hell', 'yeah', '💕', 'I’d', 'love', 'that.', '【ボールパイソン（ボールニシキヘビ）】別名”ロイヤルパイソン（ニシキヘビ）”', '学名”python', 'regius”', 'アフリカ中西部に生息するニシキヘビ属の一種。ニシキヘビ属の中でも小型の種類で1.0-1.5m程。最大全長は約2.0m', '#CyberSecurity', '#Hacker', 'Web', 'Scraping', 'with', 'Python', '-', 'https://t.co/wfnMi2wsWs', 'RT', '@rakko8513:', 'LinkedIn', 'で', '日常会話レベルで', 'R、母国語で', 'Python', 'を使うとんでもない人材を発見した。', 'https://t.co/zYcE2vuNuT', 'RT', '@hbkr:', '元々エンジニア兼デザイナーです、C++もアセンブラもJAVAも書いてました…最終的にはPHP、Pythonでしたが', 'https://t.co/rzWfKLm6v2', '@joshgroban', 'are', 'you', 'sure', 'this', 'is', 'not', 'Monty', 'Python?!', ':-)', 'the', 'scene', \"I'm\", 'watching', 'now', 'sure', 'seems', 'like', 'it.', 'This', 'is', 'one…', 'https://t.co/MXObQ1BPVQ', 'RT', '@VijayKumar_VKU:', 'As', 'per', 'the', 'TechGig', 'Developer', 'Survey', '2019,', 'Programming', 'Languages', 'with', 'Highest', 'Salary', 'Potential', 'are', '#Java,', 'followed', 'by', '#P…', 'RT', '@BBCkatyaadler:', 'EU', 'has', 'almost', 'given', 'up', 'trying', 'to', 'understand', 'what’s', 'going', 'on', 'in', 'UK.', 'Dutch', 'PM', 'Rutte', 'compares', 'Theresa', 'May', 'to', 'Monty', 'Python', 'k…', '個人情報ダダ漏れ！？破産者マップの何がヤバくてダメなのかを解説', 'https://t.co/DDmSuJ29hw', '@web_pythonさんから', 'RT', '@ZonePhysics:', 'King', 'cobra', 'bites', 'python.', 'Python', 'constricts', 'cobra.', 'Cobra', 'dies', 'of', 'constriction.', 'Python', 'dies', 'from', 'venom.', '100%', 'holy', 'shit..', 'htt…', 'RT', '@python_devv:', 'The', 'Complete', 'Course', 'on', 'Data', 'analysis', 'with', 'Pandas', ':', 'Python', '☞', 'https://t.co/Zr7tESIloM', '#python', '#programming', 'https://t.co/eX…', 'ノリノリで受け入れた', 'RT', '@looopings:', 'Efteling', 'past', 'wachtrij', 'van', 'Python', 'aan', 'https://t.co/LMyyIQqFwM', 'https://t.co/GLMxQnF5Md', 'Last', 'November,', 'pro', 'Pickering', 'Airport', 'candidates', 'swept', 'the', 'Durham', 'region', 'civic', 'elections', 'near', 'Toronto.', 'Now', 'a', 'local', 'n…', 'https://t.co/z6KknFDS6B', '#الوليد_بن_طلال_في_الصوره', 'مطور', 'حاسب', 'سعودي', '🌹', 'واجبات', '،', 'مشاريع', '،', 'تقارير', 'ذكاء', 'اصطناعي', '،', 'تصميم', 'تفاضل', 'وتكامل', '،', 'احصاء', 'Java…', 'https://t.co/QdRIQQHVKc', 'みんなコミケでスペース乗っ取りとか謎の訪問者とか大変な経験をされているのですね……', '私はスペースに水曜どうでしょうのフリップ貼られたことあるよ。', 'https://t.co/E71W6imZqq', '#اكثر_شي_يفرحكم', 'مطور', 'حاسب', 'سعودي', '🌹', 'واجبات', '،', 'مشاريع', '،', 'تقارير', 'ذكاء', 'اصطناعي', '،', 'تصميم', 'تفاضل', 'وتكامل', '،', 'احصاء', 'Java', 'C++', 'Pytho…', 'https://t.co/1QWW2oTb8J', '#لا_تمر_لحظاتك_بدون_ذكر_الله', 'مطور', 'حاسب', 'سعودي', '🌹', 'واجبات', '،', 'مشاريع', '،', 'تقارير', 'ذكاء', 'اصطناعي', '،', 'تصميم', 'تفاضل', 'وتكامل', '،', 'احصاء', 'J…', 'https://t.co/7vzrwhRAwa', '#غردوا_عن_حبكم_للملك_سلمان', 'مطور', 'حاسب', 'سعودي', '🌹', 'واجبات', '،', 'مشاريع', '،', 'تقارير', 'ذكاء', 'اصطناعي', '،', 'تصميم', 'تفاضل', 'وتكامل', '،', 'احصاء', 'Jav…', 'https://t.co/u23iNgxLee', 'RT', '@skillenza:', 'Innovators!', 'Yes,', \"it's\", 'you!', \"It's\", 'showtime!', 'Code', 'to', 'change', 'the', 'world', '\"Bit', 'by', 'Bit\"', 'at', 'the', '#hackathon', 'by', '@RedHat.', 'Apply', 'here:', 'ht…', '#من_واقع_تجربتك_بالحياه', 'مطور', 'حاسب', 'سعودي', '🌹', 'واجبات', '،', 'مشاريع', '،', 'تقارير', 'ذكاء', 'اصطناعي', '،', 'تصميم', 'تفاضل', 'وتكامل', '،', 'احصاء', 'Java', 'C…', 'https://t.co/ZvG6hjFte4', 'RT', '@SamueL_WonG_:', 'Which', 'would', 'you', 'recommend?😎', '5', 'Popular', 'Python', 'Open-Source', 'IDEs', 'For', 'Data', 'Science', 'Enthusiasts', 'https://t.co/ZSUPG8WAxQ', '#شخص_لا_يمكن_رفض_طلبه', 'مطور', 'حاسب', 'سعودي', '🌹', 'واجبات', '،', 'مشاريع', '،', 'تقارير', 'ذكاء', 'اصطناعي', '،', 'تصميم', 'تفاضل', 'وتكامل', '،', 'احصاء', 'Java', 'C++…', 'https://t.co/YUXlgzTEIL', 'RT', '@hbkr:', '元々エンジニア兼デザイナーです、C++もアセンブラもJAVAも書いてました…最終的にはPHP、Pythonでしたが', 'https://t.co/rzWfKLm6v2', '#صباح_الثلاثاء', 'مطور', 'حاسب', 'سعودي', '🌹', 'واجبات', '،', 'مشاريع', '،', 'تقارير', 'ذكاء', 'اصطناعي', '،', 'تصميم', 'تفاضل', 'وتكامل', '،', 'احصاء', 'Java', 'C++', 'Python…', 'https://t.co/wQjUunPnne', '@ohmura_hideaki', '前にも提言しているがAIの裾野を広げるために大学等を中心とした一般公開講座を設けるべきだ。名大はやっているようだが県としての実施は一向に耳にしない。私は齢82だが一般の公開講座でAI入門から始めたP…', 'https://t.co/WPNf1IbYjT', '#كلمه_ل_الجامعه', 'مطور', 'حاسب', 'سعودي', '🌹', 'واجبات', '،', 'مشاريع', '،', 'تقارير', 'ذكاء', 'اصطناعي', '،', 'تصميم', 'تفاضل', 'وتكامل', '،', 'احصاء', 'Java', 'C++', 'Pytho…', 'https://t.co/7aQwlEuyDm', 'なるほどね。(Pythonに限らないけど)簡単だし、ちゃんとテストを作っておけばどこでバグってるか自動で見つけられるってことだね。', 'Pythonでテスト駆動開発入門', 'https://t.co/ALFk9M1aQM', 'RT', '@BBCkatyaadler:', 'EU', 'has', 'almost', 'given', 'up', 'trying', 'to', 'understand', 'what’s', 'going', 'on', 'in', 'UK.', 'Dutch', 'PM', 'Rutte', 'compares', 'Theresa', 'May', 'to', 'Monty', 'Python', 'k…', 'Nossa', 'mas', 'monthy', 'Python', 'tem', 'um', 'teor', 'crítico', 'fortíssimo', 'a', 'finanças', 'As', 'per', 'the', 'TechGig', 'Developer', 'Survey', '2019,', 'Programming', 'Languages', 'with', 'Highest', 'Salary', 'Potential', 'are', '#Java,', 'followed', 'b…', 'https://t.co/VQCrYaYJhA', 'RT', '@kiratkumar47:', 'Day', '71-79', ':', 'Completed', 'second', 'week', 'of', 'machine', 'learning', 'on', 'coursera,', 'learned', 'about', 'linear', 'regression', 'with', 'multiple', 'variable…', 'RT', '@ZonePhysics:', 'King', 'cobra', 'bites', 'python.', 'Python', 'constricts', 'cobra.', 'Cobra', 'dies', 'of', 'constriction.', 'Python', 'dies', 'from', 'venom.', '100%', 'holy', 'shit..', 'htt…', 'Get', 'value', 'correspondence', 'to', 'max', 'value', 'of', 'another', 'column', 'in', 'python', 'https://t.co/OEUMXo6vAZ', 'https://t.co/5ibFs9IqgZ', 'RT', '@guillemarvel:', 'El', 'título', '\"Los', 'caballeros', 'de', 'la', 'mesa', 'cuadrada\"', 'es', 'una', 'morcilla', 'del', 'traductor.', 'En', 'la', 'peli', 'en', 'ningún', 'momento', 'se', 'hace', 'refere…', 'RT', '@pudding_info:', 'はてなブログに投稿しました', '#はてなブログ', 'Python開発環境メモ（2019）', '-', 'ぽよメモ', 'https://t.co/LMcsfkFAUZ', 'RT', '@HackyHourUWA:', 'Hacky', 'Hour', 'is', 'on', 'today!', '3-4pm', 'in', 'the', 'Hackett', 'Cafe,', 'come', 'along', 'with', 'R/data', 'science/Python/bioinformatics/Pawsey', 'questions,…', '@OceandigitsNG', 'new', 'coding', 'training', 'session', 'starts', 'April', '2nd,', '2019.', 'For', 'Full', 'Stack', 'Web', 'development,', 'register', 'via…', 'https://t.co/2UrTNSouyk', 'RT', '@alexjungaalto:', 'Want', 'to', 'learn', 'how', 'to', 'read', 'in', 'data', 'from', 'Wikidata', 'using', '\"one', 'line', 'of', 'Python\"', '?', 'Then', 'enroll', 'our', 'new', 'free', 'online', 'course', '\"Mac…', 'Want', 'to', 'learn', 'how', 'to', 'read', 'in', 'data', 'from', 'Wikidata', 'using', '\"one', 'line', 'of', 'Python\"', '?', 'Then', 'enroll', 'our', 'new', 'free', 'online', 'course…', 'https://t.co/JDRhUz1Gbx', 'RT', '@francoisamarais:', 'Pay', 'what', 'you', 'want', 'programming', 'book', 'bundle.', '#webdeveloper', '#vuejs', '#python', '#programming', '#ebook', 'https://t.co/2xn1m6IrTD', '@drkatedevlin', 'I', 'perpetrated', 'some', 'of', 'what', 'the', 'previous', 'crop', 'of', 'first', 'years', 'were', 'subjected', 'to:…', 'https://t.co/D3vCI7iAzj', '@_bea75', '@tyler_casper', 'He', 'said', 'Movie', 'not', 'Favorite', 'actors..', 'But', \"I've\", 'seen', 'So', 'Many', 'Movies', 'I', \"can't\", 'Pick', 'one,', 'but', \"I'm\", 've…', 'https://t.co/Ma8CdfO5ZR', 'RT', '@python_devv:', 'machine', 'learning', 'for', 'beginners', '-', 'deep', 'dive', '☞', 'https://t.co/Ha4vFyLuRZ', '#python', '#programming', 'https://t.co/mieNEqm5Cl', 'I', 'just', 'published', 'Classic', 'Computer', 'Science', 'Problems', 'in', '̶P̶y̶t̶h̶o̶n̶', 'Scala', '—', 'Trivial', 'Compression', 'https://t.co/gbwN9oqANt', 'RT', '@Python_VN:', 'Learn', 'Python', 'Programming', 'by', 'Making', 'a', 'Game', '☞', 'https://t.co/TNKFDjf7GZ', '#python', 'https://t.co/zLJKjxvCX7', 'https://t.co/uOKuhPXkoA', '#CyberWarfare', '#InfoSec', 'Python', 'for', 'Data', 'Analysis:', 'Data', 'Wrangling', 'with', 'Pandas,', 'NumPy,', 'and', 'IPython', '-', 'https://t.co/Ab59UVBMDA', \"It's\", 'a', 'torture', 'to', 'install', 'mapnik', '#mapnik', 'for', 'python', '3', 'on', 'centos', '😓', '@fr4e', '極端な話、pythonでもいいじゃん', '@dewder09', 'ปี', '1', 'เทอม1', 'เจอ', 'แมคคา(ฟิสิกส์ม.ปลาย)', 'ไฟฟ้า(ม.ปลาย)', 'แคล1', 'อังกฤษ', 'เจน', 'แลปแมคคา', 'แลปไฟ', 'แต่ก่อนจะเปิดเทอมจะมีเ…', 'https://t.co/WnaeJy92mf', 'RISE:', '\"Live\"', 'Reveal.js', 'Jupyter/I#python', 'Slideshow', 'Extension', '-', 'damianavila/RISE', '#tensorflowldn', 'https://t.co/0URzLGGpnP', 'لمن', 'يريد', 'تعلم', 'بايثون', 'افضل', 'دورة', 'على', 'الإطلاق', 'لتعلم', 'لغة', 'البرمجة', 'بايثون', 'وبالامثلة', 'من', 'إعداد', '@MhamadHarmush', 'https://t.co/GUTtMw6xaA', 'RT', '@ZonePhysics:', 'King', 'cobra', 'bites', 'python.', 'Python', 'constricts', 'cobra.', 'Cobra', 'dies', 'of', 'constriction.', 'Python', 'dies', 'from', 'venom.', '100%', 'holy', 'shit..', 'htt…', 'RT', '@rudyagovic:', 'Jupyter', 'Superpower', '—', 'Interactive', 'Visualization', 'Combo', 'with', 'Python', '#DataScience', '#MachineLearning', '#Visualization', 'https://t.co/…', '来月からPythonの開発。頑張らねば', 'RT', '@rudyagovic:', 'Kernel', 'Density', 'Estimation', 'in', 'Python', '#DataScience', '#MachineLearning', '#ArtificialIntelligence', 'https://t.co/CXYJMCgSLp', 'https://t…', '@chuuzus', 'Monte', 'Python', 'RT', '@Development_dev:', 'Deep', 'Learning', 'Prerequisites:', 'Logistic', 'Regression', 'in', 'Python', '☞', 'https://t.co/cOB0E8X3Vj', '#DeepLearning', '#Python', 'https://t…', 'pythonを勉強したいので、参考になる本やサイトがあったら教えてください!', 'RT', '@kiratkumar47:', 'Day', '71-79', ':', 'Completed', 'second', 'week', 'of', 'machine', 'learning', 'on', 'coursera,', 'learned', 'about', 'linear', 'regression', 'with', 'multiple', 'variable…', '*Code', 'somehow', 'reduced', 'to', 'only', '1', 'line', 'in', 'Python*', 'RT', '@byt3bl33d3r:', 'I', 'made', 'a', 'bunch', 'of', 'Ansible', 'playbooks', 'the', 'other', 'day', 'in', 'order', 'to', 'streamline/automate', 'my', 'workflow', 'during', 'engagements.', 'Specific…', '10000以下の素数を表示する。', 'https://t.co/P9mfTj3Nq4', 'RT', '@robertswiecki:', 'In', 'addition', 'to', 'the', 'Sandboxed', 'API', '(https://t.co/QMd97JOiFI)', 'its', 'sandboxing', 'driver,', 'so-called', '\"Sandbox', '2\",', 'has', 'been', 'releas…', 'RT', '@rakko8513:', 'LinkedIn', 'で', '日常会話レベルで', 'R、母国語で', 'Python', 'を使うとんでもない人材を発見した。', 'https://t.co/zYcE2vuNuT', 'RT', '@kiratkumar47:', 'Day', '71-79', ':', 'Completed', 'second', 'week', 'of', 'machine', 'learning', 'on', 'coursera,', 'learned', 'about', 'linear', 'regression', 'with', 'multiple', 'variable…', 'RT', '@byt3bl33d3r:', 'I', 'made', 'a', 'bunch', 'of', 'Ansible', 'playbooks', 'the', 'other', 'day', 'in', 'order', 'to', 'streamline/automate', 'my', 'workflow', 'during', 'engagements.', 'Specific…', 'RT', '@kiratkumar47:', 'Day', '71-79', ':', 'Completed', 'second', 'week', 'of', 'machine', 'learning', 'on', 'coursera,', 'learned', 'about', 'linear', 'regression', 'with', 'multiple', 'variable…', 'Day', '71-79', ':', 'Completed', 'second', 'week', 'of', 'machine', 'learning', 'on', 'coursera,', 'learned', 'about', 'linear', 'regression', 'with', 'multiple', 'va…', 'https://t.co/CtWW8Dkkf8', '@joshgroban', 'I', 'see', 'a', 'bit', 'of', 'Monty', 'Python', 'type', 'of', 'humor', 'every', 'time', 'Ko', 'Ko', 'comes', 'on.', 'The', 'British', 'humor', 'comes', 'through', 'RT', '@BBCkatyaadler:', 'EU', 'has', 'almost', 'given', 'up', 'trying', 'to', 'understand', 'what’s', 'going', 'on', 'in', 'UK.', 'Dutch', 'PM', 'Rutte', 'compares', 'Theresa', 'May', 'to', 'Monty', 'Python', 'k…', 'Scripts', 'en', 'Python', 'para', 'optimizar', 'el', 'SEO', 'de', 'tu', 'web', '✅', 'https://t.co/oZpQEZNo1U', 'his', 'name', 'is', 'Charlie!!', 'a', '10', 'year', 'old', 'rescued', 'albino', 'Burmese', 'python...', 'https://t.co/ElrRQDn4aB', 'RT', '@trendingdiveos:', 'The', 'question', \"isn't\", 'who', 'is', 'going', 'to', 'let', 'me;', \"it's\", 'who', 'is', 'going', 'to', 'stop', 'me.', '.', '#100DaysOfCode', '#development', '#Docker', '#PHP', '#ja…', 'RT', '@LanaBintadiaz:', 'Udemy', 'Course', 'Apache', 'Tomcat', 'Link', ':', 'https://t.co/16CI7pE3mJ', '#tomcat', '#Java', '#JavaLand4Kids', '#JS100', '#jspocycle', '#css3', '#html5', '#…', 'RT', '@PyImageSearch:', 'Big', 'news', 'today!🚀💥', '-', \"I'm\", 'writing', 'a', 'brand', 'new', 'book', 'on', '#ComputerVision', 'with', 'the', '@Raspberry_Pi!', '-', '40+', 'chapters', 'planned', 'on', 'CV…', 'Pay', 'what', 'you', 'want', 'programming', 'book', 'bundle.', '#webdeveloper', '#vuejs', '#python', '#programming', '#ebook', 'https://t.co/2xn1m6IrTD', 'RT', '@robertswiecki:', 'In', 'addition', 'to', 'the', 'Sandboxed', 'API', '(https://t.co/QMd97JOiFI)', 'its', 'sandboxing', 'driver,', 'so-called', '\"Sandbox', '2\",', 'has', 'been', 'releas…', 'Top', '14', 'Python', 'skills', 'for', 'businesses', '2019', 'Based', 'on', 'Stackoverflow', 'Data', 'https://t.co/DTFhvKZZ5Z', 'https://t.co/xrmQ5N9jkJ', 'RT', '@AIPLUS_AAU:', 'Week', '3', 'on', 'AI', 'plus', 'Class', 'Topics', 'to', 'Treat', ':FUNCTIONS', 'and', 'OBJECT', 'ORIENTED', 'PROGRAMMING', 'CONCEPTS', 'IN', 'PYTHON.', 'Time', ':', '8am', '-', '11am…', 'RT', '@rikoushonotana:', '新刊発売中『東京大学のデータサイエンティスト育成講座', 'Pythonで手を動かして学ぶデータ分析』中山浩太郎／監修', '塚本邦尊／山田典一／大澤文孝／著', '（マイナビ出版）', 'データ分析に必要な知識を全方位で手に入れよう！東大松尾研究室が提供する人…', 'RT', '@iamChuckRussell:', 'And', 'Now', 'This:', 'Pay', 'whatever', 'you', 'want', 'for', 'this', '10-part', 'Python', 'training', 'bundle', '-', 'Mashable', '#pyton', '#python', '#pythonic', 'Rea…', 'RT', '@Deep_In_Depth:', 'The', 'out-there', 'AI', 'ideas', 'designed', 'to', 'keep', 'the', 'US', 'ahead', 'of', 'China', 'https://t.co/CZpLRQbY3W', '#DeepLearning', '#MachineLearning', '#AI…', 'RT', '@Camz99:', '‘Tis', 'but', 'a', 'scratch’:', 'Dutch', 'PM', 'likens', 'unyielding', 'May', 'to', 'Monty', 'Python’s', 'limbless', 'knight', 'over', 'Brexit', 'https://t.co/G6A9Ij6Jav', 'https…', '#Pytest', 'is', 'a', 'Python-based', 'testing', 'framework', 'which', 'is', 'used', 'to', 'write', 'and', 'execute', 'test', 'codes.', 'Learn', 'Pytest…', 'https://t.co/SiG8dxFPrj', 'RT', '@JODYHiGHROLLER:', '\\U0001f9e0\\U0001f9e0\\U0001f9e0\\U0001f9e0\\U0001f9e0\\U0001f9e0\\U0001f9e0', 'RiFF', 'RAFF', '\\U0001f9e0\\U0001f9e0\\U0001f9e0\\U0001f9e0\\U0001f9e0\\U0001f9e0\\U0001f9e0', 'PiNK', 'PYTHōN', '\\U0001f9e0\\U0001f9e0\\U0001f9e0\\U0001f9e0\\U0001f9e0\\U0001f9e0\\U0001f9e0\\U0001f9e0', 'APRiL', '12', '\\U0001f9e0\\U0001f9e0\\U0001f9e0\\U0001f9e0\\U0001f9e0\\U0001f9e0\\U0001f9e0\\U0001f9e0', 'ALBUM', 'PRE-SALE', 'LiNK:', 'https://t.co/FbNQZK44Aj', 'h…', 'RT', '@LanaBintadiaz:', 'Udemy', 'Course', 'Apache', 'Tomcat', 'Link', ':', 'https://t.co/16CI7pE3mJ', '#tomcat', '#Java', '#JavaLand4Kids', '#JS100', '#jspocycle', '#css3', '#html5', '#…', 'RT', '@xarray_dev:', 'Xarray', 'v0.12', 'is', 'out.', 'Highlights', 'include:', '-', 'dropped', 'supported', 'for', 'Python', '2', '-', 'new', 'coarsen()', 'and', 'integrate()', 'methods', '-', 'nearly…', 'RT', '@harmashcom:', 'لمتابعي', 'دروس', '#بايثون', '🐍', 'تم', 'إنهاء', 'الدرس', 'الأخير', 'في', 'الدورة', 'و', 'فيه', 'شرحنا', 'ماذا', 'يجب', 'أن', 'تتعلموا', 'الآن', 'بالإضافة', 'إلى', 'المصادر', 'المجانية', 'ا…', '‘Tis', 'but', 'a', 'scratch’:', 'Dutch', 'PM', 'likens', 'unyielding', 'May', 'to', 'Monty', 'Python’s', 'limbless', 'knight', 'over', 'Brexit…', 'https://t.co/ATnjZ6uXxE', 'Week', '3', 'on', 'AI', 'plus', 'Class', 'Topics', 'to', 'Treat', ':FUNCTIONS', 'and', 'OBJECT', 'ORIENTED', 'PROGRAMMING', 'CONCEPTS', 'IN', 'PYTHON.', 'Time', ':', '8am…', 'https://t.co/FrASzVAslf', 'RT', '@LanaBintadiaz:', 'Udemy', 'Course', 'Apache', 'Tomcat', 'Link', ':', 'https://t.co/16CI7pE3mJ', '#tomcat', '#Java', '#JavaLand4Kids', '#JS100', '#jspocycle', '#css3', '#html5', '#…', 'Udemy', 'Course', 'Apache', 'Tomcat', 'Link', ':', 'https://t.co/16CI7pE3mJ', '#tomcat', '#Java', '#JavaLand4Kids', '#JS100', '#jspocycle', '#css3…', 'https://t.co/pcT8yK5jkz', 'RT', '@rakko8513:', 'LinkedIn', 'で', '日常会話レベルで', 'R、母国語で', 'Python', 'を使うとんでもない人材を発見した。', 'https://t.co/zYcE2vuNuT', '@jennysfen', '@ScratchEdTeam', 'I’ve', 'used', '#RaspberryPi', 'with', '#Scratch', 'for', 'Primary', '3rd', 'through', '6th', 'graders', 'with', 'GPIOs', 'conne…', 'https://t.co/yFuyFrsfcv', 'RT', '@TosinOlugbenga:', '@OceandigitsNG', 'new', 'coding', 'training', 'session', 'starts', 'April', '2nd,', '2019.', 'For', 'Full', 'Stack', 'Web', 'development,', 'register', 'via', 'https:…', '@btskinn', \"there's\", 'still', 'a', 'lot', 'of', 'hold', 'scientific', 'software', 'that', 'says', 'to', 'use', 'it', 'with', 'python', '2.7', 'in', 'the', 'manuals,', 'even', 'i…', 'https://t.co/MEhsnUJ0jg', 'RT', '@trendingdiveos:', 'The', 'question', \"isn't\", 'who', 'is', 'going', 'to', 'let', 'me;', \"it's\", 'who', 'is', 'going', 'to', 'stop', 'me.', '.', '#100DaysOfCode', '#development', '#Docker', '#PHP', '#ja…', 'RT', '@dditucci:', 'Day', '11', 'of', '#100DaysOfCode', '-', 'Finished', 'data', 'cleansing', 'for', 'salary', 'predictions.', 'Played', 'with', 'different', 'formats', 'for', 'scatter', 'plots,', 'r…', 'Latest', 'post', 'from', 'RVieww', 'about', 'the', 'reticulate', 'package', 'which', 'enables', 'integration', 'of', 'Python', 'in', 'R', 'https://t.co/cPaePa2woI', 'ok', 'so', \"here's\", 'my', 'list', 'of', 'top', '7', 'movies', 'that', 'in', 'my', 'opinion', 'are', 'impossible', 'to', 'hate', '7.', \"It's\", 'a', 'Mad', 'Mad', 'Mad', 'Mad', 'World', '6.', 'W…', 'https://t.co/n1CHs9be5w', \"We're\", 'hiring', 'in', '#Gurgaon!', 'Click', 'the', 'link', 'in', 'our', 'bio', 'to', 'apply', 'to', 'this', 'job', 'and', 'more:', 'Manager,', 'Product', 'Development', '&amp;', 'I…', 'https://t.co/bcWMfQrNB6', 'RT', '@ZonePhysics:', 'King', 'cobra', 'bites', 'python.', 'Python', 'constricts', 'cobra.', 'Cobra', 'dies', 'of', 'constriction.', 'Python', 'dies', 'from', 'venom.', '100%', 'holy', 'shit..', 'htt…', 'RT', '@ZonePhysics:', 'King', 'cobra', 'bites', 'python.', 'Python', 'constricts', 'cobra.', 'Cobra', 'dies', 'of', 'constriction.', 'Python', 'dies', 'from', 'venom.', '100%', 'holy', 'shit..', 'htt…', 'The', 'question', \"isn't\", 'who', 'is', 'going', 'to', 'let', 'me;', \"it's\", 'who', 'is', 'going', 'to', 'stop', 'me.', '.', '#100DaysOfCode', '#development', '#Docker', '#PHP…', 'https://t.co/UiqRDsXbYL', 'おやおや....誰かと思えば、スコウロンスキー大佐ではありませんか', '潜行してたのに一瞬で浮上してきてガタガタ震えてる', 'RT', '@gvanrossum:', 'Looking', 'forward', 'to', 'this', 'event', 'in', 'Seattle:', 'https://t.co/QPyakwsn4A', 'a', 'panel', 'with', 'four', 'language', 'creators', 'organized', 'by', 'the', 'amaz…', 'Pythonでbrainfuckインタプリタ(楔形文字も出る)', 'https://t.co/q6awhnwXKe', '#Qiita', 'はじめてQiita書きました、brainfuckから楔形文字が出ます', 'RT', '@thorolas_LILY:', 'Have', 'the', 'courage', 'to', 'follow', 'ur', 'heart', '&amp;', 'intuition', '#stevejobs', 'Day63', 'of', '#100DaysOfCode', 'created', 'basketball', 'with', '#html', '&amp;', '#css…', 'The', 'Glue', 'One', 'shot', 'of', 'Python,', 'one', 'shot', 'of', 'Scala,', '2', 'ounces', 'of', 'Cold', 'Start,', 'the', 'bartender', 'mix', 'it', 'up', 'but', 'may', 'serve', 'you', 't…', 'https://t.co/itTwu3GTKO', 'RT', '@ZonePhysics:', 'King', 'cobra', 'bites', 'python.', 'Python', 'constricts', 'cobra.', 'Cobra', 'dies', 'of', 'constriction.', 'Python', 'dies', 'from', 'venom.', '100%', 'holy', 'shit..', 'htt…', 'RT', '@pythonbot_:', 'Pandas', 'Cookbook:', 'Recipes', 'For', 'Scientific', 'Computing,', 'Time', 'Series', 'Analysis', 'And', 'Data', 'V', 'https://t.co/DH0sSxUGGj', '#software', '#deve…', '@mattyglesias', '@nbeaudrot', '@dylanmatt', 'Language', 'doesn’t', 'matter', 'as', 'much—python', 'and', 'r', 'would', 'both', 'be', 'reasonable', 'choices—b…', 'https://t.co/nS6CVRx0zx', 'Deep', 'Learning', 'Prerequisites:', 'Logistic', 'Regression', 'in', 'Python', '☞', 'https://t.co/Cd903lEeJE', '#DeepLearning', '#Python', 'https://t.co/haqJbTobYD', 'How', 'to', 'Build', 'a', 'Python', 'GUI', 'Application', 'With', 'wxPython', '–', 'Real', 'Python', 'https://t.co/Dg0pL7sDk0', '【ギフトランキング（コンピュータ・IT書籍）】', '5位：「PythonによるAIプログラミング入門', '―ディープラーニングを始める前に身につけておくべき15の基礎技術」(著)Prateek', 'Joshi', '6位：「ゼロから作るDeep', 'L…', 'https://t.co/3VTzaNEqj0', '5', 'Killer', 'Ideas', 'to', 'Boost', 'Your', 'eCommerce', 'Sales.', '.', '.', 'https://t.co/dluQieFXD6', '#ecommerce', '#WebsiteDesign', '#websites…', 'https://t.co/fQOvmQGgZ8', 'RT', '@byt3bl33d3r:', 'I', 'made', 'a', 'bunch', 'of', 'Ansible', 'playbooks', 'the', 'other', 'day', 'in', 'order', 'to', 'streamline/automate', 'my', 'workflow', 'during', 'engagements.', 'Specific…', '@HackerRank', \"#Women's\", '#Codesprint', '2019', '#python', 'and', '#cplusplus', 'video', 'solution', 'is', 'up!', 'Check', 'it', 'out:…', 'https://t.co/5PQYQQAszy', '箸でカレー食べ始めるしめっちゃ食べるの遅いヤバイ人も知ってます。', '@blaylockbk', 'I', 'had', 'another', 'python', 'question,', 'if', 'you', \"don't\", 'mind.', 'Is', 'there', 'an', 'easy', 'way', 'to', 'read', 'the', 'text', 'from', 'an', 'html', 'pa…', 'https://t.co/eQga0ooYLi', 'SfMのオープンソースライブラリでOpenSfMはPythonで記述されているらしいので，ちょっと多視点から色々やってみようかな（一応RGBDカメラあるけど使えるか分からないし）', 'Deep', 'Learning', 'Prerequisites:', 'Logistic', 'Regression', 'in', 'Python', '☞', 'https://t.co/n6xsXrQs8Z', '#DeepLearning', '#Python', 'https://t.co/z5ZjSccnAt', 'RT', '@brandondamos:', 'Tuning', 'Hyperparameters', 'without', 'Grad', 'Students:', 'Scalable', 'and', 'Robust', 'Bayesian', 'Optimisation', 'with', 'Dragonfly', 'K.', 'Kandasamy', 'et', 'al…', 'RT', '@thorolas_LILY:', 'Have', 'the', 'courage', 'to', 'follow', 'ur', 'heart', '&amp;', 'intuition', '#stevejobs', 'Day63', 'of', '#100DaysOfCode', 'created', 'basketball', 'with', '#html', '&amp;', '#css…', 'Once', 'upon', 'a', 'time,', 'Python', 'the', 'experimental', 'programming', 'language', 'left', 'his', 'home.', 'Python', 'went', 'home.', 'RT', '@brandondamos:', 'Tuning', 'Hyperparameters', 'without', 'Grad', 'Students:', 'Scalable', 'and', 'Robust', 'Bayesian', 'Optimisation', 'with', 'Dragonfly', 'K.', 'Kandasamy', 'et', 'al…', '元はこんなデザインの時もあったわ。謙虚な雰囲気だわー。', 'https://t.co/m4nERaAvIT', 'RT', '@seeonedave:', 'I', 'wrote', 'an', 'article', 'on', 'how', 'useful', 'keytab', 'files', 'can', 'be', 'on', 'a', 'pentest', '/', 'red', 'team', 'engagement,', 'how', 'their', 'data', 'is', 'structured', 'and', 'h…', 'RT', '@thorolas_LILY:', 'Have', 'the', 'courage', 'to', 'follow', 'ur', 'heart', '&amp;', 'intuition', '#stevejobs', 'Day63', 'of', '#100DaysOfCode', 'created', 'basketball', 'with', '#html', '&amp;', '#css…', 'RT', '@StochasticSolns:', \"We're\", 'really', 'looking', 'forward', 'to', 'talking', 'testing', 'with', 'all', 'the', 'attendees,', 'we', 'only', 'have', 'a', 'couple', 'of', 'tickets', 'left', 'from', 'the…', 'The', 'last', 'v0.0.0', 'of', 'my', 'Linux', 'Live', 'Image.', 'With', 'on/offline', 'GRC', 'graphs', '&amp;', 'latest', 'proxy', 'configuration', 'for', 'LO-90', 'and', 'Lilac…', 'https://t.co/3bdeV5o2ef', '思うところあってpythonをちゃんと勉強しようと思ったのだけど、流石にこの業界にエンジニアリング全く無縁の世界から入ってくる人は少ないんだろうな…どの解説も俺の基礎知識の3歩くらい先から始まるんや…', 'RT', '@yams_budget:', '#星影秘書室', 'からご提案させていただいて', '2019年1月末より、ツイッター分析のプロ、', 'けいすけさん', '@kei31', 'の秘書をさせて', 'いただいています。😊', 'お仕事は主にツイッターやWebから', '分析データを収集すること。', 'Pythonでプログラ…', 'Tips', 'and', 'tricks', 'to', 'write', 'LaTeX', 'papers', 'in', 'with', 'figures', 'generated', 'in', 'Python', 'https://t.co/te8BAywfn8', 'Deep', 'Learning', 'Prerequisites:', 'Logistic', 'Regression', 'in', 'Python', '☞', 'https://t.co/cOB0E8X3Vj', '#DeepLearning', '#Python', 'https://t.co/vOH4hIuGJz', 'RT', '@Aquilaniie:', 'มีเจ้านึงอยากได้', 'BA', 'โดยมีข้อแม้ว่า', '-', 'เขียน', 'business', 'flow', 'และ', 'swim', 'lane', '-', 'ออกแบบ', 'mockup', '-', 'ออกแบบ', 'UX/Ui', '-', 'ออกแบบ', 'Test', 'case', '-…', 'And', 'Now', 'This:', 'Pay', 'whatever', 'you', 'want', 'for', 'this', '10-part', 'Python', 'training', 'bundle', '-', 'Mashable', '#pyton', '#python', '#pythonic…', 'https://t.co/ulUfabCFS1', 'ゼロから始めるPOM入門', '[Python3', '+', 'Selenium', '+', 'POM]', '-', 'https://t.co/7VHK133jJe', 'プログラミング言語って', '数学でいうと極座標表示と直交座標表示の違いに似てるようなものかな', '極座標→円の表示に便利', '直交座標→直線の表示に便利', 'プログラミング言語も様々な言語があり、それぞれ強みを持っているところが。', 'Py…', 'https://t.co/JJivWy1pKz', 'Pandas', 'Cookbook:', 'Recipes', 'For', 'Scientific', 'Computing,', 'Time', 'Series', 'Analysis', 'And', 'Data', 'V', 'https://t.co/DH0sSxUGGj', '#software', '#development', '#python', 'RT', '@ZonePhysics:', 'King', 'cobra', 'bites', 'python.', 'Python', 'constricts', 'cobra.', 'Cobra', 'dies', 'of', 'constriction.', 'Python', 'dies', 'from', 'venom.', '100%', 'holy', 'shit..', 'htt…', '僕も界隈のヤバイ奴知ってるよ。', '自分を都民だとずっと主張してる齧歯類なんだけどね……', 'RT', '@ZonePhysics:', 'King', 'cobra', 'bites', 'python.', 'Python', 'constricts', 'cobra.', 'Cobra', 'dies', 'of', 'constriction.', 'Python', 'dies', 'from', 'venom.', '100%', 'holy', 'shit..', 'htt…', 'RT', '@slajobschennai:', 'ENROLL', 'NOW', ':', 'https://t.co/enMAyOc8Sr', 'jQuery', 'is', 'a', '#JavaScript', 'library', 'that', 'allows', '#web', 'developers', 'CALL', 'NOW:', '8608700340…', '@python__357', 'チェーン店なら味は変わらな気が(´･ω･`)', 'あ、関西から来たのかと思ってました。申し訳ない💦', 'Cow', 'versus', 'python......', 'https://t.co/sIaXLn2sBa', 'RPAにはシェルスクリプト力が必要という話をちらっと聞いた。sedやawkが必要、とも。', 'いやそれならPerlが一番いいのでは。', '機械学習でPythonが勃興したように、PerlもRPAでブーストする！（ればいいな。。）', 'RT', '@ZonePhysics:', 'King', 'cobra', 'bites', 'python.', 'Python', 'constricts', 'cobra.', 'Cobra', 'dies', 'of', 'constriction.', 'Python', 'dies', 'from', 'venom.', '100%', 'holy', 'shit..', 'htt…', 'Deep', 'Learning', 'Prerequisites:', 'Logistic', 'Regression', 'in', 'Python', '☞', 'https://t.co/qjATQljSor', '#DeepLearning', '#Python', 'https://t.co/5P9IPhXrdw', 'RT', '@ProgrammerBooks:', 'CCSP', 'Official', '(ISC)2', 'Practice', 'Tests', ':', 'https://t.co/kSsOZungVY', '#python', '#javascript', '#angular', '#reactjs', '#vuejs', '#perl', '#ruby…', 'RT', '@Deep_In_Depth:', 'How', 'to', 'use', 'process', 'data', 'mining', 'to', 'improve', 'DevOps', 'https://t.co/yJT3dr361R', '#DeepLearning', '#MachineLearning', '#AI', '#DataScience…', '#Spectrum', 'My', '#InternetSpeed', ':', 'Ping:', '39.291', 'ms', 'Download:', '158.83', 'Mbit/s', 'Upload:', '11.11', 'Mbit/s', '#automagic', '#python', '#corporateaccountability', 'Jupyterだと動いてたのに、Pythonファイルにしたら動かないの、あると思います。', '400いいね！', '|', 'Pythonでデスクトップアプリを作る', 'with', 'Electron', 'by', '@yoshizaki_kkgk', 'https://t.co/MbZ0I2YLc4', 'How', 'to', 'use', 'process', 'data', 'mining', 'to', 'improve', 'DevOps', 'https://t.co/yJT3dr361R', '#DeepLearning', '#MachineLearning', '#AI…', 'https://t.co/G8lTGV9IuB', 'การเขียนโปรแกรมคอมพิวเตอร์ถือได้ว่าเป็นทักษะอย่างหนึ่ง', 'โดยความหมายของคำว่า', '“ทักษะ”', 'คือสิ่งที่สามารถเรียนรู้', 'ฝึกฝน', 'แ…', 'https://t.co/JVMKOJUGnk', 'RT', '@xarray_dev:', 'Xarray', 'v0.12', 'is', 'out.', 'Highlights', 'include:', '-', 'dropped', 'supported', 'for', 'Python', '2', '-', 'new', 'coarsen()', 'and', 'integrate()', 'methods', '-', 'nearly…', 'Alojamiento', 'Web', 'con', 'Php,', 'MySql,', 'Python,', 'Ruby', 'On', 'Rails,', 'MySqli,', '99.99%', 'Uptime,', 'cPanel,', 'Backups,', 'Migración,', 'Softaculous', '-hostxido.com', 'Only', '9', 'months', '12', 'days', '18', 'hours', '30', 'minutes', 'left', 'until', 'Python', '2', 'retires', '@Tetrisdroid', 'How', 'about', 'in', 'the', 'same', 'accent', 'when', 'Monty', 'Python', 'in', 'between', 'skits', 'a', 'man', 'says', \"'Lemon\", \"Curry?'\", ';/', 'RT', '@PythonWeekly:', 'Optimize', 'Python', 'Application', 'Performance', 'Improve', 'and', 'troubleshoot', 'your', 'apps', 'with', 'end-to-end', 'request', 'tracing.', 'https://t.co/…', 'RT', '@byt3bl33d3r:', 'I', 'made', 'a', 'bunch', 'of', 'Ansible', 'playbooks', 'the', 'other', 'day', 'in', 'order', 'to', 'streamline/automate', 'my', 'workflow', 'during', 'engagements.', 'Specific…', 'RT', '@smashingmag:', '\"An', 'explanation', 'of', 'how', 'they', 'work', 'and', 'how', 'to', 'implement', 'one', 'from', 'scratch', 'in', 'Python.”', '(Beware:', 'there', 'is', 'a', 'bit', 'of', 'math', 'in', 'ther…', '@anie_rozett', 'Pythonは機械学習・統計処理はライブラリの充実しまくってるから得意だし、コードの書きやすさから高速開発は得意ってイメージ。', 'ただ、実行時間遅いとか大規模分散苦手な感じで実装システムにはあまり向かなさそうなイメージ', 'Dutch', 'PM', 'compares', 'Theresa', 'May', 'to', 'Monty', 'Python', 'limbless', 'knight', 'https://t.co/3hWg5pgFxE', '大阪全体を筋肉にするのやめろ', '@pesucchi', '本場の利休いいじゃないですか。関東住みなんで東京は日帰りですよ。', 'Python', 'Python入門', 'https://t.co/dEDujLUi2p', 'Make', 'predictions', 'with', 'Python', 'machine', 'learning', 'for', 'apps', '☞', 'https://t.co/9C1K7LNoVu', '#DeepLearning', '#ai', 'https://t.co/qK28RNi1YV', '@glogiotatidis', '@jhug', '@greecejs', '@wpgreeceorg', '@AthensBigData', 'Thank', 'you', 'for', 'taking', 'the', 'time', 'to', 'respond', 'to', 'our', 'message,…', 'https://t.co/ObGBRUtrYr', '@garybernhardt', 'Python', '3.6', 'with', 'type', 'hints', 'has', 'little', 'advantage', 'in', 'this', 'regard.', 'Ipad', 'air第二世代pencilに対応してほしかった', 'I', 'was', 'not', 'prepared', 'for', 'my', 'child’s', 'first', 'real', 'nightmare', 'that', 'had', 'him', 'screaming', 'for', 'me.', 'Bunny', 'rabbits', 'chewing', 'on', 'him…', 'https://t.co/O6OfBRIGYi', 'RT', '@harmashcom:', 'لمتابعي', 'دروس', '#بايثون', '🐍', 'تم', 'إنهاء', 'الدرس', 'الأخير', 'في', 'الدورة', 'و', 'فيه', 'شرحنا', 'ماذا', 'يجب', 'أن', 'تتعلموا', 'الآن', 'بالإضافة', 'إلى', 'المصادر', 'المجانية', 'ا…', 'RT', '@Aquilaniie:', 'มีเจ้านึงอยากได้', 'BA', 'โดยมีข้อแม้ว่า', '-', 'เขียน', 'business', 'flow', 'และ', 'swim', 'lane', '-', 'ออกแบบ', 'mockup', '-', 'ออกแบบ', 'UX/Ui', '-', 'ออกแบบ', 'Test', 'case', '-…', 'ENROLL', 'NOW', ':', 'https://t.co/enMAyOc8Sr', 'jQuery', 'is', 'a', '#JavaScript', 'library', 'that', 'allows', '#web', 'developers', 'CALL', 'NOW:', '86087003…', 'https://t.co/Y2DPSbFx9z', 'Make', 'predictions', 'with', 'Python', 'machine', 'learning', 'for', 'apps', '☞', 'https://t.co/4SnMhzX3vd', '#DeepLearning', '#ai', 'https://t.co/3YrbAUrkV1', 'Tips', 'and', 'tricks', 'to', 'write', 'LaTeX', 'papers', 'in', 'with', 'figures', 'generated', 'in', 'Python', 'https://t.co/9YvKYwW2rY', 'Article', 'URL:…', 'https://t.co/bEeXm58PoC', 'Dutch', 'PM', 'compares', 'Theresa', 'May', 'to', 'Monty', 'Python', 'limbless', 'knight', '–', 'The', 'Guardian', 'https://t.co/0Drd6QXT8q', 'RT', '@rakko8513:', 'LinkedIn', 'で', '日常会話レベルで', 'R、母国語で', 'Python', 'を使うとんでもない人材を発見した。', 'https://t.co/zYcE2vuNuT', 'RT', '@ZonePhysics:', 'King', 'cobra', 'bites', 'python.', 'Python', 'constricts', 'cobra.', 'Cobra', 'dies', 'of', 'constriction.', 'Python', 'dies', 'from', 'venom.', '100%', 'holy', 'shit..', 'htt…', '@python__357', '利久って東京にもあったんだｗ', '仙台でツイートしてた意味・・・', '出張いいなぁ', 'こんな記事もあります', '#はてなブログ', 'Python開発環境メモ（2019）', '-', 'ぽよメモ', 'https://t.co/Vrlha83Uqe', 'RT', '@CBernard00:', '@theguynamedgabe', 'Peach', 'Panther', 'aka', 'Neon', 'Python', 'aka', 'Jody', 'Highroller', 'aka', 'Mister', 'Lamborghini', 'Leglock', 'aka', 'Aquaberry', 'Backfist', 'ak…', 'RT', '@byt3bl33d3r:', 'I', 'made', 'a', 'bunch', 'of', 'Ansible', 'playbooks', 'the', 'other', 'day', 'in', 'order', 'to', 'streamline/automate', 'my', 'workflow', 'during', 'engagements.', 'Specific…', 'Engineer', 'Data', 'in', 'Urbana,', 'IL:', 'python,', 'solidworks,', 'catia,', 'ansys,', 'v5,', 'cloud,', 'text,', 'wind,', 'iron', 'https://t.co/rpp0FbbnyD', '@theguynamedgabe', 'Peach', 'Panther', 'aka', 'Neon', 'Python', 'aka', 'Jody', 'Highroller', 'aka', 'Mister', 'Lamborghini', 'Leglock', 'aka', 'Aquaberry', 'Backfist', 'aka', 'Neon', 'Knuckles', 'RT', '@brandondamos:', 'Tuning', 'Hyperparameters', 'without', 'Grad', 'Students:', 'Scalable', 'and', 'Robust', 'Bayesian', 'Optimisation', 'with', 'Dragonfly', 'K.', 'Kandasamy', 'et', 'al…', 'RT', '@DelhiLetspy:', 'Bringing', 'you', 'a', 'series', 'of', 'memes', 'every', 'morning.', 'Just', 'for', 'fun.6.0', '#DataScience', '#Analytics', '#MachineLearning', '#CloudComputing…', 'RT', '@gp_pulipaka:', 'Bitcoin', 'Made', 'Easy.', '#BigData', '#Analytics', '#DataScience', '#AI', '#MachineLearning', '#BitCoin', '#BlockChain', '#FinTech', '#Crypto', '#IoT', '#IIoT…', 'Tips', 'and', 'tricks', 'to', 'write', 'LaTeX', 'papers', 'in', 'with', 'figures', 'generated', 'in', 'Python', 'https://t.co/vPux8Rlbcr', '(https://t.co/g2rZnm3Tr6)', 'RT', '@brandondamos:', 'Tuning', 'Hyperparameters', 'without', 'Grad', 'Students:', 'Scalable', 'and', 'Robust', 'Bayesian', 'Optimisation', 'with', 'Dragonfly', 'K.', 'Kandasamy', 'et', 'al…', 'You', 'might', 'think', \"it's\", 'only', 'about', 'data', 'science,', 'pandas', '&amp;', 'sklearn—but', 'in', 'reality', \"it's\", 'a', 'full', 'stack', 'sport.', 'Let', 'Paco', 'Nat…', 'https://t.co/Cfah2L58wi', 'RT', '@khairulnazran:', '@MambangStory', 'Mainly', 'Python', 'and', 'it’s', 'libraries.', 'Knowledge', 'of', 'SQL', 'and', 'NoSQL', 'is', 'great', 'because', 'it’s', 'in', 'our', 'toolkit.', 'At', 'ti…', 'Once', 'upon', 'a', 'time,', 'Python', 'the', 'outstanding', 'programming', 'language', 'left', 'her', 'home.', 'Python', 'went', 'home.', '@pesucchi', '東京出張ですよー', 'RT', '@JODYHiGHROLLER:', '\\U0001f9e0\\U0001f9e0\\U0001f9e0\\U0001f9e0\\U0001f9e0\\U0001f9e0\\U0001f9e0', 'RiFF', 'RAFF', '\\U0001f9e0\\U0001f9e0\\U0001f9e0\\U0001f9e0\\U0001f9e0\\U0001f9e0\\U0001f9e0', 'PiNK', 'PYTHōN', '\\U0001f9e0\\U0001f9e0\\U0001f9e0\\U0001f9e0\\U0001f9e0\\U0001f9e0\\U0001f9e0\\U0001f9e0', 'APRiL', '12', '\\U0001f9e0\\U0001f9e0\\U0001f9e0\\U0001f9e0\\U0001f9e0\\U0001f9e0\\U0001f9e0\\U0001f9e0', 'ALBUM', 'PRE-SALE', 'LiNK:', 'https://t.co/FbNQZK44Aj', 'h…', 'RT', '@gp_pulipaka:', 'Azure', 'Data', 'Backup', 'for', '#MSSQLServer', 'in', '#Azure', 'Virtual', 'Machines.', '#BigData', '#Analytics', '#DataScience', '#AI', '#MachineLearning', '#IoT…', 'RT', '@nholzschuch:', 'Widgets', 'are', 'is', 'coming', 'with', 'the', 'next', 'build', 'of', 'Carnets,', 'my', '#jupyter-on-iOS', 'app.', 'cc', '@wbo_python', 'https://t.co/txTQ7t2f6R', 'RT', '@byt3bl33d3r:', 'I', 'made', 'a', 'bunch', 'of', 'Ansible', 'playbooks', 'the', 'other', 'day', 'in', 'order', 'to', 'streamline/automate', 'my', 'workflow', 'during', 'engagements.', 'Specific…', 'RT', '@FelipeOrjuelaR:', 'Vale', 'huevo', 'el', 'programa', 'que', 'uses', 'para', 'hacer', 'econometria.', 'No', 'importa', 'si', 'es', 'R,', 'Stata,', 'SPSS,', 'Python,', 'etc.', 'Lo', 'que', 'importa', 'es…', 'RT', '@gp_pulipaka:', 'Azure', 'Data', 'Backup', 'for', '#MSSQLServer', 'in', '#Azure', 'Virtual', 'Machines.', '#BigData', '#Analytics', '#DataScience', '#AI', '#MachineLearning', '#IoT…', 'RT', '@gp_pulipaka:', 'Sandboxed', 'API', 'Automatically', 'Generates', 'Sandboxes', 'for', '#C/', '#CPP', 'Libraries.', '#BigData', '#Analytics', '#DataScience', '#AI', '#MachineLearn…', 'RT', '@gp_pulipaka:', 'Bitcoin', 'Made', 'Easy.', '#BigData', '#Analytics', '#DataScience', '#AI', '#MachineLearning', '#BitCoin', '#BlockChain', '#FinTech', '#Crypto', '#IoT', '#IIoT…', 'RT', '@JODYHiGHROLLER:', '\\U0001f9e0\\U0001f9e0\\U0001f9e0\\U0001f9e0\\U0001f9e0\\U0001f9e0\\U0001f9e0', 'RiFF', 'RAFF', '\\U0001f9e0\\U0001f9e0\\U0001f9e0\\U0001f9e0\\U0001f9e0\\U0001f9e0\\U0001f9e0', 'PiNK', 'PYTHōN', '\\U0001f9e0\\U0001f9e0\\U0001f9e0\\U0001f9e0\\U0001f9e0\\U0001f9e0\\U0001f9e0\\U0001f9e0', 'APRiL', '12', '\\U0001f9e0\\U0001f9e0\\U0001f9e0\\U0001f9e0\\U0001f9e0\\U0001f9e0\\U0001f9e0\\U0001f9e0', 'ALBUM', 'PRE-SALE', 'LiNK:', 'https://t.co/FbNQZK44Aj', 'h…', 'RT', '@gp_pulipaka:', 'Azure', 'Data', 'Backup', 'for', '#MSSQLServer', 'in', '#Azure', 'Virtual', 'Machines.', '#BigData', '#Analytics', '#DataScience', '#AI', '#MachineLearning', '#IoT…', '10', 'Python', 'image', 'manipulation', 'tools', 'https://t.co/bm2Ac7dmhl', 'RT', '@harmashcom:', 'لمتابعي', 'دروس', '#بايثون', '🐍', 'تم', 'إنهاء', 'الدرس', 'الأخير', 'في', 'الدورة', 'و', 'فيه', 'شرحنا', 'ماذا', 'يجب', 'أن', 'تتعلموا', 'الآن', 'بالإضافة', 'إلى', 'المصادر', 'المجانية', 'ا…', 'RT', '@ZonePhysics:', 'King', 'cobra', 'bites', 'python.', 'Python', 'constricts', 'cobra.', 'Cobra', 'dies', 'of', 'constriction.', 'Python', 'dies', 'from', 'venom.', '100%', 'holy', 'shit..', 'htt…', 'RT', '@ProgrammerBooks:', 'Angular', 'in', 'Action', ':', 'https://t.co/H29az632ZK', '#python', '#javascript', '#angular', '#reactjs', '#vuejs', '#perl', '#ruby', '#Csharp', '#Java', '#li…', 'RT', '@PaulDoroshenko:', 'Apt.', 'Dutch', 'PM', 'likens', 'May’s', '#Brexit', 'tenacity', 'to', 'Monty', 'Python’s', 'black', 'knight', '–', 'National', 'Post', 'https://t.co/vMGev9YFlf', 'RT', '@LanaBintadiaz:', 'Udemy', 'Course', 'JavaEE', 'Link', ':', 'https://t.co/zkJ6aWTOWm', '#JavaEE', '#Java', '#JavaLand4Kids', '#JS100', '#jspocycle', '#css3', '#html5', '#webdeve…', 'Pythonかー', 'RT', '@Jx4nFrancisco:', \"It's\", 'time', 'to', 'program', 'PHP', '#linux', '#reposted', '#programmerslife💻', '#webdev', '#webdeveloper', '#webdevelopment', '#programming', '#programm…', 'RT', '@ZonePhysics:', 'King', 'cobra', 'bites', 'python.', 'Python', 'constricts', 'cobra.', 'Cobra', 'dies', 'of', 'constriction.', 'Python', 'dies', 'from', 'venom.', '100%', 'holy', 'shit..', 'htt…', 'RT', '@gp_pulipaka:', 'Using', 'Autoencoders', 'for', 'Detecting', 'Credit', 'Card', 'Fraud', '[Tutorial].', '#BigData', '#Analytics', '#DataScience', '#AI', '#MachineLearning', '#FinT…', 'RT', '@byt3bl33d3r:', 'I', 'made', 'a', 'bunch', 'of', 'Ansible', 'playbooks', 'the', 'other', 'day', 'in', 'order', 'to', 'streamline/automate', 'my', 'workflow', 'during', 'engagements.', 'Specific…', 'RT', '@gp_pulipaka:', 'Bitcoin', 'Made', 'Easy.', '#BigData', '#Analytics', '#DataScience', '#AI', '#MachineLearning', '#BitCoin', '#BlockChain', '#FinTech', '#Crypto', '#IoT', '#IIoT…', 'Fedora', '29', 'Update:', 'python-geopandas-0.4.1-1.fc29', 'https://t.co/PRUu6dxbgW', 'RT', '@kdnuggets:', 'Artificial', 'Neural', 'Networks', 'Optimization', 'using', 'Genetic', 'Algorithm', 'with', 'Python', 'https://t.co/inp0UQTgzn', 'https://t.co/eP9XFErd3M', '日本語と、Python、JavaScriptできたらトリリンガルになれる！', '@bradleyboehmke', 'Any', 'good', 'resources', 'like', 'your', 'R', 'articles', 'for', 'python', '?', 'What', 'should', 'I', 'do', 'to', 'master', 'python?', 'I’m', 'more', 'of', 'an', 'R', 'person', 'RT', '@ProgrammerBooks:', 'Wireless', 'All', 'In', 'One', 'For', 'Dummies,', '2nd', 'Edition', ':', 'https://t.co/oK1AhBP6e9', '#python', '#javascript', '#angular', '#reactjs', '#vuejs', '#p…', 'RT', '@junkudo_ike_pc:', '3/19先行販売：ISBN978-4-297-10508-2', '技術評論社', '『RとPythonで学ぶ[実践的]データサイエンス&amp;機械学習』', '有賀友紀、大橋俊介', '著', '10冊入荷', 'https://t.co/SW8BElrkZR', 'RT', '@KenyonLedford:', '@Excocet', '@Sowokeitswoke', '@IlhanMN', '@realDonaldTrump', 'You', 'are', 'like', 'an', 'episode', 'of', 'the', 'Money', 'Python', 'Argument', 'Clinic,', 'but', 'more…', 'RT', '@LanaBintadiaz:', 'Udemy', 'Course', 'Discount', 'Python', 'Link', ':', 'https://t.co/XZpQA7dk8D', '#Python', '#DevOps', '#WebsiteTraffic', '#100DaysOfCode', '#Fullstack', '#…', 'RT', '@PyImageSearch:', 'Big', 'news', 'today!🚀💥', '-', \"I'm\", 'writing', 'a', 'brand', 'new', 'book', 'on', '#ComputerVision', 'with', 'the', '@Raspberry_Pi!', '-', '40+', 'chapters', 'planned', 'on', 'CV…', '3/19先行販売：ISBN978-4-297-10508-2', '技術評論社', '『RとPythonで学ぶ[実践的]データサイエンス&amp;機械学習』', '有賀友紀、大橋俊介', '著', '10冊入荷', 'https://t.co/SW8BElrkZR', 'RT', '@ProgrammerBooks:', 'Spark', 'in', 'Action', ':', 'https://t.co/FL9cYlI8tS', '#python', '#javascript', '#angular', '#reactjs', '#vuejs', '#perl', '#ruby', '#Csharp', '#Java', '#linu…', '@Excocet', '@Sowokeitswoke', '@IlhanMN', '@realDonaldTrump', 'You', 'are', 'like', 'an', 'episode', 'of', 'the', 'Money', 'Python', 'Argument', 'Clinic,', 'but', 'more', 'silly.', '@platzi', 'Financial', 'data', 'science', 'with', 'python', 'and', 'R', 'RT', '@PyImageSearch:', 'Big', 'news', 'today!🚀💥', '-', \"I'm\", 'writing', 'a', 'brand', 'new', 'book', 'on', '#ComputerVision', 'with', 'the', '@Raspberry_Pi!', '-', '40+', 'chapters', 'planned', 'on', 'CV…', 'why', 'companies', 'get', 'more', 'money', 'for', 'using', '#deeplearning', 'or', '#machinelearning', ',', 'and', 'why', 'everyone', 'is', 'an', 'expert?', 'Would', 'yo…', 'https://t.co/nKKrwirYlN', 'RT', '@rbukralia:', 'Putting', 'ML', 'in', 'production', 'I:', 'using', 'Apache', 'Kafka', 'in', 'Python.', 'https://t.co/P5nWy9zLsC', '#AI', '#ML', '#MachineLearning', '#DeepLearning', '#Da…', 'RT', '@ZonePhysics:', 'King', 'cobra', 'bites', 'python.', 'Python', 'constricts', 'cobra.', 'Cobra', 'dies', 'of', 'constriction.', 'Python', 'dies', 'from', 'venom.', '100%', 'holy', 'shit..', 'htt…', 'RT', '@frlazzeri:', 'What’s', 'New', 'with', 'the', '#AI', 'and', '#MachineLearning', 'Tools', 'for', '#Python?', 'https://t.co/yzP1o16I0W', 'https://t.co/ovVMUkBR5z', 'RT', '@rakko8513:', 'LinkedIn', 'で', '日常会話レベルで', 'R、母国語で', 'Python', 'を使うとんでもない人材を発見した。', 'https://t.co/zYcE2vuNuT', 'RT', '@byt3bl33d3r:', 'I', 'made', 'a', 'bunch', 'of', 'Ansible', 'playbooks', 'the', 'other', 'day', 'in', 'order', 'to', 'streamline/automate', 'my', 'workflow', 'during', 'engagements.', 'Specific…', 'RT', '@rbukralia:', 'Putting', 'ML', 'in', 'production', 'I:', 'using', 'Apache', 'Kafka', 'in', 'Python.', 'https://t.co/P5nWy9zLsC', '#AI', '#ML', '#MachineLearning', '#DeepLearning', '#Da…', 'RT', '@JODYHiGHROLLER:', '\\U0001f9e0\\U0001f9e0\\U0001f9e0\\U0001f9e0\\U0001f9e0\\U0001f9e0\\U0001f9e0', 'RiFF', 'RAFF', '\\U0001f9e0\\U0001f9e0\\U0001f9e0\\U0001f9e0\\U0001f9e0\\U0001f9e0\\U0001f9e0', 'PiNK', 'PYTHōN', '\\U0001f9e0\\U0001f9e0\\U0001f9e0\\U0001f9e0\\U0001f9e0\\U0001f9e0\\U0001f9e0\\U0001f9e0', 'APRiL', '12', '\\U0001f9e0\\U0001f9e0\\U0001f9e0\\U0001f9e0\\U0001f9e0\\U0001f9e0\\U0001f9e0\\U0001f9e0', 'ALBUM', 'PRE-SALE', 'LiNK:', 'https://t.co/FbNQZK44Aj', 'h…', 'RT', '@DJRGit:', 'Day', '5:', '#100DaysOfCode', 'progress:', 'today', 'I', 'worked', 'on', 'Collections', 'module', '/', 'D2', '(practice)', 'https://t.co/uNiDO4pCv9', '#Python', '@pybites', '@…', 'RT', '@rakko8513:', 'LinkedIn', 'で', '日常会話レベルで', 'R、母国語で', 'Python', 'を使うとんでもない人材を発見した。', 'https://t.co/zYcE2vuNuT', 'RT', '@BBCkatyaadler:', 'EU', 'has', 'almost', 'given', 'up', 'trying', 'to', 'understand', 'what’s', 'going', 'on', 'in', 'UK.', 'Dutch', 'PM', 'Rutte', 'compares', 'Theresa', 'May', 'to', 'Monty', 'Python', 'k…', 'RT', '@rakko8513:', 'LinkedIn', 'で', '日常会話レベルで', 'R、母国語で', 'Python', 'を使うとんでもない人材を発見した。', 'https://t.co/zYcE2vuNuT', 'RT', '@DJRGit:', 'Day', '5:', '#100DaysOfCode', 'progress:', 'today', 'I', 'worked', 'on', 'Collections', 'module', '/', 'D2', '(practice)', 'https://t.co/uNiDO4pCv9', '#Python', '@pybites', '@…', 'RT', '@khairulnazran:', 'A', 'few', 'additional', 'details:', '&gt;', 'main', 'role', 'is', 'to', 'drive', 'and', 'champion', 'the', 'new', 'data', 'science', 'analytics', 'initiative', 'in', 'the', 'bank', '&gt;', 'T…', 'Compiling', 'Python', 'Class', 'Objects', 'into', 'a', 'List', 'https://t.co/hYJZc6qelX', 'https://t.co/95WgTDG39J', 'RT', '@encthenet:', '@brouhaha', '@mattblaze', 'Yep.', \"Haven't\", 'had', 'any', 'issues', 'getting', 'it', 'to', 'run', 'and', 'work', 'on', 'FreeBSD.', 'Even', 'firmware', 'updates', 'work', 'from', 'Fr…', 'RT', '@pydanny:', 'Monday', 'morning', 'update:', 'My', 'company', 'is', 'hiring', 'Python', 'people', 'for', 'a', 'range', 'of', 'positions', 'from', 'web', 'to', 'devops', 'to', 'data', 'science!', 'https…', 'RT', '@rakko8513:', 'LinkedIn', 'で', '日常会話レベルで', 'R、母国語で', 'Python', 'を使うとんでもない人材を発見した。', 'https://t.co/zYcE2vuNuT', 'RT', '@rakko8513:', 'LinkedIn', 'で', '日常会話レベルで', 'R、母国語で', 'Python', 'を使うとんでもない人材を発見した。', 'https://t.co/zYcE2vuNuT', 'RT', '@JODYHiGHROLLER:', '\\U0001f9e0\\U0001f9e0\\U0001f9e0\\U0001f9e0\\U0001f9e0\\U0001f9e0\\U0001f9e0', 'RiFF', 'RAFF', '\\U0001f9e0\\U0001f9e0\\U0001f9e0\\U0001f9e0\\U0001f9e0\\U0001f9e0\\U0001f9e0', 'PiNK', 'PYTHōN', '\\U0001f9e0\\U0001f9e0\\U0001f9e0\\U0001f9e0\\U0001f9e0\\U0001f9e0\\U0001f9e0\\U0001f9e0', 'APRiL', '12', '\\U0001f9e0\\U0001f9e0\\U0001f9e0\\U0001f9e0\\U0001f9e0\\U0001f9e0\\U0001f9e0\\U0001f9e0', 'ALBUM', 'PRE-SALE', 'LiNK:', 'https://t.co/FbNQZK44Aj', 'h…', '@TimWilsonMP', 'Pure,', 'unadulterated', 'greed.', 'As', 'if', 'paying', 'no', 'tax', 'on', 'income', 'isn’t', 'enough', '-', 'they', 'want', 'to', 'be', 'thrown', 'even', 'mo…', 'https://t.co/nRZgZPcwAs', '@brouhaha', '@mattblaze', 'Yep.', \"Haven't\", 'had', 'any', 'issues', 'getting', 'it', 'to', 'run', 'and', 'work', 'on', 'FreeBSD.', 'Even', 'firmware', 'updates', 'wor…', 'https://t.co/wogPQ78T1G', '#myfirstTweet', 'Hello', 'everyone', 'my', 'name', 'is', 'Chai', 'the', 'ssssnek.', 'I', 'am', 'an', 'adorable', 'ball', 'python', '@Gakeppuni', 'やはりPythonですね！', '入門書を買って半分くらい読みはしたのですが、特に作りたいものがなかったため学習が止まってしまいました…', '目標を近いところに設定して少しずつステップアップしながら学びたいと思います', '@RGBoys_Art', 'Python:', '*leaves', 'the', 'ER', 'room*', 'Forsyth:', 'Python,', 'having', 'another', 'heart', 'attack:', 'n-...', 'nice...', 'RT', '@joe_jag:', 'If', 'anyone', 'is', 'looking', 'for', 'starter', 'projects', 'to', 'play', 'around', 'with', 'TCR', 'then', \"I've\", 'made', 'some', 'for', 'node,', 'ruby,', 'python,', 'java', 'and', 'csharp…', 'RT', '@Radarinfo01:', 'Online', 'Courses', '-', 'React', 'and', 'Flux', 'Web', 'Development', 'for', 'Beginners', '-&gt;', 'https://t.co/haIGZFL06Y', '#100DaysOfCode', '#development', '#Do…', 'RT', '@ITjob8:', 'Ingénieur', 'Data/', 'Architecte', 'Data', '–', 'Combattre', 'le', 'chômage', 'de', 'masse', 'grâce', 'au', 'Big', 'Data', '–', 'Paris', '12ème', '75', 'PYTHON', '45/55K€.', 'contact', 'xxp…', 'RT', '@rakko8513:', 'LinkedIn', 'で', '日常会話レベルで', 'R、母国語で', 'Python', 'を使うとんでもない人材を発見した。', 'https://t.co/zYcE2vuNuT', 'RT', '@DJRGit:', 'Day', '5:', '#100DaysOfCode', 'progress:', 'today', 'I', 'worked', 'on', 'Collections', 'module', '/', 'D2', '(practice)', 'https://t.co/uNiDO4pCv9', '#Python', '@pybites', '@…', 'RT', '@rakko8513:', 'LinkedIn', 'で', '日常会話レベルで', 'R、母国語で', 'Python', 'を使うとんでもない人材を発見した。', 'https://t.co/zYcE2vuNuT', 'RT', '@newbeverly:', 'Monty', \"Python's\", 'THE', 'MEANING', 'OF', 'LIFE', '(1983)', 'plays', 'this', 'Friday', '&amp;', 'Saturday,', 'March', '22nd', '&amp;', '23rd.', 'https://t.co/TAtH4WEyKj', '4問合格。気分転換を兼ねて', '&gt;Runtime:', '156', 'ms,', 'faster', 'than', '35.16%', '&gt;Memory', 'Usage:', '11.4', 'MB,', 'less', 'than', '5.13%', 'of', 'Python', 'online', 'submi…', 'https://t.co/sEzFYJYZ3F', 'RT', '@DJRGit:', 'Day', '5:', '#100DaysOfCode', 'progress:', 'today', 'I', 'worked', 'on', 'Collections', 'module', '/', 'D2', '(practice)', 'https://t.co/uNiDO4pCv9', '#Python', '@pybites', '@…', 'Day', '5:', '#100DaysOfCode', 'progress:', 'today', 'I', 'worked', 'on', 'Collections', 'module', '/', 'D2', '(practice)', 'https://t.co/uNiDO4pCv9', '#Python', '@pybites', '@talkpython', 'RT', '@Aquilaniie:', 'มีเจ้านึงอยากได้', 'BA', 'โดยมีข้อแม้ว่า', '-', 'เขียน', 'business', 'flow', 'และ', 'swim', 'lane', '-', 'ออกแบบ', 'mockup', '-', 'ออกแบบ', 'UX/Ui', '-', 'ออกแบบ', 'Test', 'case', '-…', 'Get', 'you', 'a', 'boi', 'who', 'quoted', 'monty', 'python', 'back', 'at', 'you.', 'Blessed.', 'Automated', 'Machine', 'Learning', 'Hyperparameter', 'Tuning', 'in', 'Python', 'https://t.co/1TQP9TQewD', 'so', 'another', 'dev', 'environment', 'to', 'the', 'stack,', 'sigh.', 'Python', 'which', 'is', 'for', 'skl,', 'JS', 'which', \"I'm\", 'tryna', 'learn', 'and', 'Android', 'Dev', '-', 'my', 'first', 'love.', 'Ingénieur', 'Data/', 'Architecte', 'Data', '–', 'Combattre', 'le', 'chômage', 'de', 'masse', 'grâce', 'au', 'Big', 'Data', '–', 'Paris', '12ème', '75', 'PYTHON', '45/55K€.…', 'https://t.co/8QV2ZTNYvV', '「爱可可-爱生活发自', 'https://t.co/58bVXKOJOD」【Dragonfly：可扩展贝叶斯优化库(Python)】’Dragonfly', '-', 'An', 'open', 'source', 'python', 'library', 'for', 'scal…', 'https://t.co/8YDhOvgoz6', 'RT', '@JODYHiGHROLLER:', '\\U0001f9e0\\U0001f9e0\\U0001f9e0\\U0001f9e0\\U0001f9e0\\U0001f9e0\\U0001f9e0', 'RiFF', 'RAFF', '\\U0001f9e0\\U0001f9e0\\U0001f9e0\\U0001f9e0\\U0001f9e0\\U0001f9e0\\U0001f9e0', 'PiNK', 'PYTHōN', '\\U0001f9e0\\U0001f9e0\\U0001f9e0\\U0001f9e0\\U0001f9e0\\U0001f9e0\\U0001f9e0\\U0001f9e0', 'APRiL', '12', '\\U0001f9e0\\U0001f9e0\\U0001f9e0\\U0001f9e0\\U0001f9e0\\U0001f9e0\\U0001f9e0\\U0001f9e0', 'ALBUM', 'PRE-SALE', 'LiNK:', 'https://t.co/FbNQZK44Aj', 'h…', 'RT', '@binitamshah:', 'Python', 'for', 'Reverse', 'Engineering', '(Part', '1', '-', 'ELF', 'Binaries', ')', ':', 'https://t.co/fNISlWYfO5', 'cc', '@icyphox', 'RT', '@ZonePhysics:', 'King', 'cobra', 'bites', 'python.', 'Python', 'constricts', 'cobra.', 'Cobra', 'dies', 'of', 'constriction.', 'Python', 'dies', 'from', 'venom.', '100%', 'holy', 'shit..', 'htt…', '@RGBoys_Art', 'Doctor:', 'SIR', 'THIS', 'IS', 'THE', '68TH', 'TIME', 'THIS', 'WEEK', \"YOU'VE\", 'BEEN', 'IN', 'HERE!', 'YOU', 'NEED', 'TO', 'DIVORCE', 'HIM', 'BEFORE', 'YOU', 'DIE…', 'https://t.co/TYxN81djBX', 'RT', '@lewis_ngunyi:', 'You', 'cycle', 'with', 'humans', 'at', 'Karura.', 'Literally', 'the', 'most', 'dangerous', 'and', 'harmful', 'animal', 'of', 'all', 'time.', \"You're\", 'already', 'in', 'an', 'extrem…', 'Pythonのデコレータ、改めて調べると面白い動きしてるな。', 'これは調べてからブログにしよう。', 'RT', '@ZonePhysics:', 'King', 'cobra', 'bites', 'python.', 'Python', 'constricts', 'cobra.', 'Cobra', 'dies', 'of', 'constriction.', 'Python', 'dies', 'from', 'venom.', '100%', 'holy', 'shit..', 'htt…', 'RT', '@SpirosMargaris:', 'Artificial', '#NeuralNetworks', 'Optimization', 'using', '#GeneticAlgorithm', 'with', '#Python', 'https://t.co/0xXsw0n5ZC', '#fintech', '@kdnu…', 'RT', '@391F:', 'موقع', 'w3school', 'مهم', 'جدا', 'لاي', 'شخص', 'يريد', 'تعلم', 'برمجة', 'لغة', 'معينة', '،', 'المهم', 'لديهم', 'كويزات', 'بسيطه', 'بعد', 'ماتتعلم', 'اللغه', 'تختبر', 'نفسك', 'تشوف', 'هل', 'انت', 'فاهم…', '@DCfanforever101', '@Caramelicedtea', 'It', 'was', 'a', 'post', 'about', 'a', 'python', 'and', 'king', 'cobra', 'killing', 'each', 'other--she', 'posted', 'it', 'some…', 'https://t.co/FnlVlUVrJe', 'RT', '@rakko8513:', 'LinkedIn', 'で', '日常会話レベルで', 'R、母国語で', 'Python', 'を使うとんでもない人材を発見した。', 'https://t.co/zYcE2vuNuT', 'RT', '@brandondamos:', 'Tuning', 'Hyperparameters', 'without', 'Grad', 'Students:', 'Scalable', 'and', 'Robust', 'Bayesian', 'Optimisation', 'with', 'Dragonfly', 'K.', 'Kandasamy', 'et', 'al…', 'RT', '@cmuratori:', 'On', '@handmade_hero', 'I', 'am', 'often', 'asked', 'what', 'I', 'think', 'about', 'languages', 'like', 'Python,', 'Go,', 'Rust,', 'etc.,', 'so', 'on', \"today's\", 'stream', 'I', 'took', 'a', 'd…', 'https://t.co/MussCxGtxF', '-', '@planetpython', '@pokefaize', 'OH', 'BIG', 'SAME??', 'Python', 'is', 'so', 'valid', '😔🤙💚💙', 'RT', '@Radarinfo01:', 'Online', 'Courses', '-', 'React', 'and', 'Flux', 'Web', 'Development', 'for', 'Beginners', '-&gt;', 'https://t.co/haIGZFL06Y', '#100DaysOfCode', '#development', '#Do…', 'RT', '@ATavgen:', '10', 'free', 'Python', 'books', 'https://t.co/Z8Fva7egs8', '10', 'Python', 'image', 'manipulation', 'tools', 'https://t.co/odRkikxhUl', 'Here', 'is', 'an', 'article', 'that', 'I', 'wrote', 'on', '10', '#Python', 'image', 'manipulation', 'tools.', 'Try', 'them', 'out', 'to', 'get', 'to', 'know', 'more', 'about', 'them!', 'https://t.co/8KN7q4219L', 'RT', '@KleberVSMonte:', '\"No', 'comunicado', 'em', 'que', 'anunciou', 'a', 'saída', 'da', 'irmã,', 'Luiz', 'Frias', 'disse', 'que', 'a', 'decisão', 'foi', 'tomada', 'pela', 'maioria', 'dos', 'acionistas.', 'O…', '@mperezwritesirl', '[Monty', 'Python', 'voice]', 'can', 'we', 'have', 'your', 'uterus', '#DevOps', 'Engineer:', 'Contract', 'to', '30', 'June', '2019', 'with', 'possible', 'extension', 'for', 'a', 'DevOps', 'Engineer', 'experienced', 'in', 'PowerShell,…', 'https://t.co/PRBlIVSvGi', 'RT', '@Radarinfo01:', 'Online', 'Courses', '-', 'React', 'and', 'Flux', 'Web', 'Development', 'for', 'Beginners', '-&gt;', 'https://t.co/haIGZFL06Y', '#100DaysOfCode', '#development', '#Do…', 'RT', '@harmashcom:', 'لمتابعي', 'دروس', '#بايثون', '🐍', 'تم', 'إنهاء', 'الدرس', 'الأخير', 'في', 'الدورة', 'و', 'فيه', 'شرحنا', 'ماذا', 'يجب', 'أن', 'تتعلموا', 'الآن', 'بالإضافة', 'إلى', 'المصادر', 'المجانية', 'ا…', 'RT', '@appmarkelabo:', '落書きをリアル画像に変換できる、AIペイントツール「GauGAN」', '線を引くだけで滝を生みだしたり、色を塗るだけで雪景色に変えられる', '建築家やゲーム開発者やデザイナー、誰でも仮想世界を描ける時代に', '百万枚の画像を学習させて開発(デモ版の…', '\"The', 'Rev.', 'Darryl', 'Gray', 'said', 'he', 'found', 'a', 'box', 'inside', 'his', 'car.', 'When', 'the', 'bomb', 'squad', 'arrived,', 'no', 'explosives', 'were', 'found', 'but…', 'https://t.co/aN7kFmRFVB', '@swkasica', 'C,', 'after', 'all', 'pirate', 'ships', 'sail', 'on', 'the', '7', 'Cs.', 'p.s.', 'was', 'Python', 'really', 'named', 'after', 'Monty', 'Python?', 'RT', '@yams_budget:', '@h_kafka', '@kei31', 'はやとさん、お教えしましょうか♬', '小学校2年生の娘がプログラミング', 'したいと言ったので、教えてまして', '少しずつ出来るようになってます。', '画面共有して同時通話するツールも', 'あるし', 'Pythonならたぶん、本を…', 'RT', '@car_watch:', '【GTC', '2019】トヨタとNVIDIA、自動運転車開発で協業。トヨタが自動運転車開発から製品化までNVIDIA…', 'https://t.co/3BPKq093Kc', '#nvidia', '#toyota', '#TRI', '#TRIAD', '#自動運転', 'https://…', 'RT', '@PaulDoroshenko:', 'Apt.', 'Dutch', 'PM', 'likens', 'May’s', '#Brexit', 'tenacity', 'to', 'Monty', 'Python’s', 'black', 'knight', '–', 'National', 'Post', 'https://t.co/vMGev9YFlf', 'RT', '@ZonePhysics:', 'King', 'cobra', 'bites', 'python.', 'Python', 'constricts', 'cobra.', 'Cobra', 'dies', 'of', 'constriction.', 'Python', 'dies', 'from', 'venom.', '100%', 'holy', 'shit..', 'htt…', 'RT', '@gisuser:', 'Kick-start', 'your', 'Python', 'projects', 'with', 'these', 'hot', 'recipes!', 'https://t.co/EZh5Fc9WiY', 'RT', '@MuhmadNajjar:', '#PYTHON_QUIZ', 'https://t.co/fcruMlCYUw', 'さらばだ、戦友よ', 'RT', '@ulysseas:', 'Pinch', 'me,', \"can't\", 'believe', 'this', 'event', 'is', 'happening,', 'creators', 'of', 'Python,', 'Perl,', 'Java,', 'C#,', 'TypeScript', 'on', 'one', 'stage', 'having', 'a', 'substan…', 'RT', '@ZonePhysics:', 'King', 'cobra', 'bites', 'python.', 'Python', 'constricts', 'cobra.', 'Cobra', 'dies', 'of', 'constriction.', 'Python', 'dies', 'from', 'venom.', '100%', 'holy', 'shit..', 'htt…', 'RT', '@Aquilaniie:', 'มีเจ้านึงอยากได้', 'BA', 'โดยมีข้อแม้ว่า', '-', 'เขียน', 'business', 'flow', 'และ', 'swim', 'lane', '-', 'ออกแบบ', 'mockup', '-', 'ออกแบบ', 'UX/Ui', '-', 'ออกแบบ', 'Test', 'case', '-…', 'RT', '@yams_budget:', '#星影秘書室', 'からご提案させていただいて', '2019年1月末より、ツイッター分析のプロ、', 'けいすけさん', '@kei31', 'の秘書をさせて', 'いただいています。😊', 'お仕事は主にツイッターやWebから', '分析データを収集すること。', 'Pythonでプログラ…', '@AllscriptsADP', 'Hey', 'AllscriptsADP,', \"I'm\", 'trying', 'to', 'hook', 'up', 'with', 'Touchworks', '17.1', 'for', 'a', 'class', 'project', 'in', 'Python.', \"I've\", 'cr…', 'https://t.co/63990NioWb', 'Apt.', 'Dutch', 'PM', 'likens', 'May’s', '#Brexit', 'tenacity', 'to', 'Monty', 'Python’s', 'black', 'knight', '–', 'National', 'Post', 'https://t.co/vMGev9YFlf', '@Demi_M0leskine', 'Ah', 'dommage', 'on', 'peut', 'pas', 'RT', 'mais', 'ça', 'me', 'rappelle', 'un', 'sketch', 'des', 'monty', 'python', '!', '@python__357', 'ぱいそんさんも仙台！？', 'RT', '@ZonePhysics:', 'King', 'cobra', 'bites', 'python.', 'Python', 'constricts', 'cobra.', 'Cobra', 'dies', 'of', 'constriction.', 'Python', 'dies', 'from', 'venom.', '100%', 'holy', 'shit..', 'htt…', 'RT', '@MuhmadNajjar:', '#PYTHON_QUIZ', 'https://t.co/fcruMlCYUw', 'RT', '@binitamshah:', 'Python', 'for', 'Reverse', 'Engineering', '(Part', '1', '-', 'ELF', 'Binaries', ')', ':', 'https://t.co/fNISlWYfO5', 'cc', '@icyphox', 'Python', 'is', 'the', 'best', 'programming', 'language', '#PYTHON_QUIZ', 'https://t.co/fcruMlCYUw', '@python_octopus', 'ホンマに困った人がおったら御免やったけど、皆でジワろうぜー', '担当者さんも笑いながら直してると信じてる', 'RT', '@ZonePhysics:', 'King', 'cobra', 'bites', 'python.', 'Python', 'constricts', 'cobra.', 'Cobra', 'dies', 'of', 'constriction.', 'Python', 'dies', 'from', 'venom.', '100%', 'holy', 'shit..', 'htt…', 'RT', '@habr_com:', 'Знакомство', 'с', 'тестированием', 'в', 'Python.', 'Часть', 'третья.', 'Уже', '20', 'марта', 'стартует', 'первое', 'занятие', 'в', 'новом', 'потоке', 'по', 'курсу', '«Разработчик…', 'python', 'の勉強してて、', 'docstring', 'を', 'NumPy', 'か', 'Google', 'どっちのスタイルがいいかなーって比較してみたら、断然', 'Google', 'だな', '😂', '@kinopios_megumi', 'CUI叩くタイプのpc使いだしpython使いで最近はc#とblender…(･∀･)ﾆﾔﾆﾔ', '(しかしその一面を一切出さない不敵な塾講師)', 'マジでISでJAVAやる必要ある？？w', 'この学科普通にPythonで良いと思うけどwwwwwwwwww', 'RT', '@VisualStudio:', 'The', 'Visual', 'Studio', '2019', 'Launch', 'Event', 'is', 'Coming', 'April', '2nd,', '9:00am', 'PT.', 'Whether', \"you're\", 'a', 'C#,', 'C++,', 'or', 'Python', 'dev', '&amp;', 'target', 'the…', 'See', 'the', 'Power', 'of', 'Python!', 'Learn', 'python', 'at', 'https://t.co/IWocPJNFjU', '#code', 'update:', 'i', 'tried', 'to', 'add', 'a', 'Snakefile', 'but,', 'thank', 'god,', 'some', 'dependency', 'has', 'a', 'busted', 'build', 'from', 'pypi', 'on', 'python', '3.7', 'so', 'the', 'temptation', 'passed', 'Python側で何をしてるのかがよくわからなくてあれ', 'Enchi', 'Desert', 'Ghost', 'Male', 'Ball', 'Python', 'by', 'Hingles', 'Herps,', '$850', '#pythons', '#herps', '#reptiles', '#morphs', '#pets', '#morph', '#pet…', 'https://t.co/qSu3zCNasi', 'RT', '@pyconindia:', 'Sponsorship', 'for', 'PyCon', 'India', '2019', 'is', 'open!', 'Get', 'the', 'prospectus', 'from', 'https://t.co/06ieJVPXk3', '#Python', '#PyConIndia2019', '@raikiasec', 'Only', 'with', 'Linux', 'stuff', '(Python).', 'I', 'believe', 'it', 'can', 'only', 'compile', 'Mono', 'or', 'C#', 'Core,', 'so', 'it', 'may', 'not', 'work', 'with', 'f…', 'https://t.co/LG7SRwP9vy', 'Getting', 'full', 'matches', 'of', 'newline', 'and', 'tab', 'groups', 'with', 'regex', 'in', 'python', 'https://t.co/Dlp57nJ7rm', 'https://t.co/sxc6tePi4p', 'RT', '@xarray_dev:', 'Xarray', 'v0.12', 'is', 'out.', 'Highlights', 'include:', '-', 'dropped', 'supported', 'for', 'Python', '2', '-', 'new', 'coarsen()', 'and', 'integrate()', 'methods', '-', 'nearly…', 'RT', '@ZonePhysics:', 'King', 'cobra', 'bites', 'python.', 'Python', 'constricts', 'cobra.', 'Cobra', 'dies', 'of', 'constriction.', 'Python', 'dies', 'from', 'venom.', '100%', 'holy', 'shit..', 'htt…', 'RT', '@ZonePhysics:', 'King', 'cobra', 'bites', 'python.', 'Python', 'constricts', 'cobra.', 'Cobra', 'dies', 'of', 'constriction.', 'Python', 'dies', 'from', 'venom.', '100%', 'holy', 'shit..', 'htt…', 'Silverlight', 'Recipes:', 'A', 'Problem-solution', 'Approach', \"(expert's\", 'Voice', 'In', 'Silverlight)', 'https://t.co/hKXkm6K493', '#software', '#development', '#python', 'ぼちぼちやってる', 'てか後期の確率論の課題でPythonじゃなくてJAVA使った僕サイコパスやろ', 'こっちが絶対楽や', 'https://t.co/jQGx13FyjP', '@ReaganBattalion', '@BlissTabitha', '@NicolasMaduro', 'Is', 'this', 'a', 'Monty', 'Python', 'sketch?', 'Where', 'is', 'John', 'Cleese?', '@kazuya_tateishi', 'and', 'https://t.co/JsAeuCZyfP', 'RT', '@rggoobi:', 'The', 'story', 'of', 'Rwanda', 'vs', 'Uganda:', 'King', 'cobra', 'bites', 'python.', 'Python', 'constricts', 'cobra.', 'Cobra', 'dies', 'of', 'constriction.', 'Python', 'dies', 'from…', 'RT', '@xarray_dev:', 'Xarray', 'v0.12', 'is', 'out.', 'Highlights', 'include:', '-', 'dropped', 'supported', 'for', 'Python', '2', '-', 'new', 'coarsen()', 'and', 'integrate()', 'methods', '-', 'nearly…', '#Spectrum', 'My', '#InternetSpeed', ':', 'Ping:', '45.923', 'ms', 'Download:', '182.43', 'Mbit/s', 'Upload:', '11.38', 'Mbit/s', '#automagic', '#python', '#corporateaccountability', 'Python開発環境メモ（2019）', '-', 'ぽよメモ', 'https://t.co/i8qAJSJzMY', 'pythonってforで無限ループする方法あるんかなぁ', 'BOT', 'Twitter', 'e', 'instagram', 'python', 'GRATIS', 'https://t.co/0Bw37Gm3fv', 'https://t.co/0Bw37Gm3fv', 'RT', '@PythonHub:', 'Someone', 'made', 'a', 'GUI', 'designer', 'for', 'tkinter!', 'Thank', 'you', 'https://t.co/hBvIRT5skh', 'ラズベリーパイより、3月19日14時0分の空模様と気温', '25.437℃', '#raspberrypi', '#python', '#fswebcam', '#photo', '#北海道', '#オホーツク', '#イマソラ', 'https://t.co/HX7QL8fgqL', 'RT', '@higaprog8:', 'Day:1', '今日やったこと', '・Swift(Ⅰ~Ⅲ)(Progate)', '今からやる予定', '・Python', '#100DaysOfCode', '【Auto', 'Post】No', 'trade', '#phi_shinonome', '#FX', '#python', '【2019/03/19', '05:00:04】', 'RT', '@LanaBintadiaz:', 'Udemy', 'Course', 'JavaEE', 'Link', ':', 'https://t.co/zkJ6aWTOWm', '#JavaEE', '#Java', '#JavaLand4Kids', '#JS100', '#jspocycle', '#css3', '#html5', '#webdeve…', 'RT', '@xarray_dev:', 'Xarray', 'v0.12', 'is', 'out.', 'Highlights', 'include:', '-', 'dropped', 'supported', 'for', 'Python', '2', '-', 'new', 'coarsen()', 'and', 'integrate()', 'methods', '-', 'nearly…', 'Only', '9', 'months', '12', 'days', '19', 'hours', 'left', 'until', 'Python', '2', 'retires', 'RT', '@ZonePhysics:', 'King', 'cobra', 'bites', 'python.', 'Python', 'constricts', 'cobra.', 'Cobra', 'dies', 'of', 'constriction.', 'Python', 'dies', 'from', 'venom.', '100%', 'holy', 'shit..', 'htt…', 'I', \"don't\", 'really', 'wana', 'paint', 'today,', 'kuz', 'im', 'just', 'too', 'excited', 'about', 'my', 'new', 'Python', 'in', '#EliteDangerous', ',', 'come', 'check', 'it', 'out…', 'https://t.co/0Kqw0Pi6SH', 'RT', '@JODYHiGHROLLER:', '\\U0001f9e0\\U0001f9e0\\U0001f9e0\\U0001f9e0\\U0001f9e0\\U0001f9e0\\U0001f9e0', 'RiFF', 'RAFF', '\\U0001f9e0\\U0001f9e0\\U0001f9e0\\U0001f9e0\\U0001f9e0\\U0001f9e0\\U0001f9e0', 'PiNK', 'PYTHōN', '\\U0001f9e0\\U0001f9e0\\U0001f9e0\\U0001f9e0\\U0001f9e0\\U0001f9e0\\U0001f9e0\\U0001f9e0', 'APRiL', '12', '\\U0001f9e0\\U0001f9e0\\U0001f9e0\\U0001f9e0\\U0001f9e0\\U0001f9e0\\U0001f9e0\\U0001f9e0', 'ALBUM', 'PRE-SALE', 'LiNK:', 'https://t.co/FbNQZK44Aj', 'h…', 'よくわかっていないこと:', '-', 'Pythonから渡すピクセルのストリームはそのままAXISにしてくれるのか', '-', 'クロックはどうなるのか', 'RT', '@Deep_In_Depth:', 'Essentials', 'of', 'Machine', 'Learning', 'Algorithms', '(with', 'Python', 'and', 'R', 'Codes)', 'https://t.co/077S48Oaed', '#DeepLearning', '#MachineLearni…', 'why', 'did', 'python', 'yeet', 'the', 'brackets', '急に後ろの方から難しくなり過ぎやないみんなのPython', 'RT', '@linuxjournal:', 'Tech', 'Tip:', 'Really', 'Simple', 'HTTP', 'Server', 'with', 'Python', 'If', 'you', 'need', 'a', 'quick', 'web', 'server', 'running', 'and', 'you', \"don't\", 'want', 'to', 'mess', 'with', 'se…', 'RT', '@izzywestbury:', 'Dutch', 'PM', 'Mark', 'Rutte', 'on', '#WNLopZondag', '(NL’s', '@MarrShow).', '“Look,', 'I’ve', 'got', 'all', 'respect', 'for', 'Theresa', 'May.', 'She', 'occasionally', 'remi…', 'これ変にPython側のインタフェースに合わせようとせずに，そのまま作ったほうが良いのでは', 'RT', '@JODYHiGHROLLER:', '\\U0001f9e0\\U0001f9e0\\U0001f9e0\\U0001f9e0\\U0001f9e0\\U0001f9e0\\U0001f9e0', 'RiFF', 'RAFF', '\\U0001f9e0\\U0001f9e0\\U0001f9e0\\U0001f9e0\\U0001f9e0\\U0001f9e0\\U0001f9e0', 'PiNK', 'PYTHōN', '\\U0001f9e0\\U0001f9e0\\U0001f9e0\\U0001f9e0\\U0001f9e0\\U0001f9e0\\U0001f9e0\\U0001f9e0', 'APRiL', '12', '\\U0001f9e0\\U0001f9e0\\U0001f9e0\\U0001f9e0\\U0001f9e0\\U0001f9e0\\U0001f9e0\\U0001f9e0', 'ALBUM', 'PRE-SALE', 'LiNK:', 'https://t.co/FbNQZK44Aj', 'h…', 'RT', '@LanaBintadiaz:', 'Udemy', 'Course', 'JavaEE', 'Link', ':', 'https://t.co/zkJ6aWTOWm', '#JavaEE', '#Java', '#JavaLand4Kids', '#JS100', '#jspocycle', '#css3', '#html5', '#webdeve…', 'RT', '@JODYHiGHROLLER:', '\\U0001f9e0\\U0001f9e0\\U0001f9e0\\U0001f9e0\\U0001f9e0\\U0001f9e0\\U0001f9e0', 'RiFF', 'RAFF', '\\U0001f9e0\\U0001f9e0\\U0001f9e0\\U0001f9e0\\U0001f9e0\\U0001f9e0\\U0001f9e0', 'PiNK', 'PYTHōN', '\\U0001f9e0\\U0001f9e0\\U0001f9e0\\U0001f9e0\\U0001f9e0\\U0001f9e0\\U0001f9e0\\U0001f9e0', 'APRiL', '12', '\\U0001f9e0\\U0001f9e0\\U0001f9e0\\U0001f9e0\\U0001f9e0\\U0001f9e0\\U0001f9e0\\U0001f9e0', 'ALBUM', 'PRE-SALE', 'LiNK:', 'https://t.co/FbNQZK44Aj', 'h…', 'RT', '@PythonHub:', 'I', 'made', 'a', 'simple', 'tool', 'to', 'fight', 'computer', 'vision', 'syndrome.', 'https://t.co/3TjckBrImE', 'Eu', 'até', 'que', 'gostei', 'de', 'java,', 'tirando', 'o', 'fato', 'que', 'eu', 'tava', '100%', 'em', 'python,', 'mas', 'blz', 'RT', '@HackyHourUWA:', 'Hacky', 'Hour', 'is', 'on', 'today!', '3-4pm', 'in', 'the', 'Hackett', 'Cafe,', 'come', 'along', 'with', 'R/data', 'science/Python/bioinformatics/Pawsey', 'questions,…', '@CharlesPPierce', 'Monty', 'Python?', 'RT', '@Radarinfo01:', 'Online', 'Courses', '-', 'React', 'and', 'Flux', 'Web', 'Development', 'for', 'Beginners', '-&gt;', 'https://t.co/haIGZFL06Y', '#100DaysOfCode', '#development', '#Do…', 'RT', '@LanaBintadiaz:', 'Udemy', 'Course', 'JavaEE', 'Link', ':', 'https://t.co/zkJ6aWTOWm', '#JavaEE', '#Java', '#JavaLand4Kids', '#JS100', '#jspocycle', '#css3', '#html5', '#webdeve…', '@Ke_python', 'こちらこそありがとうございます😳', 'RT', '@LanaBintadiaz:', 'Udemy', 'Course', 'JavaEE', 'Link', ':', 'https://t.co/zkJ6aWTOWm', '#JavaEE', '#Java', '#JavaLand4Kids', '#JS100', '#jspocycle', '#css3', '#html5', '#webdeve…', 'RT', '@realpython:', 'Forecasting', 'in', 'Python', 'with', 'Prophet', 'https://t.co/rlvPtMY5uQ', 'Udemy', 'Course', 'JavaEE', 'Link', ':', 'https://t.co/zkJ6aWTOWm', '#JavaEE', '#Java', '#JavaLand4Kids', '#JS100', '#jspocycle', '#css3', '#html5…', 'https://t.co/C3BIukti7b', 'RT', '@PrinceAllan5:', 'The', 'Complete', '2019', 'Web', 'Development', 'Bootcamp', 'Be', 'a', 'a', '#fullstack', '#webdeveloper', 'in', '#HTML', '#CSS', '#javascript', '#NodeJS', '⭐4⭐.⭐7⭐', '4…', 'Indonesia', 'adalah', 'Tempat', 'ditemukannya', 'ular', 'terpanjang', 'di', 'dunia', 'yaitu,', 'Python', 'Reticulates', 'sepanjang', '10', 'meter', 'di', 'Sulawesi.', 'The', 'Complete', 'Course', 'on', 'Data', 'analysis', 'with', 'Pandas', ':', 'Python', '☞', 'https://t.co/2Mom8HwW46', '#python', '#programming', 'https://t.co/FAwZ4JBoo5', 'RT', '@jsadiq:', 'Dutch', 'PM', 'compares', 'Theresa', 'May', 'to', 'Monty', 'Python', 'limbless', 'knight', 'https://t.co/M41SLgN6QD', 'RT', '@python_devv:', 'machine', 'learning', 'for', 'beginners', '-', 'deep', 'dive', '☞', 'https://t.co/Ha4vFyLuRZ', '#python', '#programming', 'https://t.co/mieNEqm5Cl', 'RT', '@CoreyMSchafer:', 'How', 'to', 'Send', 'Emails', 'Using', 'Python', '-', 'Plain', 'Text,', 'Adding', 'Attachments,', 'HTML', 'Emails,', 'and', 'More...', 'https://t.co/QJ6UF3BOlG', '[NEW]-Full', 'Stack', 'developer', 'Python', 'GraphQL', 'Node.js', 'React', 'Express', 'Key', 'account', '-', 'Transport', 'TARIF', 'JOURNALIER', 'MOYEN', '400…', 'https://t.co/b0axqGuZJn', '[Job]', 'Engineer,', 'QA', '-', 'Python', 'developer', 'in', 'test', '|', 'Company:', 'Dolby', '|', 'Location:', 'Wroclaw', 'DO', 'Poland', '|', '#Wroclaw', '#Audio…', 'https://t.co/2rPTwtfdde', 'machine', 'learning', 'for', 'beginners', '-', 'deep', 'dive', '☞', 'https://t.co/YejywGxwyt', '#python', '#programming', 'https://t.co/BOFzLCm36K', 'RT', '@PrinceAllan5:', 'The', 'Complete', '2019', 'Web', 'Development', 'Bootcamp', 'Be', 'a', 'a', '#fullstack', '#webdeveloper', 'in', '#HTML', '#CSS', '#javascript', '#NodeJS', '⭐4⭐.⭐7⭐', '4…', 'machine', 'learning', 'for', 'beginners', '-', 'deep', 'dive', '☞', 'https://t.co/Ha4vFyLuRZ', '#python', '#programming', 'https://t.co/mieNEqm5Cl', 'RT', '@pythoninstitute:', 'Hey,', \"we've\", 'just', 'released', 'Programming', 'Essentials', 'in', 'Python', '-', 'free,', 'online,', 'self-study:', 'https://t.co/kaeRjmMfEL', '-', 'Sign', 'u…', 'RT', '@ZonePhysics:', 'King', 'cobra', 'bites', 'python.', 'Python', 'constricts', 'cobra.', 'Cobra', 'dies', 'of', 'constriction.', 'Python', 'dies', 'from', 'venom.', '100%', 'holy', 'shit..', 'htt…', 'RT', '@ZonePhysics:', 'King', 'cobra', 'bites', 'python.', 'Python', 'constricts', 'cobra.', 'Cobra', 'dies', 'of', 'constriction.', 'Python', 'dies', 'from', 'venom.', '100%', 'holy', 'shit..', 'htt…', 'موقع', 'w3school', 'مهم', 'جدا', 'لاي', 'شخص', 'يريد', 'تعلم', 'برمجة', 'لغة', 'معينة', '،', 'المهم', 'لديهم', 'كويزات', 'بسيطه', 'بعد', 'ماتتعلم', 'اللغه', 'تختبر', 'نفسك', 'تشو…', 'https://t.co/xOLpX8Z4zm', 'RT', '@ZonePhysics:', 'King', 'cobra', 'bites', 'python.', 'Python', 'constricts', 'cobra.', 'Cobra', 'dies', 'of', 'constriction.', 'Python', 'dies', 'from', 'venom.', '100%', 'holy', 'shit..', 'htt…', 'RT', '@ProgrammerBooks:', 'Java', 'Game', 'Development', 'with', 'LibGDX,', '2nd', 'Edition', ':', 'https://t.co/N4GYDoma69', '#python', '#javascript', '#angular', '#reactjs', '#vuejs…', 'RT', '@Radarinfo01:', 'Online', 'Courses', '-', 'React', 'and', 'Flux', 'Web', 'Development', 'for', 'Beginners', '-&gt;', 'https://t.co/haIGZFL06Y', '#100DaysOfCode', '#development', '#Do…', 'RT', '@Radarinfo01:', 'Online', 'Courses', '-', 'React', 'and', 'Flux', 'Web', 'Development', 'for', 'Beginners', '-&gt;', 'https://t.co/haIGZFL06Y', '#100DaysOfCode', '#development', '#Do…', 'RT', '@Radarinfo01:', 'Online', 'Courses', '-', 'React', 'and', 'Flux', 'Web', 'Development', 'for', 'Beginners', '-&gt;', 'https://t.co/haIGZFL06Y', '#100DaysOfCode', '#development', '#Do…', 'RT', '@ProgrammerBooks:', 'Java', 'Game', 'Development', 'with', 'LibGDX,', '2nd', 'Edition', ':', 'https://t.co/N4GYDoma69', '#python', '#javascript', '#angular', '#reactjs', '#vuejs…', 'RT', '@TilabsCo:', 'Register', 'now', '-', 'https://t.co/eUDaZp4CZa', '#fintech', '#php', '#python', '#pythondeveloper', '#pythonprogramming', '#phpdeveloper', '#javascriptde…', '続々とすすむ天文研究界隈の脱IDLと入python．太陽業界はどう動くのやら．', 'RT', '@robertswiecki:', 'In', 'addition', 'to', 'the', 'Sandboxed', 'API', '(https://t.co/QMd97JOiFI)', 'its', 'sandboxing', 'driver,', 'so-called', '\"Sandbox', '2\",', 'has', 'been', 'releas…', 'プログラミング言語は一つ学べば芋ずる式に学習が進む。', 'JAVAでもpythonでもPHPでもなんでもいいです。', '好きな言語をやってみよう。', '他に進む時は当てはめて考えればいい。https://t.co/0dnITRlz0Q', 'RT', '@PythonHub:', 'Someone', 'made', 'a', 'GUI', 'designer', 'for', 'tkinter!', 'Thank', 'you', 'https://t.co/hBvIRT5skh', 'RT', '@ZonePhysics:', 'King', 'cobra', 'bites', 'python.', 'Python', 'constricts', 'cobra.', 'Cobra', 'dies', 'of', 'constriction.', 'Python', 'dies', 'from', 'venom.', '100%', 'holy', 'shit..', 'htt…', '@Martinscky', '@JuneNyawira', 'Aki!', '😱😱...', 'afadhali', 'hiyo', 'python', 'ya', 'karura', 'VBAとRPAだいぶ出来るようになってきた\\U0001f973', 'プライベートに勉強時間まったく設けてないけどPythonかJavaかswiftの勉強しないとな。他の現場行きたいし', 'RT', '@PythonWeekly:', 'Optimize', 'Python', 'Application', 'Performance', 'Improve', 'and', 'troubleshoot', 'your', 'apps', 'with', 'end-to-end', 'request', 'tracing.', 'https://t.co/…', '#100DaysOfCode', '[Day', '95]', 'Python学習', '基本的な多次元リストの勉強終わり。ちょっとづつやっているけど長かった。', 'machine', 'learning', 'for', 'beginners', '-', 'deep', 'dive', '☞', 'https://t.co/Bs9TbxSxtM', '#python', '#programming', 'https://t.co/1sNF1LEu1v', 'ненавижу', 'переводы', 'книг', 'по', 'python,', 'ибо', 'Я', 'ВАМ', 'ЧЕ', 'ГОВОРЮ', 'ВЫ', 'АЛЛО', 'ВООБЩЕ', 'ЧЕ', 'ПЕРЕВОДИТЕ?!', 'https://t.co/1FYZXsL0MB', 'RT', '@SfumatoAMR:', 'さらば', 'IDL、こんにちは', 'Python。AMRの格子を', 'python', 'で描けるようになりました。コードの行数はIDLに比べてずいぶん少ない。', 'https://t.co/cdLBvOQxg2', '@fleurdeIia', 'Forsyth', 'and', 'Python?', 'Java', 'Game', 'Development', 'with', 'LibGDX,', '2nd', 'Edition', ':', 'https://t.co/N4GYDoma69', '#python', '#javascript', '#angular', '#reactjs…', 'https://t.co/GsbVcvl25D', 'machine', 'learning', 'for', 'beginners', '-', 'deep', 'dive', '☞', 'https://t.co/AuHxx43pRp', '#python', '#programming', 'https://t.co/3SYfcvUnxM', 'machine', 'learning', 'for', 'beginners', '-', 'deep', 'dive', '☞', 'https://t.co/0AQV40Ug4E', '#python', '#programming', 'https://t.co/m0QL6cS0zZ', '@EwaLTylkoPytam', 'najlepszy', 'był', 'jakiś', 'sztangista,', 'który', 'stwierdził,', 'ze', 'jest', 'kobietą,', 'wygrał', 'zawody', 'bo', 'miał', 'przewagę', 'n…', 'https://t.co/CleUL9N9QY', 'https://t.co/OoiYtF4Vkc', 'PyELFTools', 'https://t.co/Fb8YSx4FEz', 'Parsing', 'ELF', 'and', 'DWARF', 'in', 'Python', '-', 'Python', 'for', 'Reverse', 'Engineering', 'https://t.co/EPjNscF2F9', 'RT', '@Deep_In_Depth:', 'Getting', 'smart', 'about', 'artificial', 'intelligence', 'https://t.co/iGD6cwC4Rk', '#DeepLearning', '#MachineLearning', '#AI', '#DataScience', '#Neu…', 'RT', '@chenshouhua:', '「Python', '学習コース', 'Ⅴ」コースを修了しました！', 'https://t.co/tQCFwlRs9k', '#Progate', '#Python', '#プログラミング', '#programming', 'RT', '@GreaterSW:', 'Check', 'out', '\"i.c.stars', 'Tech', 'Talent', 'Panel:', 'The', 'Power', 'of', 'Python', '&amp;', 'Data', 'Analytics\"', 'https://t.co/wBY5D9ena4', '@Eventbrite', '@mindandha…', 'RT', '@DelhiLetspy:', 'Bringing', 'you', 'a', 'series', 'of', 'memes', 'every', 'morning.', 'Just', 'for', 'fun.6.0', '#DataScience', '#Analytics', '#MachineLearning', '#CloudComputing…', 'I', 'wish', 'I', 'could', 'get', 'licked', 'by', 'a', 'python', 'today', '#SetswanaToEnglishDirectTranslation', 'https://t.co/Z6hxZw5C7j', '【paizaラーニング】Flask入門編3:Pythonでデータベースの基本を理解しよう', '(全', '7', '回)を修了しました！', 'https://t.co/8r9jvwQC5E', '#paiza', 'RT', '@InspirenInfote4:', '\"Every', '#programmer', 'is', 'an', '#author!!!!\"', '#Software', '#technology', '#programming', '#code', '#company', '#business', '#Management', '#learni…', 'RT', '@byt3bl33d3r:', 'I', 'made', 'a', 'bunch', 'of', 'Ansible', 'playbooks', 'the', 'other', 'day', 'in', 'order', 'to', 'streamline/automate', 'my', 'workflow', 'during', 'engagements.', 'Specific…', 'RT', '@tayooye:', 'Personal', '\"5', 'to', 'midnight\"', 'stories.', '1.', 'Wrote', 'and', 'published', 'two', 'books.', '2.', 'Started', 'multiple', 'businesses.', '3.', 'Took', 'the', 'GRE/GMAT.', '4.…', 'RT', '@nikkei_software:', '本日の日経朝刊に『独学プログラマー', 'Python言語の基本から仕事のやり方まで』の広告が掲載されています。新年度・新学期に向けて、人気定番書で「Pythonプログラミング」をはじめてみませんか?!', 'https://t.co/cZQWNU…', '#Python', 'code', 'completion', 'gets', 'an', 'assist', 'from', '#MachineLearning', 'https://t.co/RLMARPCtPF', 'https://t.co/Oduy5oZ4c4', '-…', 'https://t.co/1aBiYuxCYU', 'RT', '@Aquilaniie:', 'มีเจ้านึงอยากได้', 'BA', 'โดยมีข้อแม้ว่า', '-', 'เขียน', 'business', 'flow', 'และ', 'swim', 'lane', '-', 'ออกแบบ', 'mockup', '-', 'ออกแบบ', 'UX/Ui', '-', 'ออกแบบ', 'Test', 'case', '-…', 'That', 'was', 'the', 'strength', 'of', 'the', 'Python', 'Pack-a-Punched', '😅', 'RT', '@ZonePhysics:', 'King', 'cobra', 'bites', 'python.', 'Python', 'constricts', 'cobra.', 'Cobra', 'dies', 'of', 'constriction.', 'Python', 'dies', 'from', 'venom.', '100%', 'holy', 'shit..', 'htt…', 'As', 'predicted,', 'I', 'now', 'miss', 'playing', 'D&amp;D', 'because', 'some', 'of', 'the', 'dumbass', 'shit', 'we', 'pulled', 'on', 'the', 'DM', 'is', 'roughly', 'on', 'par', 'with', 'th…', 'https://t.co/IPE3jNgChT', 'RT', '@JODYHiGHROLLER:', '\\U0001f9e0\\U0001f9e0\\U0001f9e0\\U0001f9e0\\U0001f9e0\\U0001f9e0\\U0001f9e0', 'RiFF', 'RAFF', '\\U0001f9e0\\U0001f9e0\\U0001f9e0\\U0001f9e0\\U0001f9e0\\U0001f9e0\\U0001f9e0', 'PiNK', 'PYTHōN', '\\U0001f9e0\\U0001f9e0\\U0001f9e0\\U0001f9e0\\U0001f9e0\\U0001f9e0\\U0001f9e0\\U0001f9e0', 'APRiL', '12', '\\U0001f9e0\\U0001f9e0\\U0001f9e0\\U0001f9e0\\U0001f9e0\\U0001f9e0\\U0001f9e0\\U0001f9e0', 'ALBUM', 'PRE-SALE', 'LiNK:', 'https://t.co/FbNQZK44Aj', 'h…', 'RT', '@CodeFirstGirls:', 'Great', 'news!', '📰The', 'applications', 'for', 'our', '#FREE', '#Python', 'course', 'in', '#City,', '#London', 'are', 'now', 'open!\\U0001f929If', 'you', 'have', 'taken', 'a', 'CF:G', '#HT…', 'RT', '@Sajma:', 'This', 'article', 'cites', 'Go', 'as', 'the', 'new', '\"glue\"', 'language', 'for', 'systems,', 'the', 'successor', 'to', 'Python', '2,', 'Perl,', 'and', 'Unix', 'pipes.', 'I', 'suppose', 'that', 'mi…', 'Pythonでは関数中に関数を定義することは可能だが、内側の関数から外側の関数のローカル変数を参照はできるが代入はできない。従来は更新したい値がある場合は変数の代わりにリストに格納していたが、3.x系からはglobalに似たnonlocalというキーワードが利用可能となった。', 'RT', '@byt3bl33d3r:', 'I', 'made', 'a', 'bunch', 'of', 'Ansible', 'playbooks', 'the', 'other', 'day', 'in', 'order', 'to', 'streamline/automate', 'my', 'workflow', 'during', 'engagements.', 'Specific…', 'RT', '@Deep_In_Depth:', 'The', 'out-there', 'AI', 'ideas', 'designed', 'to', 'keep', 'the', 'US', 'ahead', 'of', 'China', 'https://t.co/CZpLRQbY3W', '#DeepLearning', '#MachineLearning', '#AI…', 'RT', '@Radarinfo01:', 'Online', 'Courses', '-', 'React', 'and', 'Flux', 'Web', 'Development', 'for', 'Beginners', '-&gt;', 'https://t.co/haIGZFL06Y', '#100DaysOfCode', '#development', '#Do…', 'Javaをjavaって書いたりPythonをpythonって書くような人がいる会社には行きたくないな', 'King', 'cobra', 'bites', 'python.', 'Python', 'constricts', 'cobra.', 'Cobra', 'dies', 'of', 'constriction.', 'Python', 'dies', 'from', 'venom.', '100%', 'holy', 'shi…', 'https://t.co/Vw1yX390Zg', 'RT', '@nonomi_west:', '🌊【2019北斎展', '～dendaro', '#4～】', '🌊', 'ファンである川光先生の舞台を㊗️お祝いしまして、でんだろもさらなる北斎仕様に😃‼️', 'さらに北斎の波🌊を忠実に表現', '北斎って言えばやっぱりこの波模様✨', '今回はAIがんばってる😇', '#AI', '#P…', '@Python_qp', '👏👏👏👏', 'RT', '@BBCkatyaadler:', 'EU', 'has', 'almost', 'given', 'up', 'trying', 'to', 'understand', 'what’s', 'going', 'on', 'in', 'UK.', 'Dutch', 'PM', 'Rutte', 'compares', 'Theresa', 'May', 'to', 'Monty', 'Python', 'k…', '@BinanceJE', 'Useful', 'frameworks...', '$ARO', 'for', '#PHP', 'developers.', '$BIS', 'for', '#python', 'developers.', '@Thebuddha_3', 'Well', 'deserved', 'and', 'nothing', 'but', 'respect.', 'You', 'and', 'the', 'crew', 'are', 'the', 'Monty', 'Python', 'ensemble', 'of', 'today’s', 'Twitch', 'generation.', '#NewMedia', 'RT', '@BrandonBloom:', 'I’ve', 'worked', 'on', 'production', 'services', 'in', 'C#,', 'Java,', 'C,', 'C++,', 'Scala,', 'Clojure,', 'Go,', 'JavaScript,', 'TypeScript,', 'Ruby,', 'Python,', 'Perl,…', 'RT', '@FITech_:', 'Would', 'you', 'like', 'to', 'turn', 'each', 'of', 'your', 'employees', 'with', 'basic', 'IT', 'skills', 'into', 'a', 'machine', 'learning', 'expert?', 'Here', 'is', 'a', 'new', 'online', 'course…', 'Scary...Human', 'body', 'in', 'python', 'stomach', 'https://t.co/sBKzEgANen', 'RT', '@DanJGale:', 'Curious', 'about', 'using', 'Python', 'for', 'fMRI?', 'Check', 'out', 'the', 'first', 'post', 'of', 'my', 'new', 'blog', 'series', 'on', 'what', 'Python', 'has', 'to', 'offer', 'for', 'fMRI', 'an…', 'PythonのWaveモジュールを使ってwavファイルを編集する', 'https://t.co/trHjBJ13Gj', 'https://t.co/XYvj2jsJ76', 'Absolute', 'banger', '「あなたの名前は？」と入力待ちにして、例えばTaroと入力したら「Hello,', 'Taro!」と出力されるようにする', 'https://t.co/pNM2lvQUbF', '@platzi', 'Selenium', 'con', 'Python', 'RT', '@ProgrammerBooks:', 'Spark', 'in', 'Action', ':', 'https://t.co/FL9cYlI8tS', '#python', '#javascript', '#angular', '#reactjs', '#vuejs', '#perl', '#ruby', '#Csharp', '#Java', '#linu…', 'Python,', 'how', 'to', 'combine', 'integer', 'matrix', 'to', 'a', 'list', 'https://t.co/HsDA7blsgS', 'https://t.co/kEdjoNgMry', 'RT', '@AllenDowney:', \"Here's\", 'another', 'example', 'from', 'the', 'workshop', 'I', 'am', 'presenting', 'next', 'week:', 'using', 'Python', 'to', 'count', 'word', 'frequencies,', 'bi-grams,', 'and…', '「Python', '学習コース', 'Ⅴ」コースを修了しました！', 'https://t.co/tQCFwlRs9k', '#Progate', '#Python', '#プログラミング', '#programming', 'やはりPythonなんやな…', 'RT', '@Radarinfo01:', 'Online', 'Courses', '-', 'React', 'and', 'Flux', 'Web', 'Development', 'for', 'Beginners', '-&gt;', 'https://t.co/haIGZFL06Y', '#100DaysOfCode', '#development', '#Do…', '客「まし子！」', 'まし子「はい？」', '客「Java飽きたでしょ？Pythonやって！」', 'まし子「嫌です(˘ω˘)」', '客「もう周りにまし子がPythonやるて言っちゃったもん」', 'まし子「しね」', 'RT', '@khairulnazran:', 'A', 'few', 'additional', 'details:', '&gt;', 'main', 'role', 'is', 'to', 'drive', 'and', 'champion', 'the', 'new', 'data', 'science', 'analytics', 'initiative', 'in', 'the', 'bank', '&gt;', 'T…', 'PYTHON', 'ENCOUNTER!', 'https://t.co/pO7r8YDFUU', 'RT', '@BBCkatyaadler:', 'EU', 'has', 'almost', 'given', 'up', 'trying', 'to', 'understand', 'what’s', 'going', 'on', 'in', 'UK.', 'Dutch', 'PM', 'Rutte', 'compares', 'Theresa', 'May', 'to', 'Monty', 'Python', 'k…', 'My', 'summer', 'Python', 'class', 'got', 'cancelled,', 'and', 'while', 'I', 'should', 'probably', 'be', 'sad', 'about', 'the', 'money', 'that', 'represents', 'me', 'not', 'tak…', 'https://t.co/NhDiHl9yh3', 'Bringing', 'you', 'a', 'series', 'of', 'memes', 'every', 'morning.', 'Just', 'for', 'fun.6.0', '#DataScience', '#Analytics', '#MachineLearning…', 'https://t.co/xBV0AaW9lc', 'RT', '@HackyHourUWA:', 'Hacky', 'Hour', 'is', 'on', 'today!', '3-4pm', 'in', 'the', 'Hackett', 'Cafe,', 'come', 'along', 'with', 'R/data', 'science/Python/bioinformatics/Pawsey', 'questions,…', 'RT', '@ProgrammerBooks:', 'Spark', 'in', 'Action', ':', 'https://t.co/FL9cYlI8tS', '#python', '#javascript', '#angular', '#reactjs', '#vuejs', '#perl', '#ruby', '#Csharp', '#Java', '#linu…', 'RT', '@AllenDowney:', \"Here's\", 'another', 'example', 'from', 'the', 'workshop', 'I', 'am', 'presenting', 'next', 'week:', 'using', 'Python', 'to', 'count', 'word', 'frequencies,', 'bi-grams,', 'and…', 'python', 'flask', 'api', 'https://t.co/q9DzFUTfGT', 'RT', '@FiPanther:', 'When', 'you', 'have', 'a', 'Python', '3', 'install', 'and', 'a', 'Python', '2', 'install', 'and', 'your', 'programs', \"aren't\", 'fully', 'compliant', 'in', 'either', 'but', 'you', 'did', 'your…', 'Python', 'Pithon', 'Pi', 'Symbol', 'Happy', 'Pi', 'Day', 'Shirt', 'Math', 'Teacher', 'Gift', 'https://t.co/sFHINg5sKr', 'https://t.co/w7NlQDAhCJ', 'RT', '@skrish2017:', '3.19.2019', '-', 'Daily', 'Code', 'Challenge', '-', 'Day', '106.', 'Shashi', 'sees', 'a', 'clock', 'in', 'a', 'mirror', 'and', 'notes', 'down', 'the', 'time', 'it', 'shows.', 'Write', 'a', 'progr…', 'RT', '@JODYHiGHROLLER:', '\\U0001f9e0\\U0001f9e0\\U0001f9e0\\U0001f9e0\\U0001f9e0\\U0001f9e0\\U0001f9e0', 'RiFF', 'RAFF', '\\U0001f9e0\\U0001f9e0\\U0001f9e0\\U0001f9e0\\U0001f9e0\\U0001f9e0\\U0001f9e0', 'PiNK', 'PYTHōN', '\\U0001f9e0\\U0001f9e0\\U0001f9e0\\U0001f9e0\\U0001f9e0\\U0001f9e0\\U0001f9e0\\U0001f9e0', 'APRiL', '12', '\\U0001f9e0\\U0001f9e0\\U0001f9e0\\U0001f9e0\\U0001f9e0\\U0001f9e0\\U0001f9e0\\U0001f9e0', 'ALBUM', 'PRE-SALE', 'LiNK:', 'https://t.co/FbNQZK44Aj', 'h…', 'RT', '@rakko8513:', 'LinkedIn', 'で', '日常会話レベルで', 'R、母国語で', 'Python', 'を使うとんでもない人材を発見した。', 'https://t.co/zYcE2vuNuT', 'Teenage', 'Priestess', 'from', 'the', 'Bronze', 'Age', 'Was', 'Probably', 'No', 'Globetrotter', '–', 'Live', 'Science', 'https://t.co/BtqFQOknkh', 'RT', '@ZonePhysics:', 'King', 'cobra', 'bites', 'python.', 'Python', 'constricts', 'cobra.', 'Cobra', 'dies', 'of', 'constriction.', 'Python', 'dies', 'from', 'venom.', '100%', 'holy', 'shit..', 'htt…', 'RT', '@Radarinfo01:', 'Online', 'Courses', '-', 'React', 'and', 'Flux', 'Web', 'Development', 'for', 'Beginners', '-&gt;', 'https://t.co/haIGZFL06Y', '#100DaysOfCode', '#development', '#Do…', 'RT', '@NanettevdLaan:', 'Dutch', 'PM', '@markrutte', 'says', '@theresa_may', 'is', 'like', 'the', 'Black', 'Knight', 'in', 'the', 'Holy', 'Grail.', '\"She', 'reminds', 'me', 'occasionally', 'of', 'that', 'M…', 'RT', '@Radarinfo01:', 'Online', 'Courses', '-', 'React', 'and', 'Flux', 'Web', 'Development', 'for', 'Beginners', '-&gt;', 'https://t.co/haIGZFL06Y', '#100DaysOfCode', '#development', '#Do…', 'Online', 'Courses', '-', 'React', 'and', 'Flux', 'Web', 'Development', 'for', 'Beginners', '-&gt;', 'https://t.co/haIGZFL06Y', '#100DaysOfCode…', 'https://t.co/2YgFHksuD3', 'I', 'just', 'launch', '🚀:', 'PyPass', 'is', 'a', 'very', 'simple', '1-page', 'web', 'application', 'written', 'in', 'Python,', 'using', 'Flask', ',', 'Angular', 'Material,…', 'https://t.co/KKpWfvtxDI', '最近は純粋数学の研究でもソフトウェアが不可欠の道具になっている。解析なら数値計算が必要だし、代数（あるいは幾何）でも指標の計算やグレブナー基底などの計算機代数(GAP,', 'SAGE,', 'Python', 'etc...)はよく使う。そういう…', 'https://t.co/rDg18Ug1CS', 'RT', '@hardsci:', 'Harry', 'and', 'Voldemort', 'use', 'Python,', 'of', 'course', '#Parseltongue', 'https://t.co/Vd3H3C5AjA', 'RT', '@rakko8513:', 'LinkedIn', 'で', '日常会話レベルで', 'R、母国語で', 'Python', 'を使うとんでもない人材を発見した。', 'https://t.co/zYcE2vuNuT', 'RT', '@brianc_pdx:', '#100DaysOfCode', 'Day', '13:', 'Completed', '@TalkPython', \"'Python\", 'Jumpstart', 'by', 'Building', '10', \"Apps'\", '#6', '(LOLCat', 'Factory).', 'Learned', 'about', '__fi…', 'POLL!', \"You've\", 'been', 'reincarnated,', 'but', 'you', 'get', 'your', 'pick', 'to', 'return', 'as', 'one', 'of', 'the', 'following.', 'Which', 'will', 'you', 'choose?…', 'https://t.co/Kfb5PFJAqd', '#100DaysOfCode', 'Day', '13:', 'Completed', '@TalkPython', \"'Python\", 'Jumpstart', 'by', 'Building', '10', \"Apps'\", '#6', '(LOLCat', 'Factory).', 'Learned', 'ab…', 'https://t.co/rtvgFDCJ9y', 'RT', '@ZonePhysics:', 'King', 'cobra', 'bites', 'python.', 'Python', 'constricts', 'cobra.', 'Cobra', 'dies', 'of', 'constriction.', 'Python', 'dies', 'from', 'venom.', '100%', 'holy', 'shit..', 'htt…', 'それができなければ...', 'おまえはジーンに勝てない...', 'RT', '@nonomi_west:', '🌊【2019北斎展', '～dendaro', '#4～】', '🌊', 'ファンである川光先生の舞台を㊗️お祝いしまして、でんだろもさらなる北斎仕様に😃‼️', 'さらに北斎の波🌊を忠実に表現', '北斎って言えばやっぱりこの波模様✨', '今回はAIがんばってる😇', '#AI', '#P…', '10', 'Python', 'image', 'manipulation', 'tools', 'https://t.co/W4AOpJdXJf', 'via', '@opensourceway', 'by', '@pandeyparul', '7_Performing', 'Functions', 'on', 'List', 'in', 'Python(Hindi)', 'https://t.co/B9VkcBjJnp', 'via', '@YouTube', 'RT', '@ZonePhysics:', 'King', 'cobra', 'bites', 'python.', 'Python', 'constricts', 'cobra.', 'Cobra', 'dies', 'of', 'constriction.', 'Python', 'dies', 'from', 'venom.', '100%', 'holy', 'shit..', 'htt…', 'RT', '@shyamjose:', 'I', 'am', 'planning', 'to', 'learn', '#kubernetes', 'this', 'week,', 'As', 'a', 'first', 'step', 'I', 'wrote', 'a', 'simple', 'image', 'crawler/downloader', 'microservice', 'app', 'in…', 'When', 'you', 'sit', 'with', '@thekirbster', 'of', '@4DsolutionsPDX', 'you', 'never', 'know', 'where', 'the', 'topic', 'will', 'go.', 'Always', 'a', 'high', 'level', 'of', 'wo…', 'https://t.co/b8OGMY6t9A', 'RT', '@LanaBintadiaz:', 'Udemy', 'Course', 'Discount', 'Python', 'Link', ':', 'https://t.co/XZpQA7dk8D', '#Python', '#DevOps', '#WebsiteTraffic', '#100DaysOfCode', '#Fullstack', '#…', '@Tetrisdroid', 'I', 'wanted', 'to', 'show', 'off', 'my', 'insanely', 'cool', 'English', 'accent.', \"I've\", 'been', 'working', 'on', 'it', 'since', 'MTV', 'showed', 'Monty', 'P…', 'https://t.co/fDRQzNN3uf', 'RT', '@TN:', 'interesting', 'how', 'these', 'two', '#valuation', 'metrics', 'have', 'a', 'similar', 'message', 're', 'future', 'long', 'term', 'returns:', 'rel', 'US', 'household', 'equity', 'holdings', '&amp;…', '\"Every', '#programmer', 'is', 'an', '#author!!!!\"', '#Software', '#technology', '#programming', '#code', '#company', '#business', '#Management…', 'https://t.co/a7QGxjY35L', 'RT', '@HackyHourUWA:', 'Hacky', 'Hour', 'is', 'on', 'today!', '3-4pm', 'in', 'the', 'Hackett', 'Cafe,', 'come', 'along', 'with', 'R/data', 'science/Python/bioinformatics/Pawsey', 'questions,…', 'RT', '@gp_pulipaka:', 'Open', 'AI', 'and', 'DeepMind:', 'How', 'Transformers', 'Work.', '#BigData', '#Analytics', '#DataScience', '#AI', '#MachineLearning', '#IoT', '#IIoT', '#PyTorch', '#Py…', 'RT', '@rakko8513:', 'LinkedIn', 'で', '日常会話レベルで', 'R、母国語で', 'Python', 'を使うとんでもない人材を発見した。', 'https://t.co/zYcE2vuNuT', 'RT', '@ideacompo:', 'ブログ記事紹介：[Python]', '高速勉強', '#2', '変数とデータ型', 'https://t.co/p7lsM7TSt3', '#dotinstall', '#python', 'https://t.co/60pQRW4aDL', 'RT', '@SecurityNewsbot:', 'EulerOS', '2.0', 'SP5', ':', '#python', '(EulerOS-SA-2019-1072)', 'https://t.co/0LA6UbIGwE', '#Nessus', 'RT', '@BeardySmeardy:', '#Spectrum', 'My', '#InternetSpeed', ':', 'Ping:', '45.242', 'ms', 'Download:', '179.93', 'Mbit/s', 'Upload:', '10.89', 'Mbit/s', '#automagic', '#python', '#corporate…', 'RT', '@pythonbot_:', 'Python', 'For', 'Beginners:', 'Basic', 'Guide', 'To', 'Master', 'Python', 'https://t.co/qBc4a7P77G', '#learning', '#python', 'RT', '@ProgrammerBooks:', 'Spark', 'in', 'Action', ':', 'https://t.co/FL9cYlI8tS', '#python', '#javascript', '#angular', '#reactjs', '#vuejs', '#perl', '#ruby', '#Csharp', '#Java', '#linu…', 'RT', '@emmasam99:', 'So', 'I', 'just', 'picked', 'up', 'a', 'ball', 'python', 'who', 'survived', 'being', 'put', 'through', 'the', 'washing', 'machine...', 'how’s', 'your', 'day', 'going?', 'RT', '@davidallengreen:', 'As', 'discussed', 'previously', 'on', 'this', 'account', '(following', 'both', 'AP', 'Herbert', 'and', 'M', 'Python),', 'there', 'is', 'a', 'legal', 'argument', 'that', 'such…', 'Aguenta', '50', 'minutos', 'de', 'análise', 'da', 'discografia', 'do', 'Iron', 'mas', 'não', 'suporta', '2', 'minutos', 'do', 'cara', 'ensinado', 'python', 'vsf', 'はてなブログに投稿しました', '#はてなブログ', 'Python開発環境メモ（2019）', '-', 'ぽよメモ', 'https://t.co/LMcsfkFAUZ', 'As', 'I', 'was', 'teaching', 'my', 'daughter', 'Python', 'basics,', 'at', 'one', 'point', 'she', 'starts', 'sniggering', 'and', 'asks...', '\"Pappa,', \"what's\", 'a', 'Python', 'argument', '?', '\"', '😏', 'RT', '@PyImageSearch:', 'Big', 'news', 'today!🚀💥', '-', \"I'm\", 'writing', 'a', 'brand', 'new', 'book', 'on', '#ComputerVision', 'with', 'the', '@Raspberry_Pi!', '-', '40+', 'chapters', 'planned', 'on', 'CV…', 'RT', '@ZonePhysics:', 'King', 'cobra', 'bites', 'python.', 'Python', 'constricts', 'cobra.', 'Cobra', 'dies', 'of', 'constriction.', 'Python', 'dies', 'from', 'venom.', '100%', 'holy', 'shit..', 'htt…', 'RT', '@hardsci:', 'Harry', 'and', 'Voldemort', 'use', 'Python,', 'of', 'course', '#Parseltongue', 'https://t.co/Vd3H3C5AjA', 'Spark', 'in', 'Action', ':', 'https://t.co/FL9cYlI8tS', '#python', '#javascript', '#angular', '#reactjs', '#vuejs', '#perl', '#ruby', '#Csharp', '#Java…', 'https://t.co/9XKKzCcGGI', 'RT', '@RandyLax1:', '@nancytokarz', '@RyanAFournier', 'Awaken', 'you', 'that', 'are', 'blind', 'to', 'truth', 'that', 'do', 'not', 'see', 'this', 'evil', 'python', 'enveloping', 'Lady', 'Liberty.', 'Ame…', '@akielpsycongroo', 'pythonの何がいいの？', 'RT', '@LaLoutreBizarre:', '#100DaysOfCode', 'day', '15:', 'I', 'finally', 'finished', 'the', '#Python', 'journal', 'app', 'in', 'the', '@TalkPython', 'course!', 'Upon', 'completion,', 'I', 'made', '8…', 'Overheard', 'at', 'a', 'college', 'kegger', '\"Anybody', 'ever', 'read', 'that', 'Poe', 'story?', 'The', 'cast', 'of', 'Monty', 'Python?\"', 'RT', '@rakko8513:', 'LinkedIn', 'で', '日常会話レベルで', 'R、母国語で', 'Python', 'を使うとんでもない人材を発見した。', 'https://t.co/zYcE2vuNuT', 'RT', '@tayooye:', 'Personal', '\"5', 'to', 'midnight\"', 'stories.', '1.', 'Wrote', 'and', 'published', 'two', 'books.', '2.', 'Started', 'multiple', 'businesses.', '3.', 'Took', 'the', 'GRE/GMAT.', '4.…', 'pythonで文字から数値をとりだす。正規表現つかうのがてっとりばやい。https://t.co/DQOfrf7uZd', '@kakule0n', '競プロよりPythonやろうや', 'Python', 'For', 'Beginners:', 'Basic', 'Guide', 'To', 'Master', 'Python', 'https://t.co/qBc4a7P77G', '#learning', '#python', 'RT', '@ZonePhysics:', 'King', 'cobra', 'bites', 'python.', 'Python', 'constricts', 'cobra.', 'Cobra', 'dies', 'of', 'constriction.', 'Python', 'dies', 'from', 'venom.', '100%', 'holy', 'shit..', 'htt…', 'RT', '@ZonePhysics:', 'King', 'cobra', 'bites', 'python.', 'Python', 'constricts', 'cobra.', 'Cobra', 'dies', 'of', 'constriction.', 'Python', 'dies', 'from', 'venom.', '100%', 'holy', 'shit..', 'htt…', 'RT', '@robertswiecki:', 'In', 'addition', 'to', 'the', 'Sandboxed', 'API', '(https://t.co/QMd97JOiFI)', 'its', 'sandboxing', 'driver,', 'so-called', '\"Sandbox', '2\",', 'has', 'been', 'releas…', '今後、IT現場におけるニーズが高まると思う技術は「AWS」「5G」「Python', '.', '.', '.', 'https://t.co/7AvUwWOyKM', '6_Lists,Tuples,Sets', 'and', 'Dictionary', 'in', 'Python(Hindi)', 'https://t.co/bfTEdXyCNH', 'via', '@YouTube', 'RT', '@rakko8513:', 'LinkedIn', 'で', '日常会話レベルで', 'R、母国語で', 'Python', 'を使うとんでもない人材を発見した。', 'https://t.co/zYcE2vuNuT', 'RT', '@LaLoutreBizarre:', '#100DaysOfCode', 'day', '15:', 'I', 'finally', 'finished', 'the', '#Python', 'journal', 'app', 'in', 'the', '@TalkPython', 'course!', 'Upon', 'completion,', 'I', 'made', '8…', 'いやーこのまま17時退勤が続くならちょっと考えなあかんなぁ', '#Spectrum', 'My', '#InternetSpeed', ':', 'Ping:', '45.242', 'ms', 'Download:', '179.93', 'Mbit/s', 'Upload:', '10.89', 'Mbit/s', '#automagic', '#python', '#corporateaccountability', 'EulerOS', '2.0', 'SP5', ':', '#python', '(EulerOS-SA-2019-1072)', 'https://t.co/0LA6UbIGwE', '#Nessus', 'The', 'out-there', 'AI', 'ideas', 'designed', 'to', 'keep', 'the', 'US', 'ahead', 'of', 'China', 'https://t.co/CZpLRQbY3W', '#DeepLearning…', 'https://t.co/nXsLMpIRac', 'RT', '@ZonePhysics:', 'King', 'cobra', 'bites', 'python.', 'Python', 'constricts', 'cobra.', 'Cobra', 'dies', 'of', 'constriction.', 'Python', 'dies', 'from', 'venom.', '100%', 'holy', 'shit..', 'htt…', 'RT', '@CouponOnlineCo1:', 'BESTSELLER', 'Courses', 'Free', 'Discount', '-', 'Python', 'for', 'Financial', 'Analysis', 'and', 'Algorithmic', 'Trading', '-&gt;', 'https://t.co/wKXSJ8Vmdx', '#…', 'PythonでSeleniumを使い毎朝の業務を自動化させたらストレスから開放された件について、手こずった点を列挙する', '-', 'アウトプットして苦悩する', 'https://t.co/kZUZnzD0fX', 'ブログ記事紹介：[Python]', '高速勉強', '#2', '変数とデータ型', 'https://t.co/p7lsM7TSt3', '#dotinstall', '#python', 'https://t.co/60pQRW4aDL', 'Only', '9', 'months', '12', 'days', '19', 'hours', '30', 'minutes', 'left', 'until', 'Python', '2', 'retires', '使い捨てのバッチ処理、今はPHPで書いてるけど、使い捨てたしpythonとか使ってみたい。', 'PHPだとファイルと文字の処理メチャクソ楽だから毎回使っちゃうんだけども(´・ω・`)', 'RT', '@ZonePhysics:', 'King', 'cobra', 'bites', 'python.', 'Python', 'constricts', 'cobra.', 'Cobra', 'dies', 'of', 'constriction.', 'Python', 'dies', 'from', 'venom.', '100%', 'holy', 'shit..', 'htt…', 'RT', '@pyconindia:', 'Sponsorship', 'for', 'PyCon', 'India', '2019', 'is', 'open!', 'Get', 'the', 'prospectus', 'from', 'https://t.co/06ieJVPXk3', '#Python', '#PyConIndia2019', 'RT', '@BBCkatyaadler:', 'EU', 'has', 'almost', 'given', 'up', 'trying', 'to', 'understand', 'what’s', 'going', 'on', 'in', 'UK.', 'Dutch', 'PM', 'Rutte', 'compares', 'Theresa', 'May', 'to', 'Monty', 'Python', 'k…', 'RT', '@saikumar_77:', '@YuriSpiridonov', '@_100DaysOfCode', 'Hi', \"I'm\", 'Sai', 'currently', 'learning', 'python', 'my', 'goals', 'are', 'to', 'automate', 'daily', 'manual', 'work', 'n', 'to', 'becom…', 'いや今の僕のことじゃないよ', '得意先との会議中にツイッターしちゃダメだよ', 'RT', '@realpython:', 'Forecasting', 'in', 'Python', 'with', 'Prophet', 'https://t.co/rlvPtMY5uQ', 'TRPGはいいよなぁ', '会話文や描写文の練習もできるし、ゲームシナリオのシュミレートも簡単にできる', '豊富にある選択肢からどんな行動をするのかも学べる', 'pythonの練習にもなったし、イラストや動画みたいなコンテンツスキルも上げていけるだろうなぁ', 'RT', '@LaLoutreBizarre:', '#100DaysOfCode', 'day', '15:', 'I', 'finally', 'finished', 'the', '#Python', 'journal', 'app', 'in', 'the', '@TalkPython', 'course!', 'Upon', 'completion,', 'I', 'made', '8…', '**2-DAY', 'DIGITECH', 'WORKSHOP', 'IN', 'IPSWICH', 'ON', 'APRIL', '1-2**', 'Switch', 'on', 'your', '#computationalthinking', 'light', 'bulbs💡and', 'take', 'a', 'de…', 'https://t.co/o9uMrN2cuj', '@YuriSpiridonov', '@_100DaysOfCode', 'Hi', \"I'm\", 'Sai', 'currently', 'learning', 'python', 'my', 'goals', 'are', 'to', 'automate', 'daily', 'manual', 'work', 'n', 't…', 'https://t.co/bsaL8QxyIB', 'RT', '@BBCkatyaadler:', 'EU', 'has', 'almost', 'given', 'up', 'trying', 'to', 'understand', 'what’s', 'going', 'on', 'in', 'UK.', 'Dutch', 'PM', 'Rutte', 'compares', 'Theresa', 'May', 'to', 'Monty', 'Python', 'k…', 'RT', '@ZonePhysics:', 'King', 'cobra', 'bites', 'python.', 'Python', 'constricts', 'cobra.', 'Cobra', 'dies', 'of', 'constriction.', 'Python', 'dies', 'from', 'venom.', '100%', 'holy', 'shit..', 'htt…', 'RT', '@ZonePhysics:', 'King', 'cobra', 'bites', 'python.', 'Python', 'constricts', 'cobra.', 'Cobra', 'dies', 'of', 'constriction.', 'Python', 'dies', 'from', 'venom.', '100%', 'holy', 'shit..', 'htt…', 'RT', '@thecraftman_:', 'Day', 'uno', '#100Daysofcode', 'installed', 'Ubuntu', 'os.', 'I', 'also', 'installed', 'python,atom', 'text', 'editor', 'and', 'jupyter', 'notebook', 'https://t.co/s…', 'dataclass', '使うために', 'Python', '3.7', 'に移行するわ', 'RT', '@rakko8513:', 'LinkedIn', 'で', '日常会話レベルで', 'R、母国語で', 'Python', 'を使うとんでもない人材を発見した。', 'https://t.co/zYcE2vuNuT', 'RT', '@JODYHiGHROLLER:', '\\U0001f9e0\\U0001f9e0\\U0001f9e0\\U0001f9e0\\U0001f9e0\\U0001f9e0\\U0001f9e0', 'RiFF', 'RAFF', '\\U0001f9e0\\U0001f9e0\\U0001f9e0\\U0001f9e0\\U0001f9e0\\U0001f9e0\\U0001f9e0', 'PiNK', 'PYTHōN', '\\U0001f9e0\\U0001f9e0\\U0001f9e0\\U0001f9e0\\U0001f9e0\\U0001f9e0\\U0001f9e0\\U0001f9e0', 'APRiL', '12', '\\U0001f9e0\\U0001f9e0\\U0001f9e0\\U0001f9e0\\U0001f9e0\\U0001f9e0\\U0001f9e0\\U0001f9e0', 'ALBUM', 'PRE-SALE', 'LiNK:', 'https://t.co/FbNQZK44Aj', 'h…', 'RT', '@BrandonBloom:', 'I’ve', 'worked', 'on', 'production', 'services', 'in', 'C#,', 'Java,', 'C,', 'C++,', 'Scala,', 'Clojure,', 'Go,', 'JavaScript,', 'TypeScript,', 'Ruby,', 'Python,', 'Perl,…', 'python,djangoでモデルからフォームを簡単に作る', '-', 'https://t.co/MQ69OouFpn', 'Join', 'us', 'for', 'a', 'talk', '\"Python', 'hacks', 'for', 'data,', 'graphics', 'and', 'more\"', 'by', 'Ricardo', 'Lafuente', '@rlaf.', \"We'll\", 'go', 'through', 'a', 'set', 'of…', 'https://t.co/kpa6WyrfKt', '@Bindlestaff', '@WSJ', 'Bubba', 'the', 'Love', 'Sponge', 'is', 'more', 'well-considered', 'than', 'most', 'of', 'the', \"WSJ's\", 'editorials.', 'Brett', \"Stephen's…\", 'https://t.co/c6wRzC1nvm', 'RT', '@ulysseas:', 'Pinch', 'me,', \"can't\", 'believe', 'this', 'event', 'is', 'happening,', 'creators', 'of', 'Python,', 'Perl,', 'Java,', 'C#,', 'TypeScript', 'on', 'one', 'stage', 'having', 'a', 'substan…', 'RT', '@ulysseas:', 'Pinch', 'me,', \"can't\", 'believe', 'this', 'event', 'is', 'happening,', 'creators', 'of', 'Python,', 'Perl,', 'Java,', 'C#,', 'TypeScript', 'on', 'one', 'stage', 'having', 'a', 'substan…', 'This', 'is', 'how', 'I', 'see', 'British', 'politics', 'right', 'now.', '@LordBuckethead', 'seems', 'still', 'seems', 'alarmingly', 'the', 'rational', 'one.', 'The…', 'https://t.co/gDy2cUFOXr', 'RT', '@ZonePhysics:', 'King', 'cobra', 'bites', 'python.', 'Python', 'constricts', 'cobra.', 'Cobra', 'dies', 'of', 'constriction.', 'Python', 'dies', 'from', 'venom.', '100%', 'holy', 'shit..', 'htt…', 'RT', '@gvanrossum:', 'Looking', 'forward', 'to', 'this', 'event', 'in', 'Seattle:', 'https://t.co/QPyakwsn4A', 'a', 'panel', 'with', 'four', 'language', 'creators', 'organized', 'by', 'the', 'amaz…', 'RT', '@carsten_lymann:', 'This', 'weekend', 'i', 'made', 'my', 'first', 'python', 'script', 'full', 'of', 'regular', 'expressions.', 'Looking', 'through', 'my', 'cisco', 'firepower', 'run', 'conf.', 'Pa…', 'RT', '@rakko8513:', 'LinkedIn', 'で', '日常会話レベルで', 'R、母国語で', 'Python', 'を使うとんでもない人材を発見した。', 'https://t.co/zYcE2vuNuT', 'python', '3', '入門ノート', 'アミメニシキヘビ(Python', 'reticulatus)', 'https://t.co/Zdfpg3tEjG', '“Theresa', 'May', 'is', 'like', 'the', 'knight', 'in', 'Monty', 'Python', 'and', 'the', 'Holy', 'Grail', 'who', 'loses', 'his', 'arms', 'and', 'legs', 'in', 'a', 'duel', 'and', 'calls…', 'https://t.co/75haOP8xLh', '@M91767223', 'python大佬还看不懂？', 'RT', '@kannan_fno:', '#Nifty', '#Weekly', '#Option', '#PCR', 'support', 'seen', 'at', '11450-114000', 'band.', 'With', 'just', '2', 'days', 'to', 'expiration,', 'this', 'is', 'getting', 'very', 'interes…', 'Microsoft', 'Brings', 'Windows', 'Defender', 'extension', 'to', 'Chrome', 'and', 'Firefox', '💻', 'Follow', 'for', 'more', 'update', '👉👉', '@programming_updates…', 'https://t.co/JNgzKZBprW', '✨', 'A', 'new', 'sprinter', 'just', 'signed', 'up', 'for', 'the', '#mentoredsprint', 'at', '#pycon2019.', \"They're\", 'interested', 'in', 'contributing', 'to:', 'Code…', 'https://t.co/wuZWt1iMvD', 'RT', '@JODYHiGHROLLER:', '\\U0001f9e0\\U0001f9e0\\U0001f9e0\\U0001f9e0\\U0001f9e0\\U0001f9e0\\U0001f9e0', 'RiFF', 'RAFF', '\\U0001f9e0\\U0001f9e0\\U0001f9e0\\U0001f9e0\\U0001f9e0\\U0001f9e0\\U0001f9e0', 'PiNK', 'PYTHōN', '\\U0001f9e0\\U0001f9e0\\U0001f9e0\\U0001f9e0\\U0001f9e0\\U0001f9e0\\U0001f9e0\\U0001f9e0', 'APRiL', '12', '\\U0001f9e0\\U0001f9e0\\U0001f9e0\\U0001f9e0\\U0001f9e0\\U0001f9e0\\U0001f9e0\\U0001f9e0', 'ALBUM', 'PRE-SALE', 'LiNK:', 'https://t.co/FbNQZK44Aj', 'h…', 'RT', '@LanaBintadiaz:', 'Udemy', 'Course', 'Discount', 'Python', 'Link', ':', 'https://t.co/XZpQA7dk8D', '#Python', '#DevOps', '#WebsiteTraffic', '#100DaysOfCode', '#Fullstack', '#…', 'RT', '@CyberSecurity32:', 'Machine', 'Learning', 'with', 'Python:', 'The', 'Ultimate', 'Collection', 'of', '#MobileSecurity', 'Resources', '#Infosec', '#Cybersecurity', '#Cyberattac…', 'RT', '@smashingmag:', '\"An', 'explanation', 'of', 'how', 'they', 'work', 'and', 'how', 'to', 'implement', 'one', 'from', 'scratch', 'in', 'Python.”', '(Beware:', 'there', 'is', 'a', 'bit', 'of', 'math', 'in', 'ther…', '@EnlightFundy', '@mythousandfaces', '@Rage_Baiter', '@shahbaz_bokhari', 'I', 'am', 'reminded', 'of', 'the', 'Monty', 'Python', 'sketch', 'where', 'a', 'flyin…', 'https://t.co/3RE34lxiQD', '株式会社アクセル子会社株式会社', 'VIPPOOは、ブロックチェーン技術を活用したシステム開発向けソフトウェア「VIPPOOL', 'clerk」と、当該ソフトウェアを容易に活用するための', 'Python®ライブラリ「VIPPOOL', 'storage」をオープンソースにて公開', 'Machine', 'Learning', 'with', 'Python:', 'The', 'Ultimate', 'Collection', 'of', '#MobileSecurity', 'Resources', '#Infosec', '#Cybersecurity', '#Cyberattacks', '#CISO', '#CIO', '#infosec', 'RT', '@Haze2K1:', 'Humble', 'Book', 'Bundle:', 'Web', 'Programming', 'by', \"O'Reilly\", 'https://t.co/5HmDCSMpMA', '#webdev', '#webdevelopment', '#php', '#html', '#wordpress', '#codin…', 'Open', '\"requirements.txt\"', 'tab,', 'then', 'write', '\"pandas&gt;=0.22\"', '&gt;', 'Answer:', 'Python', 'in', 'Google', 'Cloud', 'Functions', 'https://t.co/iiN7m1SuhB', 'RT', '@LanaBintadiaz:', 'Udemy', 'Course', 'Discount', 'Python', 'Link', ':', 'https://t.co/XZpQA7dk8D', '#Python', '#DevOps', '#WebsiteTraffic', '#100DaysOfCode', '#Fullstack', '#…', 'RT', '@IamSamiSamuel:', \"It's\", 'funny', 'how', 'people', 'are', 'much', 'worried', 'about', 'that', 'Python', 'at', 'Karura', 'forest,', 'I', 'am', 'just', 'relaxing', 'with', 'a', 'leopard', 'here', 'at', 'Maa…', '・pythonではじめる機械学習', '・機械学習理論入門', 'RT', '@ZonePhysics:', 'King', 'cobra', 'bites', 'python.', 'Python', 'constricts', 'cobra.', 'Cobra', 'dies', 'of', 'constriction.', 'Python', 'dies', 'from', 'venom.', '100%', 'holy', 'shit..', 'htt…', 'RT', '@ulysseas:', 'Pinch', 'me,', \"can't\", 'believe', 'this', 'event', 'is', 'happening,', 'creators', 'of', 'Python,', 'Perl,', 'Java,', 'C#,', 'TypeScript', 'on', 'one', 'stage', 'having', 'a', 'substan…', 'RT', '@orchid00:', 'free', '#SWC', 'class', '#Python', 'at', '#Nathan', 'organised', 'by', '@hackyhourGU', '15-17', 'April', 'https://t.co/zybZvolyMH', 'everyone', 'is', 'welcome', '@UQ_CAI…', 'RT', '@LanaBintadiaz:', 'Udemy', 'Course', 'Discount', 'Python', 'Link', ':', 'https://t.co/XZpQA7dk8D', '#Python', '#DevOps', '#WebsiteTraffic', '#100DaysOfCode', '#Fullstack', '#…', '“Python', '-', 'Pythonプログラミングの基礎', '-', '辞書とデータ構造(ファンタジーゲームの持ち物リスト、itemsメソッド、キー、バリュー、for/in(ループ))', '|', \"Kamimura's\", 'blog”…', 'https://t.co/X9Ku10O2YF', '今日は昼休みにPythonの物理本を買いに行きます。初心者向けのものを…と思ったけど他言語はわかる人向けがあればベストやな', 'RT', '@pyconindia:', 'Sponsorship', 'for', 'PyCon', 'India', '2019', 'is', 'open!', 'Get', 'the', 'prospectus', 'from', 'https://t.co/06ieJVPXk3', '#Python', '#PyConIndia2019', 'RT', '@noruzzamanrubel:', '#javascript', '#angular', '#reactjs', '#vuejs', '#webdevelopment', '#webdeveloper', '#webdesign', '#webdesigner', '#html', '#html5', '#programming', '#…', '@RGBoys_Art', 'every', 'day,', 'Python', 'wakes', 'up', 'and', 'suffers', 'a', 'heart', 'attack', 'because', 'his', 'green', 'husband', 'is', 'just', 'too', 'cute', 'امي', 'الله', 'يحفظها', '🌹', '#شخص_لا_يمكن_رفض_طلبه', 'RT', '@CouponOnlineCo1:', 'Courses', 'Free', 'Discount', '-', 'Practical', 'SQL', 'Bootcamp', 'for', 'Data', 'Analysts', 'and', 'Data', 'Scientists', '-&gt;', 'https://t.co/qTDFwTEu54', '#udem…', 'RT', '@Harshit9105:', 'This', 'article', 'will', 'equip', 'you', 'with', 'the', 'basic', 'techniques', 'of', 'data', 'pre-processing', 'using', '#Scikit', 'Learn', 'and', 'deeper', 'understanding…', 'King', 'Cobra', 'bites', 'Python.', 'Python', 'constricts', 'Cobra.', 'Cobra', 'dies', 'of', 'constriction.', 'Python', 'dies', 'from', 'venom.', 'Both', 'William…', 'https://t.co/dByVjBXohs', 'RT', '@ZonePhysics:', 'King', 'cobra', 'bites', 'python.', 'Python', 'constricts', 'cobra.', 'Cobra', 'dies', 'of', 'constriction.', 'Python', 'dies', 'from', 'venom.', '100%', 'holy', 'shit..', 'htt…', 'RT', '@CouponOnlineCo1:', 'BESTSELLER', 'Courses', 'Free', 'Discount', '-', 'Python', 'for', 'Financial', 'Analysis', 'and', 'Algorithmic', 'Trading', '-&gt;', 'https://t.co/wKXSJ8Vmdx', '#…', 'RT', '@realpython:', 'Forecasting', 'in', 'Python', 'with', 'Prophet', 'https://t.co/rlvPtMY5uQ', 'RT', '@Haze2K1:', 'Humble', 'Book', 'Bundle:', 'Web', 'Programming', 'by', \"O'Reilly\", 'https://t.co/5HmDCSMpMA', '#webdev', '#webdevelopment', '#php', '#html', '#wordpress', '#codin…', 'RT', '@QtcykCpE8TDlMBU:', 'Pythonは趣味', 'RT', '@QtcykCpE8TDlMBU:', '来年までにはJavaでバイト先用のアプリと、Pythonで株の価格予想について勉強します', 'RT', '@CouponOnlineCo1:', 'Courses', 'Free', 'Discount', '-', 'Practical', 'SQL', 'Bootcamp', 'for', 'Data', 'Analysts', 'and', 'Data', 'Scientists', '-&gt;', 'https://t.co/qTDFwTEu54', '#udem…', 'RT', '@wtfevaristo:', 'Minha', 'vida', 'é', 'resumida', 'a', 'filosofia', 'de', 'python', 'e', 'é', 'isso', 'RT', '@ZonePhysics:', 'King', 'cobra', 'bites', 'python.', 'Python', 'constricts', 'cobra.', 'Cobra', 'dies', 'of', 'constriction.', 'Python', 'dies', 'from', 'venom.', '100%', 'holy', 'shit..', 'htt…', 'practice', 'tweet', 'from', 'python', 'script', 'deployed', 'to', 'heroku:', '#4!', '仕事依頼、純烈のディナーショーって純烈って誰やねんおもたらあのおっさんのやつか〜ウケるから行ってみたいけど旅行やから無理や〜残念〜笑', 'RT', '@rakko8513:', 'LinkedIn', 'で', '日常会話レベルで', 'R、母国語で', 'Python', 'を使うとんでもない人材を発見した。', 'https://t.co/zYcE2vuNuT', 'Pythonは趣味', '来年までにはJavaでバイト先用のアプリと、Pythonで株の価格予想について勉強します', 'RT', '@Haze2K1:', 'Humble', 'Book', 'Bundle:', 'Web', 'Programming', 'by', \"O'Reilly\", 'https://t.co/5HmDCSMpMA', '#webdev', '#webdevelopment', '#php', '#html', '#wordpress', '#codin…', 'Courses', 'Free', 'Discount', '-', 'Practical', 'SQL', 'Bootcamp', 'for', 'Data', 'Analysts', 'and', 'Data', 'Scientists', '-&gt;', 'https://t.co/qTDFwTEu54…', 'https://t.co/nXVPHykAmF', 'Minha', 'vida', 'é', 'resumida', 'a', 'filosofia', 'de', 'python', 'e', 'é', 'isso', 'RT', '@robertswiecki:', 'In', 'addition', 'to', 'the', 'Sandboxed', 'API', '(https://t.co/QMd97JOiFI)', 'its', 'sandboxing', 'driver,', 'so-called', '\"Sandbox', '2\",', 'has', 'been', 'releas…', 'practice', 'tweet', 'from', 'python', 'script', 'deployed', 'to', 'heroku:', '#3!', 'RT', '@Harshit9105:', 'This', 'article', 'will', 'equip', 'you', 'with', 'the', 'basic', 'techniques', 'of', 'data', 'pre-processing', 'using', '#Scikit', 'Learn', 'and', 'deeper', 'understanding…', 'RT', '@ZonePhysics:', 'King', 'cobra', 'bites', 'python.', 'Python', 'constricts', 'cobra.', 'Cobra', 'dies', 'of', 'constriction.', 'Python', 'dies', 'from', 'venom.', '100%', 'holy', 'shit..', 'htt…', 'RT', '@brandondamos:', 'Tuning', 'Hyperparameters', 'without', 'Grad', 'Students:', 'Scalable', 'and', 'Robust', 'Bayesian', 'Optimisation', 'with', 'Dragonfly', 'K.', 'Kandasamy', 'et', 'al…', '@varadmehta', 'Then', 'never,', 'ever', 'watch', 'Monty', \"Python's\", 'Flying', 'Circus.', 'RT', '@Harshit9105:', 'This', 'article', 'will', 'equip', 'you', 'with', 'the', 'basic', 'techniques', 'of', 'data', 'pre-processing', 'using', '#Scikit', 'Learn', 'and', 'deeper', 'understanding…', 'This', 'article', 'will', 'equip', 'you', 'with', 'the', 'basic', 'techniques', 'of', 'data', 'pre-processing', 'using', '#Scikit', 'Learn', 'and', 'deeper', 'underst…', 'https://t.co/4REdDaxWbl', 'practice', 'tweet', 'from', 'python', 'script', 'deployed', 'to', 'heroku:', '#2!', 'this', 'works', 'python', 'was', 'so', 'mercifully', 'simple', 'just', 'playing', 'around', 'with', 'strings......', 'there', 'was', 'one', 'loop', 'but', 'it', 'was', 'a', 's…', 'https://t.co/g6tXofHzds', 'Imagine', 'how', 'useful', 'Python', 'code', 'would', 'be', 'for', 'being', 'a', 'plastic', 'patternmaker.', 'Aristotle', 'might', 'even', 'say', 'such', 'a', 'use', 'would', 'be', 'nosy!', 'RT', '@pareshmotiwala:', 'Data', 'Science', 'and', 'Python', 'are', 'not', 'just', 'new', 'hot', 'buzz', 'words.', 'They', 'can', 'make', 'your', 'life', 'easy', 'and', 'take', 'your', 'career', 'forward.', 'As…', 'iPadでPython書けるの神すぎ', '【Udemy】Python', '3', '入門', '+', '応用', '+アメリカのシリコンバレー流コードスタイルを学び、実践的なアプリ開発の準備をする', 'アメリカシリコンバレーのエンジニアが、Python3の入門、応用、コードスタイルを伝授します。', 'https://t.co/EuG7eQYn3Q', 'practice', 'tweet', 'from', 'python', 'script', 'deployed', 'to', 'heroku:', '#1!', 'RT', '@dumblepytech1:', '@TashaDream1511', 'そうですね、自分の好きな言語で生きてくんだ！って言える状況ならPythonとJavaScriptですけど、SESだろうが土方だろうがエンジニアになれたらなんでも良い状況ならPHPですかね…職場のキラキラ感とか…', 'RT', '@byt3bl33d3r:', 'I', 'made', 'a', 'bunch', 'of', 'Ansible', 'playbooks', 'the', 'other', 'day', 'in', 'order', 'to', 'streamline/automate', 'my', 'workflow', 'during', 'engagements.', 'Specific…', 'RT', '@CouponOnlineCo1:', 'BESTSELLER', 'Courses', 'Free', 'Discount', '-', 'Python', 'for', 'Financial', 'Analysis', 'and', 'Algorithmic', 'Trading', '-&gt;', 'https://t.co/wKXSJ8Vmdx', '#…', 'RT', '@rakko8513:', 'LinkedIn', 'で', '日常会話レベルで', 'R、母国語で', 'Python', 'を使うとんでもない人材を発見した。', 'https://t.co/zYcE2vuNuT', 'RT', '@ZonePhysics:', 'King', 'cobra', 'bites', 'python.', 'Python', 'constricts', 'cobra.', 'Cobra', 'dies', 'of', 'constriction.', 'Python', 'dies', 'from', 'venom.', '100%', 'holy', 'shit..', 'htt…', 'RT', '@JohnMiner3:', '@boston_bi', '#sqlsat813', 'Lists,', 'sets,', 'tuples', 'and', 'dictionaries', 'are', 'data', 'structures', 'in', 'Python', 'that', 'can', 'extend', 'the', 'basic', 'variable…', '3_Loops', 'in', 'Python(Hindi)', 'https://t.co/ES4zZL22HP', 'via', '@YouTube', 'RT', '@kdnuggets:', '6', 'Interesting', 'Things', 'You', 'Can', 'Do', 'with', '#Python', 'on', 'Facebook', 'Data', '#KDN', 'https://t.co/0yX88pnQRL', 'RT', '@kdnuggets:', 'Artificial', 'Neural', 'Networks', 'Optimization', 'using', 'Genetic', 'Algorithm', 'with', 'Python', 'https://t.co/inp0UQTgzn', 'https://t.co/eP9XFErd3M', '君だけに教えてあげるけど、Python専用QAサイト', 'https://t.co/3P6K9ERtUI', 'を作ると儲かる', 'RT', '@math_rachel:', 'How', 'to', 'use', 'if', '__name__', '==', '“__main__', '“', 'by', '@discdiver', 'https://t.co/3iz91oC6jO', 'practice', 'tweet', 'from', 'python', 'script', 'deployed', 'to', 'heroku:', '#0!', 'RT', '@rakko8513:', 'LinkedIn', 'で', '日常会話レベルで', 'R、母国語で', 'Python', 'を使うとんでもない人材を発見した。', 'https://t.co/zYcE2vuNuT', '@WickedEls', '@PeterMacNicol1', 'I', 'thought', 'this', 'was', 'just', 'a', 'Monty', 'Python', 'joke.', '@benshapiro', '@JDKendall18', 'I', 'can', 'see', 'how', 'it’s', 'relaxing', 'though', 'because', 'when', 'I', 'hold', 'my', 'roommates', 'ball', 'python', 'it’s', 'so', 'li…', 'https://t.co/NLrM4ec4mK', 'RT', '@CouponOnlineCo1:', 'BESTSELLER', 'Courses', 'Free', 'Discount', '-', 'Python', 'for', 'Financial', 'Analysis', 'and', 'Algorithmic', 'Trading', '-&gt;', 'https://t.co/wKXSJ8Vmdx', '#…', 'Python是比较容易学的语言🤦\\u200d♂️🤦\\u200d♂️', '#工程师的日常', 'https://t.co/rAAou8esPJ', 'Pythonの型アノテーションに、フォーワード宣言が見当たらなくて死んだ。', 'RT', '@pyconindia:', 'Sponsorship', 'for', 'PyCon', 'India', '2019', 'is', 'open!', 'Get', 'the', 'prospectus', 'from', 'https://t.co/06ieJVPXk3', '#Python', '#PyConIndia2019', 'RT', '@CouponOnlineCo1:', 'BESTSELLER', 'Courses', 'Free', 'Discount', '-', 'Python', 'for', 'Financial', 'Analysis', 'and', 'Algorithmic', 'Trading', '-&gt;', 'https://t.co/wKXSJ8Vmdx', '#…', 'MjAbuz', 'is', 'the', 'Leader', 'of', 'the', 'BD', 'leaderboard', 'for', 'Python', 'with', 'Large', 'codebase', 'size.', 'Technical', 'debt', 'density', 'for', 'public', 'c…', 'https://t.co/sS5297gscp', 'the', 'opposite', 'of', 'clean', 'Python', 'code', 'is', 'continuous', 'integration', 'Computational', 'Logic', '-', 'An', 'Introduction', 'into', 'Abstract', 'Grammars', 'using', 'Python', 'RT', '@rakko8513:', 'LinkedIn', 'で', '日常会話レベルで', 'R、母国語で', 'Python', 'を使うとんでもない人材を発見した。', 'https://t.co/zYcE2vuNuT', 'BESTSELLER', 'Courses', 'Free', 'Discount', '-', 'Python', 'for', 'Financial', 'Analysis', 'and', 'Algorithmic', 'Trading', '-&gt;', 'https://t.co/wKXSJ8Vmdx…', 'https://t.co/9wV9uRierx', 'Help', 'build', 'Ethereum', 'Smart', 'Contracts', 'for', 'a', 'revolutionary', 'Cryptocurrency', 'hedge', 'fund!', 'Ethereum', 'Smart', 'Contract', 'Develop…', 'https://t.co/l4AMUtlUz2', 'Help', 'build', 'Ethereum', 'Smart', 'Contracts', 'for', 'a', 'revolutionary', 'Cryptocurrency', 'hedge', 'fund!', 'Ethereum', 'Smart', 'Contract', 'Develop…', 'https://t.co/6a6mhyEcou', 'RT', '@Shebitweet:', 'https://t.co/QYaONWW23Q', '@CodeSignalCom', '#CodeSignal', '#CodeGoals', '#CodeEveryday', '#Coding', '#Programming', '#Coder', '#Python', '#Codecha…', 'RT', '@lucka_me:', '#万推', '有招聘应届本科生的么…', '地理信息科学（GIS）专业，会一些', 'Android', '开发，有做过一些简单的应用，会', 'Kotlin，会一点', 'Python。', '然后因为专业的缘故，GIS', '开发和地图生产也算会一点。', '所以想找', 'Android', '开发或者', 'GI…', 'RT', '@Shebitweet:', 'https://t.co/QYaONWW23Q', '@CodeSignalCom', '#CodeSignal', '#CodeGoals', '#CodeEveryday', '#Coding', '#Programming', '#Coder', '#Python', '#Codecha…', 'RT', '@realpython:', 'Forecasting', 'in', 'Python', 'with', 'Prophet', 'https://t.co/rlvPtMY5uQ', 'https://t.co/QYaONWW23Q', '@CodeSignalCom', '#CodeSignal', '#CodeGoals', '#CodeEveryday', '#Coding', '#Programming', '#Coder', '#Python…', 'https://t.co/D9fM6tlmvJ', 'RT', '@PyImageSearch:', 'Big', 'news', 'today!🚀💥', '-', \"I'm\", 'writing', 'a', 'brand', 'new', 'book', 'on', '#ComputerVision', 'with', 'the', '@Raspberry_Pi!', '-', '40+', 'chapters', 'planned', 'on', 'CV…', '@rockyknowsbest', 'Is', 'that', 'your', 'pet?', 'That', 'python', 'doesn’t', 'strike', 'me', 'as', 'native', 'to', 'the', 'area', 'RT', '@pyconindia:', 'Sponsorship', 'for', 'PyCon', 'India', '2019', 'is', 'open!', 'Get', 'the', 'prospectus', 'from', 'https://t.co/06ieJVPXk3', '#Python', '#PyConIndia2019', 'RT', '@BBCkatyaadler:', 'EU', 'has', 'almost', 'given', 'up', 'trying', 'to', 'understand', 'what’s', 'going', 'on', 'in', 'UK.', 'Dutch', 'PM', 'Rutte', 'compares', 'Theresa', 'May', 'to', 'Monty', 'Python', 'k…', 'RT', '@byt3bl33d3r:', 'I', 'made', 'a', 'bunch', 'of', 'Ansible', 'playbooks', 'the', 'other', 'day', 'in', 'order', 'to', 'streamline/automate', 'my', 'workflow', 'during', 'engagements.', 'Specific…', 'RT', '@PyImageSearch:', 'Big', 'news', 'today!🚀💥', '-', \"I'm\", 'writing', 'a', 'brand', 'new', 'book', 'on', '#ComputerVision', 'with', 'the', '@Raspberry_Pi!', '-', '40+', 'chapters', 'planned', 'on', 'CV…', 'Tableau', 'or', 'Data', 'Analyst', 'expert', 'for', 'Cohort', 'Analysis', 'I', 'have', 'some', 'customer', 'subscription', 'data', 'for', 'a', 'SaaS', 'platform', 'and…', 'https://t.co/o8XeYa15MR', 'RT', '@shyamjose:', 'I', 'am', 'planning', 'to', 'learn', '#kubernetes', 'this', 'week,', 'As', 'a', 'first', 'step', 'I', 'wrote', 'a', 'simple', 'image', 'crawler/downloader', 'microservice', 'app', 'in…', 'RT', '@rakko8513:', 'LinkedIn', 'で', '日常会話レベルで', 'R、母国語で', 'Python', 'を使うとんでもない人材を発見した。', 'https://t.co/zYcE2vuNuT', \"Don't\", 'forget', 'the', '#Portland', '#Python', 'Pirates', 'meetup.', 'Join', 'us!', 'https://t.co/iOefpZjuPk', '天丼です', 'お、美味しかったけど財布が', 'https://t.co/mEf7ciNmDu', 'RT', '@CouponOnlineCo1:', 'NEW', 'Courses', 'Free', 'Discount', '-', 'Learn', 'React', 'and', 'Redux', 'by', 'examples', '-&gt;', 'https://t.co/cVI6fozq6Q', '#udemy', '#coupons', '#100DaysOfCo…', 'RT', '@atsuoishimoto:', 'Stackoverflow', 'trendsでみると、JavascriptよりPythonの質問のほうが多くなってる', 'https://t.co/0DMnAB6GkY', 'https://t.co/9CxC42Yo7p', 'RT', '@qcifltd:', 'Did', 'someone', 'say', 'free', '#Python', 'workshop', '@Griffith_Uni?', '@Griffith_Uni', '@GU_Sciences', '@GriffithLibrary', '@citiesres', '@Griffith_ENV', '@f…', '@ngjarhead', 'monte', 'python?', 'Jesus', 'that', 'birth', 'at', 'the', 'first...\"Be', 'a', 'dearie', 'and', 'grab', 'that...\"', 'RT', '@ZonePhysics:', 'King', 'cobra', 'bites', 'python.', 'Python', 'constricts', 'cobra.', 'Cobra', 'dies', 'of', 'constriction.', 'Python', 'dies', 'from', 'venom.', '100%', 'holy', 'shit..', 'htt…', 'The', 'Mighty', 'Python', 'It’s', 'always', 'so', 'challenging', 'to', 'click', 'this', 'snake', 'in', 'wild.', '#yesindia', '#streetphotography', '#rajasthan…', 'https://t.co/xzQZqOHpIb', 'RT', '@rakko8513:', 'LinkedIn', 'で', '日常会話レベルで', 'R、母国語で', 'Python', 'を使うとんでもない人材を発見した。', 'https://t.co/zYcE2vuNuT', 'RT', '@CouponOnlineCo1:', 'NEW', 'Courses', 'Free', 'Discount', '-', 'Learn', 'React', 'and', 'Redux', 'by', 'examples', '-&gt;', 'https://t.co/cVI6fozq6Q', '#udemy', '#coupons', '#100DaysOfCo…', 'RT', '@TeraBytesMemory:', 'Python高速化に関する勉強会を企画しています（４月下旬〜５月に開催予定）', 'https://t.co/4LAKtr8XcI', '登壇者募集していますので、喋りたい方は気軽にメッセかDMください！', 'ブラウザ内でPython、NumPyなども利用可能：Webブラウザ中でデータサイエンスが可能な実験ツール「Iodide」をMozillaが公開', '-', '＠IT', 'https://t.co/stXRKVVcIl', 'RT', '@byt3bl33d3r:', 'I', 'made', 'a', 'bunch', 'of', 'Ansible', 'playbooks', 'the', 'other', 'day', 'in', 'order', 'to', 'streamline/automate', 'my', 'workflow', 'during', 'engagements.', 'Specific…', '朝活Python', '自然言語100本ノック②', 'in', '池袋（RAKUNA池袋東口）', '@', '東京都豊島区東池袋１丁目', '３９−１５', 'シャトレー東池袋', '508号室', 'https://t.co/Dl1x9RPVHt', 'RT', '@rakko8513:', 'LinkedIn', 'で', '日常会話レベルで', 'R、母国語で', 'Python', 'を使うとんでもない人材を発見した。', 'https://t.co/zYcE2vuNuT', 'RT', '@ZonePhysics:', 'King', 'cobra', 'bites', 'python.', 'Python', 'constricts', 'cobra.', 'Cobra', 'dies', 'of', 'constriction.', 'Python', 'dies', 'from', 'venom.', '100%', 'holy', 'shit..', 'htt…', 'RT', '@rakko8513:', 'LinkedIn', 'で', '日常会話レベルで', 'R、母国語で', 'Python', 'を使うとんでもない人材を発見した。', 'https://t.co/zYcE2vuNuT', 'RT', '@rakko8513:', 'LinkedIn', 'で', '日常会話レベルで', 'R、母国語で', 'Python', 'を使うとんでもない人材を発見した。', 'https://t.co/zYcE2vuNuT', '株式会社筑邦銀行', '2014年3月期：676人', '2015年3月期：696人', '2016年3月期：684人', '2017年3月期：680人', '2018年3月期：637人', '#python', '#有価証券報告書', '#従業員数', 'RT', '@realpython:', 'Forecasting', 'in', 'Python', 'with', 'Prophet', 'https://t.co/rlvPtMY5uQ', 'Stackoverflow', 'trendsでみると、JavascriptよりPythonの質問のほうが多くなってる', 'https://t.co/0DMnAB6GkY', 'https://t.co/9CxC42Yo7p', 'RT', '@emmasam99:', 'So', 'I', 'just', 'picked', 'up', 'a', 'ball', 'python', 'who', 'survived', 'being', 'put', 'through', 'the', 'washing', 'machine...', 'how’s', 'your', 'day', 'going?', 'RT', '@ZonePhysics:', 'King', 'cobra', 'bites', 'python.', 'Python', 'constricts', 'cobra.', 'Cobra', 'dies', 'of', 'constriction.', 'Python', 'dies', 'from', 'venom.', '100%', 'holy', 'shit..', 'htt…', 'Plotting', 'the', '#stock', 'Average', 'Directional', 'Movement', 'Index', 'Rating', 'on', 'the', 'graph', 'with', '#python', 'https://t.co/Er5NR8BuYe', 'RT', '@ZonePhysics:', 'King', 'cobra', 'bites', 'python.', 'Python', 'constricts', 'cobra.', 'Cobra', 'dies', 'of', 'constriction.', 'Python', 'dies', 'from', 'venom.', '100%', 'holy', 'shit..', 'htt…', 'RT', '@CouponOnlineCo1:', 'NEW', 'Courses', 'Free', 'Discount', '-', 'Learn', 'React', 'and', 'Redux', 'by', 'examples', '-&gt;', 'https://t.co/cVI6fozq6Q', '#udemy', '#coupons', '#100DaysOfCo…', 'RT', '@BBCkatyaadler:', 'EU', 'has', 'almost', 'given', 'up', 'trying', 'to', 'understand', 'what’s', 'going', 'on', 'in', 'UK.', 'Dutch', 'PM', 'Rutte', 'compares', 'Theresa', 'May', 'to', 'Monty', 'Python', 'k…', 'RT', '@ZonePhysics:', 'King', 'cobra', 'bites', 'python.', 'Python', 'constricts', 'cobra.', 'Cobra', 'dies', 'of', 'constriction.', 'Python', 'dies', 'from', 'venom.', '100%', 'holy', 'shit..', 'htt…', 'ほほぅ、Lambda＋Pythonですか：SST式サーバレスハニーポット始動！', '-', 'SSTエンジニアブログ', 'https://t.co/taTfRdURed', '@yoskmr', 'ローカルでrun(debug=True)をpythonで動かす.pyのコードに記述したのですがエラーを吐いてもらえないです＞＜', 'Heroku上の話ですか？', 'NEW', 'Courses', 'Free', 'Discount', '-', 'Learn', 'React', 'and', 'Redux', 'by', 'examples', '-&gt;', 'https://t.co/cVI6fozq6Q', '#udemy', '#coupons…', 'https://t.co/JzxVnjBcp7', \"it's\", 'one', 'of', 'those', 'nice', 'monty', 'python', 'morning', 'https://t.co/ysCqgVxkqv', 'I', 'am', 'planning', 'to', 'learn', '#kubernetes', 'this', 'week,', 'As', 'a', 'first', 'step', 'I', 'wrote', 'a', 'simple', 'image', 'crawler/downloader', 'microservi…', 'https://t.co/NKOVj2IdbN', 'Remember', 'That', 'is', 'not', 'the', 'attacker', 'he', 'is', 'bloody', 'terrorist', 'But', 'why', 'do', 'not', 'western', 'people', 'even', 'consider', 'him', 'as', 'a', 'pytho…', 'https://t.co/ZBmgdxrUp5', '@GamerForensic', '@ToolsWatch', '@BlackHatEvents', 'Python', 'for', 'the', 'back', 'end,', 'react/typescript', 'for', 'the', 'front', 'end', '@Str8_FactsB', 'Python', 'is', 'on', 'my', 'board,', 'and', 'need', 'to', 'put', 'it', 'together', '2_Taking', 'Input', 'in', 'Python(Hindi)', 'https://t.co/lzf5Gfvuf4', 'via', '@YouTube', 'RT', '@JbAviat:', '@FrancisBrero', '@SqreenIO', '@guyzmo', '@fabi1cazenave', '@syl20j', '@tupperVim', '@keyboardio', '@UltHackKeyboard', 'We', 'are', 'still', 'looking', 'for', 'a', 'bépo…', 'RT', '@DanJGale:', 'Curious', 'about', 'using', 'Python', 'for', 'fMRI?', 'Check', 'out', 'the', 'first', 'post', 'of', 'my', 'new', 'blog', 'series', 'on', 'what', 'Python', 'has', 'to', 'offer', 'for', 'fMRI', 'an…', '@jhaushofer', 'Hi', '@jhaushofer,', 'i', 'hold', 'a', 'degree', 'in', 'Human', 'Resource', 'Management', 'and', 'a', 'CPA', 'K,', 'I', 'also', 'have', 'web', 'development', 'e…', 'https://t.co/xLPd9cwTdu', '@emilyst', \"I've\", 'yet', 'to', 'go', 'back', 'and', 'rewrite', 'it', 'the', 'other', 'way', 'around', '(GUI', 'in', 'main', 'process,', 'every', 'other', 'python', 'bit', 'in', 'subprocess)', 'RT', '@datasciencezing:', '#computervision', '#computervisiontechnology', '#computervisions', '#computervisionalgorithms', '#computervisionengineer', '#compu…', 'RT', '@pyconindia:', 'Sponsorship', 'for', 'PyCon', 'India', '2019', 'is', 'open!', 'Get', 'the', 'prospectus', 'from', 'https://t.co/06ieJVPXk3', '#Python', '#PyConIndia2019', 'RT', '@BBCkatyaadler:', 'EU', 'has', 'almost', 'given', 'up', 'trying', 'to', 'understand', 'what’s', 'going', 'on', 'in', 'UK.', 'Dutch', 'PM', 'Rutte', 'compares', 'Theresa', 'May', 'to', 'Monty', 'Python', 'k…', 'Y’all', 'are', 'sleeping', 'on', 'my', 'Rock', 'Paper', 'Scissors', 'article.', '#teaching', '#100daysofcode', '#python', 'https://t.co/JZiN2lbqpm', 'Forecasting', 'in', 'Python', 'with', 'Prophet', 'https://t.co/rlvPtMY5uQ', 'RT', '@LanaBintadiaz:', 'Udemy', 'Course', 'Discount', 'Python', 'Link', ':', 'https://t.co/XZpQA7dk8D', '#Python', '#DevOps', '#WebsiteTraffic', '#100DaysOfCode', '#Fullstack', '#…', 'Put', 'together', 'a', 'little', 'BTC', 'python', 'script', 'for', 'my', 'arcade', 'machine', 'needs', 'a', 'little', 'more', 'testing', 'before', 'I', 'github', 'it', 'for', 're…', 'https://t.co/QnpCjgF6Re', 'My', 'coworker', 'is', 'always', 'telling', 'me', 'Monty', 'python', 'and', 'the', 'holy', 'grail', 'is', 'a', 'good', 'movie.', 'Way', 'too', 'bazaar', 'for', 'me', 'RT', '@martinssempa:', 'Wild:', 'King', 'cobra', 'bites', 'python.', 'Python', 'constricts', 'cobra.', 'Cobra', 'dies', 'of', 'constriction.', 'Python', 'dies', 'from', 'venom.', 'This', 'is', 'why', 'w…', 'RT', '@rakko8513:', 'LinkedIn', 'で', '日常会話レベルで', 'R、母国語で', 'Python', 'を使うとんでもない人材を発見した。', 'https://t.co/zYcE2vuNuT', 'RT', '@ZonePhysics:', 'King', 'cobra', 'bites', 'python.', 'Python', 'constricts', 'cobra.', 'Cobra', 'dies', 'of', 'constriction.', 'Python', 'dies', 'from', 'venom.', '100%', 'holy', 'shit..', 'htt…', '#HRCentralJobs', '#RandomForest', '#SVM', '#XGBoost', '#NeuralNetworks', '#Python', '#SAS', '#SPSSModeler', '#MSAzure', '#AzureMLStudio', '#AWS…', 'https://t.co/rakfHeIv5T', '@dmonty_python', 'My', 'ideal', 'top', 'four', \"would've\", 'been', 'Veteran,', 'Die', 'Lit,', 'TA13OO', 'and', 'Some', 'Rap', 'Songs', 'imo', '[はてなブックマーク新着]', 'PythonでSeleniumを使い毎朝の業務を自動化させたらストレスから開放された件について、手こずった点を列挙する', '-', 'アウトプットして苦悩する', 'https://t.co/Hp1i43SRufでSe…', 'https://t.co/1ZUGEnjIqN', 'Ate', 'com', 'a', 'voltinha', 'do', 'bigode', 'das', 'pessoa', 'vcs', 'tao', 'implicando', 'Fi', 'vai', 'la', 'fazer', 'umas', 'flexao', 'sei', 'la', 'toma', 'um', 'açaí', 'sei', 'la…', 'https://t.co/z52DXHpfgh', 'RT', '@ZonePhysics:', 'King', 'cobra', 'bites', 'python.', 'Python', 'constricts', 'cobra.', 'Cobra', 'dies', 'of', 'constriction.', 'Python', 'dies', 'from', 'venom.', '100%', 'holy', 'shit..', 'htt…', 'RT', '@ZonePhysics:', 'King', 'cobra', 'bites', 'python.', 'Python', 'constricts', 'cobra.', 'Cobra', 'dies', 'of', 'constriction.', 'Python', 'dies', 'from', 'venom.', '100%', 'holy', 'shit..', 'htt…', '母国語でPython話せる人材、ちょっと前の楽天向き', 'RT', '@ZonePhysics:', 'King', 'cobra', 'bites', 'python.', 'Python', 'constricts', 'cobra.', 'Cobra', 'dies', 'of', 'constriction.', 'Python', 'dies', 'from', 'venom.', '100%', 'holy', 'shit..', 'htt…', '仲間たちの命を預かり、その重さに耐えられるか', 'スネーク', 'RT', '@pyconindia:', 'Sponsorship', 'for', 'PyCon', 'India', '2019', 'is', 'open!', 'Get', 'the', 'prospectus', 'from', 'https://t.co/06ieJVPXk3', '#Python', '#PyConIndia2019', 'RT', '@JODYHiGHROLLER:', '\\U0001f9e0\\U0001f9e0\\U0001f9e0\\U0001f9e0\\U0001f9e0\\U0001f9e0\\U0001f9e0', 'RiFF', 'RAFF', '\\U0001f9e0\\U0001f9e0\\U0001f9e0\\U0001f9e0\\U0001f9e0\\U0001f9e0\\U0001f9e0', 'PiNK', 'PYTHōN', '\\U0001f9e0\\U0001f9e0\\U0001f9e0\\U0001f9e0\\U0001f9e0\\U0001f9e0\\U0001f9e0\\U0001f9e0', 'APRiL', '12', '\\U0001f9e0\\U0001f9e0\\U0001f9e0\\U0001f9e0\\U0001f9e0\\U0001f9e0\\U0001f9e0\\U0001f9e0', 'ALBUM', 'PRE-SALE', 'LiNK:', 'https://t.co/FbNQZK44Aj', 'h…', '@Hawkworld_', '@BenHartWithNoE', 'All', 'I', 'can', 'think', 'of', 'now', 'is', 'Tim', 'The', 'Enchanter', 'now', 'from', 'Monty', 'Python', 'lol', 'RT', '@rakko8513:', 'LinkedIn', 'で', '日常会話レベルで', 'R、母国語で', 'Python', 'を使うとんでもない人材を発見した。', 'https://t.co/zYcE2vuNuT', 'RT', '@classcentral:', '[Starts', 'Today]', 'Programming', 'for', 'Everybody', '(Getting', 'Started', 'with', 'Python)', 'from', 'University', 'of', 'Michigan', 'on', 'Coursera', '★★★★★', '(54…', 'RT', '@robvaldezcpa:', 'Day077', 'of', '#100DaysOfCode.', 'More', 'open', 'data.', 'A', 'chart', 'of', 'the', 'history', 'of', 'total', 'human', 'populations', 'over', 'time', '#pandas,', '#matplotli…', 'King', 'Cobra', 'And', 'Giant', 'Python', 'Literally', 'Fight', 'To', 'The', 'Death', 'Of', 'Both', 'Lethal', 'Snakes', 'https://t.co/wmHY0HRtkH', 'RT', '@ZonePhysics:', 'King', 'cobra', 'bites', 'python.', 'Python', 'constricts', 'cobra.', 'Cobra', 'dies', 'of', 'constriction.', 'Python', 'dies', 'from', 'venom.', '100%', 'holy', 'shit..', 'htt…', '@Uhaba', 'not', 'much', 'honestly.', 'if', 'you', 'know', 'the', 'diff', 'data', 'types', 'and', 'know', 'how', 'to', 'declare', 'variables', 'and', 'can', 'follow', 'along', 'wi…', 'https://t.co/hZy6uzFKXp', 'Day077', 'of', '#100DaysOfCode.', 'More', 'open', 'data.', 'A', 'chart', 'of', 'the', 'history', 'of', 'total', 'human', 'populations', 'over', 'time', '#pandas,…', 'https://t.co/SCfNEhJMJT', 'RT', '@LanaBintadiaz:', 'Udemy', 'Course', 'Discount', 'Python', 'Link', ':', 'https://t.co/XZpQA7dk8D', '#Python', '#DevOps', '#WebsiteTraffic', '#100DaysOfCode', '#Fullstack', '#…', 'RT', '@couponfree01:', 'Udemy', 'Free', 'Discount', 'Learn', 'React', '16', 'and', 'Redux', 'by', 'building', 'real', 'world', 'Application', '#udemycoupon', '-&gt;', 'https://t.co/OZEkTrGB3u…', 'RT', '@couponfree01:', 'Udemy', 'Free', 'Discount', 'Learn', 'React', '16', 'and', 'Redux', 'by', 'building', 'real', 'world', 'Application', '#udemycoupon', '-&gt;', 'https://t.co/OZEkTrGB3u…', 'RT', '@BBCkatyaadler:', 'EU', 'has', 'almost', 'given', 'up', 'trying', 'to', 'understand', 'what’s', 'going', 'on', 'in', 'UK.', 'Dutch', 'PM', 'Rutte', 'compares', 'Theresa', 'May', 'to', 'Monty', 'Python', 'k…', 'RT', '@rakko8513:', 'LinkedIn', 'で', '日常会話レベルで', 'R、母国語で', 'Python', 'を使うとんでもない人材を発見した。', 'https://t.co/zYcE2vuNuT', 'RT', '@Aquilaniie:', 'มีเจ้านึงอยากได้', 'BA', 'โดยมีข้อแม้ว่า', '-', 'เขียน', 'business', 'flow', 'และ', 'swim', 'lane', '-', 'ออกแบบ', 'mockup', '-', 'ออกแบบ', 'UX/Ui', '-', 'ออกแบบ', 'Test', 'case', '-…', 'RT', '@rakko8513:', 'LinkedIn', 'で', '日常会話レベルで', 'R、母国語で', 'Python', 'を使うとんでもない人材を発見した。', 'https://t.co/zYcE2vuNuT', '[Starts', 'Today]', 'Programming', 'for', 'Everybody', '(Getting', 'Started', 'with', 'Python)', 'from', 'University', 'of', 'Michigan', 'on', 'Coursera', '★★★…', 'https://t.co/yLLWgZvpTg', 'さっきRTしたPython', 'IDE、起動した瞬間にこれが出てくるので、print(abc)って書いたらエラー吐いた使えねえってレビューがますますよくわからなくなった', 'https://t.co/lhCS2A5hzf', 'or,', 'maybe,', 'Python', 'badger', 'pythonでサッと書けそう', 'RT', '@linuxjournal:', 'Tech', 'Tip:', 'Really', 'Simple', 'HTTP', 'Server', 'with', 'Python', 'If', 'you', 'need', 'a', 'quick', 'web', 'server', 'running', 'and', 'you', \"don't\", 'want', 'to', 'mess', 'with', 'se…', 'RT', '@ZonePhysics:', 'King', 'cobra', 'bites', 'python.', 'Python', 'constricts', 'cobra.', 'Cobra', 'dies', 'of', 'constriction.', 'Python', 'dies', 'from', 'venom.', '100%', 'holy', 'shit..', 'htt…', 'RT', '@couponfree01:', 'Udemy', 'Free', 'Discount', 'Learn', 'React', '16', 'and', 'Redux', 'by', 'building', 'real', 'world', 'Application', '#udemycoupon', '-&gt;', 'https://t.co/OZEkTrGB3u…', 'RT', '@couponfree01:', 'Udemy', 'Free', 'Discount', 'Learn', 'React', '16', 'and', 'Redux', 'by', 'building', 'real', 'world', 'Application', '#udemycoupon', '-&gt;', 'https://t.co/OZEkTrGB3u…', 'RT', '@JODYHiGHROLLER:', '\\U0001f9e0\\U0001f9e0\\U0001f9e0\\U0001f9e0\\U0001f9e0\\U0001f9e0\\U0001f9e0', 'RiFF', 'RAFF', '\\U0001f9e0\\U0001f9e0\\U0001f9e0\\U0001f9e0\\U0001f9e0\\U0001f9e0\\U0001f9e0', 'PiNK', 'PYTHōN', '\\U0001f9e0\\U0001f9e0\\U0001f9e0\\U0001f9e0\\U0001f9e0\\U0001f9e0\\U0001f9e0\\U0001f9e0', 'APRiL', '12', '\\U0001f9e0\\U0001f9e0\\U0001f9e0\\U0001f9e0\\U0001f9e0\\U0001f9e0\\U0001f9e0\\U0001f9e0', 'ALBUM', 'PRE-SALE', 'LiNK:', 'https://t.co/FbNQZK44Aj', 'h…', 'RT', '@LanaBintadiaz:', 'Udemy', 'Course', 'Discount', 'Python', 'Link', ':', 'https://t.co/XZpQA7dk8D', '#Python', '#DevOps', '#WebsiteTraffic', '#100DaysOfCode', '#Fullstack', '#…', 'Did', 'someone', 'say', 'free', '#Python', 'workshop', '@Griffith_Uni?', '@Griffith_Uni', '@GU_Sciences', '@GriffithLibrary', '@citiesres…', 'https://t.co/3DerxkMp7Y', 'ちなみにぱいそんを描いてみたくなったら描いてみてもいいんだぜ。描いてみたらリプライとかで教えて見せてくれたりするとうれしいんだぜ（ドヤァ）', 'RT', '@ZonePhysics:', 'King', 'cobra', 'bites', 'python.', 'Python', 'constricts', 'cobra.', 'Cobra', 'dies', 'of', 'constriction.', 'Python', 'dies', 'from', 'venom.', '100%', 'holy', 'shit..', 'htt…', 'RT', '@Musashi_aub:', '個人情報ダダ漏れ！？破産者マップの何がヤバくてダメなのかを解説', 'https://t.co/V605oCChS1', '@web_pythonさんから', 'RT', '@ForValentia:', 'Alm:I', 'think', 'it’s', 'time', 'for', 'me', 'to', 'ban', 'self-deprecating', 'humor', 'from', 'the', 'Deliverance', 'Python,', 'fucking', 'around', 'in', 'the', 'woods', 'somewh…', 'RT', '@RetweetedRajeev:', 'Putting', 'ML', 'in', 'production', 'I:', 'using', 'Apache', 'Kafka', 'in', 'Python.', 'https://t.co/dgxcdY6KJL', '#AI', '#ML', '#MachineLearning', '#DeepLearni…', 'RT', '@Aquilaniie:', 'มีเจ้านึงอยากได้', 'BA', 'โดยมีข้อแม้ว่า', '-', 'เขียน', 'business', 'flow', 'และ', 'swim', 'lane', '-', 'ออกแบบ', 'mockup', '-', 'ออกแบบ', 'UX/Ui', '-', 'ออกแบบ', 'Test', 'case', '-…', 'RT', '@couponfree01:', 'Udemy', 'Free', 'Discount', 'Learn', 'React', '16', 'and', 'Redux', 'by', 'building', 'real', 'world', 'Application', '#udemycoupon', '-&gt;', 'https://t.co/OZEkTrGB3u…', 'RT', '@goando:', 'す、すごい...', '#goando_datasketch', 'のグラフをプロットするPythonモジュールを作っていただきました！', 'かっこいいグラフを作るPythonモジュールPyCoolPlotを作った', '-', 'MyEnigma', 'https://t.co/EA…', 'Putting', 'ML', 'in', 'production', 'I:', 'using', 'Apache', 'Kafka', 'in', 'Python.', 'https://t.co/dgxcdY6KJL', '#AI', '#ML', '#MachineLearning…', 'https://t.co/7dVuw8JcRd', 'RT', '@rakko8513:', 'LinkedIn', 'で', '日常会話レベルで', 'R、母国語で', 'Python', 'を使うとんでもない人材を発見した。', 'https://t.co/zYcE2vuNuT', 'And', 'Now', 'This:', '‘Master/Slave’', 'Terminology', 'Was', 'Removed', 'from', 'Python', 'Programming', 'Language', '-', 'Motherboard', '#pyton…', 'https://t.co/NX6c504KkE', 'RT', '@rakko8513:', 'LinkedIn', 'で', '日常会話レベルで', 'R、母国語で', 'Python', 'を使うとんでもない人材を発見した。', 'https://t.co/zYcE2vuNuT', 'Head', 'First', 'Learn', 'To', 'Code', 'https://t.co/f0i4Rz9h8U', '#software', '#development', '#python', '“Django(Python)開発環境構築時メモ', '-', 'Qiita”', '(1', 'user)', 'https://t.co/64FGMyYj6e', '#django', '#cloud9', '#python', '#qiita', '@ChargeGiveaways', 'You', 'da', 'best', 'my', 'ps4', 'name', 'is', 'The_Python_Beest', 'RTやいいねの数とかはあまりにも多くて支障が出るとかじゃない限り気にしないんだけど、この人に届いたらいいなと思って描いた絵がその人にﾍｧﾎﾞされたりすると嬉しくなる。僕もにんg', 'タコなので。', 'RT', '@BeardySmeardy:', '#Spectrum', 'My', '#InternetSpeed', ':', 'Ping:', '43.092', 'ms', 'Download:', '140.64', 'Mbit/s', 'Upload:', '10.76', 'Mbit/s', '#automagic', '#python', '#corporate…', '@emilyst', 'I', 'have', 'written', 'a', 'lot', 're:', 'pyobjc', '(example:', 'custom', 'signatures:', 'https://t.co/9kMExaA03B)', 'Tip:', 'run', 'the', 'loop…', 'https://t.co/3nYBfujU0O', 'RT', '@rakko8513:', 'LinkedIn', 'で', '日常会話レベルで', 'R、母国語で', 'Python', 'を使うとんでもない人材を発見した。', 'https://t.co/zYcE2vuNuT', '#Spectrum', 'My', '#InternetSpeed', ':', 'Ping:', '43.092', 'ms', 'Download:', '140.64', 'Mbit/s', 'Upload:', '10.76', 'Mbit/s', '#automagic', '#python', '#corporateaccountability', '#computervision', '#computervisiontechnology', '#computervisions', '#computervisionalgorithms', '#computervisionengineer…', 'https://t.co/Q9gdG6dZN3', 'Putting', 'ML', 'in', 'production', 'I:', 'using', 'Apache', 'Kafka', 'in', 'Python.', 'https://t.co/P5nWy9zLsC', '#AI', '#ML', '#MachineLearning…', 'https://t.co/yCQ815B7Gw', 'さらーっと絵を描くとき', 'RT', '@InfoProNetwork:', 'IAM', 'Platform', 'Curated', 'Retweet:', 'Via:', 'https://t.co/3WBUjs7Mpe', 'What’s', 'New', 'with', 'the', '#AI', 'and', '#MachineLearning', 'Tools', 'for', '#Py…', 'RT', '@ZonePhysics:', 'King', 'cobra', 'bites', 'python.', 'Python', 'constricts', 'cobra.', 'Cobra', 'dies', 'of', 'constriction.', 'Python', 'dies', 'from', 'venom.', '100%', 'holy', 'shit..', 'htt…', 'python,djangoでモデルからフォームを簡単に作る', 'https://t.co/gQOhuGH5cT', '@pycharm', 'From', 'https://t.co/66X0MQHa1l', 'their', 'official', 'website,', 'Python', '3.7.1.', 'is', 'their', 'any', 'other', 'place', 'I', 'can', 'download…', 'https://t.co/erZkZ9yLmm', 'RT', '@XOXAINEDEEZY:', 'my', 'first', 'python', 'program.', 'checks', 'the', 'price', 'of', 'bitcoin,', 'litecoin,', 'and', 'ethereum', 'from', '@coinbase', '#python', 'https://t.co/mYvrBmXC…', 'RT', '@wyoumans:', 'Strange', 'that', 'six', 'Ferguson', 'activists', 'have', 'died.', 'This', 'report', 'also', 'mentions', 'a', 'few', 'threats', 'against', 'others,', 'including', 'Rev.', 'Darryl…', '【Auto', 'Post】No', 'trade', '#phi_shinonome', '#FX', '#python', '【2019/03/19', '04:00:04】', '#Python', '2', 'print(False)', 'False', '=', 'True', 'print(False)', 'print(\"True', '==', 'False\",', 'True', '==', 'False)', 'Partitioned', 'tables', 'in', 'Postgres', 'https://t.co/ZUFtHCtaWA', '#postgres', '#dba', '#database', '#python', '#learnpython', 'Only', '9', 'months', '12', 'days', '20', 'hours', 'left', 'until', 'Python', '2', 'retires', 'IAM', 'Platform', 'Curated', 'Retweet:', 'Via:', 'https://t.co/3WBUjs7Mpe', 'What’s', 'New', 'with', 'the', '#AI', 'and', '#MachineLearning', 'Tools', 'for…', 'https://t.co/iDhjDtMUQM', 'さすがにそろそろpythonで置き換わるとかいう話も出てるし、負の遺産扱いされることも多いけど、書き捨て上等でツール的に使うのは今でもとっても便利だと思ってる。膨大な数のExcelファイルをさばくのに人海戦術とかNO！と大きな声で言えるし。', 'RT', '@JODYHiGHROLLER:', '\\U0001f9e0\\U0001f9e0\\U0001f9e0\\U0001f9e0\\U0001f9e0\\U0001f9e0\\U0001f9e0', 'RiFF', 'RAFF', '\\U0001f9e0\\U0001f9e0\\U0001f9e0\\U0001f9e0\\U0001f9e0\\U0001f9e0\\U0001f9e0', 'PiNK', 'PYTHōN', '\\U0001f9e0\\U0001f9e0\\U0001f9e0\\U0001f9e0\\U0001f9e0\\U0001f9e0\\U0001f9e0\\U0001f9e0', 'APRiL', '12', '\\U0001f9e0\\U0001f9e0\\U0001f9e0\\U0001f9e0\\U0001f9e0\\U0001f9e0\\U0001f9e0\\U0001f9e0', 'ALBUM', 'PRE-SALE', 'LiNK:', 'https://t.co/FbNQZK44Aj', 'h…', 'RT', '@ZonePhysics:', 'King', 'cobra', 'bites', 'python.', 'Python', 'constricts', 'cobra.', 'Cobra', 'dies', 'of', 'constriction.', 'Python', 'dies', 'from', 'venom.', '100%', 'holy', 'shit..', 'htt…', 'RT', '@byt3bl33d3r:', 'I', 'made', 'a', 'bunch', 'of', 'Ansible', 'playbooks', 'the', 'other', 'day', 'in', 'order', 'to', 'streamline/automate', 'my', 'workflow', 'during', 'engagements.', 'Specific…', '@edyjp', 'おっPython', 'RT', '@Harry1T6:', 'Random', 'thought:', 'lotta', 'great', 'music', 'written', 'through', '‘70-80s', 'was', 'abt', 'middle-class:', 'ppl', 'who', 'worked', 'in', 'factories,', 'steel', 'mills.', 'Nob…', '@bitandbang', 'Sometimes', 'scraping', 'or', 'data', 'transformations,', 'but', 'I', 'prefer', 'scrapy', '(python),', 'and', 'ruby', 'or', 'python', 'for', 'those', 'respectively', 'RT', '@gisuser:', 'Learn', 'to', 'code', 'like', 'a', 'professional', 'with', 'Python', '-', 'an', 'open', 'source,', 'versatile,', 'and', 'powerful', 'programming', 'language', 'https://t.co/vxmC…', 'Developing', 'Python', 'Web', 'Applications', 'with', 'Flask', 'https://t.co/3zK1BD0HEh', 'https://t.co/rOtCRG9ESG', 'Udemy', 'Course', 'Discount', 'Python', 'Link', ':', 'https://t.co/XZpQA7dk8D', '#Python', '#DevOps', '#WebsiteTraffic', '#100DaysOfCode…', 'https://t.co/fh47PPmGum', 'RT', '@linuxjournal:', 'Tech', 'Tip:', 'Really', 'Simple', 'HTTP', 'Server', 'with', 'Python', 'If', 'you', 'need', 'a', 'quick', 'web', 'server', 'running', 'and', 'you', \"don't\", 'want', 'to', 'mess', 'with', 'se…', 'RT', '@TeraBytesMemory:', 'Python高速化に関する勉強会を企画しています（４月下旬〜５月に開催予定）', 'https://t.co/4LAKtr8XcI', '登壇者募集していますので、喋りたい方は気軽にメッセかDMください！', '@benlower', 'great', 'way', 'for', '@tableau', 'to', 'get', 'attention', 'of', '1m', 'developers', 'for', '60', 'minutes,', 'sponsor', 'https://t.co/5ARNnMHgyE', 'RT', '@rakko8513:', 'LinkedIn', 'で', '日常会話レベルで', 'R、母国語で', 'Python', 'を使うとんでもない人材を発見した。', 'https://t.co/zYcE2vuNuT', 'RT', '@oakbarreljerky:', 'OAKBARRELJERKY', 'https://t.co/qG8uJHmCOe', 'via', '@Etsy', 'Howdy,', 'Happy', 'New', 'Year!', 'Just', 'listed', 'a', 'batch', 'of', 'Peppered', 'Python!', 'More', 'wh…', 'RT', '@bikash63:', '@ColTekpal', '@DefenceMinIndia', 'Sir', 'I', 'was', 'alloted', 'this', 'palace', 'in', 'my', 'sudden', 'posting', 'to', 'AF', 'Dinjan', 'in', '96', 'May.', 'My', 'wife', 'pregnant.', 'Elde…', '#駆け出しエンジニアと繋がりたい', '#python', '#プログラミング', '#プログラミング初心者', '#プログラミング学習', '【ファイナンス】企業価値とは何なのか？', 'https://t.co/v51rllJzye', 'Python', 'の', 'GitHubデイリートレンド、猫も杓子も機械学習関連ばっかりで、完全に機械学習用言語となった感じがする。', 'RT', '@biorxiv_genomic:', 'CGAT-core:', 'a', 'python', 'framework', 'for', 'building', 'scalable,', 'reproducible', 'computational', 'biology', 'workflows', 'https://t.co/HJd7hP…', '今日のPythonの授業でfile', 'handlingをやったんだけど、色々遊んでみないと理解できなさそう。', '予習したけどイマイチイメージが掴めなかったし…視覚で覚えるタイプは、やっぱり手を動かさないとだめだ〜', 'RT', '@brandondamos:', 'Tuning', 'Hyperparameters', 'without', 'Grad', 'Students:', 'Scalable', 'and', 'Robust', 'Bayesian', 'Optimisation', 'with', 'Dragonfly', 'K.', 'Kandasamy', 'et', 'al…', 'I', 'love', 'python!', 'https://t.co/X8C74RgVyS', 'RT', '@ulysseas:', 'Pinch', 'me,', \"can't\", 'believe', 'this', 'event', 'is', 'happening,', 'creators', 'of', 'Python,', 'Perl,', 'Java,', 'C#,', 'TypeScript', 'on', 'one', 'stage', 'having', 'a', 'substan…', 'Dutch', 'PM', 'compares', 'Theresa', 'May', 'to', 'Monty', 'Python', 'limbless', 'knight', 'https://t.co/3kAWCGCGoj', 'My', 'kitty', 'is', 'like', 'a', 'python,', 'ticking', 'like', 'a', 'time', 'bomb', '調べれば調べるほどpythonでAI開発無理な気がしてくるわ…', '全然理解できてねぇよ…', 'RT', '@linuxjournal:', 'Tech', 'Tip:', 'Really', 'Simple', 'HTTP', 'Server', 'with', 'Python', 'If', 'you', 'need', 'a', 'quick', 'web', 'server', 'running', 'and', 'you', \"don't\", 'want', 'to', 'mess', 'with', 'se…', 'RT', '@May_Roma:', 'Pythonを学びながらプログラミング自体の基礎を学べる良い本です。独学に最適です。無償のオンラインコースと合わせて自習しましょう→', '独学プログラマー', 'Python言語の基本から仕事のやり方まで', 'https://t.co/EKR4NcodYs', 'Pythonみんな使ってるけどRで統計解析してる人いないかな🤔', 'Pinch', 'me,', \"can't\", 'believe', 'this', 'event', 'is', 'happening,', 'creators', 'of', 'Python,', 'Perl,', 'Java,', 'C#,', 'TypeScript', 'on', 'one', 'stage', 'having…', 'https://t.co/O0REayPfdp', 'pythonは定義されてない変数を使うとエラーになるタイプの言語なので……', 'RT', '@JODYHiGHROLLER:', '\\U0001f9e0\\U0001f9e0\\U0001f9e0\\U0001f9e0\\U0001f9e0\\U0001f9e0\\U0001f9e0', 'RiFF', 'RAFF', '\\U0001f9e0\\U0001f9e0\\U0001f9e0\\U0001f9e0\\U0001f9e0\\U0001f9e0\\U0001f9e0', 'PiNK', 'PYTHōN', '\\U0001f9e0\\U0001f9e0\\U0001f9e0\\U0001f9e0\\U0001f9e0\\U0001f9e0\\U0001f9e0\\U0001f9e0', 'APRiL', '12', '\\U0001f9e0\\U0001f9e0\\U0001f9e0\\U0001f9e0\\U0001f9e0\\U0001f9e0\\U0001f9e0\\U0001f9e0', 'ALBUM', 'PRE-SALE', 'LiNK:', 'https://t.co/FbNQZK44Aj', 'h…', '機械学習形で言うと、Kerasを使えるようになりたいのと、Mysqlガチ勢になってもっとBigQueryをしっかり使いこなしたい。笑', 'Pythonはデータの前処理の経験をもうちょい積みたいけど、Python自体にあんまり興味がない…', 'https://t.co/LodvqFOFLO', '個人情報ダダ漏れ！？破産者マップの何がヤバくてダメなのかを解説', 'https://t.co/V605oCChS1', '@web_pythonさんから', 'RT', '@tualatrix:', 'Apple', '新开源了一个', 'swift-log，一个通用的', 'logging', '框架，可以用在', 'Server', 'Side', 'Linux', '上。用起来非常方便，很', 'Python（我的第一感觉）', 'https://t.co/RAenMXNGLr', 'https://t.…', '@MikeStucka', 'Need', 'you', 'on', 'super-secret', 'speed', 'dial', 'to', 'answer', 'my', \"kid's\", 'python', 'questions.', 'RT', '@linuxjournal:', 'Tech', 'Tip:', 'Really', 'Simple', 'HTTP', 'Server', 'with', 'Python', 'If', 'you', 'need', 'a', 'quick', 'web', 'server', 'running', 'and', 'you', \"don't\", 'want', 'to', 'mess', 'with', 'se…', 'RT', '@linuxjournal:', 'Tech', 'Tip:', 'Really', 'Simple', 'HTTP', 'Server', 'with', 'Python', 'If', 'you', 'need', 'a', 'quick', 'web', 'server', 'running', 'and', 'you', \"don't\", 'want', 'to', 'mess', 'with', 'se…', '@Python_qp', 'おめでとぉ〜\\U0001f929', 'King', 'Cobra', 'And', 'Giant', 'Python', 'Literally', 'Fight', 'To', 'The', 'Death', 'Of', 'Both', 'Lethal', 'Snakes', 'https://t.co/jRglnqCtiT', 'Tech', 'Tip:', 'Really', 'Simple', 'HTTP', 'Server', 'with', 'Python', 'If', 'you', 'need', 'a', 'quick', 'web', 'server', 'running', 'and', 'you', \"don't\", 'want', 'to', 'mess', 'w…', 'https://t.co/WmKRtNdFUj', 'what', 'are', 'the', '75%', 'ppl', 'doing?', 'This', 'problem', 'is', 'a', 'joke', 'in', 'python...', 'https://t.co/92C7sRLYg4', 'RT', '@byt3bl33d3r:', 'I', 'made', 'a', 'bunch', 'of', 'Ansible', 'playbooks', 'the', 'other', 'day', 'in', 'order', 'to', 'streamline/automate', 'my', 'workflow', 'during', 'engagements.', 'Specific…', 'RT', '@couponfree01:', 'Udemy', 'Free', 'Discount', '-', 'Vue', 'JS', 'Essentials', 'with', 'Vuex', 'and', 'Vue', 'Router', '#udemycoupon', '-&gt;', 'https://t.co/rjUWzLyMb1', '#webdevelopment…', 'RT', '@couponfree01:', 'Udemy', 'Free', 'Discount', '-', 'Vue', 'JS', 'Essentials', 'with', 'Vuex', 'and', 'Vue', 'Router', '#udemycoupon', '-&gt;', 'https://t.co/rjUWzLyMb1', '#webdevelopment…', 'RT', '@ZonePhysics:', 'King', 'cobra', 'bites', 'python.', 'Python', 'constricts', 'cobra.', 'Cobra', 'dies', 'of', 'constriction.', 'Python', 'dies', 'from', 'venom.', '100%', 'holy', 'shit..', 'htt…', 'RT', '@pyconindia:', 'Sponsorship', 'for', 'PyCon', 'India', '2019', 'is', 'open!', 'Get', 'the', 'prospectus', 'from', 'https://t.co/06ieJVPXk3', '#Python', '#PyConIndia2019', 'Flores', 'ba', 'o', 'San', 'Juan?', '—', 'Both', 'teh', 'https://t.co/USuqDC3ZDl', 'RT', '@kirill_eremenko:', 'Great', 'guide', 'on', 'building', 'flexible', 'Neural', 'Network', 'with', 'Backpropagation', 'in', 'Python', 'https://t.co/oXAs2bT8du', '#neuralnetwork…', '@theomn', 'Python:', 'the', 'second', 'best', 'language', 'in', 'the', 'world,', 'unless', 'you', 'need', 'to', 'multithread,', 'and', 'be', 'on', 'python', '2.7', 'RT', '@couponfree01:', 'Udemy', 'Free', 'Discount', '-', 'Vue', 'JS', 'Essentials', 'with', 'Vuex', 'and', 'Vue', 'Router', '#udemycoupon', '-&gt;', 'https://t.co/rjUWzLyMb1', '#webdevelopment…', 'RT', '@couponfree01:', 'Udemy', 'Free', 'Discount', '-', 'Vue', 'JS', 'Essentials', 'with', 'Vuex', 'and', 'Vue', 'Router', '#udemycoupon', '-&gt;', 'https://t.co/rjUWzLyMb1', '#webdevelopment…', 'RT', '@gp_pulipaka:', 'Bitcoin', 'Made', 'Easy.', '#BigData', '#Analytics', '#DataScience', '#AI', '#MachineLearning', '#BitCoin', '#BlockChain', '#FinTech', '#Crypto', '#IoT', '#IIoT…', 'Someone', 'made', 'a', 'GUI', 'designer', 'for', 'tkinter!', 'Thank', 'you', 'https://t.co/hBvIRT5skh', '\"J\\'Accuse!\"', 'A', 'text-based', 'mystery', 'game', 'written', 'in', 'Python', 'https://t.co/dTXY1qiIE6', 'RT', '@rakko8513:', 'LinkedIn', 'で', '日常会話レベルで', 'R、母国語で', 'Python', 'を使うとんでもない人材を発見した。', 'https://t.co/zYcE2vuNuT', 'RT', '@JODYHiGHROLLER:', '\\U0001f9e0\\U0001f9e0\\U0001f9e0\\U0001f9e0\\U0001f9e0\\U0001f9e0\\U0001f9e0', 'RiFF', 'RAFF', '\\U0001f9e0\\U0001f9e0\\U0001f9e0\\U0001f9e0\\U0001f9e0\\U0001f9e0\\U0001f9e0', 'PiNK', 'PYTHōN', '\\U0001f9e0\\U0001f9e0\\U0001f9e0\\U0001f9e0\\U0001f9e0\\U0001f9e0\\U0001f9e0\\U0001f9e0', 'APRiL', '12', '\\U0001f9e0\\U0001f9e0\\U0001f9e0\\U0001f9e0\\U0001f9e0\\U0001f9e0\\U0001f9e0\\U0001f9e0', 'ALBUM', 'PRE-SALE', 'LiNK:', 'https://t.co/FbNQZK44Aj', 'h…', 'RT', '@couponfree01:', 'Udemy', 'Free', 'Discount', '-', 'Vue', 'JS', 'Essentials', 'with', 'Vuex', 'and', 'Vue', 'Router', '#udemycoupon', '-&gt;', 'https://t.co/rjUWzLyMb1', '#webdevelopment…', 'RT', '@cometscome_phys:', 'MITライセンスのPythonのコードをJuliaに移植した時、PythonとJuliaのコードってよくにているから見た目にている気がするけど、その場合著作権表示ってどうなるんだろ', 'RT', '@couponfree01:', 'Udemy', 'Free', 'Discount', 'Learn', 'React', '16', 'and', 'Redux', 'by', 'building', 'real', 'world', 'Application', '#udemycoupon', '-&gt;', 'https://t.co/OZEkTrGB3u…', 'RT', '@DanJGale:', 'Curious', 'about', 'using', 'Python', 'for', 'fMRI?', 'Check', 'out', 'the', 'first', 'post', 'of', 'my', 'new', 'blog', 'series', 'on', 'what', 'Python', 'has', 'to', 'offer', 'for', 'fMRI', 'an…', 'RT', '@pyconindia:', 'Sponsorship', 'for', 'PyCon', 'India', '2019', 'is', 'open!', 'Get', 'the', 'prospectus', 'from', 'https://t.co/06ieJVPXk3', '#Python', '#PyConIndia2019', '@ryanteck', '@PiSupply', '@Raspberry_Pi', '@balena_io', 'Just', 'updated', 'my', 'repo', '-', 'includes', 'support', 'for', 'setting', 'options', 'via', 'ENV', 'va…', 'https://t.co/S58AkJFRgq', 'RT', '@Sajma:', 'This', 'article', 'cites', 'Go', 'as', 'the', 'new', '\"glue\"', 'language', 'for', 'systems,', 'the', 'successor', 'to', 'Python', '2,', 'Perl,', 'and', 'Unix', 'pipes.', 'I', 'suppose', 'that', 'mi…', 'RT', '@ZonePhysics:', 'King', 'cobra', 'bites', 'python.', 'Python', 'constricts', 'cobra.', 'Cobra', 'dies', 'of', 'constriction.', 'Python', 'dies', 'from', 'venom.', '100%', 'holy', 'shit..', 'htt…', 'RT', '@izzywestbury:', 'Dutch', 'PM', 'Mark', 'Rutte', 'on', '#WNLopZondag', '(NL’s', '@MarrShow).', '“Look,', 'I’ve', 'got', 'all', 'respect', 'for', 'Theresa', 'May.', 'She', 'occasionally', 'remi…', 'Python', '3.4', '分支的最后一个版本释出', 'https://t.co/z9UD0NxkPt', '&gt;NameError:', 'name', \"'this'\", 'is', 'not', 'defined', 'Oh', 'I', 'sometimes', 'forget', 'that', \"I'm\", 'writing', 'python...', 'RT', '@binitamshah:', 'Python', 'for', 'Reverse', 'Engineering', '(Part', '1', '-', 'ELF', 'Binaries', ')', ':', 'https://t.co/fNISlWYfO5', 'cc', '@icyphox', 'Propositional', 'Calculus', 'Proof', 'Checker', 'in', 'Python', 'https://t.co/Of6QfEJBkJ', 'via', '@YouTube', 'RT', '@BenjaminNorton:', 'The', 'Rev.', 'Darryl', 'Gray', 'said', 'he', 'found', 'a', 'box', 'inside', 'his', 'car.', 'When', 'the', 'bomb', 'squad', 'arrived,', 'no', 'explosives', 'were', 'found', 'but', 'a', '6-…', 'Technological', 'Studies:', 'Want', 'to', 'Learn', 'Python', '3', 'as', 'a', 'beginner?', 'https://t.co/ogczpxwbHL', 'https://t.co/0CHa7Lq1sB', 'https://t.co/Z7kpCFpZAW', 'Indiantown,', 'Florida', 'Mike', 'Kimmel', 'making', 'the', 'news', 'with', 'number', '2000', 'Python', 'caught', 'https://t.co/QIYF1qThld', 'RT', '@couponfree01:', 'Udemy', 'Free', 'Discount', 'Learn', 'React', '16', 'and', 'Redux', 'by', 'building', 'real', 'world', 'Application', '#udemycoupon', '-&gt;', 'https://t.co/OZEkTrGB3u…', 'RT', '@codeandfood:', 'Python', 'is', 'coming', 'to', '@FrontendMasters', '🔥🐍', 'https://t.co/noWBpmjm9l', 'RT', '@gp_pulipaka:', 'Bitcoin', 'Made', 'Easy.', '#BigData', '#Analytics', '#DataScience', '#AI', '#MachineLearning', '#BitCoin', '#BlockChain', '#FinTech', '#Crypto', '#IoT', '#IIoT…', 'RT', '@BBCkatyaadler:', 'EU', 'has', 'almost', 'given', 'up', 'trying', 'to', 'understand', 'what’s', 'going', 'on', 'in', 'UK.', 'Dutch', 'PM', 'Rutte', 'compares', 'Theresa', 'May', 'to', 'Monty', 'Python', 'k…', 'RT', '@gp_pulipaka:', 'Bitcoin', 'Made', 'Easy.', '#BigData', '#Analytics', '#DataScience', '#AI', '#MachineLearning', '#BitCoin', '#BlockChain', '#FinTech', '#Crypto', '#IoT', '#IIoT…', 'RT', '@VirtualmindArg:', 'Dejanos', 'tus', 'datos', 'y', 'te', 'contactamos.', 'Estamos', 'buscando:', '#Java', 'Devs', 'Sr.', '#Backend', 'Devs', 'Sr', '(con', 'interés', 'en', 'Python)', '#Frontend…', 'RT', '@couponfree01:', 'Udemy', 'Free', 'Discount', '-', 'Vue', 'JS', 'Essentials', 'with', 'Vuex', 'and', 'Vue', 'Router', '#udemycoupon', '-&gt;', 'https://t.co/rjUWzLyMb1', '#webdevelopment…', 'RT', '@Aquilaniie:', 'มีเจ้านึงอยากได้', 'BA', 'โดยมีข้อแม้ว่า', '-', 'เขียน', 'business', 'flow', 'และ', 'swim', 'lane', '-', 'ออกแบบ', 'mockup', '-', 'ออกแบบ', 'UX/Ui', '-', 'ออกแบบ', 'Test', 'case', '-…', 'RT', '@couponfree01:', 'Udemy', 'Free', 'Discount', '-', 'Elite', 'NodeJS', 'Course', '-', 'Become', 'Certified', 'NodeJS', 'Developer', '#udemycoupon', '-&gt;', 'https://t.co/iClX36Nhxn', '#w…', 'RT', '@rakko8513:', 'LinkedIn', 'で', '日常会話レベルで', 'R、母国語で', 'Python', 'を使うとんでもない人材を発見した。', 'https://t.co/zYcE2vuNuT', '@OKAMI_VILL', 'pues', 'con', 'python', 'RT', '@ZonePhysics:', 'King', 'cobra', 'bites', 'python.', 'Python', 'constricts', 'cobra.', 'Cobra', 'dies', 'of', 'constriction.', 'Python', 'dies', 'from', 'venom.', '100%', 'holy', 'shit..', 'htt…', 'Browsing:', '個人情報ダダ漏れ！？破産者マップの何がヤバくてダメなのかを解説', 'https://t.co/iWz0g18fQ4', '@web_pythonさんから', 'RT', '@couponfree01:', 'Udemy', 'Free', 'Discount', '-', 'Complete', 'Python', 'Bootcamp:', 'Go', 'from', 'zero', 'to', 'hero', 'in', 'Python', '3', '#udemycoupon', '-&gt;', 'https://t.co/DoWBKoTOtv…', 'RT', '@technology_108:', 'Analytics', 'India', 'Magazine:', '5', '#Languages', 'To', 'Use', 'For', '#Genetic', '#Programming.', '1️⃣', 'MATLAB', '2️⃣', 'Python', '3️⃣', 'Java', '4️⃣', 'C++', '5️⃣', 'Da…', 'RT', '@couponfree01:', 'Udemy', 'Free', 'Discount', '-', 'Getting', 'Started', 'with', 'React', 'Hooks', '#udemycoupon', '-&gt;', 'https://t.co/7ccHbNVhHi', '#webdevelopment', '#javascri…', 'Tips', 'and', 'tricks', 'to', 'write', 'LaTeX', 'papers', 'in', 'with', 'figures', 'generated', 'in', 'Python', 'https://t.co/z7OG6wKbNp', 'Hello', 'Python', 'Centrall', 'おっpythonわかりやすすぎて逆にわかりづらい', 'RT', '@devhubnorth:', \"You're\", 'welcome', 'guys', ':)', '.', '#javascript', '#typescript', '#react', '#reactnative', '#vuejs', '#webdevelopment', '#webdeveloper', '#programming', '#cs…', 'Analytics', 'India', 'Magazine:', '5', '#Languages', 'To', 'Use', 'For', '#Genetic', '#Programming.', '1️⃣', 'MATLAB', '2️⃣', 'Python', '3️⃣', 'Java', '4️⃣', 'C++…', 'https://t.co/JO5Q06Eik8', 'RT', '@chi2innovations:', 'The', 'easy', 'way', 'to', 'learn', '#Python', 'for', '#DataScience', '#pythonprogramming', 'https://t.co/cxFcnt0TDK?', 'https://t.co/XNXRVRcWzq', 'RT', '@rakko8513:', 'LinkedIn', 'で', '日常会話レベルで', 'R、母国語で', 'Python', 'を使うとんでもない人材を発見した。', 'https://t.co/zYcE2vuNuT', 'RT', '@rakko8513:', 'LinkedIn', 'で', '日常会話レベルで', 'R、母国語で', 'Python', 'を使うとんでもない人材を発見した。', 'https://t.co/zYcE2vuNuT', 'RT', '@ZonePhysics:', 'King', 'cobra', 'bites', 'python.', 'Python', 'constricts', 'cobra.', 'Cobra', 'dies', 'of', 'constriction.', 'Python', 'dies', 'from', 'venom.', '100%', 'holy', 'shit..', 'htt…', 'Here', 'is', 'the', 'timeless', '#METTIQUEArdhaClutch,', 'codesigned', 'by', 'mintsworld', 'in', 'limited', '#METTIQUEMetallicGoldCharcoal', 'Asiati…', 'https://t.co/DJ5ymCvwXI', 'RT', '@Aquilaniie:', 'มีเจ้านึงอยากได้', 'BA', 'โดยมีข้อแม้ว่า', '-', 'เขียน', 'business', 'flow', 'และ', 'swim', 'lane', '-', 'ออกแบบ', 'mockup', '-', 'ออกแบบ', 'UX/Ui', '-', 'ออกแบบ', 'Test', 'case', '-…', '「Python', '学習コース', 'Ⅱ」コースを修了しました！', 'https://t.co/PdeXVlrDRY', '#Progate', 'When', 'I', 'enrolled', 'for', 'Biology,', 'never', 'imagined', 'I', 'would', 'design', 'and', 'actually', 'write', 'an', 'entire', 'software', 'in', 'Python.', 'Amazing…', 'https://t.co/feDSVJPQCa', 'RT', '@ZonePhysics:', 'King', 'cobra', 'bites', 'python.', 'Python', 'constricts', 'cobra.', 'Cobra', 'dies', 'of', 'constriction.', 'Python', 'dies', 'from', 'venom.', '100%', 'holy', 'shit..', 'htt…', '@cherno_lamalo', '@noobs_waneal', 'ほえー', 'AI系はPythonでやるって記事読んだけどAIの仕事なんか全くこん😡', '空飛ぶクルマプロジェクト応募してくるわ', 'python', 'は通ったのに、pypy', 'は', 'TLE', 'した。。。', '？？？？？？？？？？', 'python', 'は', '1183ms', 'なんだよな。', 'RT', '@xarray_dev:', 'Xarray', 'v0.12', 'is', 'out.', 'Highlights', 'include:', '-', 'dropped', 'supported', 'for', 'Python', '2', '-', 'new', 'coarsen()', 'and', 'integrate()', 'methods', '-', 'nearly…', 'RT', '@JODYHiGHROLLER:', '\\U0001f9e0\\U0001f9e0\\U0001f9e0\\U0001f9e0\\U0001f9e0\\U0001f9e0\\U0001f9e0', 'RiFF', 'RAFF', '\\U0001f9e0\\U0001f9e0\\U0001f9e0\\U0001f9e0\\U0001f9e0\\U0001f9e0\\U0001f9e0', 'PiNK', 'PYTHōN', '\\U0001f9e0\\U0001f9e0\\U0001f9e0\\U0001f9e0\\U0001f9e0\\U0001f9e0\\U0001f9e0\\U0001f9e0', 'APRiL', '12', '\\U0001f9e0\\U0001f9e0\\U0001f9e0\\U0001f9e0\\U0001f9e0\\U0001f9e0\\U0001f9e0\\U0001f9e0', 'ALBUM', 'PRE-SALE', 'LiNK:', 'https://t.co/FbNQZK44Aj', 'h…', 'まじか！', 'RT', '@MLIT_JAPAN:', '【リリース】本日3月19日、大阪モノレールの延伸を特許しました。', '大阪高速鉄道(株)から申請のあった大阪モノレール線延伸線の軌道事業。', '門真市～瓜生堂間8.9km', '新規駅は、4駅(全て仮称)', '(門真南駅、鴻池新田駅、荒本駅、瓜生堂駅)', '詳しくはこ…', 'Python', '3.4', '分支的最后一个版本释出', 'https://t.co/owK3BLseOp', 'ピエール瀧の曲の自粛について', '大抵の方が、TVとかCM等で洋楽知らない間に聞いてると思うけど、有名な所ではレイ・チャールズとか麻薬してたし、エアロスミスのスティーブンタイラーもそうですよね。', '人を憎まず罪を憎め', 'https://t.co/0hISB3Kfqr', 'RT', '@LaLoutreBizarre:', '#100DaysOfCode', 'day', '15:', 'I', 'finally', 'finished', 'the', '#Python', 'journal', 'app', 'in', 'the', '@TalkPython', 'course!', 'Upon', 'completion,', 'I', 'made', '8…', '#100DaysOfCode', 'day', '15:', 'I', 'finally', 'finished', 'the', '#Python', 'journal', 'app', 'in', 'the', '@TalkPython', 'course!', 'Upon', 'completion,', 'I', 'mad…', 'https://t.co/bvZ6MoZaB6', 'RT', '@ZonePhysics:', 'King', 'cobra', 'bites', 'python.', 'Python', 'constricts', 'cobra.', 'Cobra', 'dies', 'of', 'constriction.', 'Python', 'dies', 'from', 'venom.', '100%', 'holy', 'shit..', 'htt…', 'RT', '@slashML:', 'Best', 'practice', 'and', 'tips', '&amp;', 'tricks', 'to', 'write', 'scientific', 'papers', 'in', 'LaTeX,', 'with', 'figures', 'generated', 'in', 'Python', 'or', 'Matlab', 'https://t.co/G…', 'RT', '@Sajma:', 'This', 'article', 'cites', 'Go', 'as', 'the', 'new', '\"glue\"', 'language', 'for', 'systems,', 'the', 'successor', 'to', 'Python', '2,', 'Perl,', 'and', 'Unix', 'pipes.', 'I', 'suppose', 'that', 'mi…', 'RT', '@rakko8513:', 'LinkedIn', 'で', '日常会話レベルで', 'R、母国語で', 'Python', 'を使うとんでもない人材を発見した。', 'https://t.co/zYcE2vuNuT', '卒業間際の受講生がProgateでPHPとPythonとRuby勉強してデイリーランキング1位取ってました😂😂😂すごーい😂👏👏', '#PHP', '#Python', '#Ruby', '#Progate', '#プログラミング学習', 'https://t.co/BXl8YX4ah7', 'Meindl', \"Men's\", 'Black', 'Python', 'Walking', 'Shoes', '-', 'https://t.co/YCYSt4g49R', 'https://t.co/24HsFVSIo1', 'RT', '@ProgrammerBooks:', 'Wireless', 'All', 'In', 'One', 'For', 'Dummies,', '2nd', 'Edition', ':', 'https://t.co/oK1AhBP6e9', '#python', '#javascript', '#angular', '#reactjs', '#vuejs', '#p…', 'Python', '3.4', '分支的最后一个版本释出', 'https://t.co/UtHGnlVZmE', '金三银四，今年Python就业前，看看这篇文章找找感觉', 'https://t.co/MtV61GRb8u', 'Technological', 'Studies:', 'Want', 'to', 'Learn', 'Python', '3', 'as', 'a', 'beginner?', 'https://t.co/ogczpxwbHL', \"I've\", 'just', 'posted', 'a', 'new', 'blog:', 'Technological', 'Studies:', 'Want', 'to', 'Learn', 'Python', '3', 'as', 'a', 'beginner?', 'https://t.co/ogczpxwbHL', 'RT', '@kdnuggets:', 'Artificial', 'Neural', 'Networks', 'Optimization', 'using', 'Genetic', 'Algorithm', 'with', 'Python', 'https://t.co/inp0UQTgzn', 'https://t.co/eP9XFErd3M', 'RT', '@ZonePhysics:', 'King', 'cobra', 'bites', 'python.', 'Python', 'constricts', 'cobra.', 'Cobra', 'dies', 'of', 'constriction.', 'Python', 'dies', 'from', 'venom.', '100%', 'holy', 'shit..', 'htt…', 'RT', '@rakko8513:', 'LinkedIn', 'で', '日常会話レベルで', 'R、母国語で', 'Python', 'を使うとんでもない人材を発見した。', 'https://t.co/zYcE2vuNuT', 'RT', '@ZonePhysics:', 'King', 'cobra', 'bites', 'python.', 'Python', 'constricts', 'cobra.', 'Cobra', 'dies', 'of', 'constriction.', 'Python', 'dies', 'from', 'venom.', '100%', 'holy', 'shit..', 'htt…', 'RT', '@gp_pulipaka:', 'Advancing', 'AI', 'with', '#DeepLearning', 'and', 'GPUs.', '#BigData', '#Analytics', '#DataScience', '#AI', '#MachineLearning', '#IoT', '#IIoT', '#PyTorch', '#Pytho…', 'RT', '@ProgrammerBooks:', 'Wireless', 'All', 'In', 'One', 'For', 'Dummies,', '2nd', 'Edition', ':', 'https://t.co/oK1AhBP6e9', '#python', '#javascript', '#angular', '#reactjs', '#vuejs', '#p…', 'I', 'am', 'so', 'annoyed', 'with', 'myself!', 'I', 'have', 'cleaned', 'my', 'data', 'for', 'the', 'modelling', 'then', 'when', 'I', 'run', 'it', 'on', 'the', 'Python,', 'I', 'use', 'a', 'dif…', 'https://t.co/Y847hqvcRB', 'RT', '@rakko8513:', 'LinkedIn', 'で', '日常会話レベルで', 'R、母国語で', 'Python', 'を使うとんでもない人材を発見した。', 'https://t.co/zYcE2vuNuT', 'RT', '@ZonePhysics:', 'King', 'cobra', 'bites', 'python.', 'Python', 'constricts', 'cobra.', 'Cobra', 'dies', 'of', 'constriction.', 'Python', 'dies', 'from', 'venom.', '100%', 'holy', 'shit..', 'htt…', 'RT', '@BBCkatyaadler:', 'EU', 'has', 'almost', 'given', 'up', 'trying', 'to', 'understand', 'what’s', 'going', 'on', 'in', 'UK.', 'Dutch', 'PM', 'Rutte', 'compares', 'Theresa', 'May', 'to', 'Monty', 'Python', 'k…', '#Nifty', '#Weekly', '#Option', '#PCR', 'support', 'seen', 'at', '11450-114000', 'band.', 'With', 'just', '2', 'days', 'to', 'expiration,', 'this', 'is', 'getting', 'very…', 'https://t.co/itM1paUGVa', '@hbkr', 'python？！？！', 'RT', '@ZonePhysics:', 'King', 'cobra', 'bites', 'python.', 'Python', 'constricts', 'cobra.', 'Cobra', 'dies', 'of', 'constriction.', 'Python', 'dies', 'from', 'venom.', '100%', 'holy', 'shit..', 'htt…', 'RT', '@math_rachel:', 'How', 'to', 'use', 'if', '__name__', '==', '“__main__', '“', 'by', '@discdiver', 'https://t.co/3iz91oC6jO', '暇すぎてpythonでdiscordのbot作ってる', 'RT', '@rakko8513:', 'LinkedIn', 'で', '日常会話レベルで', 'R、母国語で', 'Python', 'を使うとんでもない人材を発見した。', 'https://t.co/zYcE2vuNuT', 'RT', '@robertswiecki:', 'In', 'addition', 'to', 'the', 'Sandboxed', 'API', '(https://t.co/QMd97JOiFI)', 'its', 'sandboxing', 'driver,', 'so-called', '\"Sandbox', '2\",', 'has', 'been', 'releas…', '@anthonypjshaw', 'This', 'post', 'needs', 'an', 'update', 'after', 'this', 'patch;', 'https://t.co/RQ4Mi8YQpR', '最近会社のITセキュリティがやっと強化されたため、認可ソフトウェア以外使えなくなった…', 'しかし！Google', 'colaboratoryを使うチャンスということで、使用勉強がてらpythonを！', '#python', '#初心者エンジニア', '@Uhaba', 'You', 'need', 'to', 'know', 'java', 'is', 'a', 'language,', 'therefore', 'you', 'can', 'deliver', 'java', 'payloads', 'sometimes', 'where', 'applicable', '😜', 'A…', 'https://t.co/yDC7YTsTW7', 'pythonで和音を鳴らそう', '-', 'すこしふしぎ．', 'https://t.co/qU6i8Ouxzn', 'pyaudioというモジュールがあるのか', '@romanzolotarev', \"I'm\", 'a', 'python', 'guy', '(Django-rest,', 'twisted,', 'Klein)', 'but', 'I', 'like', 'gin', '(golang),', 'and', 'liked', 'express', 'when', 'I', 'was', 'using', 'it...', 'RT', '@anthonypjshaw:', '\"Lifecycle', 'of', 'a', 'Python', 'Code', '-', \"CPython's\", 'Execution', 'Model\"', 'by', '@exec_emacs', '#DEVcommunity', 'https://t.co/F4lU12anwO', 'RT', '@ZonePhysics:', 'King', 'cobra', 'bites', 'python.', 'Python', 'constricts', 'cobra.', 'Cobra', 'dies', 'of', 'constriction.', 'Python', 'dies', 'from', 'venom.', '100%', 'holy', 'shit..', 'htt…', 'RT', '@rakko8513:', 'LinkedIn', 'で', '日常会話レベルで', 'R、母国語で', 'Python', 'を使うとんでもない人材を発見した。', 'https://t.co/zYcE2vuNuT', 'RT', '@DanJGale:', 'Curious', 'about', 'using', 'Python', 'for', 'fMRI?', 'Check', 'out', 'the', 'first', 'post', 'of', 'my', 'new', 'blog', 'series', 'on', 'what', 'Python', 'has', 'to', 'offer', 'for', 'fMRI', 'an…', 'RT', '@ZonePhysics:', 'King', 'cobra', 'bites', 'python.', 'Python', 'constricts', 'cobra.', 'Cobra', 'dies', 'of', 'constriction.', 'Python', 'dies', 'from', 'venom.', '100%', 'holy', 'shit..', 'htt…', 'Learn', 'Python,', 'which', 'is', 'an', 'interpreted', 'high-level', 'programming', 'language', 'for', 'general-purpose', 'programming.', 'Follow', 'this…', 'https://t.co/o1Qg6c4hqc', 'RT', '@thedevdact:', 'Day', '14', 'of', '#100DaysOfCode', 'Continued', 'with', 'the', '#python', '#Discord', 'bot,', 'playing', 'around', 'with', 'YouTube', 'links', 'and', 'voice', 'channels;', 'go…', 'RT', '@ZonePhysics:', 'King', 'cobra', 'bites', 'python.', 'Python', 'constricts', 'cobra.', 'Cobra', 'dies', 'of', 'constriction.', 'Python', 'dies', 'from', 'venom.', '100%', 'holy', 'shit..', 'htt…', 'RT', 'Talking', 'Frontend', '/', 'Backend', 'development', '/', 'Beginners', 'Guide', '(Node,', 'React,', 'Python)', 'https://t.co/eMbtL4zKiG', 'Python勉強しよ〜', 'RT', '@Redsky_1:', 'R3D99', '#100DaysOfCode', '#CodeNewbie', '#webdev', 'Python', 'overview', 'course.', '#python', 'Looked', 'at', 'threading', 'tonight.', 'Some', 'interesting', 'l…', 'Cursos', 'online', 'sobre', 'Tecnología', 'con', 'seguimiento', 'personalizado', 'de', 'un', 'tutor', 'experto', 'https://t.co/6OGuXj90Xr', 'RT', '@rakko8513:', 'LinkedIn', 'で', '日常会話レベルで', 'R、母国語で', 'Python', 'を使うとんでもない人材を発見した。', 'https://t.co/zYcE2vuNuT', 'RT', '@rakko8513:', 'LinkedIn', 'で', '日常会話レベルで', 'R、母国語で', 'Python', 'を使うとんでもない人材を発見した。', 'https://t.co/zYcE2vuNuT', 'RT', '@rakko8513:', 'LinkedIn', 'で', '日常会話レベルで', 'R、母国語で', 'Python', 'を使うとんでもない人材を発見した。', 'https://t.co/zYcE2vuNuT', 'RT', '@Aquilaniie:', 'มีเจ้านึงอยากได้', 'BA', 'โดยมีข้อแม้ว่า', '-', 'เขียน', 'business', 'flow', 'และ', 'swim', 'lane', '-', 'ออกแบบ', 'mockup', '-', 'ออกแบบ', 'UX/Ui', '-', 'ออกแบบ', 'Test', 'case', '-…', 'RT', '@gp_pulipaka:', 'Advancing', 'AI', 'with', '#DeepLearning', 'and', 'GPUs.', '#BigData', '#Analytics', '#DataScience', '#AI', '#MachineLearning', '#IoT', '#IIoT', '#PyTorch', '#Pytho…', 'RT', '@rakko8513:', 'LinkedIn', 'で', '日常会話レベルで', 'R、母国語で', 'Python', 'を使うとんでもない人材を発見した。', 'https://t.co/zYcE2vuNuT', 'RT', '@CBS12:', 'Indiantown', 'man', 'captures', 'historic', 'python', 'for', 'SFWMD:', 'https://t.co/p8QI4nOABC', 'https://t.co/ht0N1Bn1Ia', '【#kindle', '本紹介】株とPython─自作プログラムでお金儲けを目指す本', '(技術書典シリーズ（NextPublishing）)', '式取引に関心がある・Pythonの基本的な知識がある【目次】第1章', '株取引の基礎知識1.1', '株取…', 'https://t.co/5dF0ulmKKr', 'RT', '@JODYHiGHROLLER:', '\\U0001f9e0\\U0001f9e0\\U0001f9e0\\U0001f9e0\\U0001f9e0\\U0001f9e0\\U0001f9e0', 'RiFF', 'RAFF', '\\U0001f9e0\\U0001f9e0\\U0001f9e0\\U0001f9e0\\U0001f9e0\\U0001f9e0\\U0001f9e0', 'PiNK', 'PYTHōN', '\\U0001f9e0\\U0001f9e0\\U0001f9e0\\U0001f9e0\\U0001f9e0\\U0001f9e0\\U0001f9e0\\U0001f9e0', 'APRiL', '12', '\\U0001f9e0\\U0001f9e0\\U0001f9e0\\U0001f9e0\\U0001f9e0\\U0001f9e0\\U0001f9e0\\U0001f9e0', 'ALBUM', 'PRE-SALE', 'LiNK:', 'https://t.co/FbNQZK44Aj', 'h…', 'RT', '@ProgrammerBooks:', 'Wireless', 'All', 'In', 'One', 'For', 'Dummies,', '2nd', 'Edition', ':', 'https://t.co/oK1AhBP6e9', '#python', '#javascript', '#angular', '#reactjs', '#vuejs', '#p…', 'RT', '@xarray_dev:', 'Xarray', 'v0.12', 'is', 'out.', 'Highlights', 'include:', '-', 'dropped', 'supported', 'for', 'Python', '2', '-', 'new', 'coarsen()', 'and', 'integrate()', 'methods', '-', 'nearly…', 'So', \"I've\", 'been', 'experimenting', 'with', 'this', 'PyObjC', 'script', 'for', 'a', 'good', 'week,', 'but', 'try', 'as', 'I', 'might,', 'there', 'is', 'absolutely', '*no*', 'wa…', 'https://t.co/4VVgdwAE6p', 'RT', '@rakko8513:', 'LinkedIn', 'で', '日常会話レベルで', 'R、母国語で', 'Python', 'を使うとんでもない人材を発見した。', 'https://t.co/zYcE2vuNuT', 'RT', '@rakko8513:', 'LinkedIn', 'で', '日常会話レベルで', 'R、母国語で', 'Python', 'を使うとんでもない人材を発見した。', 'https://t.co/zYcE2vuNuT', 'RT', '@FeelzenVr:', 'Python母国語はエモい', 'RT', '@rakko8513:', 'LinkedIn', 'で', '日常会話レベルで', 'R、母国語で', 'Python', 'を使うとんでもない人材を発見した。', 'https://t.co/zYcE2vuNuT', 'How', 'to', 'use', 'if', '__name__', '==', '“__main__', '“', 'by', '@discdiver', 'https://t.co/3iz91oC6jO', '使うことが出来るけど、解読できる人がどれだけいるか非常に興味深い。', 'しかし、母国語pythonってどこの国だ！！', 'https://t.co/OXo7fZxeEy', 'RT', '@BBCkatyaadler:', 'EU', 'has', 'almost', 'given', 'up', 'trying', 'to', 'understand', 'what’s', 'going', 'on', 'in', 'UK.', 'Dutch', 'PM', 'Rutte', 'compares', 'Theresa', 'May', 'to', 'Monty', 'Python', 'k…', 'RT', '@thedevdact:', 'Day', '14', 'of', '#100DaysOfCode', 'Continued', 'with', 'the', '#python', '#Discord', 'bot,', 'playing', 'around', 'with', 'YouTube', 'links', 'and', 'voice', 'channels;', 'go…', 'progate課金して来ました', '春休み中にpython３週します', 'RT', '@JODYHiGHROLLER:', '\\U0001f9e0\\U0001f9e0\\U0001f9e0\\U0001f9e0\\U0001f9e0\\U0001f9e0\\U0001f9e0', 'RiFF', 'RAFF', '\\U0001f9e0\\U0001f9e0\\U0001f9e0\\U0001f9e0\\U0001f9e0\\U0001f9e0\\U0001f9e0', 'PiNK', 'PYTHōN', '\\U0001f9e0\\U0001f9e0\\U0001f9e0\\U0001f9e0\\U0001f9e0\\U0001f9e0\\U0001f9e0\\U0001f9e0', 'APRiL', '12', '\\U0001f9e0\\U0001f9e0\\U0001f9e0\\U0001f9e0\\U0001f9e0\\U0001f9e0\\U0001f9e0\\U0001f9e0', 'ALBUM', 'PRE-SALE', 'LiNK:', 'https://t.co/FbNQZK44Aj', 'h…', 'Python', 'のwhile', '文の条件式ってカッコいらんかったか', '個人的にwhile', 'ってあまり書かへんからカッコいるかどうか覚えられへんのよなー', 'RT', '@thedevdact:', 'Day', '14', 'of', '#100DaysOfCode', 'Continued', 'with', 'the', '#python', '#Discord', 'bot,', 'playing', 'around', 'with', 'YouTube', 'links', 'and', 'voice', 'channels;', 'go…', '@landongn', 'Like', 'many', 'other', 'studios,', 'we', 'have', 'a', 'lot', 'of', 'people', 'who', 'work', 'almost', 'exclusively', 'in', 'Python.', 'The', 'saying', 'is,', '\"P…', 'https://t.co/oVzczTtBam', 'Day', '14', 'of', '#100DaysOfCode', 'Continued', 'with', 'the', '#python', '#Discord', 'bot,', 'playing', 'around', 'with', 'YouTube', 'links', 'and', 'voice', 'chan…', 'https://t.co/GDeQ8f3TU2', 'RT', '@rakko8513:', 'LinkedIn', 'で', '日常会話レベルで', 'R、母国語で', 'Python', 'を使うとんでもない人材を発見した。', 'https://t.co/zYcE2vuNuT', 'RT', '@ZonePhysics:', 'King', 'cobra', 'bites', 'python.', 'Python', 'constricts', 'cobra.', 'Cobra', 'dies', 'of', 'constriction.', 'Python', 'dies', 'from', 'venom.', '100%', 'holy', 'shit..', 'htt…', 'RT', '@rakko8513:', 'LinkedIn', 'で', '日常会話レベルで', 'R、母国語で', 'Python', 'を使うとんでもない人材を発見した。', 'https://t.co/zYcE2vuNuT', 'RT', '@rakko8513:', 'LinkedIn', 'で', '日常会話レベルで', 'R、母国語で', 'Python', 'を使うとんでもない人材を発見した。', 'https://t.co/zYcE2vuNuT', 'RT', '@rakko8513:', 'LinkedIn', 'で', '日常会話レベルで', 'R、母国語で', 'Python', 'を使うとんでもない人材を発見した。', 'https://t.co/zYcE2vuNuT']\n"
          ],
          "name": "stdout"
        }
      ]
    },
    {
      "metadata": {
        "id": "tsWVxW5N4kWR",
        "colab_type": "code",
        "outputId": "db7c0828-a5f0-4325-cafe-7ae7e651dee6",
        "colab": {
          "base_uri": "https://localhost:8080/",
          "height": 156
        }
      },
      "cell_type": "code",
      "source": [
        "print(json.dumps(status_texts[0:5], indent=1))"
      ],
      "execution_count": 0,
      "outputs": [
        {
          "output_type": "stream",
          "text": [
            "[\n",
            " \"\\u305d\\u3046\\u30ad\\u30a2\\u30e9\\u3002\\u6bba\\u751f\\u4e38\\u30ad\\u30a2\\u30e9\\u3002\",\n",
            " \"Itertools in Python 3: https://t.co/SatcK7qByd\",\n",
            " \"#Python context manager for redirecting stdout:  - see https://t.co/DqBRlue0C4\\n\\n\\ud83d\\udc0d Check out more @pybites tips at\\u2026 https://t.co/fZqUzHWdmp\",\n",
            " \"What is Map-Reduce? https://t.co/c18K01Xy3p #DeepLearning #MachineLearning #AI #DataScience #NeuralNetworks #CNN\\u2026 https://t.co/Nz1db9sqjl\",\n",
            " \"RT @TosinOlugbenga: @OceandigitsNG new coding training session starts April 2nd, 2019.\\n\\nFor Full Stack Web development, register via https:\\u2026\"\n",
            "]\n"
          ],
          "name": "stdout"
        }
      ]
    },
    {
      "metadata": {
        "id": "V2GRUn2546JC",
        "colab_type": "code",
        "outputId": "ea2b9b0f-df49-4d3d-96eb-5f8faad089ba",
        "colab": {
          "base_uri": "https://localhost:8080/",
          "height": 136
        }
      },
      "cell_type": "code",
      "source": [
        "print(json.dumps(screen_names[0:5], indent=1))"
      ],
      "execution_count": 0,
      "outputs": [
        {
          "output_type": "stream",
          "text": [
            "[\n",
            " \"python_octopus\",\n",
            " \"agile_resources\",\n",
            " \"pybites\",\n",
            " \"Deep_In_Depth\",\n",
            " \"uzairu_Salis\"\n",
            "]\n"
          ],
          "name": "stdout"
        }
      ]
    },
    {
      "metadata": {
        "id": "2ROe6dDl5AVc",
        "colab_type": "code",
        "outputId": "c50f7593-542e-4d05-ae4c-effb2c286fe3",
        "colab": {
          "base_uri": "https://localhost:8080/",
          "height": 136
        }
      },
      "cell_type": "code",
      "source": [
        "print(json.dumps(hashtags[0:5], indent=1))"
      ],
      "execution_count": 0,
      "outputs": [
        {
          "output_type": "stream",
          "text": [
            "[\n",
            " \"Python\",\n",
            " \"DeepLearning\",\n",
            " \"MachineLearning\",\n",
            " \"AI\",\n",
            " \"DataScience\"\n",
            "]\n"
          ],
          "name": "stdout"
        }
      ]
    },
    {
      "metadata": {
        "id": "lnyj2nEg5GEg",
        "colab_type": "code",
        "outputId": "d4533897-0b2c-4304-e00a-1e16fcb03819",
        "colab": {
          "base_uri": "https://localhost:8080/",
          "height": 136
        }
      },
      "cell_type": "code",
      "source": [
        "print(json.dumps(words[0:5], indent=1))"
      ],
      "execution_count": 0,
      "outputs": [
        {
          "output_type": "stream",
          "text": [
            "[\n",
            " \"\\u305d\\u3046\\u30ad\\u30a2\\u30e9\\u3002\\u6bba\\u751f\\u4e38\\u30ad\\u30a2\\u30e9\\u3002\",\n",
            " \"Itertools\",\n",
            " \"in\",\n",
            " \"Python\",\n",
            " \"3:\"\n",
            "]\n"
          ],
          "name": "stdout"
        }
      ]
    },
    {
      "metadata": {
        "id": "OoRsYEEi5LLM",
        "colab_type": "code",
        "outputId": "6effec9e-c734-4d58-871c-7f18707929d8",
        "colab": {
          "base_uri": "https://localhost:8080/",
          "height": 88
        }
      },
      "cell_type": "code",
      "source": [
        "from collections import Counter\n",
        "for item in [words, screen_names, hashtags]:\n",
        "  c = Counter(item)\n",
        "  print(c.most_common()[:10])"
      ],
      "execution_count": 0,
      "outputs": [
        {
          "output_type": "stream",
          "text": [
            "[('RT', 630), ('Python', 474), ('to', 229), ('of', 212), ('the', 197), ('-', 189), ('in', 177), ('and', 170), ('a', 168), ('dies', 162)]\n",
            "[('python_octopus', 20), ('javascriptd', 15), ('machinelearn_d', 14), ('_reactdev', 11), ('AaronCuddeback', 11), ('python_sw', 8), ('RaulFlint', 8), ('GamerGeekNews', 8), ('mohwork1', 8), ('tempmedia1', 8)]\n",
            "[('python', 79), ('100DaysOfCode', 61), ('Python', 59), ('MachineLearning', 41), ('AI', 38), ('DataScience', 33), ('DeepLearning', 31), ('javascript', 26), ('vuejs', 24), ('Java', 24)]\n"
          ],
          "name": "stdout"
        }
      ]
    },
    {
      "metadata": {
        "id": "I4KVuiaR5XZu",
        "colab_type": "code",
        "colab": {}
      },
      "cell_type": "code",
      "source": [
        "retweets = [(status['retweet_count'], status['retweeted_status']['user']['screen_name'], status['text']) for status in statuses if 'retweeted_status' in status]"
      ],
      "execution_count": 0,
      "outputs": []
    },
    {
      "metadata": {
        "id": "8_H3iIx96x0e",
        "colab_type": "code",
        "colab": {}
      },
      "cell_type": "code",
      "source": [
        "top_retweets = sorted(retweets, reverse=True)"
      ],
      "execution_count": 0,
      "outputs": []
    },
    {
      "metadata": {
        "id": "QFJiZJWp7BTT",
        "colab_type": "code",
        "outputId": "4710539e-f907-4647-caeb-b0738e2492f2",
        "colab": {
          "base_uri": "https://localhost:8080/",
          "height": 547
        }
      },
      "cell_type": "code",
      "source": [
        "top_retweets[:10]"
      ],
      "execution_count": 0,
      "outputs": [
        {
          "output_type": "execute_result",
          "data": {
            "text/plain": [
              "[(21712,\n",
              "  'ZonePhysics',\n",
              "  'RT @ZonePhysics: King cobra bites python. Python constricts cobra. Cobra dies of constriction. Python dies from venom. 100% holy shit.. htt…'),\n",
              " (21712,\n",
              "  'ZonePhysics',\n",
              "  'RT @ZonePhysics: King cobra bites python. Python constricts cobra. Cobra dies of constriction. Python dies from venom. 100% holy shit.. htt…'),\n",
              " (21712,\n",
              "  'ZonePhysics',\n",
              "  'RT @ZonePhysics: King cobra bites python. Python constricts cobra. Cobra dies of constriction. Python dies from venom. 100% holy shit.. htt…'),\n",
              " (21712,\n",
              "  'ZonePhysics',\n",
              "  'RT @ZonePhysics: King cobra bites python. Python constricts cobra. Cobra dies of constriction. Python dies from venom. 100% holy shit.. htt…'),\n",
              " (21712,\n",
              "  'ZonePhysics',\n",
              "  'RT @ZonePhysics: King cobra bites python. Python constricts cobra. Cobra dies of constriction. Python dies from venom. 100% holy shit.. htt…'),\n",
              " (21712,\n",
              "  'ZonePhysics',\n",
              "  'RT @ZonePhysics: King cobra bites python. Python constricts cobra. Cobra dies of constriction. Python dies from venom. 100% holy shit.. htt…'),\n",
              " (21712,\n",
              "  'ZonePhysics',\n",
              "  'RT @ZonePhysics: King cobra bites python. Python constricts cobra. Cobra dies of constriction. Python dies from venom. 100% holy shit.. htt…'),\n",
              " (21712,\n",
              "  'ZonePhysics',\n",
              "  'RT @ZonePhysics: King cobra bites python. Python constricts cobra. Cobra dies of constriction. Python dies from venom. 100% holy shit.. htt…'),\n",
              " (21712,\n",
              "  'ZonePhysics',\n",
              "  'RT @ZonePhysics: King cobra bites python. Python constricts cobra. Cobra dies of constriction. Python dies from venom. 100% holy shit.. htt…'),\n",
              " (21712,\n",
              "  'ZonePhysics',\n",
              "  'RT @ZonePhysics: King cobra bites python. Python constricts cobra. Cobra dies of constriction. Python dies from venom. 100% holy shit.. htt…')]"
            ]
          },
          "metadata": {
            "tags": []
          },
          "execution_count": 52
        }
      ]
    },
    {
      "metadata": {
        "id": "4J_1yW967EWt",
        "colab_type": "code",
        "colab": {}
      },
      "cell_type": "code",
      "source": [
        "retweets = list(set(retweets))"
      ],
      "execution_count": 0,
      "outputs": []
    },
    {
      "metadata": {
        "id": "ujrwQdQe7PsL",
        "colab_type": "code",
        "colab": {}
      },
      "cell_type": "code",
      "source": [
        "retweets = list(set(retweets))\n",
        "top_retweets = sorted(retweets, reverse=True)\n",
        "\\"
      ],
      "execution_count": 0,
      "outputs": []
    },
    {
      "metadata": {
        "id": "wDOCaKZ57S1l",
        "colab_type": "code",
        "outputId": "00a12d55-1734-478f-9e9b-d3084eca9679",
        "colab": {
          "base_uri": "https://localhost:8080/",
          "height": 547
        }
      },
      "cell_type": "code",
      "source": [
        "top_retweets[:10]"
      ],
      "execution_count": 0,
      "outputs": [
        {
          "output_type": "execute_result",
          "data": {
            "text/plain": [
              "[(21712,\n",
              "  'ZonePhysics',\n",
              "  'RT @ZonePhysics: King cobra bites python. Python constricts cobra. Cobra dies of constriction. Python dies from venom. 100% holy shit.. htt…'),\n",
              " (21698,\n",
              "  'ZonePhysics',\n",
              "  'RT @ZonePhysics: King cobra bites python. Python constricts cobra. Cobra dies of constriction. Python dies from venom. 100% holy shit.. htt…'),\n",
              " (1416,\n",
              "  'MLIT_JAPAN',\n",
              "  'RT @MLIT_JAPAN: 【リリース】本日3月19日、大阪モノレールの延伸を特許しました。\\n大阪高速鉄道(株)から申請のあった大阪モノレール線延伸線の軌道事業。\\n門真市～瓜生堂間8.9km\\n新規駅は、4駅(全て仮称)\\n(門真南駅、鴻池新田駅、荒本駅、瓜生堂駅)\\n詳しくはこ…'),\n",
              " (857,\n",
              "  'BBCkatyaadler',\n",
              "  'RT @BBCkatyaadler: EU has almost given up trying to understand what’s going on in UK.\\nDutch PM Rutte compares Theresa May to Monty Python k…'),\n",
              " (855,\n",
              "  'BBCkatyaadler',\n",
              "  'RT @BBCkatyaadler: EU has almost given up trying to understand what’s going on in UK.\\nDutch PM Rutte compares Theresa May to Monty Python k…'),\n",
              " (740,\n",
              "  'Aquilaniie',\n",
              "  'RT @Aquilaniie: มีเจ้านึงอยากได้ BA โดยมีข้อแม้ว่า\\n\\n- เขียน business flow และ swim lane\\n- ออกแบบ mockup\\n- ออกแบบ UX/Ui\\n- ออกแบบ Test case\\n-…'),\n",
              " (736,\n",
              "  'Aquilaniie',\n",
              "  'RT @Aquilaniie: มีเจ้านึงอยากได้ BA โดยมีข้อแม้ว่า\\n\\n- เขียน business flow และ swim lane\\n- ออกแบบ mockup\\n- ออกแบบ UX/Ui\\n- ออกแบบ Test case\\n-…'),\n",
              " (676,\n",
              "  'rakko8513',\n",
              "  'RT @rakko8513: LinkedIn で 日常会話レベルで R、母国語で Python を使うとんでもない人材を発見した。 https://t.co/zYcE2vuNuT'),\n",
              " (673,\n",
              "  'rakko8513',\n",
              "  'RT @rakko8513: LinkedIn で 日常会話レベルで R、母国語で Python を使うとんでもない人材を発見した。 https://t.co/zYcE2vuNuT'),\n",
              " (471,\n",
              "  'VisualStudio',\n",
              "  \"RT @VisualStudio: The Visual Studio 2019 Launch Event is Coming April 2nd, 9:00am PT.\\n\\nWhether you're a C#, C++, or Python dev &amp; target the…\")]"
            ]
          },
          "metadata": {
            "tags": []
          },
          "execution_count": 55
        }
      ]
    },
    {
      "metadata": {
        "id": "pH9x6RMj7VKJ",
        "colab_type": "text"
      },
      "cell_type": "markdown",
      "source": [
        "# Homework\n"
      ]
    },
    {
      "metadata": {
        "id": "AdJcmwElpLG-",
        "colab_type": "text"
      },
      "cell_type": "markdown",
      "source": [
        "## Tweet Collection"
      ]
    },
    {
      "metadata": {
        "id": "84hSRrRqpZUK",
        "colab_type": "code",
        "colab": {}
      },
      "cell_type": "code",
      "source": [
        "q = 'MachineLearning'\n",
        "count = 100\n",
        "search_results = twitter_api.search.tweets(q=q, count=count)\n",
        "statuses = search_results['statuses']"
      ],
      "execution_count": 0,
      "outputs": []
    },
    {
      "metadata": {
        "id": "c0gTJNHjpoFV",
        "colab_type": "code",
        "outputId": "927e2047-3ebe-4866-af13-2351d8fbcb69",
        "colab": {
          "base_uri": "https://localhost:8080/",
          "height": 2547
        }
      },
      "cell_type": "code",
      "source": [
        "for _ in range(200):\n",
        "  print(\"Length of Statuses\", len(statuses))\n",
        "  try:\n",
        "    next_results = search_results['search_metadata']['next_results']\n",
        "  except KeyError and e:\n",
        "    print(search_results['search_metadata'])\n",
        "    break\n",
        "    \n",
        "  kwargs = dict([kv.split('=') for kv in next_results[1:].split(\"&\")])\n",
        "  search_results = twitter_api.search.tweets(**kwargs)\n",
        "  statuses += search_results['statuses']"
      ],
      "execution_count": 0,
      "outputs": [
        {
          "output_type": "stream",
          "text": [
            "Length of Statuses 9577\n",
            "Length of Statuses 9667\n",
            "Length of Statuses 9738\n",
            "Length of Statuses 9824\n",
            "Length of Statuses 9894\n",
            "Length of Statuses 9983\n",
            "Length of Statuses 10069\n",
            "Length of Statuses 10130\n",
            "Length of Statuses 10174\n",
            "Length of Statuses 10253\n",
            "Length of Statuses 10353\n",
            "Length of Statuses 10452\n",
            "Length of Statuses 10545\n",
            "Length of Statuses 10638\n",
            "Length of Statuses 10728\n",
            "Length of Statuses 10821\n",
            "Length of Statuses 10907\n",
            "Length of Statuses 11007\n",
            "Length of Statuses 11101\n",
            "Length of Statuses 11191\n",
            "Length of Statuses 11272\n",
            "Length of Statuses 11360\n",
            "Length of Statuses 11449\n",
            "Length of Statuses 11532\n",
            "Length of Statuses 11580\n",
            "Length of Statuses 11677\n",
            "Length of Statuses 11755\n",
            "Length of Statuses 11832\n",
            "Length of Statuses 11922\n",
            "Length of Statuses 11996\n",
            "Length of Statuses 12087\n",
            "Length of Statuses 12183\n",
            "Length of Statuses 12283\n",
            "Length of Statuses 12375\n",
            "Length of Statuses 12449\n",
            "Length of Statuses 12540\n",
            "Length of Statuses 12622\n",
            "Length of Statuses 12699\n",
            "Length of Statuses 12750\n",
            "Length of Statuses 12843\n",
            "Length of Statuses 12931\n",
            "Length of Statuses 13007\n",
            "Length of Statuses 13088\n",
            "Length of Statuses 13178\n",
            "Length of Statuses 13268\n",
            "Length of Statuses 13365\n",
            "Length of Statuses 13443\n",
            "Length of Statuses 13527\n",
            "Length of Statuses 13617\n",
            "Length of Statuses 13712\n",
            "Length of Statuses 13795\n",
            "Length of Statuses 13890\n",
            "Length of Statuses 13986\n",
            "Length of Statuses 14073\n",
            "Length of Statuses 14146\n",
            "Length of Statuses 14236\n",
            "Length of Statuses 14336\n",
            "Length of Statuses 14433\n",
            "Length of Statuses 14520\n",
            "Length of Statuses 14610\n",
            "Length of Statuses 14710\n",
            "Length of Statuses 14805\n",
            "Length of Statuses 14899\n",
            "Length of Statuses 14995\n",
            "Length of Statuses 15088\n",
            "Length of Statuses 15188\n",
            "Length of Statuses 15282\n",
            "Length of Statuses 15364\n",
            "Length of Statuses 15449\n",
            "Length of Statuses 15524\n",
            "Length of Statuses 15603\n",
            "Length of Statuses 15703\n",
            "Length of Statuses 15780\n",
            "Length of Statuses 15868\n",
            "Length of Statuses 15957\n",
            "Length of Statuses 16049\n",
            "Length of Statuses 16149\n",
            "Length of Statuses 16244\n",
            "Length of Statuses 16330\n",
            "Length of Statuses 16415\n",
            "Length of Statuses 16515\n"
          ],
          "name": "stdout"
        },
        {
          "output_type": "error",
          "ename": "TwitterHTTPError",
          "evalue": "ignored",
          "traceback": [
            "\u001b[0;31m---------------------------------------------------------------------------\u001b[0m",
            "\u001b[0;31mHTTPError\u001b[0m                                 Traceback (most recent call last)",
            "\u001b[0;32m/usr/local/lib/python3.6/dist-packages/twitter/api.py\u001b[0m in \u001b[0;36m_handle_response\u001b[0;34m(self, req, uri, arg_data, _timeout)\u001b[0m\n\u001b[1;32m    340\u001b[0m         \u001b[0;32mtry\u001b[0m\u001b[0;34m:\u001b[0m\u001b[0;34m\u001b[0m\u001b[0;34m\u001b[0m\u001b[0m\n\u001b[0;32m--> 341\u001b[0;31m             \u001b[0mhandle\u001b[0m \u001b[0;34m=\u001b[0m \u001b[0murllib_request\u001b[0m\u001b[0;34m.\u001b[0m\u001b[0murlopen\u001b[0m\u001b[0;34m(\u001b[0m\u001b[0mreq\u001b[0m\u001b[0;34m,\u001b[0m \u001b[0;34m**\u001b[0m\u001b[0mkwargs\u001b[0m\u001b[0;34m)\u001b[0m\u001b[0;34m\u001b[0m\u001b[0;34m\u001b[0m\u001b[0m\n\u001b[0m\u001b[1;32m    342\u001b[0m             \u001b[0;32mif\u001b[0m \u001b[0mhandle\u001b[0m\u001b[0;34m.\u001b[0m\u001b[0mheaders\u001b[0m\u001b[0;34m[\u001b[0m\u001b[0;34m'Content-Type'\u001b[0m\u001b[0;34m]\u001b[0m \u001b[0;32min\u001b[0m \u001b[0;34m[\u001b[0m\u001b[0;34m'image/jpeg'\u001b[0m\u001b[0;34m,\u001b[0m \u001b[0;34m'image/png'\u001b[0m\u001b[0;34m]\u001b[0m\u001b[0;34m:\u001b[0m\u001b[0;34m\u001b[0m\u001b[0;34m\u001b[0m\u001b[0m\n",
            "\u001b[0;32m/usr/lib/python3.6/urllib/request.py\u001b[0m in \u001b[0;36murlopen\u001b[0;34m(url, data, timeout, cafile, capath, cadefault, context)\u001b[0m\n\u001b[1;32m    222\u001b[0m         \u001b[0mopener\u001b[0m \u001b[0;34m=\u001b[0m \u001b[0m_opener\u001b[0m\u001b[0;34m\u001b[0m\u001b[0;34m\u001b[0m\u001b[0m\n\u001b[0;32m--> 223\u001b[0;31m     \u001b[0;32mreturn\u001b[0m \u001b[0mopener\u001b[0m\u001b[0;34m.\u001b[0m\u001b[0mopen\u001b[0m\u001b[0;34m(\u001b[0m\u001b[0murl\u001b[0m\u001b[0;34m,\u001b[0m \u001b[0mdata\u001b[0m\u001b[0;34m,\u001b[0m \u001b[0mtimeout\u001b[0m\u001b[0;34m)\u001b[0m\u001b[0;34m\u001b[0m\u001b[0;34m\u001b[0m\u001b[0m\n\u001b[0m\u001b[1;32m    224\u001b[0m \u001b[0;34m\u001b[0m\u001b[0m\n",
            "\u001b[0;32m/usr/lib/python3.6/urllib/request.py\u001b[0m in \u001b[0;36mopen\u001b[0;34m(self, fullurl, data, timeout)\u001b[0m\n\u001b[1;32m    531\u001b[0m             \u001b[0mmeth\u001b[0m \u001b[0;34m=\u001b[0m \u001b[0mgetattr\u001b[0m\u001b[0;34m(\u001b[0m\u001b[0mprocessor\u001b[0m\u001b[0;34m,\u001b[0m \u001b[0mmeth_name\u001b[0m\u001b[0;34m)\u001b[0m\u001b[0;34m\u001b[0m\u001b[0;34m\u001b[0m\u001b[0m\n\u001b[0;32m--> 532\u001b[0;31m             \u001b[0mresponse\u001b[0m \u001b[0;34m=\u001b[0m \u001b[0mmeth\u001b[0m\u001b[0;34m(\u001b[0m\u001b[0mreq\u001b[0m\u001b[0;34m,\u001b[0m \u001b[0mresponse\u001b[0m\u001b[0;34m)\u001b[0m\u001b[0;34m\u001b[0m\u001b[0;34m\u001b[0m\u001b[0m\n\u001b[0m\u001b[1;32m    533\u001b[0m \u001b[0;34m\u001b[0m\u001b[0m\n",
            "\u001b[0;32m/usr/lib/python3.6/urllib/request.py\u001b[0m in \u001b[0;36mhttp_response\u001b[0;34m(self, request, response)\u001b[0m\n\u001b[1;32m    641\u001b[0m             response = self.parent.error(\n\u001b[0;32m--> 642\u001b[0;31m                 'http', request, response, code, msg, hdrs)\n\u001b[0m\u001b[1;32m    643\u001b[0m \u001b[0;34m\u001b[0m\u001b[0m\n",
            "\u001b[0;32m/usr/lib/python3.6/urllib/request.py\u001b[0m in \u001b[0;36merror\u001b[0;34m(self, proto, *args)\u001b[0m\n\u001b[1;32m    569\u001b[0m             \u001b[0margs\u001b[0m \u001b[0;34m=\u001b[0m \u001b[0;34m(\u001b[0m\u001b[0mdict\u001b[0m\u001b[0;34m,\u001b[0m \u001b[0;34m'default'\u001b[0m\u001b[0;34m,\u001b[0m \u001b[0;34m'http_error_default'\u001b[0m\u001b[0;34m)\u001b[0m \u001b[0;34m+\u001b[0m \u001b[0morig_args\u001b[0m\u001b[0;34m\u001b[0m\u001b[0;34m\u001b[0m\u001b[0m\n\u001b[0;32m--> 570\u001b[0;31m             \u001b[0;32mreturn\u001b[0m \u001b[0mself\u001b[0m\u001b[0;34m.\u001b[0m\u001b[0m_call_chain\u001b[0m\u001b[0;34m(\u001b[0m\u001b[0;34m*\u001b[0m\u001b[0margs\u001b[0m\u001b[0;34m)\u001b[0m\u001b[0;34m\u001b[0m\u001b[0;34m\u001b[0m\u001b[0m\n\u001b[0m\u001b[1;32m    571\u001b[0m \u001b[0;34m\u001b[0m\u001b[0m\n",
            "\u001b[0;32m/usr/lib/python3.6/urllib/request.py\u001b[0m in \u001b[0;36m_call_chain\u001b[0;34m(self, chain, kind, meth_name, *args)\u001b[0m\n\u001b[1;32m    503\u001b[0m             \u001b[0mfunc\u001b[0m \u001b[0;34m=\u001b[0m \u001b[0mgetattr\u001b[0m\u001b[0;34m(\u001b[0m\u001b[0mhandler\u001b[0m\u001b[0;34m,\u001b[0m \u001b[0mmeth_name\u001b[0m\u001b[0;34m)\u001b[0m\u001b[0;34m\u001b[0m\u001b[0;34m\u001b[0m\u001b[0m\n\u001b[0;32m--> 504\u001b[0;31m             \u001b[0mresult\u001b[0m \u001b[0;34m=\u001b[0m \u001b[0mfunc\u001b[0m\u001b[0;34m(\u001b[0m\u001b[0;34m*\u001b[0m\u001b[0margs\u001b[0m\u001b[0;34m)\u001b[0m\u001b[0;34m\u001b[0m\u001b[0;34m\u001b[0m\u001b[0m\n\u001b[0m\u001b[1;32m    505\u001b[0m             \u001b[0;32mif\u001b[0m \u001b[0mresult\u001b[0m \u001b[0;32mis\u001b[0m \u001b[0;32mnot\u001b[0m \u001b[0;32mNone\u001b[0m\u001b[0;34m:\u001b[0m\u001b[0;34m\u001b[0m\u001b[0;34m\u001b[0m\u001b[0m\n",
            "\u001b[0;32m/usr/lib/python3.6/urllib/request.py\u001b[0m in \u001b[0;36mhttp_error_default\u001b[0;34m(self, req, fp, code, msg, hdrs)\u001b[0m\n\u001b[1;32m    649\u001b[0m     \u001b[0;32mdef\u001b[0m \u001b[0mhttp_error_default\u001b[0m\u001b[0;34m(\u001b[0m\u001b[0mself\u001b[0m\u001b[0;34m,\u001b[0m \u001b[0mreq\u001b[0m\u001b[0;34m,\u001b[0m \u001b[0mfp\u001b[0m\u001b[0;34m,\u001b[0m \u001b[0mcode\u001b[0m\u001b[0;34m,\u001b[0m \u001b[0mmsg\u001b[0m\u001b[0;34m,\u001b[0m \u001b[0mhdrs\u001b[0m\u001b[0;34m)\u001b[0m\u001b[0;34m:\u001b[0m\u001b[0;34m\u001b[0m\u001b[0;34m\u001b[0m\u001b[0m\n\u001b[0;32m--> 650\u001b[0;31m         \u001b[0;32mraise\u001b[0m \u001b[0mHTTPError\u001b[0m\u001b[0;34m(\u001b[0m\u001b[0mreq\u001b[0m\u001b[0;34m.\u001b[0m\u001b[0mfull_url\u001b[0m\u001b[0;34m,\u001b[0m \u001b[0mcode\u001b[0m\u001b[0;34m,\u001b[0m \u001b[0mmsg\u001b[0m\u001b[0;34m,\u001b[0m \u001b[0mhdrs\u001b[0m\u001b[0;34m,\u001b[0m \u001b[0mfp\u001b[0m\u001b[0;34m)\u001b[0m\u001b[0;34m\u001b[0m\u001b[0;34m\u001b[0m\u001b[0m\n\u001b[0m\u001b[1;32m    651\u001b[0m \u001b[0;34m\u001b[0m\u001b[0m\n",
            "\u001b[0;31mHTTPError\u001b[0m: HTTP Error 429: Too Many Requests",
            "\nDuring handling of the above exception, another exception occurred:\n",
            "\u001b[0;31mTwitterHTTPError\u001b[0m                          Traceback (most recent call last)",
            "\u001b[0;32m<ipython-input-92-f4935222d256>\u001b[0m in \u001b[0;36m<module>\u001b[0;34m()\u001b[0m\n\u001b[1;32m      8\u001b[0m \u001b[0;34m\u001b[0m\u001b[0m\n\u001b[1;32m      9\u001b[0m   \u001b[0mkwargs\u001b[0m \u001b[0;34m=\u001b[0m \u001b[0mdict\u001b[0m\u001b[0;34m(\u001b[0m\u001b[0;34m[\u001b[0m\u001b[0mkv\u001b[0m\u001b[0;34m.\u001b[0m\u001b[0msplit\u001b[0m\u001b[0;34m(\u001b[0m\u001b[0;34m'='\u001b[0m\u001b[0;34m)\u001b[0m \u001b[0;32mfor\u001b[0m \u001b[0mkv\u001b[0m \u001b[0;32min\u001b[0m \u001b[0mnext_results\u001b[0m\u001b[0;34m[\u001b[0m\u001b[0;36m1\u001b[0m\u001b[0;34m:\u001b[0m\u001b[0;34m]\u001b[0m\u001b[0;34m.\u001b[0m\u001b[0msplit\u001b[0m\u001b[0;34m(\u001b[0m\u001b[0;34m\"&\"\u001b[0m\u001b[0;34m)\u001b[0m\u001b[0;34m]\u001b[0m\u001b[0;34m)\u001b[0m\u001b[0;34m\u001b[0m\u001b[0;34m\u001b[0m\u001b[0m\n\u001b[0;32m---> 10\u001b[0;31m   \u001b[0msearch_results\u001b[0m \u001b[0;34m=\u001b[0m \u001b[0mtwitter_api\u001b[0m\u001b[0;34m.\u001b[0m\u001b[0msearch\u001b[0m\u001b[0;34m.\u001b[0m\u001b[0mtweets\u001b[0m\u001b[0;34m(\u001b[0m\u001b[0;34m**\u001b[0m\u001b[0mkwargs\u001b[0m\u001b[0;34m)\u001b[0m\u001b[0;34m\u001b[0m\u001b[0;34m\u001b[0m\u001b[0m\n\u001b[0m\u001b[1;32m     11\u001b[0m   \u001b[0mstatuses\u001b[0m \u001b[0;34m+=\u001b[0m \u001b[0msearch_results\u001b[0m\u001b[0;34m[\u001b[0m\u001b[0;34m'statuses'\u001b[0m\u001b[0;34m]\u001b[0m\u001b[0;34m\u001b[0m\u001b[0;34m\u001b[0m\u001b[0m\n",
            "\u001b[0;32m/usr/local/lib/python3.6/dist-packages/twitter/api.py\u001b[0m in \u001b[0;36m__call__\u001b[0;34m(self, **kwargs)\u001b[0m\n\u001b[1;32m    332\u001b[0m             \u001b[0;32mreturn\u001b[0m \u001b[0mself\u001b[0m\u001b[0;34m.\u001b[0m\u001b[0m_handle_response_with_retry\u001b[0m\u001b[0;34m(\u001b[0m\u001b[0mreq\u001b[0m\u001b[0;34m,\u001b[0m \u001b[0muri\u001b[0m\u001b[0;34m,\u001b[0m \u001b[0marg_data\u001b[0m\u001b[0;34m,\u001b[0m \u001b[0m_timeout\u001b[0m\u001b[0;34m)\u001b[0m\u001b[0;34m\u001b[0m\u001b[0;34m\u001b[0m\u001b[0m\n\u001b[1;32m    333\u001b[0m         \u001b[0;32melse\u001b[0m\u001b[0;34m:\u001b[0m\u001b[0;34m\u001b[0m\u001b[0;34m\u001b[0m\u001b[0m\n\u001b[0;32m--> 334\u001b[0;31m             \u001b[0;32mreturn\u001b[0m \u001b[0mself\u001b[0m\u001b[0;34m.\u001b[0m\u001b[0m_handle_response\u001b[0m\u001b[0;34m(\u001b[0m\u001b[0mreq\u001b[0m\u001b[0;34m,\u001b[0m \u001b[0muri\u001b[0m\u001b[0;34m,\u001b[0m \u001b[0marg_data\u001b[0m\u001b[0;34m,\u001b[0m \u001b[0m_timeout\u001b[0m\u001b[0;34m)\u001b[0m\u001b[0;34m\u001b[0m\u001b[0;34m\u001b[0m\u001b[0m\n\u001b[0m\u001b[1;32m    335\u001b[0m \u001b[0;34m\u001b[0m\u001b[0m\n\u001b[1;32m    336\u001b[0m     \u001b[0;32mdef\u001b[0m \u001b[0m_handle_response\u001b[0m\u001b[0;34m(\u001b[0m\u001b[0mself\u001b[0m\u001b[0;34m,\u001b[0m \u001b[0mreq\u001b[0m\u001b[0;34m,\u001b[0m \u001b[0muri\u001b[0m\u001b[0;34m,\u001b[0m \u001b[0marg_data\u001b[0m\u001b[0;34m,\u001b[0m \u001b[0m_timeout\u001b[0m\u001b[0;34m=\u001b[0m\u001b[0;32mNone\u001b[0m\u001b[0;34m)\u001b[0m\u001b[0;34m:\u001b[0m\u001b[0;34m\u001b[0m\u001b[0;34m\u001b[0m\u001b[0m\n",
            "\u001b[0;32m/usr/local/lib/python3.6/dist-packages/twitter/api.py\u001b[0m in \u001b[0;36m_handle_response\u001b[0;34m(self, req, uri, arg_data, _timeout)\u001b[0m\n\u001b[1;32m    365\u001b[0m                 \u001b[0;32mreturn\u001b[0m \u001b[0;34m[\u001b[0m\u001b[0;34m]\u001b[0m\u001b[0;34m\u001b[0m\u001b[0;34m\u001b[0m\u001b[0m\n\u001b[1;32m    366\u001b[0m             \u001b[0;32melse\u001b[0m\u001b[0;34m:\u001b[0m\u001b[0;34m\u001b[0m\u001b[0;34m\u001b[0m\u001b[0m\n\u001b[0;32m--> 367\u001b[0;31m                 \u001b[0;32mraise\u001b[0m \u001b[0mTwitterHTTPError\u001b[0m\u001b[0;34m(\u001b[0m\u001b[0me\u001b[0m\u001b[0;34m,\u001b[0m \u001b[0muri\u001b[0m\u001b[0;34m,\u001b[0m \u001b[0mself\u001b[0m\u001b[0;34m.\u001b[0m\u001b[0mformat\u001b[0m\u001b[0;34m,\u001b[0m \u001b[0marg_data\u001b[0m\u001b[0;34m)\u001b[0m\u001b[0;34m\u001b[0m\u001b[0;34m\u001b[0m\u001b[0m\n\u001b[0m\u001b[1;32m    368\u001b[0m \u001b[0;34m\u001b[0m\u001b[0m\n\u001b[1;32m    369\u001b[0m     \u001b[0;32mdef\u001b[0m \u001b[0m_handle_response_with_retry\u001b[0m\u001b[0;34m(\u001b[0m\u001b[0mself\u001b[0m\u001b[0;34m,\u001b[0m \u001b[0mreq\u001b[0m\u001b[0;34m,\u001b[0m \u001b[0muri\u001b[0m\u001b[0;34m,\u001b[0m \u001b[0marg_data\u001b[0m\u001b[0;34m,\u001b[0m \u001b[0m_timeout\u001b[0m\u001b[0;34m=\u001b[0m\u001b[0;32mNone\u001b[0m\u001b[0;34m)\u001b[0m\u001b[0;34m:\u001b[0m\u001b[0;34m\u001b[0m\u001b[0;34m\u001b[0m\u001b[0m\n",
            "\u001b[0;31mTwitterHTTPError\u001b[0m: Twitter sent status 429 for URL: 1.1/search/tweets.json using parameters: (count=100&include_entities=1&max_id=1107333215059144703&oauth_consumer_key=UFfRJVjJLFSpYxQn6oTDOYE2l&oauth_nonce=17582138268325400741&oauth_signature_method=HMAC-SHA1&oauth_timestamp=1552979090&oauth_token=1106364183690436608-r8fCgG8Ev5yKpYPneVOLNjLoixjiSk&oauth_version=1.0&q=MachineLearning&oauth_signature=Z1jh19jPgcSTwOYCF3%2By7eB7w1Q%3D)\ndetails: {'errors': [{'message': 'Rate limit exceeded', 'code': 88}]}"
          ]
        }
      ]
    },
    {
      "metadata": {
        "id": "uNX3TV5pp1gH",
        "colab_type": "text"
      },
      "cell_type": "markdown",
      "source": [
        "## Descriptive Statistics"
      ]
    },
    {
      "metadata": {
        "id": "WMPxJ5BvppsB",
        "colab_type": "code",
        "colab": {}
      },
      "cell_type": "code",
      "source": [
        "created_at = [status['created_at'] for status in statuses]\n",
        "status_texts = [status['text'] for status in statuses]\n",
        "created_at_user = [status['user']['created_at'] for status in statuses]\n",
        "statuses_count = [status['user']['statuses_count'] for status in statuses]\n",
        "followers_count = [status['user']['followers_count'] for status in statuses]\n",
        "hashtags = [hashtag['text'] for status in statuses for hashtag in status['entities']['hashtags']]\n",
        "words = [w for t in status_texts for w in t.split()]"
      ],
      "execution_count": 0,
      "outputs": []
    },
    {
      "metadata": {
        "id": "J3wqwwZ20uLg",
        "colab_type": "code",
        "outputId": "16923d48-ad35-435b-fc69-f0c64e13120e",
        "colab": {
          "base_uri": "https://localhost:8080/",
          "height": 17034
        }
      },
      "cell_type": "code",
      "source": [
        "statuses_count"
      ],
      "execution_count": 0,
      "outputs": [
        {
          "output_type": "execute_result",
          "data": {
            "text/plain": [
              "[40606,\n",
              " 1503,\n",
              " 365,\n",
              " 25,\n",
              " 35160,\n",
              " 21343,\n",
              " 18752,\n",
              " 156,\n",
              " 75878,\n",
              " 614,\n",
              " 562286,\n",
              " 21343,\n",
              " 300,\n",
              " 10575,\n",
              " 562286,\n",
              " 614,\n",
              " 7814,\n",
              " 12290,\n",
              " 72748,\n",
              " 5117,\n",
              " 106585,\n",
              " 1260,\n",
              " 52314,\n",
              " 562286,\n",
              " 1326676,\n",
              " 6180,\n",
              " 65150,\n",
              " 65150,\n",
              " 65150,\n",
              " 65150,\n",
              " 65150,\n",
              " 111908,\n",
              " 1995,\n",
              " 72748,\n",
              " 52314,\n",
              " 201450,\n",
              " 13091,\n",
              " 201450,\n",
              " 201450,\n",
              " 52314,\n",
              " 201450,\n",
              " 201450,\n",
              " 201450,\n",
              " 65,\n",
              " 14652,\n",
              " 201450,\n",
              " 139,\n",
              " 10575,\n",
              " 201450,\n",
              " 374,\n",
              " 3168,\n",
              " 201450,\n",
              " 201450,\n",
              " 201450,\n",
              " 201450,\n",
              " 201450,\n",
              " 5,\n",
              " 43285,\n",
              " 201450,\n",
              " 1249,\n",
              " 201450,\n",
              " 19321,\n",
              " 201450,\n",
              " 201450,\n",
              " 391585,\n",
              " 2587,\n",
              " 521,\n",
              " 184,\n",
              " 15804,\n",
              " 201450,\n",
              " 16051,\n",
              " 767,\n",
              " 201450,\n",
              " 181370,\n",
              " 201450,\n",
              " 201450,\n",
              " 14331,\n",
              " 1997,\n",
              " 201450,\n",
              " 4089,\n",
              " 5,\n",
              " 8314,\n",
              " 201450,\n",
              " 201450,\n",
              " 201450,\n",
              " 201450,\n",
              " 6464,\n",
              " 562286,\n",
              " 1260,\n",
              " 201450,\n",
              " 276,\n",
              " 562286,\n",
              " 3210,\n",
              " 14331,\n",
              " 201450,\n",
              " 9356,\n",
              " 201450,\n",
              " 7433,\n",
              " 2210,\n",
              " 201450,\n",
              " 562287,\n",
              " 201450,\n",
              " 4387,\n",
              " 201450,\n",
              " 14332,\n",
              " 562287,\n",
              " 201450,\n",
              " 201450,\n",
              " 170,\n",
              " 562287,\n",
              " 201450,\n",
              " 201450,\n",
              " 16771,\n",
              " 201450,\n",
              " 562287,\n",
              " 201450,\n",
              " 22486,\n",
              " 201450,\n",
              " 562287,\n",
              " 14332,\n",
              " 201450,\n",
              " 391585,\n",
              " 55778,\n",
              " 201450,\n",
              " 55778,\n",
              " 55778,\n",
              " 17912,\n",
              " 11379,\n",
              " 55778,\n",
              " 201450,\n",
              " 530,\n",
              " 201450,\n",
              " 6269,\n",
              " 201450,\n",
              " 8839,\n",
              " 1326676,\n",
              " 201450,\n",
              " 562287,\n",
              " 201450,\n",
              " 1084,\n",
              " 201450,\n",
              " 32362,\n",
              " 67,\n",
              " 65150,\n",
              " 65150,\n",
              " 65150,\n",
              " 2432,\n",
              " 562287,\n",
              " 562287,\n",
              " 279011,\n",
              " 998,\n",
              " 37095,\n",
              " 28900,\n",
              " 15665,\n",
              " 10883,\n",
              " 64892,\n",
              " 16491,\n",
              " 16491,\n",
              " 16491,\n",
              " 4493,\n",
              " 1931,\n",
              " 562287,\n",
              " 32497,\n",
              " 562287,\n",
              " 52446,\n",
              " 7269,\n",
              " 52446,\n",
              " 52446,\n",
              " 52446,\n",
              " 7269,\n",
              " 52446,\n",
              " 27239,\n",
              " 13766,\n",
              " 7269,\n",
              " 32009,\n",
              " 70359,\n",
              " 70359,\n",
              " 7269,\n",
              " 562287,\n",
              " 32009,\n",
              " 32009,\n",
              " 75878,\n",
              " 32009,\n",
              " 43892,\n",
              " 43892,\n",
              " 998,\n",
              " 32009,\n",
              " 7269,\n",
              " 868,\n",
              " 6967,\n",
              " 20488,\n",
              " 7269,\n",
              " 16730,\n",
              " 52314,\n",
              " 7269,\n",
              " 27090,\n",
              " 412,\n",
              " 562287,\n",
              " 2212,\n",
              " 695,\n",
              " 3738,\n",
              " 6054,\n",
              " 33255,\n",
              " 33255,\n",
              " 562287,\n",
              " 562287,\n",
              " 1613,\n",
              " 165955,\n",
              " 998,\n",
              " 5748,\n",
              " 37056,\n",
              " 244726,\n",
              " 16771,\n",
              " 7,\n",
              " 562287,\n",
              " 1613,\n",
              " 13874,\n",
              " 2146,\n",
              " 23135,\n",
              " 562287,\n",
              " 7695,\n",
              " 7558,\n",
              " 4387,\n",
              " 32497,\n",
              " 562287,\n",
              " 132218,\n",
              " 949,\n",
              " 562287,\n",
              " 14332,\n",
              " 5090,\n",
              " 562287,\n",
              " 4071,\n",
              " 74470,\n",
              " 45510,\n",
              " 562287,\n",
              " 990,\n",
              " 661581,\n",
              " 167911,\n",
              " 20488,\n",
              " 106457,\n",
              " 118115,\n",
              " 1473,\n",
              " 63228,\n",
              " 1445,\n",
              " 5,\n",
              " 542,\n",
              " 65150,\n",
              " 4523,\n",
              " 96236,\n",
              " 770,\n",
              " 8828,\n",
              " 2479,\n",
              " 8890,\n",
              " 562287,\n",
              " 12290,\n",
              " 15227,\n",
              " 20138,\n",
              " 204970,\n",
              " 21993,\n",
              " 62,\n",
              " 770,\n",
              " 49063,\n",
              " 137,\n",
              " 8556,\n",
              " 5931,\n",
              " 14652,\n",
              " 6183,\n",
              " 197,\n",
              " 562287,\n",
              " 1445,\n",
              " 629,\n",
              " 13291,\n",
              " 41347,\n",
              " 2267,\n",
              " 54,\n",
              " 63228,\n",
              " 38038,\n",
              " 539,\n",
              " 38038,\n",
              " 192,\n",
              " 12254,\n",
              " 244,\n",
              " 69796,\n",
              " 8398,\n",
              " 1459,\n",
              " 186,\n",
              " 69796,\n",
              " 69493,\n",
              " 69796,\n",
              " 69796,\n",
              " 1105,\n",
              " 8398,\n",
              " 69493,\n",
              " 478,\n",
              " 69796,\n",
              " 75,\n",
              " 69493,\n",
              " 3008,\n",
              " 69796,\n",
              " 621,\n",
              " 8398,\n",
              " 8969,\n",
              " 7946,\n",
              " 190,\n",
              " 36317,\n",
              " 111,\n",
              " 1861,\n",
              " 7946,\n",
              " 1326676,\n",
              " 36,\n",
              " 29907,\n",
              " 69493,\n",
              " 1326676,\n",
              " 4357,\n",
              " 61360,\n",
              " 569,\n",
              " 65150,\n",
              " 65150,\n",
              " 244726,\n",
              " 201450,\n",
              " 779,\n",
              " 3001,\n",
              " 137260,\n",
              " 3614,\n",
              " 13607,\n",
              " 446,\n",
              " 82889,\n",
              " 1473,\n",
              " 41347,\n",
              " 201450,\n",
              " 104663,\n",
              " 201450,\n",
              " 12225,\n",
              " 372,\n",
              " 66,\n",
              " 41347,\n",
              " 11955,\n",
              " 4894,\n",
              " 11955,\n",
              " 1109,\n",
              " 1445,\n",
              " 201450,\n",
              " 661581,\n",
              " 17823,\n",
              " 17823,\n",
              " 17823,\n",
              " 514,\n",
              " 11955,\n",
              " 201450,\n",
              " 211,\n",
              " 11955,\n",
              " 201450,\n",
              " 11955,\n",
              " 15605,\n",
              " 27277,\n",
              " 201450,\n",
              " 201450,\n",
              " 201450,\n",
              " 11955,\n",
              " 17972,\n",
              " 42,\n",
              " 201450,\n",
              " 77753,\n",
              " 201450,\n",
              " 25810,\n",
              " 1445,\n",
              " 77753,\n",
              " 77753,\n",
              " 1445,\n",
              " 2170,\n",
              " 69493,\n",
              " 41347,\n",
              " 1613,\n",
              " 1445,\n",
              " 43892,\n",
              " 2369,\n",
              " 79944,\n",
              " 3910,\n",
              " 23676,\n",
              " 1326676,\n",
              " 12225,\n",
              " 9952,\n",
              " 201450,\n",
              " 1445,\n",
              " 65150,\n",
              " 16771,\n",
              " 2830,\n",
              " 2830,\n",
              " 101,\n",
              " 397825,\n",
              " 397825,\n",
              " 32497,\n",
              " 4368,\n",
              " 165955,\n",
              " 75878,\n",
              " 12225,\n",
              " 759,\n",
              " 2830,\n",
              " 1230,\n",
              " 165955,\n",
              " 2830,\n",
              " 4125,\n",
              " 1445,\n",
              " 1707,\n",
              " 1260,\n",
              " 53803,\n",
              " 1445,\n",
              " 945,\n",
              " 13196,\n",
              " 16771,\n",
              " 244726,\n",
              " 72303,\n",
              " 826,\n",
              " 72303,\n",
              " 72303,\n",
              " 72303,\n",
              " 3471,\n",
              " 6865,\n",
              " 983,\n",
              " 377,\n",
              " 26564,\n",
              " 43285,\n",
              " 44182,\n",
              " 27796,\n",
              " 10573,\n",
              " 151748,\n",
              " 28275,\n",
              " 59,\n",
              " 28275,\n",
              " 7098,\n",
              " 69,\n",
              " 59159,\n",
              " 104332,\n",
              " 12225,\n",
              " 5093,\n",
              " 39513,\n",
              " 10786,\n",
              " 7098,\n",
              " 26564,\n",
              " 137,\n",
              " 2462,\n",
              " 12225,\n",
              " 43285,\n",
              " 65150,\n",
              " 65150,\n",
              " 72303,\n",
              " 12225,\n",
              " 14,\n",
              " 4985,\n",
              " 8101,\n",
              " 18818,\n",
              " 1683,\n",
              " 20417,\n",
              " 26564,\n",
              " 362,\n",
              " 13157,\n",
              " 11955,\n",
              " 22289,\n",
              " 14915,\n",
              " 22289,\n",
              " 20185,\n",
              " 2588,\n",
              " 12225,\n",
              " 5093,\n",
              " 1102,\n",
              " 4964,\n",
              " 12225,\n",
              " 3701,\n",
              " 12225,\n",
              " 7269,\n",
              " 73044,\n",
              " 3744,\n",
              " 693,\n",
              " 1445,\n",
              " 13776,\n",
              " 142848,\n",
              " 12225,\n",
              " 7269,\n",
              " 11324,\n",
              " 19548,\n",
              " 170,\n",
              " 41347,\n",
              " 7098,\n",
              " 633,\n",
              " 13776,\n",
              " 26564,\n",
              " 24,\n",
              " 7269,\n",
              " 4084,\n",
              " 397825,\n",
              " 1445,\n",
              " 7695,\n",
              " 165955,\n",
              " 10,\n",
              " 165955,\n",
              " 3113,\n",
              " 474,\n",
              " 210423,\n",
              " 165955,\n",
              " 12290,\n",
              " 165955,\n",
              " 1314,\n",
              " 3070,\n",
              " 15492,\n",
              " 60507,\n",
              " 6054,\n",
              " 1644,\n",
              " 7269,\n",
              " 165955,\n",
              " 1644,\n",
              " 1644,\n",
              " 1644,\n",
              " 109715,\n",
              " 65150,\n",
              " 65150,\n",
              " 65150,\n",
              " 65150,\n",
              " 65150,\n",
              " 201450,\n",
              " 244726,\n",
              " 201450,\n",
              " 201450,\n",
              " 1445,\n",
              " 201450,\n",
              " 201450,\n",
              " 111908,\n",
              " 7695,\n",
              " 201450,\n",
              " 201450,\n",
              " 201450,\n",
              " 67424,\n",
              " 4277,\n",
              " 1815,\n",
              " 201450,\n",
              " 1644,\n",
              " 201450,\n",
              " 43965,\n",
              " 201450,\n",
              " 21343,\n",
              " 7269,\n",
              " 201450,\n",
              " 28,\n",
              " 201450,\n",
              " 13718,\n",
              " 204,\n",
              " 201450,\n",
              " 1930,\n",
              " 201450,\n",
              " 32940,\n",
              " 706,\n",
              " 201450,\n",
              " 201450,\n",
              " 1411,\n",
              " 201450,\n",
              " 201450,\n",
              " 201450,\n",
              " 201450,\n",
              " 1096440,\n",
              " 201450,\n",
              " 12225,\n",
              " 7269,\n",
              " 201450,\n",
              " 239,\n",
              " 201450,\n",
              " 201450,\n",
              " 217,\n",
              " 1445,\n",
              " 201450,\n",
              " 201450,\n",
              " 201450,\n",
              " 34712,\n",
              " 201450,\n",
              " 1877,\n",
              " 8617,\n",
              " 201450,\n",
              " 42797,\n",
              " 201450,\n",
              " 11875,\n",
              " 201450,\n",
              " 1783,\n",
              " 30796,\n",
              " 29227,\n",
              " 562288,\n",
              " 201450,\n",
              " 37376,\n",
              " 201450,\n",
              " 4395,\n",
              " 48119,\n",
              " 1207860,\n",
              " 201450,\n",
              " 53487,\n",
              " 201450,\n",
              " 1207860,\n",
              " 11875,\n",
              " 31330,\n",
              " 201450,\n",
              " 201450,\n",
              " 201450,\n",
              " 20217,\n",
              " 1445,\n",
              " 1207860,\n",
              " 1445,\n",
              " 201450,\n",
              " 55778,\n",
              " 391585,\n",
              " 55778,\n",
              " 201450,\n",
              " 1445,\n",
              " 55778,\n",
              " 1445,\n",
              " 5117,\n",
              " 201450,\n",
              " 277684,\n",
              " 201450,\n",
              " 201450,\n",
              " 5783,\n",
              " 9724,\n",
              " 201450,\n",
              " 1326676,\n",
              " 201450,\n",
              " 13454,\n",
              " 201450,\n",
              " 81888,\n",
              " 1700,\n",
              " 13416,\n",
              " 1171,\n",
              " 65150,\n",
              " 65150,\n",
              " 65150,\n",
              " 65150,\n",
              " 65150,\n",
              " 32288,\n",
              " 43286,\n",
              " 26564,\n",
              " 19232,\n",
              " 562288,\n",
              " 7917,\n",
              " 209984,\n",
              " 12225,\n",
              " 52446,\n",
              " 32288,\n",
              " 52446,\n",
              " 52446,\n",
              " 17972,\n",
              " 52446,\n",
              " 75953,\n",
              " 32009,\n",
              " 32009,\n",
              " 23,\n",
              " 32009,\n",
              " 6382,\n",
              " 32009,\n",
              " 32009,\n",
              " 37765,\n",
              " 2349,\n",
              " 12,\n",
              " 709,\n",
              " 10765,\n",
              " 165981,\n",
              " 139584,\n",
              " 134,\n",
              " 12950,\n",
              " 44040,\n",
              " 3123,\n",
              " 37056,\n",
              " 11,\n",
              " 165981,\n",
              " 7374,\n",
              " 20488,\n",
              " 10003,\n",
              " 1379,\n",
              " 7600,\n",
              " 47149,\n",
              " 62,\n",
              " 567,\n",
              " 47141,\n",
              " 32499,\n",
              " 6359,\n",
              " 142849,\n",
              " 2005,\n",
              " 142849,\n",
              " 142849,\n",
              " 815,\n",
              " 2863,\n",
              " 47,\n",
              " 142849,\n",
              " 142849,\n",
              " 289680,\n",
              " 142849,\n",
              " 142849,\n",
              " 142849,\n",
              " 142849,\n",
              " 923,\n",
              " 142849,\n",
              " 142849,\n",
              " 142849,\n",
              " 142849,\n",
              " 69174,\n",
              " 419,\n",
              " 36317,\n",
              " 98352,\n",
              " 19549,\n",
              " 75698,\n",
              " 567,\n",
              " 1326705,\n",
              " 10984,\n",
              " 63230,\n",
              " 65157,\n",
              " 65157,\n",
              " 39979,\n",
              " 6326,\n",
              " 39348,\n",
              " 142849,\n",
              " 1446,\n",
              " 142849,\n",
              " 22291,\n",
              " 1119,\n",
              " 33829,\n",
              " 22489,\n",
              " 4988,\n",
              " 19671,\n",
              " 41352,\n",
              " 23024,\n",
              " 161,\n",
              " 8112,\n",
              " 8112,\n",
              " 45748,\n",
              " 16121,\n",
              " 43289,\n",
              " 868,\n",
              " 1099,\n",
              " 12350,\n",
              " 1013,\n",
              " 801,\n",
              " 73068,\n",
              " 73068,\n",
              " 10786,\n",
              " 127,\n",
              " 14651,\n",
              " 397853,\n",
              " 1284,\n",
              " 46,\n",
              " 1145,\n",
              " 240888,\n",
              " 81284,\n",
              " 868,\n",
              " 5513,\n",
              " 43286,\n",
              " 65157,\n",
              " 65157,\n",
              " 65157,\n",
              " 244742,\n",
              " 244742,\n",
              " 4092,\n",
              " 1893,\n",
              " 279014,\n",
              " 16504,\n",
              " 21619,\n",
              " 53128,\n",
              " 1932,\n",
              " 70127,\n",
              " 664,\n",
              " 4666,\n",
              " 1957,\n",
              " 60914,\n",
              " 3198,\n",
              " 1326705,\n",
              " 1788,\n",
              " 855,\n",
              " 1326705,\n",
              " 661597,\n",
              " 2702,\n",
              " 17825,\n",
              " 7269,\n",
              " 34635,\n",
              " 55283,\n",
              " 9907,\n",
              " 1816,\n",
              " 69487,\n",
              " 2354,\n",
              " 221690,\n",
              " 5449,\n",
              " 562306,\n",
              " 21345,\n",
              " 41352,\n",
              " 98352,\n",
              " 209990,\n",
              " 25811,\n",
              " 4524,\n",
              " 7269,\n",
              " 7269,\n",
              " 1210,\n",
              " 54527,\n",
              " 26057,\n",
              " 1474,\n",
              " 6482,\n",
              " 917,\n",
              " 71890,\n",
              " 3433,\n",
              " 11416,\n",
              " 13718,\n",
              " 4870,\n",
              " 209,\n",
              " 34495,\n",
              " 7109,\n",
              " 65157,\n",
              " 65157,\n",
              " 31486,\n",
              " 4508,\n",
              " 20139,\n",
              " 43289,\n",
              " 6326,\n",
              " 3219,\n",
              " 1719,\n",
              " 41352,\n",
              " 55,\n",
              " 19110,\n",
              " 5422,\n",
              " 397853,\n",
              " 11828,\n",
              " 75437,\n",
              " 6460,\n",
              " 6732,\n",
              " 130,\n",
              " 5547,\n",
              " 165981,\n",
              " 75437,\n",
              " 244742,\n",
              " 244742,\n",
              " 2293,\n",
              " 25104,\n",
              " 75437,\n",
              " 1567,\n",
              " 3913,\n",
              " 1678,\n",
              " 915,\n",
              " 17370,\n",
              " 4339,\n",
              " 72303,\n",
              " 26578,\n",
              " 75437,\n",
              " 15,\n",
              " 37886,\n",
              " 21421,\n",
              " 45,\n",
              " 55283,\n",
              " 969,\n",
              " 26578,\n",
              " 75437,\n",
              " 88,\n",
              " 65157,\n",
              " 65157,\n",
              " 65157,\n",
              " 65157,\n",
              " 7449,\n",
              " 1332,\n",
              " 14431,\n",
              " 20418,\n",
              " 75437,\n",
              " 959,\n",
              " 5586,\n",
              " 6534,\n",
              " 26578,\n",
              " 75437,\n",
              " 7607,\n",
              " 159961,\n",
              " 3280,\n",
              " 26578,\n",
              " 75437,\n",
              " 51,\n",
              " 76,\n",
              " 2871,\n",
              " 589,\n",
              " 75437,\n",
              " 26578,\n",
              " 419,\n",
              " 21995,\n",
              " 165981,\n",
              " 5452,\n",
              " 41352,\n",
              " 12290,\n",
              " 661597,\n",
              " 26578,\n",
              " 4029,\n",
              " 3060,\n",
              " 6055,\n",
              " 84,\n",
              " 165981,\n",
              " 142849,\n",
              " 1168,\n",
              " 164,\n",
              " 28,\n",
              " 4277,\n",
              " 4277,\n",
              " 4136,\n",
              " 2387,\n",
              " 54527,\n",
              " 947,\n",
              " 26578,\n",
              " 23,\n",
              " 21502,\n",
              " 34199,\n",
              " 4524,\n",
              " 18751,\n",
              " 26,\n",
              " 55778,\n",
              " 61849,\n",
              " 55778,\n",
              " 201452,\n",
              " 55778,\n",
              " 201452,\n",
              " 201452,\n",
              " 661597,\n",
              " 201452,\n",
              " 201452,\n",
              " 201452,\n",
              " 201452,\n",
              " 2997,\n",
              " 201452,\n",
              " 1644,\n",
              " 65157,\n",
              " 28275,\n",
              " 206,\n",
              " 4351,\n",
              " 21995,\n",
              " 8970,\n",
              " 22862,\n",
              " 73,\n",
              " 28275,\n",
              " 206,\n",
              " 52446,\n",
              " 52446,\n",
              " 52446,\n",
              " 52446,\n",
              " 52446,\n",
              " 70359,\n",
              " 32009,\n",
              " 70359,\n",
              " 32009,\n",
              " 32009,\n",
              " 46744,\n",
              " 3454,\n",
              " 32009,\n",
              " 46744,\n",
              " 32009,\n",
              " 1631,\n",
              " 1349,\n",
              " 165981,\n",
              " 20139,\n",
              " 21995,\n",
              " 932,\n",
              " 10765,\n",
              " 1289,\n",
              " 108,\n",
              " 33255,\n",
              " 10574,\n",
              " 6326,\n",
              " 69388,\n",
              " 1270,\n",
              " 4646,\n",
              " 44182,\n",
              " 22668,\n",
              " 39266,\n",
              " 47141,\n",
              " 1644,\n",
              " 8236,\n",
              " 3887,\n",
              " 20323,\n",
              " 8236,\n",
              " 20219,\n",
              " 496599,\n",
              " 9807,\n",
              " 12076,\n",
              " 289680,\n",
              " 4390,\n",
              " 1066,\n",
              " 9807,\n",
              " 391592,\n",
              " 757,\n",
              " 38,\n",
              " 17825,\n",
              " 17825,\n",
              " 16871,\n",
              " 55283,\n",
              " 26,\n",
              " 54114,\n",
              " 65157,\n",
              " 65157,\n",
              " 37914,\n",
              " 7492,\n",
              " 370,\n",
              " 59358,\n",
              " 1549,\n",
              " 43894,\n",
              " 1114522,\n",
              " 23407,\n",
              " 196,\n",
              " 20488,\n",
              " 3899,\n",
              " 28,\n",
              " ...]"
            ]
          },
          "metadata": {
            "tags": []
          },
          "execution_count": 114
        }
      ]
    },
    {
      "metadata": {
        "id": "n50kFQZupzmf",
        "colab_type": "code",
        "colab": {}
      },
      "cell_type": "code",
      "source": [
        "from collections import Counter\n",
        "for item in [created_at, status_texts, created_at_user, statuses_count, followers_count, hashtags, words]:\n",
        "  c = Counter(item)\n",
        "  print(c.most_common()[:10])"
      ],
      "execution_count": 0,
      "outputs": []
    },
    {
      "metadata": {
        "id": "jy0NqLANvLPm",
        "colab_type": "code",
        "colab": {}
      },
      "cell_type": "code",
      "source": [
        "import time\n",
        "\n",
        "ts = [time.strftime('%Y-%m-%d %H:%M:%S', time.strptime(created,'%a %b %d %H:%M:%S +0000 %Y')) for created in created_at]"
      ],
      "execution_count": 0,
      "outputs": []
    },
    {
      "metadata": {
        "id": "kEpQEY2g0M2D",
        "colab_type": "code",
        "colab": {}
      },
      "cell_type": "code",
      "source": [
        "ts = [time.strftime('%Y-%m-%d %H:%M:%S', time.strptime(created,'%a %b %d %H:%M:%S +0000 %Y')) for created in created_at_user]\n",
        "df = pandas.DataFrame(ts)\n",
        "df = df[0].values.astype('datetime64')\n",
        "df = pandas.DataFrame(df)"
      ],
      "execution_count": 0,
      "outputs": []
    },
    {
      "metadata": {
        "id": "5jo3pB_R0hcs",
        "colab_type": "code",
        "outputId": "28eedcd7-5a26-4449-8d26-9e14fa767aa7",
        "colab": {
          "base_uri": "https://localhost:8080/",
          "height": 390
        }
      },
      "cell_type": "code",
      "source": [
        "df.groupby(df[0].dt.year).count().plot(kind=\"bar\")"
      ],
      "execution_count": 0,
      "outputs": [
        {
          "output_type": "execute_result",
          "data": {
            "text/plain": [
              "<matplotlib.axes._subplots.AxesSubplot at 0x7f2e0ed1b7f0>"
            ]
          },
          "metadata": {
            "tags": []
          },
          "execution_count": 113
        },
        {
          "output_type": "display_data",
          "data": {
            "image/png": "[encoded data removed]",
            "text/plain": [
              "<Figure size 576x396 with 1 Axes>"
            ]
          },
          "metadata": {
            "tags": []
          }
        }
      ]
    },
    {
      "metadata": {
        "id": "Xhg9BHIjtIHa",
        "colab_type": "code",
        "colab": {}
      },
      "cell_type": "code",
      "source": [
        "import pandas\n",
        "df = pandas.DataFrame(ts)"
      ],
      "execution_count": 0,
      "outputs": []
    },
    {
      "metadata": {
        "id": "fGS-dfXJvLI0",
        "colab_type": "code",
        "outputId": "22bcdf86-f1ff-42c9-8173-d23c99dec59d",
        "colab": {
          "base_uri": "https://localhost:8080/",
          "height": 1105
        }
      },
      "cell_type": "code",
      "source": [
        "print(df)"
      ],
      "execution_count": 0,
      "outputs": [
        {
          "output_type": "stream",
          "text": [
            "                        0\n",
            "0     2019-03-19 06:31:56\n",
            "1     2019-03-19 06:31:50\n",
            "2     2019-03-19 06:31:48\n",
            "3     2019-03-19 06:31:48\n",
            "4     2019-03-19 06:31:47\n",
            "5     2019-03-19 06:31:42\n",
            "6     2019-03-19 06:31:37\n",
            "7     2019-03-19 06:31:24\n",
            "8     2019-03-19 06:31:19\n",
            "9     2019-03-19 06:31:17\n",
            "10    2019-03-19 06:31:13\n",
            "11    2019-03-19 06:31:01\n",
            "12    2019-03-19 06:30:53\n",
            "13    2019-03-19 06:30:49\n",
            "14    2019-03-19 06:30:46\n",
            "15    2019-03-19 06:30:27\n",
            "16    2019-03-19 06:30:19\n",
            "17    2019-03-19 06:30:13\n",
            "18    2019-03-19 06:30:09\n",
            "19    2019-03-19 06:30:00\n",
            "20    2019-03-19 06:30:00\n",
            "21    2019-03-19 06:29:54\n",
            "22    2019-03-19 06:29:51\n",
            "23    2019-03-19 06:29:47\n",
            "24    2019-03-19 06:29:38\n",
            "25    2019-03-19 06:29:34\n",
            "26    2019-03-19 06:29:20\n",
            "27    2019-03-19 06:29:19\n",
            "28    2019-03-19 06:29:19\n",
            "29    2019-03-19 06:29:19\n",
            "...                   ...\n",
            "16485 2019-03-17 17:32:01\n",
            "16486 2019-03-17 17:32:00\n",
            "16487 2019-03-17 17:31:58\n",
            "16488 2019-03-17 17:31:55\n",
            "16489 2019-03-17 17:31:51\n",
            "16490 2019-03-17 17:31:44\n",
            "16491 2019-03-17 17:31:39\n",
            "16492 2019-03-17 17:31:37\n",
            "16493 2019-03-17 17:31:35\n",
            "16494 2019-03-17 17:31:17\n",
            "16495 2019-03-17 17:30:52\n",
            "16496 2019-03-17 17:30:41\n",
            "16497 2019-03-17 17:30:40\n",
            "16498 2019-03-17 17:30:37\n",
            "16499 2019-03-17 17:30:25\n",
            "16500 2019-03-17 17:30:20\n",
            "16501 2019-03-17 17:30:18\n",
            "16502 2019-03-17 17:30:16\n",
            "16503 2019-03-17 17:30:16\n",
            "16504 2019-03-17 17:30:09\n",
            "16505 2019-03-17 17:30:09\n",
            "16506 2019-03-17 17:30:07\n",
            "16507 2019-03-17 17:30:03\n",
            "16508 2019-03-17 17:30:03\n",
            "16509 2019-03-17 17:30:02\n",
            "16510 2019-03-17 17:29:58\n",
            "16511 2019-03-17 17:29:55\n",
            "16512 2019-03-17 17:29:52\n",
            "16513 2019-03-17 17:29:51\n",
            "16514 2019-03-17 17:29:46\n",
            "\n",
            "[16515 rows x 1 columns]\n"
          ],
          "name": "stdout"
        }
      ]
    },
    {
      "metadata": {
        "id": "qhslwqYuvxIS",
        "colab_type": "code",
        "colab": {}
      },
      "cell_type": "code",
      "source": [
        "df = df[0].values.astype('datetime64')"
      ],
      "execution_count": 0,
      "outputs": []
    },
    {
      "metadata": {
        "id": "hPIyVRlgzMKL",
        "colab_type": "code",
        "colab": {}
      },
      "cell_type": "code",
      "source": [
        "df = pandas.DataFrame(df)"
      ],
      "execution_count": 0,
      "outputs": []
    },
    {
      "metadata": {
        "id": "dqEdC4z3zVy6",
        "colab_type": "code",
        "outputId": "5ff5c72b-7bb4-4e01-f9ab-2e0b65da3cf5",
        "colab": {
          "base_uri": "https://localhost:8080/",
          "height": 1105
        }
      },
      "cell_type": "code",
      "source": [
        "print(df)"
      ],
      "execution_count": 0,
      "outputs": [
        {
          "output_type": "stream",
          "text": [
            "                        0\n",
            "0     2019-03-19 06:31:56\n",
            "1     2019-03-19 06:31:50\n",
            "2     2019-03-19 06:31:48\n",
            "3     2019-03-19 06:31:48\n",
            "4     2019-03-19 06:31:47\n",
            "5     2019-03-19 06:31:42\n",
            "6     2019-03-19 06:31:37\n",
            "7     2019-03-19 06:31:24\n",
            "8     2019-03-19 06:31:19\n",
            "9     2019-03-19 06:31:17\n",
            "10    2019-03-19 06:31:13\n",
            "11    2019-03-19 06:31:01\n",
            "12    2019-03-19 06:30:53\n",
            "13    2019-03-19 06:30:49\n",
            "14    2019-03-19 06:30:46\n",
            "15    2019-03-19 06:30:27\n",
            "16    2019-03-19 06:30:19\n",
            "17    2019-03-19 06:30:13\n",
            "18    2019-03-19 06:30:09\n",
            "19    2019-03-19 06:30:00\n",
            "20    2019-03-19 06:30:00\n",
            "21    2019-03-19 06:29:54\n",
            "22    2019-03-19 06:29:51\n",
            "23    2019-03-19 06:29:47\n",
            "24    2019-03-19 06:29:38\n",
            "25    2019-03-19 06:29:34\n",
            "26    2019-03-19 06:29:20\n",
            "27    2019-03-19 06:29:19\n",
            "28    2019-03-19 06:29:19\n",
            "29    2019-03-19 06:29:19\n",
            "...                   ...\n",
            "16485 2019-03-17 17:32:01\n",
            "16486 2019-03-17 17:32:00\n",
            "16487 2019-03-17 17:31:58\n",
            "16488 2019-03-17 17:31:55\n",
            "16489 2019-03-17 17:31:51\n",
            "16490 2019-03-17 17:31:44\n",
            "16491 2019-03-17 17:31:39\n",
            "16492 2019-03-17 17:31:37\n",
            "16493 2019-03-17 17:31:35\n",
            "16494 2019-03-17 17:31:17\n",
            "16495 2019-03-17 17:30:52\n",
            "16496 2019-03-17 17:30:41\n",
            "16497 2019-03-17 17:30:40\n",
            "16498 2019-03-17 17:30:37\n",
            "16499 2019-03-17 17:30:25\n",
            "16500 2019-03-17 17:30:20\n",
            "16501 2019-03-17 17:30:18\n",
            "16502 2019-03-17 17:30:16\n",
            "16503 2019-03-17 17:30:16\n",
            "16504 2019-03-17 17:30:09\n",
            "16505 2019-03-17 17:30:09\n",
            "16506 2019-03-17 17:30:07\n",
            "16507 2019-03-17 17:30:03\n",
            "16508 2019-03-17 17:30:03\n",
            "16509 2019-03-17 17:30:02\n",
            "16510 2019-03-17 17:29:58\n",
            "16511 2019-03-17 17:29:55\n",
            "16512 2019-03-17 17:29:52\n",
            "16513 2019-03-17 17:29:51\n",
            "16514 2019-03-17 17:29:46\n",
            "\n",
            "[16515 rows x 1 columns]\n"
          ],
          "name": "stdout"
        }
      ]
    },
    {
      "metadata": {
        "id": "YSX0dTxcwPOb",
        "colab_type": "code",
        "colab": {}
      },
      "cell_type": "code",
      "source": [
        "start_date = '2019-03-18 00:00:00'\n",
        "end_date = '2019-03-19 00:00:00'\n",
        "mask = (df[0] > start_date) & (df[0] <= end_date)\n",
        "df = df.loc[mask]"
      ],
      "execution_count": 0,
      "outputs": []
    },
    {
      "metadata": {
        "id": "YOQ2vDPFzcWC",
        "colab_type": "code",
        "outputId": "99e27a7f-da07-47ea-9a8f-0c46b25d5c4a",
        "colab": {
          "base_uri": "https://localhost:8080/",
          "height": 1105
        }
      },
      "cell_type": "code",
      "source": [
        "print(df)"
      ],
      "execution_count": 0,
      "outputs": [
        {
          "output_type": "stream",
          "text": [
            "                        0\n",
            "2445  2019-03-19 00:00:00\n",
            "2446  2019-03-18 23:59:47\n",
            "2447  2019-03-18 23:59:45\n",
            "2448  2019-03-18 23:59:31\n",
            "2449  2019-03-18 23:59:15\n",
            "2450  2019-03-18 23:59:08\n",
            "2451  2019-03-18 23:59:08\n",
            "2452  2019-03-18 23:58:53\n",
            "2453  2019-03-18 23:58:45\n",
            "2454  2019-03-18 23:58:38\n",
            "2455  2019-03-18 23:58:30\n",
            "2456  2019-03-18 23:58:29\n",
            "2457  2019-03-18 23:58:16\n",
            "2458  2019-03-18 23:58:16\n",
            "2459  2019-03-18 23:58:16\n",
            "2460  2019-03-18 23:58:15\n",
            "2461  2019-03-18 23:57:57\n",
            "2462  2019-03-18 23:57:51\n",
            "2463  2019-03-18 23:57:47\n",
            "2464  2019-03-18 23:57:46\n",
            "2465  2019-03-18 23:57:38\n",
            "2466  2019-03-18 23:57:19\n",
            "2467  2019-03-18 23:57:12\n",
            "2468  2019-03-18 23:57:08\n",
            "2469  2019-03-18 23:57:02\n",
            "2470  2019-03-18 23:57:00\n",
            "2471  2019-03-18 23:56:51\n",
            "2472  2019-03-18 23:56:30\n",
            "2473  2019-03-18 23:56:11\n",
            "2474  2019-03-18 23:56:09\n",
            "...                   ...\n",
            "13754 2019-03-18 00:03:40\n",
            "13755 2019-03-18 00:03:33\n",
            "13756 2019-03-18 00:03:16\n",
            "13757 2019-03-18 00:03:11\n",
            "13758 2019-03-18 00:03:09\n",
            "13759 2019-03-18 00:03:01\n",
            "13760 2019-03-18 00:03:00\n",
            "13761 2019-03-18 00:03:00\n",
            "13762 2019-03-18 00:02:48\n",
            "13763 2019-03-18 00:02:37\n",
            "13764 2019-03-18 00:02:17\n",
            "13765 2019-03-18 00:02:13\n",
            "13766 2019-03-18 00:02:12\n",
            "13767 2019-03-18 00:02:08\n",
            "13768 2019-03-18 00:02:07\n",
            "13769 2019-03-18 00:02:01\n",
            "13770 2019-03-18 00:01:43\n",
            "13771 2019-03-18 00:01:16\n",
            "13772 2019-03-18 00:01:02\n",
            "13773 2019-03-18 00:01:00\n",
            "13774 2019-03-18 00:00:38\n",
            "13775 2019-03-18 00:00:33\n",
            "13776 2019-03-18 00:00:30\n",
            "13777 2019-03-18 00:00:27\n",
            "13778 2019-03-18 00:00:23\n",
            "13779 2019-03-18 00:00:22\n",
            "13780 2019-03-18 00:00:21\n",
            "13781 2019-03-18 00:00:10\n",
            "13782 2019-03-18 00:00:03\n",
            "13783 2019-03-18 00:00:01\n",
            "\n",
            "[11339 rows x 1 columns]\n"
          ],
          "name": "stdout"
        }
      ]
    },
    {
      "metadata": {
        "id": "kotIaTQiwLY_",
        "colab_type": "code",
        "outputId": "a918a861-6b84-434c-ce15-2ac8cd8656e6",
        "colab": {
          "base_uri": "https://localhost:8080/",
          "height": 379
        }
      },
      "cell_type": "code",
      "source": [
        "df.groupby(df[0].dt.hour).count().plot(kind=\"bar\")"
      ],
      "execution_count": 0,
      "outputs": [
        {
          "output_type": "execute_result",
          "data": {
            "text/plain": [
              "<matplotlib.axes._subplots.AxesSubplot at 0x7f2e0ecf2a20>"
            ]
          },
          "metadata": {
            "tags": []
          },
          "execution_count": 111
        },
        {
          "output_type": "display_data",
          "data": {
            "image/png": "[encoded data removed]",
            "text/plain": [
              "<Figure size 576x396 with 1 Axes>"
            ]
          },
          "metadata": {
            "tags": []
          }
        }
      ]
    },
    {
      "metadata": {
        "id": "guAKx3sluUzd",
        "colab_type": "code",
        "outputId": "82f114fa-14c8-480e-9973-bac338a7f432",
        "colab": {
          "base_uri": "https://localhost:8080/",
          "height": 34
        }
      },
      "cell_type": "code",
      "source": [
        "print(created_at[0][:19])"
      ],
      "execution_count": 0,
      "outputs": [
        {
          "output_type": "stream",
          "text": [
            "Tue Mar 19 06:31:56\n"
          ],
          "name": "stdout"
        }
      ]
    },
    {
      "metadata": {
        "id": "3qKpMlBstF5o",
        "colab_type": "code",
        "outputId": "9dcfaf5a-6545-4152-9d80-57a0eb4a352b",
        "colab": {
          "base_uri": "https://localhost:8080/",
          "height": 54
        }
      },
      "cell_type": "code",
      "source": [
        "print(created_at)"
      ],
      "execution_count": 0,
      "outputs": [
        {
          "output_type": "stream",
          "text": [
            "['Tue Mar 19 06:31:56', 'Tue Mar 19 06:31:50', 'Tue Mar 19 06:31:48', 'Tue Mar 19 06:31:48', 'Tue Mar 19 06:31:47', 'Tue Mar 19 06:31:42', 'Tue Mar 19 06:31:37', 'Tue Mar 19 06:31:24', 'Tue Mar 19 06:31:19', 'Tue Mar 19 06:31:17', 'Tue Mar 19 06:31:13', 'Tue Mar 19 06:31:01', 'Tue Mar 19 06:30:53', 'Tue Mar 19 06:30:49', 'Tue Mar 19 06:30:46', 'Tue Mar 19 06:30:27', 'Tue Mar 19 06:30:19', 'Tue Mar 19 06:30:13', 'Tue Mar 19 06:30:09', 'Tue Mar 19 06:30:00', 'Tue Mar 19 06:30:00', 'Tue Mar 19 06:29:54', 'Tue Mar 19 06:29:51', 'Tue Mar 19 06:29:47', 'Tue Mar 19 06:29:38', 'Tue Mar 19 06:29:34', 'Tue Mar 19 06:29:20', 'Tue Mar 19 06:29:19', 'Tue Mar 19 06:29:19', 'Tue Mar 19 06:29:19', 'Tue Mar 19 06:29:18', 'Tue Mar 19 06:29:17', 'Tue Mar 19 06:29:13', 'Tue Mar 19 06:29:08', 'Tue Mar 19 06:29:05', 'Tue Mar 19 06:28:51', 'Tue Mar 19 06:28:44', 'Tue Mar 19 06:28:36', 'Tue Mar 19 06:28:22', 'Tue Mar 19 06:28:18', 'Tue Mar 19 06:28:16', 'Tue Mar 19 06:28:08', 'Tue Mar 19 06:28:00', 'Tue Mar 19 06:27:50', 'Tue Mar 19 06:27:46', 'Tue Mar 19 06:27:41', 'Tue Mar 19 06:27:35', 'Tue Mar 19 06:27:34', 'Tue Mar 19 06:27:31', 'Tue Mar 19 06:27:29', 'Tue Mar 19 06:27:27', 'Tue Mar 19 06:27:14', 'Tue Mar 19 06:27:06', 'Tue Mar 19 06:26:59', 'Tue Mar 19 06:26:52', 'Tue Mar 19 06:26:41', 'Tue Mar 19 06:26:40', 'Tue Mar 19 06:26:31', 'Tue Mar 19 06:26:30', 'Tue Mar 19 06:26:20', 'Tue Mar 19 06:26:14', 'Tue Mar 19 06:26:02', 'Tue Mar 19 06:25:59', 'Tue Mar 19 06:25:47', 'Tue Mar 19 06:25:40', 'Tue Mar 19 06:25:38', 'Tue Mar 19 06:25:37', 'Tue Mar 19 06:25:31', 'Tue Mar 19 06:25:28', 'Tue Mar 19 06:25:26', 'Tue Mar 19 06:25:25', 'Tue Mar 19 06:25:19', 'Tue Mar 19 06:25:08', 'Tue Mar 19 06:25:06', 'Tue Mar 19 06:24:48', 'Tue Mar 19 06:24:42', 'Tue Mar 19 06:24:41', 'Tue Mar 19 06:24:37', 'Tue Mar 19 06:24:34', 'Tue Mar 19 06:24:32', 'Tue Mar 19 06:24:31', 'Tue Mar 19 06:24:29', 'Tue Mar 19 06:24:26', 'Tue Mar 19 06:24:17', 'Tue Mar 19 06:24:08', 'Tue Mar 19 06:24:00', 'Tue Mar 19 06:24:00', 'Tue Mar 19 06:23:57', 'Tue Mar 19 06:23:57', 'Tue Mar 19 06:23:55', 'Tue Mar 19 06:23:51', 'Tue Mar 19 06:23:40', 'Tue Mar 19 06:23:38', 'Tue Mar 19 06:23:37', 'Tue Mar 19 06:23:35', 'Tue Mar 19 06:23:30', 'Tue Mar 19 06:23:28', 'Tue Mar 19 06:23:25', 'Tue Mar 19 06:23:20', 'Tue Mar 19 06:23:20', 'Tue Mar 19 06:23:11', 'Tue Mar 19 06:23:02', 'Tue Mar 19 06:23:01', 'Tue Mar 19 06:22:55', 'Tue Mar 19 06:22:53', 'Tue Mar 19 06:22:44', 'Tue Mar 19 06:22:42', 'Tue Mar 19 06:22:35', 'Tue Mar 19 06:22:29', 'Tue Mar 19 06:22:29', 'Tue Mar 19 06:22:23', 'Tue Mar 19 06:21:53', 'Tue Mar 19 06:21:40', 'Tue Mar 19 06:21:36', 'Tue Mar 19 06:21:18', 'Tue Mar 19 06:21:18', 'Tue Mar 19 06:21:07', 'Tue Mar 19 06:21:06', 'Tue Mar 19 06:21:05', 'Tue Mar 19 06:20:43', 'Tue Mar 19 06:20:41', 'Tue Mar 19 06:20:40', 'Tue Mar 19 06:20:30', 'Tue Mar 19 06:20:29', 'Tue Mar 19 06:20:28', 'Tue Mar 19 06:20:25', 'Tue Mar 19 06:20:24', 'Tue Mar 19 06:20:23', 'Tue Mar 19 06:20:20', 'Tue Mar 19 06:20:17', 'Tue Mar 19 06:20:15', 'Tue Mar 19 06:20:12', 'Tue Mar 19 06:20:09', 'Tue Mar 19 06:20:06', 'Tue Mar 19 06:20:03', 'Tue Mar 19 06:19:49', 'Tue Mar 19 06:19:47', 'Tue Mar 19 06:19:39', 'Tue Mar 19 06:19:33', 'Tue Mar 19 06:19:22', 'Tue Mar 19 06:19:15', 'Tue Mar 19 06:19:15', 'Tue Mar 19 06:19:13', 'Tue Mar 19 06:19:09', 'Tue Mar 19 06:19:09', 'Tue Mar 19 06:19:09', 'Tue Mar 19 06:18:53', 'Tue Mar 19 06:18:41', 'Tue Mar 19 06:18:28', 'Tue Mar 19 06:18:00', 'Tue Mar 19 06:17:54', 'Tue Mar 19 06:17:54', 'Tue Mar 19 06:17:49', 'Tue Mar 19 06:17:28', 'Tue Mar 19 06:17:28', 'Tue Mar 19 06:17:27', 'Tue Mar 19 06:17:22', 'Tue Mar 19 06:17:21', 'Tue Mar 19 06:17:21', 'Tue Mar 19 06:17:20', 'Tue Mar 19 06:17:19', 'Tue Mar 19 06:17:10', 'Tue Mar 19 06:17:05', 'Tue Mar 19 06:17:00', 'Tue Mar 19 06:16:59', 'Tue Mar 19 06:16:57', 'Tue Mar 19 06:16:56', 'Tue Mar 19 06:16:54', 'Tue Mar 19 06:16:51', 'Tue Mar 19 06:16:48', 'Tue Mar 19 06:16:43', 'Tue Mar 19 06:16:39', 'Tue Mar 19 06:16:38', 'Tue Mar 19 06:16:34', 'Tue Mar 19 06:16:33', 'Tue Mar 19 06:16:32', 'Tue Mar 19 06:16:30', 'Tue Mar 19 06:16:27', 'Tue Mar 19 06:16:26', 'Tue Mar 19 06:16:25', 'Tue Mar 19 06:16:20', 'Tue Mar 19 06:16:19', 'Tue Mar 19 06:16:18', 'Tue Mar 19 06:16:13', 'Tue Mar 19 06:16:12', 'Tue Mar 19 06:16:09', 'Tue Mar 19 06:16:08', 'Tue Mar 19 06:16:06', 'Tue Mar 19 06:16:05', 'Tue Mar 19 06:16:02', 'Tue Mar 19 06:16:02', 'Tue Mar 19 06:15:57', 'Tue Mar 19 06:15:56', 'Tue Mar 19 06:15:52', 'Tue Mar 19 06:15:51', 'Tue Mar 19 06:15:29', 'Tue Mar 19 06:15:21', 'Tue Mar 19 06:15:16', 'Tue Mar 19 06:15:11', 'Tue Mar 19 06:15:01', 'Tue Mar 19 06:15:00', 'Tue Mar 19 06:15:00', 'Tue Mar 19 06:14:59', 'Tue Mar 19 06:14:47', 'Tue Mar 19 06:14:47', 'Tue Mar 19 06:14:46', 'Tue Mar 19 06:14:40', 'Tue Mar 19 06:14:18', 'Tue Mar 19 06:14:13', 'Tue Mar 19 06:14:12', 'Tue Mar 19 06:14:10', 'Tue Mar 19 06:13:51', 'Tue Mar 19 06:13:47', 'Tue Mar 19 06:13:47', 'Tue Mar 19 06:13:38', 'Tue Mar 19 06:13:06', 'Tue Mar 19 06:13:06', 'Tue Mar 19 06:12:56', 'Tue Mar 19 06:12:52', 'Tue Mar 19 06:12:47', 'Tue Mar 19 06:12:29', 'Tue Mar 19 06:12:22', 'Tue Mar 19 06:12:21', 'Tue Mar 19 06:12:08', 'Tue Mar 19 06:12:05', 'Tue Mar 19 06:12:02', 'Tue Mar 19 06:12:00', 'Tue Mar 19 06:11:44', 'Tue Mar 19 06:11:42', 'Tue Mar 19 06:11:41', 'Tue Mar 19 06:11:26', 'Tue Mar 19 06:11:00', 'Tue Mar 19 06:10:45', 'Tue Mar 19 06:10:42', 'Tue Mar 19 06:10:13', 'Tue Mar 19 06:10:11', 'Tue Mar 19 06:10:09', 'Tue Mar 19 06:10:07', 'Tue Mar 19 06:10:02', 'Tue Mar 19 06:09:57', 'Tue Mar 19 06:09:52', 'Tue Mar 19 06:09:48', 'Tue Mar 19 06:09:46', 'Tue Mar 19 06:09:45', 'Tue Mar 19 06:09:29', 'Tue Mar 19 06:09:21', 'Tue Mar 19 06:09:08', 'Tue Mar 19 06:09:01', 'Tue Mar 19 06:08:58', 'Tue Mar 19 06:08:53', 'Tue Mar 19 06:08:50', 'Tue Mar 19 06:08:30', 'Tue Mar 19 06:08:29', 'Tue Mar 19 06:08:26', 'Tue Mar 19 06:08:13', 'Tue Mar 19 06:07:31', 'Tue Mar 19 06:07:31', 'Tue Mar 19 06:07:09', 'Tue Mar 19 06:06:58', 'Tue Mar 19 06:06:48', 'Tue Mar 19 06:06:37', 'Tue Mar 19 06:06:21', 'Tue Mar 19 06:06:17', 'Tue Mar 19 06:06:07', 'Tue Mar 19 06:05:47', 'Tue Mar 19 06:05:25', 'Tue Mar 19 06:05:02', 'Tue Mar 19 06:05:00', 'Tue Mar 19 06:04:58', 'Tue Mar 19 06:04:51', 'Tue Mar 19 06:04:39', 'Tue Mar 19 06:04:37', 'Tue Mar 19 06:04:31', 'Tue Mar 19 06:04:25', 'Tue Mar 19 06:04:16', 'Tue Mar 19 06:04:00', 'Tue Mar 19 06:03:58', 'Tue Mar 19 06:03:54', 'Tue Mar 19 06:03:53', 'Tue Mar 19 06:03:31', 'Tue Mar 19 06:03:23', 'Tue Mar 19 06:03:08', 'Tue Mar 19 06:03:05', 'Tue Mar 19 06:02:59', 'Tue Mar 19 06:02:43', 'Tue Mar 19 06:02:30', 'Tue Mar 19 06:02:17', 'Tue Mar 19 06:02:01', 'Tue Mar 19 06:02:01', 'Tue Mar 19 06:01:49', 'Tue Mar 19 06:01:40', 'Tue Mar 19 06:01:38', 'Tue Mar 19 06:01:35', 'Tue Mar 19 06:01:31', 'Tue Mar 19 06:01:28', 'Tue Mar 19 06:01:19', 'Tue Mar 19 06:01:19', 'Tue Mar 19 06:01:12', 'Tue Mar 19 06:01:00', 'Tue Mar 19 06:00:35', 'Tue Mar 19 06:00:33', 'Tue Mar 19 06:00:33', 'Tue Mar 19 06:00:30', 'Tue Mar 19 06:00:22', 'Tue Mar 19 06:00:07', 'Tue Mar 19 06:00:00', 'Tue Mar 19 05:59:59', 'Tue Mar 19 05:59:40', 'Tue Mar 19 05:59:39', 'Tue Mar 19 05:59:37', 'Tue Mar 19 05:59:36', 'Tue Mar 19 05:59:31', 'Tue Mar 19 05:59:31', 'Tue Mar 19 05:59:24', 'Tue Mar 19 05:59:16', 'Tue Mar 19 05:59:07', 'Tue Mar 19 05:59:07', 'Tue Mar 19 05:59:06', 'Tue Mar 19 05:58:59', 'Tue Mar 19 05:58:52', 'Tue Mar 19 05:58:33', 'Tue Mar 19 05:58:27', 'Tue Mar 19 05:57:57', 'Tue Mar 19 05:57:47', 'Tue Mar 19 05:57:47', 'Tue Mar 19 05:57:21', 'Tue Mar 19 05:57:15', 'Tue Mar 19 05:57:02', 'Tue Mar 19 05:57:00', 'Tue Mar 19 05:56:54', 'Tue Mar 19 05:56:32', 'Tue Mar 19 05:56:25', 'Tue Mar 19 05:56:12', 'Tue Mar 19 05:55:56', 'Tue Mar 19 05:55:33', 'Tue Mar 19 05:55:30', 'Tue Mar 19 05:55:25', 'Tue Mar 19 05:55:23', 'Tue Mar 19 05:55:14', 'Tue Mar 19 05:55:14', 'Tue Mar 19 05:55:07', 'Tue Mar 19 05:55:06', 'Tue Mar 19 05:55:05', 'Tue Mar 19 05:55:01', 'Tue Mar 19 05:55:01', 'Tue Mar 19 05:55:01', 'Tue Mar 19 05:55:00', 'Tue Mar 19 05:54:57', 'Tue Mar 19 05:54:52', 'Tue Mar 19 05:54:47', 'Tue Mar 19 05:54:43', 'Tue Mar 19 05:54:37', 'Tue Mar 19 05:54:37', 'Tue Mar 19 05:54:32', 'Tue Mar 19 05:54:28', 'Tue Mar 19 05:54:23', 'Tue Mar 19 05:54:18', 'Tue Mar 19 05:54:12', 'Tue Mar 19 05:54:06', 'Tue Mar 19 05:54:01', 'Tue Mar 19 05:53:52', 'Tue Mar 19 05:53:35', 'Tue Mar 19 05:53:20', 'Tue Mar 19 05:53:17', 'Tue Mar 19 05:53:02', 'Tue Mar 19 05:52:44', 'Tue Mar 19 05:52:34', 'Tue Mar 19 05:52:25', 'Tue Mar 19 05:52:25', 'Tue Mar 19 05:52:10', 'Tue Mar 19 05:52:01', 'Tue Mar 19 05:51:42', 'Tue Mar 19 05:51:31', 'Tue Mar 19 05:51:29', 'Tue Mar 19 05:51:14', 'Tue Mar 19 05:51:06', 'Tue Mar 19 05:51:04', 'Tue Mar 19 05:51:02', 'Tue Mar 19 05:50:56', 'Tue Mar 19 05:49:44', 'Tue Mar 19 05:49:44', 'Tue Mar 19 05:49:16', 'Tue Mar 19 05:49:10', 'Tue Mar 19 05:49:06', 'Tue Mar 19 05:49:05', 'Tue Mar 19 05:49:01', 'Tue Mar 19 05:48:00', 'Tue Mar 19 05:47:38', 'Tue Mar 19 05:47:27', 'Tue Mar 19 05:47:20', 'Tue Mar 19 05:47:17', 'Tue Mar 19 05:47:08', 'Tue Mar 19 05:46:55', 'Tue Mar 19 05:46:26', 'Tue Mar 19 05:46:19', 'Tue Mar 19 05:46:17', 'Tue Mar 19 05:46:06', 'Tue Mar 19 05:46:01', 'Tue Mar 19 05:45:59', 'Tue Mar 19 05:45:37', 'Tue Mar 19 05:45:18', 'Tue Mar 19 05:45:13', 'Tue Mar 19 05:45:09', 'Tue Mar 19 05:45:08', 'Tue Mar 19 05:45:06', 'Tue Mar 19 05:45:04', 'Tue Mar 19 05:44:57', 'Tue Mar 19 05:44:30', 'Tue Mar 19 05:44:21', 'Tue Mar 19 05:44:03', 'Tue Mar 19 05:43:45', 'Tue Mar 19 05:43:23', 'Tue Mar 19 05:43:20', 'Tue Mar 19 05:43:17', 'Tue Mar 19 05:43:09', 'Tue Mar 19 05:43:01', 'Tue Mar 19 05:42:48', 'Tue Mar 19 05:42:48', 'Tue Mar 19 05:42:47', 'Tue Mar 19 05:42:40', 'Tue Mar 19 05:42:27', 'Tue Mar 19 05:42:05', 'Tue Mar 19 05:42:01', 'Tue Mar 19 05:41:46', 'Tue Mar 19 05:41:32', 'Tue Mar 19 05:41:29', 'Tue Mar 19 05:41:29', 'Tue Mar 19 05:41:24', 'Tue Mar 19 05:41:21', 'Tue Mar 19 05:41:17', 'Tue Mar 19 05:41:15', 'Tue Mar 19 05:40:57', 'Tue Mar 19 05:40:54', 'Tue Mar 19 05:40:43', 'Tue Mar 19 05:40:34', 'Tue Mar 19 05:40:34', 'Tue Mar 19 05:40:28', 'Tue Mar 19 05:40:19', 'Tue Mar 19 05:40:11', 'Tue Mar 19 05:40:03', 'Tue Mar 19 05:39:58', 'Tue Mar 19 05:39:54', 'Tue Mar 19 05:39:31', 'Tue Mar 19 05:39:04', 'Tue Mar 19 05:39:03', 'Tue Mar 19 05:38:52', 'Tue Mar 19 05:38:46', 'Tue Mar 19 05:38:36', 'Tue Mar 19 05:38:05', 'Tue Mar 19 05:38:03', 'Tue Mar 19 05:37:48', 'Tue Mar 19 05:37:42', 'Tue Mar 19 05:37:42', 'Tue Mar 19 05:37:38', 'Tue Mar 19 05:37:26', 'Tue Mar 19 05:37:23', 'Tue Mar 19 05:37:23', 'Tue Mar 19 05:37:18', 'Tue Mar 19 05:37:08', 'Tue Mar 19 05:36:45', 'Tue Mar 19 05:36:39', 'Tue Mar 19 05:36:39', 'Tue Mar 19 05:36:28', 'Tue Mar 19 05:36:08', 'Tue Mar 19 05:36:01', 'Tue Mar 19 05:35:45', 'Tue Mar 19 05:35:40', 'Tue Mar 19 05:35:32', 'Tue Mar 19 05:35:25', 'Tue Mar 19 05:35:15', 'Tue Mar 19 05:35:04', 'Tue Mar 19 05:34:57', 'Tue Mar 19 05:34:48', 'Tue Mar 19 05:34:36', 'Tue Mar 19 05:34:25', 'Tue Mar 19 05:34:23', 'Tue Mar 19 05:34:07', 'Tue Mar 19 05:33:59', 'Tue Mar 19 05:33:51', 'Tue Mar 19 05:33:37', 'Tue Mar 19 05:33:33', 'Tue Mar 19 05:33:30', 'Tue Mar 19 05:32:53', 'Tue Mar 19 05:32:50', 'Tue Mar 19 05:32:38', 'Tue Mar 19 05:32:21', 'Tue Mar 19 05:32:06', 'Tue Mar 19 05:31:30', 'Tue Mar 19 05:31:27', 'Tue Mar 19 05:31:18', 'Tue Mar 19 05:31:09', 'Tue Mar 19 05:30:47', 'Tue Mar 19 05:30:41', 'Tue Mar 19 05:30:33', 'Tue Mar 19 05:30:30', 'Tue Mar 19 05:30:27', 'Tue Mar 19 05:30:19', 'Tue Mar 19 05:30:19', 'Tue Mar 19 05:30:09', 'Tue Mar 19 05:30:09', 'Tue Mar 19 05:30:08', 'Tue Mar 19 05:30:06', 'Tue Mar 19 05:30:02', 'Tue Mar 19 05:30:02', 'Tue Mar 19 05:30:01', 'Tue Mar 19 05:30:00', 'Tue Mar 19 05:29:47', 'Tue Mar 19 05:29:47', 'Tue Mar 19 05:29:43', 'Tue Mar 19 05:29:37', 'Tue Mar 19 05:29:33', 'Tue Mar 19 05:29:31', 'Tue Mar 19 05:29:23', 'Tue Mar 19 05:29:03', 'Tue Mar 19 05:29:03', 'Tue Mar 19 05:29:03', 'Tue Mar 19 05:29:02', 'Tue Mar 19 05:29:02', 'Tue Mar 19 05:28:48', 'Tue Mar 19 05:28:45', 'Tue Mar 19 05:28:29', 'Tue Mar 19 05:28:23', 'Tue Mar 19 05:28:04', 'Tue Mar 19 05:28:04', 'Tue Mar 19 05:27:53', 'Tue Mar 19 05:27:48', 'Tue Mar 19 05:27:40', 'Tue Mar 19 05:27:37', 'Tue Mar 19 05:27:30', 'Tue Mar 19 05:27:16', 'Tue Mar 19 05:27:13', 'Tue Mar 19 05:27:09', 'Tue Mar 19 05:26:59', 'Tue Mar 19 05:26:56', 'Tue Mar 19 05:26:42', 'Tue Mar 19 05:26:37', 'Tue Mar 19 05:26:23', 'Tue Mar 19 05:26:21', 'Tue Mar 19 05:26:16', 'Tue Mar 19 05:26:16', 'Tue Mar 19 05:26:15', 'Tue Mar 19 05:26:08', 'Tue Mar 19 05:26:07', 'Tue Mar 19 05:25:55', 'Tue Mar 19 05:25:51', 'Tue Mar 19 05:25:47', 'Tue Mar 19 05:25:45', 'Tue Mar 19 05:25:36', 'Tue Mar 19 05:25:25', 'Tue Mar 19 05:25:23', 'Tue Mar 19 05:25:22', 'Tue Mar 19 05:25:10', 'Tue Mar 19 05:25:08', 'Tue Mar 19 05:25:05', 'Tue Mar 19 05:24:59', 'Tue Mar 19 05:24:54', 'Tue Mar 19 05:24:41', 'Tue Mar 19 05:24:39', 'Tue Mar 19 05:24:32', 'Tue Mar 19 05:24:30', 'Tue Mar 19 05:24:29', 'Tue Mar 19 05:24:27', 'Tue Mar 19 05:24:21', 'Tue Mar 19 05:24:21', 'Tue Mar 19 05:24:13', 'Tue Mar 19 05:24:11', 'Tue Mar 19 05:24:10', 'Tue Mar 19 05:24:00', 'Tue Mar 19 05:23:52', 'Tue Mar 19 05:23:44', 'Tue Mar 19 05:23:41', 'Tue Mar 19 05:23:35', 'Tue Mar 19 05:23:29', 'Tue Mar 19 05:23:29', 'Tue Mar 19 05:23:19', 'Tue Mar 19 05:23:13', 'Tue Mar 19 05:23:08', 'Tue Mar 19 05:23:08', 'Tue Mar 19 05:22:50', 'Tue Mar 19 05:22:47', 'Tue Mar 19 05:22:38', 'Tue Mar 19 05:22:34', 'Tue Mar 19 05:22:31', 'Tue Mar 19 05:22:29', 'Tue Mar 19 05:22:16', 'Tue Mar 19 05:22:15', 'Tue Mar 19 05:22:05', 'Tue Mar 19 05:22:04', 'Tue Mar 19 05:22:03', 'Tue Mar 19 05:21:57', 'Tue Mar 19 05:21:54', 'Tue Mar 19 05:21:44', 'Tue Mar 19 05:21:37', 'Tue Mar 19 05:21:34', 'Tue Mar 19 05:21:29', 'Tue Mar 19 05:21:24', 'Tue Mar 19 05:21:14', 'Tue Mar 19 05:21:09', 'Tue Mar 19 05:21:04', 'Tue Mar 19 05:21:00', 'Tue Mar 19 05:20:56', 'Tue Mar 19 05:20:54', 'Tue Mar 19 05:20:48', 'Tue Mar 19 05:20:41', 'Tue Mar 19 05:20:40', 'Tue Mar 19 05:20:39', 'Tue Mar 19 05:20:39', 'Tue Mar 19 05:20:35', 'Tue Mar 19 05:20:30', 'Tue Mar 19 05:20:29', 'Tue Mar 19 05:20:19', 'Tue Mar 19 05:20:18', 'Tue Mar 19 05:20:12', 'Tue Mar 19 05:20:09', 'Tue Mar 19 05:20:00', 'Tue Mar 19 05:19:57', 'Tue Mar 19 05:19:47', 'Tue Mar 19 05:19:46', 'Tue Mar 19 05:19:34', 'Tue Mar 19 05:19:32', 'Tue Mar 19 05:19:24', 'Tue Mar 19 05:19:18', 'Tue Mar 19 05:19:17', 'Tue Mar 19 05:19:15', 'Tue Mar 19 05:19:12', 'Tue Mar 19 05:19:08', 'Tue Mar 19 05:19:02', 'Tue Mar 19 05:19:01', 'Tue Mar 19 05:19:01', 'Tue Mar 19 05:19:01', 'Tue Mar 19 05:19:01', 'Tue Mar 19 05:18:50', 'Tue Mar 19 05:17:39', 'Tue Mar 19 05:17:29', 'Tue Mar 19 05:17:15', 'Tue Mar 19 05:17:15', 'Tue Mar 19 05:17:12', 'Tue Mar 19 05:17:02', 'Tue Mar 19 05:16:56', 'Tue Mar 19 05:16:54', 'Tue Mar 19 05:16:49', 'Tue Mar 19 05:16:49', 'Tue Mar 19 05:16:45', 'Tue Mar 19 05:16:45', 'Tue Mar 19 05:16:43', 'Tue Mar 19 05:16:41', 'Tue Mar 19 05:16:33', 'Tue Mar 19 05:16:27', 'Tue Mar 19 05:16:22', 'Tue Mar 19 05:16:18']\n"
          ],
          "name": "stdout"
        }
      ]
    },
    {
      "metadata": {
        "id": "xLjYHoQNuBwT",
        "colab_type": "code",
        "outputId": "602a841d-8187-4893-ae6f-1f479d302257",
        "colab": {
          "base_uri": "https://localhost:8080/",
          "height": 1105
        }
      },
      "cell_type": "code",
      "source": [
        "print(df)"
      ],
      "execution_count": 0,
      "outputs": [
        {
          "output_type": "stream",
          "text": [
            "                       0\n",
            "0    Tue Mar 19 06:31:56\n",
            "1    Tue Mar 19 06:31:50\n",
            "2    Tue Mar 19 06:31:48\n",
            "3    Tue Mar 19 06:31:48\n",
            "4    Tue Mar 19 06:31:47\n",
            "5    Tue Mar 19 06:31:42\n",
            "6    Tue Mar 19 06:31:37\n",
            "7    Tue Mar 19 06:31:24\n",
            "8    Tue Mar 19 06:31:19\n",
            "9    Tue Mar 19 06:31:17\n",
            "10   Tue Mar 19 06:31:13\n",
            "11   Tue Mar 19 06:31:01\n",
            "12   Tue Mar 19 06:30:53\n",
            "13   Tue Mar 19 06:30:49\n",
            "14   Tue Mar 19 06:30:46\n",
            "15   Tue Mar 19 06:30:27\n",
            "16   Tue Mar 19 06:30:19\n",
            "17   Tue Mar 19 06:30:13\n",
            "18   Tue Mar 19 06:30:09\n",
            "19   Tue Mar 19 06:30:00\n",
            "20   Tue Mar 19 06:30:00\n",
            "21   Tue Mar 19 06:29:54\n",
            "22   Tue Mar 19 06:29:51\n",
            "23   Tue Mar 19 06:29:47\n",
            "24   Tue Mar 19 06:29:38\n",
            "25   Tue Mar 19 06:29:34\n",
            "26   Tue Mar 19 06:29:20\n",
            "27   Tue Mar 19 06:29:19\n",
            "28   Tue Mar 19 06:29:19\n",
            "29   Tue Mar 19 06:29:19\n",
            "..                   ...\n",
            "620  Tue Mar 19 05:19:24\n",
            "621  Tue Mar 19 05:19:18\n",
            "622  Tue Mar 19 05:19:17\n",
            "623  Tue Mar 19 05:19:15\n",
            "624  Tue Mar 19 05:19:12\n",
            "625  Tue Mar 19 05:19:08\n",
            "626  Tue Mar 19 05:19:02\n",
            "627  Tue Mar 19 05:19:01\n",
            "628  Tue Mar 19 05:19:01\n",
            "629  Tue Mar 19 05:19:01\n",
            "630  Tue Mar 19 05:19:01\n",
            "631  Tue Mar 19 05:18:50\n",
            "632  Tue Mar 19 05:17:39\n",
            "633  Tue Mar 19 05:17:29\n",
            "634  Tue Mar 19 05:17:15\n",
            "635  Tue Mar 19 05:17:15\n",
            "636  Tue Mar 19 05:17:12\n",
            "637  Tue Mar 19 05:17:02\n",
            "638  Tue Mar 19 05:16:56\n",
            "639  Tue Mar 19 05:16:54\n",
            "640  Tue Mar 19 05:16:49\n",
            "641  Tue Mar 19 05:16:49\n",
            "642  Tue Mar 19 05:16:45\n",
            "643  Tue Mar 19 05:16:45\n",
            "644  Tue Mar 19 05:16:43\n",
            "645  Tue Mar 19 05:16:41\n",
            "646  Tue Mar 19 05:16:33\n",
            "647  Tue Mar 19 05:16:27\n",
            "648  Tue Mar 19 05:16:22\n",
            "649  Tue Mar 19 05:16:18\n",
            "\n",
            "[650 rows x 1 columns]\n"
          ],
          "name": "stdout"
        }
      ]
    },
    {
      "metadata": {
        "id": "U7ZoPqqptaOI",
        "colab_type": "code",
        "colab": {}
      },
      "cell_type": "code",
      "source": [
        "%matplotlib inline\n",
        "import numpy as np\n",
        "import matplotlib.pyplot as plt\n",
        "plt.style.use('seaborn-white')"
      ],
      "execution_count": 0,
      "outputs": []
    },
    {
      "metadata": {
        "id": "HSlFULDC3Ueu",
        "colab_type": "code",
        "outputId": "881744ad-4b6d-4046-e64e-6f4744022c16",
        "colab": {
          "base_uri": "https://localhost:8080/",
          "height": 34
        }
      },
      "cell_type": "code",
      "source": [
        "type(statuses_count[1])"
      ],
      "execution_count": 0,
      "outputs": [
        {
          "output_type": "execute_result",
          "data": {
            "text/plain": [
              "int"
            ]
          },
          "metadata": {
            "tags": []
          },
          "execution_count": 123
        }
      ]
    },
    {
      "metadata": {
        "id": "gJSeP4P71_DE",
        "colab_type": "code",
        "colab": {}
      },
      "cell_type": "code",
      "source": [
        "df = pandas.Series(statuses_count)"
      ],
      "execution_count": 0,
      "outputs": []
    },
    {
      "metadata": {
        "id": "o053aHU-3UCP",
        "colab_type": "code",
        "outputId": "88e3eee7-5c1c-470c-9532-0b7e15c0dd33",
        "colab": {
          "base_uri": "https://localhost:8080/",
          "height": 1071
        }
      },
      "cell_type": "code",
      "source": [
        "df"
      ],
      "execution_count": 0,
      "outputs": [
        {
          "output_type": "execute_result",
          "data": {
            "text/plain": [
              "0          40606\n",
              "1           1503\n",
              "2            365\n",
              "3             25\n",
              "4          35160\n",
              "5          21343\n",
              "6          18752\n",
              "7            156\n",
              "8          75878\n",
              "9            614\n",
              "10        562286\n",
              "11         21343\n",
              "12           300\n",
              "13         10575\n",
              "14        562286\n",
              "15           614\n",
              "16          7814\n",
              "17         12290\n",
              "18         72748\n",
              "19          5117\n",
              "20        106585\n",
              "21          1260\n",
              "22         52314\n",
              "23        562286\n",
              "24       1326676\n",
              "25          6180\n",
              "26         65150\n",
              "27         65150\n",
              "28         65150\n",
              "29         65150\n",
              "          ...   \n",
              "16485       3342\n",
              "16486       3411\n",
              "16487       3342\n",
              "16488       1803\n",
              "16489       3342\n",
              "16490       3342\n",
              "16491       3342\n",
              "16492     397853\n",
              "16493       3342\n",
              "16494      23695\n",
              "16495      14229\n",
              "16496      27835\n",
              "16497       4224\n",
              "16498        356\n",
              "16499       4224\n",
              "16500      14920\n",
              "16501       3609\n",
              "16502       3716\n",
              "16503      60507\n",
              "16504      10707\n",
              "16505       3342\n",
              "16506      40287\n",
              "16507      12290\n",
              "16508     138410\n",
              "16509      17825\n",
              "16510      27835\n",
              "16511       3342\n",
              "16512       3342\n",
              "16513      16082\n",
              "16514       3342\n",
              "Length: 16515, dtype: int64"
            ]
          },
          "metadata": {
            "tags": []
          },
          "execution_count": 126
        }
      ]
    },
    {
      "metadata": {
        "id": "6qD4wLoz2N02",
        "colab_type": "code",
        "outputId": "f7bd9bed-bd2c-45dd-d49a-99433e61a404",
        "colab": {
          "base_uri": "https://localhost:8080/",
          "height": 316
        }
      },
      "cell_type": "code",
      "source": [
        "plt.hist(df, bins=30, normed=True, alpha=0.5,\n",
        "         histtype='stepfilled', color='steelblue',\n",
        "         edgecolor='none');\n"
      ],
      "execution_count": 0,
      "outputs": [
        {
          "output_type": "stream",
          "text": [
            "/usr/local/lib/python3.6/dist-packages/matplotlib/axes/_axes.py:6521: MatplotlibDeprecationWarning: \n",
            "The 'normed' kwarg was deprecated in Matplotlib 2.1 and will be removed in 3.1. Use 'density' instead.\n",
            "  alternative=\"'density'\", removal=\"3.1\")\n"
          ],
          "name": "stderr"
        },
        {
          "output_type": "display_data",
          "data": {
            "image/png": "[encoded data removed]",
            "text/plain": [
              "<Figure size 432x288 with 1 Axes>"
            ]
          },
          "metadata": {
            "tags": []
          }
        }
      ]
    },
    {
      "metadata": {
        "id": "PN_jNWOm3LYW",
        "colab_type": "code",
        "outputId": "2cba7bb0-b3ac-462e-9b2b-8f6ff7e953d0",
        "colab": {
          "base_uri": "https://localhost:8080/",
          "height": 170
        }
      },
      "cell_type": "code",
      "source": [
        "df.describe()"
      ],
      "execution_count": 0,
      "outputs": [
        {
          "output_type": "execute_result",
          "data": {
            "text/plain": [
              "count    1.651500e+04\n",
              "mean     6.674945e+04\n",
              "std      1.600737e+05\n",
              "min      1.000000e+00\n",
              "25%      2.784000e+03\n",
              "50%      1.647800e+04\n",
              "75%      5.244600e+04\n",
              "max      1.922927e+06\n",
              "dtype: float64"
            ]
          },
          "metadata": {
            "tags": []
          },
          "execution_count": 130
        }
      ]
    },
    {
      "metadata": {
        "id": "6jSoQ33z3-9R",
        "colab_type": "code",
        "colab": {}
      },
      "cell_type": "code",
      "source": [
        "from scipy import stats\n",
        "rev = df[~((df-df.mean()).abs() > 3*df.std())]"
      ],
      "execution_count": 0,
      "outputs": []
    },
    {
      "metadata": {
        "id": "Mj_b24Si4m5A",
        "colab_type": "code",
        "outputId": "55490c8b-4bee-463f-ea69-b0817d13dcbf",
        "colab": {
          "base_uri": "https://localhost:8080/",
          "height": 316
        }
      },
      "cell_type": "code",
      "source": [
        "plt.hist(rev, bins=30, normed=True, alpha=0.5,\n",
        "         histtype='stepfilled', color='steelblue',\n",
        "         edgecolor='none');"
      ],
      "execution_count": 0,
      "outputs": [
        {
          "output_type": "stream",
          "text": [
            "/usr/local/lib/python3.6/dist-packages/matplotlib/axes/_axes.py:6521: MatplotlibDeprecationWarning: \n",
            "The 'normed' kwarg was deprecated in Matplotlib 2.1 and will be removed in 3.1. Use 'density' instead.\n",
            "  alternative=\"'density'\", removal=\"3.1\")\n"
          ],
          "name": "stderr"
        },
        {
          "output_type": "display_data",
          "data": {
            "image/png": "[encoded data removed]",
            "text/plain": [
              "<Figure size 432x288 with 1 Axes>"
            ]
          },
          "metadata": {
            "tags": []
          }
        }
      ]
    },
    {
      "metadata": {
        "id": "aTrQsiXg5LgQ",
        "colab_type": "code",
        "outputId": "c2c352cd-f58d-4bf9-f48a-f703c16a1049",
        "colab": {
          "base_uri": "https://localhost:8080/",
          "height": 34
        }
      },
      "cell_type": "code",
      "source": [
        "print(type(followers_count[0]))\n",
        "df = pandas.DataFrame(followers_count)"
      ],
      "execution_count": 0,
      "outputs": [
        {
          "output_type": "stream",
          "text": [
            "<class 'int'>\n"
          ],
          "name": "stdout"
        }
      ]
    },
    {
      "metadata": {
        "id": "tNGO17hv5b4f",
        "colab_type": "code",
        "outputId": "5cd28a43-82fb-40e7-a351-11977712c00a",
        "colab": {
          "base_uri": "https://localhost:8080/",
          "height": 51
        }
      },
      "cell_type": "code",
      "source": [
        "df.idxmax()"
      ],
      "execution_count": 0,
      "outputs": [
        {
          "output_type": "execute_result",
          "data": {
            "text/plain": [
              "0    2868\n",
              "dtype: int64"
            ]
          },
          "metadata": {
            "tags": []
          },
          "execution_count": 151
        }
      ]
    },
    {
      "metadata": {
        "id": "eY06BAyQ6HEa",
        "colab_type": "code",
        "outputId": "b0bdc5a7-de6f-4b7a-d292-3cb9a49cf433",
        "colab": {
          "base_uri": "https://localhost:8080/",
          "height": 34
        }
      },
      "cell_type": "code",
      "source": [
        "screen_name = [status['user']['screen_name'] for status in statuses]\n",
        "len(screen_name)\n",
        "screen_name[2868]"
      ],
      "execution_count": 0,
      "outputs": [
        {
          "output_type": "execute_result",
          "data": {
            "text/plain": [
              "'nvidia'"
            ]
          },
          "metadata": {
            "tags": []
          },
          "execution_count": 153
        }
      ]
    },
    {
      "metadata": {
        "id": "CcN95CsY6vsJ",
        "colab_type": "code",
        "outputId": "5321525a-ab78-47ca-edd6-170e5289ad8f",
        "colab": {
          "base_uri": "https://localhost:8080/",
          "height": 1550
        }
      },
      "cell_type": "code",
      "source": [
        "print(json.dumps(statuses[2868]['user'], indent=3))"
      ],
      "execution_count": 0,
      "outputs": [
        {
          "output_type": "stream",
          "text": [
            "{\n",
            "   \"id\": 61559439,\n",
            "   \"id_str\": \"61559439\",\n",
            "   \"name\": \"NVIDIA\",\n",
            "   \"screen_name\": \"nvidia\",\n",
            "   \"location\": \"Santa Clara, CA\",\n",
            "   \"description\": \"The official handle for NVIDIA. Blog: https://t.co/ohDSqeDJ1D Support: https://t.co/DAKuuuZIg5 All NVIDIA Social Media: https://t.co/0MNNrxXnKC #AI\",\n",
            "   \"url\": \"http://t.co/SjzHg85NVX\",\n",
            "   \"entities\": {\n",
            "      \"url\": {\n",
            "         \"urls\": [\n",
            "            {\n",
            "               \"url\": \"http://t.co/SjzHg85NVX\",\n",
            "               \"expanded_url\": \"http://www.nvidia.com\",\n",
            "               \"display_url\": \"nvidia.com\",\n",
            "               \"indices\": [\n",
            "                  0,\n",
            "                  22\n",
            "               ]\n",
            "            }\n",
            "         ]\n",
            "      },\n",
            "      \"description\": {\n",
            "         \"urls\": [\n",
            "            {\n",
            "               \"url\": \"https://t.co/ohDSqeDJ1D\",\n",
            "               \"expanded_url\": \"http://blogs.nvidia.com\",\n",
            "               \"display_url\": \"blogs.nvidia.com\",\n",
            "               \"indices\": [\n",
            "                  38,\n",
            "                  61\n",
            "               ]\n",
            "            },\n",
            "            {\n",
            "               \"url\": \"https://t.co/DAKuuuZIg5\",\n",
            "               \"expanded_url\": \"http://nvda.ws/2ei5pio\",\n",
            "               \"display_url\": \"nvda.ws/2ei5pio\",\n",
            "               \"indices\": [\n",
            "                  71,\n",
            "                  94\n",
            "               ]\n",
            "            },\n",
            "            {\n",
            "               \"url\": \"https://t.co/0MNNrxXnKC\",\n",
            "               \"expanded_url\": \"http://nvda.ws/2fVB0Lz\",\n",
            "               \"display_url\": \"nvda.ws/2fVB0Lz\",\n",
            "               \"indices\": [\n",
            "                  120,\n",
            "                  143\n",
            "               ]\n",
            "            }\n",
            "         ]\n",
            "      }\n",
            "   },\n",
            "   \"protected\": false,\n",
            "   \"followers_count\": 1431985,\n",
            "   \"friends_count\": 1683,\n",
            "   \"listed_count\": 5986,\n",
            "   \"created_at\": \"Thu Jul 30 18:25:14 +0000 2009\",\n",
            "   \"favourites_count\": 3663,\n",
            "   \"utc_offset\": null,\n",
            "   \"time_zone\": null,\n",
            "   \"geo_enabled\": true,\n",
            "   \"verified\": true,\n",
            "   \"statuses_count\": 10968,\n",
            "   \"lang\": \"en\",\n",
            "   \"contributors_enabled\": false,\n",
            "   \"is_translator\": false,\n",
            "   \"is_translation_enabled\": false,\n",
            "   \"profile_background_color\": \"D5D5D5\",\n",
            "   \"profile_background_image_url\": \"http://abs.twimg.com/images/themes/theme1/bg.png\",\n",
            "   \"profile_background_image_url_https\": \"https://abs.twimg.com/images/themes/theme1/bg.png\",\n",
            "   \"profile_background_tile\": false,\n",
            "   \"profile_image_url\": \"http://pbs.twimg.com/profile_images/467079983936970752/LUOWehvo_normal.jpeg\",\n",
            "   \"profile_image_url_https\": \"https://pbs.twimg.com/profile_images/467079983936970752/LUOWehvo_normal.jpeg\",\n",
            "   \"profile_banner_url\": \"https://pbs.twimg.com/profile_banners/61559439/1522799488\",\n",
            "   \"profile_link_color\": \"2276BB\",\n",
            "   \"profile_sidebar_border_color\": \"FFFFFF\",\n",
            "   \"profile_sidebar_fill_color\": \"DDEEF6\",\n",
            "   \"profile_text_color\": \"333333\",\n",
            "   \"profile_use_background_image\": true,\n",
            "   \"has_extended_profile\": false,\n",
            "   \"default_profile\": false,\n",
            "   \"default_profile_image\": false,\n",
            "   \"following\": false,\n",
            "   \"follow_request_sent\": false,\n",
            "   \"notifications\": false,\n",
            "   \"translator_type\": \"none\"\n",
            "}\n"
          ],
          "name": "stdout"
        }
      ]
    },
    {
      "metadata": {
        "id": "QbLOlw407kt_",
        "colab_type": "code",
        "outputId": "d3942689-a027-411b-b65f-90e55bb8bad8",
        "colab": {
          "base_uri": "https://localhost:8080/",
          "height": 54
        }
      },
      "cell_type": "code",
      "source": [
        "c = Counter(hashtags)\n",
        "print(c.most_common()[:10])"
      ],
      "execution_count": 0,
      "outputs": [
        {
          "output_type": "stream",
          "text": [
            "[('MachineLearning', 5367), ('AI', 5149), ('BigData', 2611), ('DataScience', 2405), ('IoT', 1753), ('Analytics', 1497), ('machinelearning', 1336), ('ArtificialIntelligence', 1305), ('DeepLearning', 1000), ('IIoT', 736)]\n"
          ],
          "name": "stdout"
        }
      ]
    },
    {
      "metadata": {
        "id": "coYzvK2J8Hl2",
        "colab_type": "code",
        "colab": {}
      },
      "cell_type": "code",
      "source": [
        "retweets = [(status['retweet_count'], status['retweeted_status']['user']['screen_name'], status['text']) for status in statuses if 'retweeted_status' in status]\n"
      ],
      "execution_count": 0,
      "outputs": []
    },
    {
      "metadata": {
        "id": "X9VGM0LY8sGg",
        "colab_type": "code",
        "outputId": "0a136d7f-b6ab-40bf-8cfc-a28804cf8dff",
        "colab": {
          "base_uri": "https://localhost:8080/",
          "height": 547
        }
      },
      "cell_type": "code",
      "source": [
        "retweets = list(set(retweets))\n",
        "top_retweets = sorted(retweets, reverse=True)\n",
        "top_retweets[:10]"
      ],
      "execution_count": 0,
      "outputs": [
        {
          "output_type": "execute_result",
          "data": {
            "text/plain": [
              "[(730,\n",
              "  'DeepLearn007',\n",
              "  'RT @DeepLearn007: ow #AI will impact your life in the 2020s\\n#MachineLearning #Deeplearning #BigData #Datascience #Fintech #ML #DL #Healthte…'),\n",
              " (567,\n",
              "  'KirkDBorne',\n",
              "  'RT @KirkDBorne: New #DataScience 10-page (PDF) Cheat Sheet covers basic concepts in probability, #statistics, statistical learning, #Machin…'),\n",
              " (554,\n",
              "  'KirkDBorne',\n",
              "  'RT @KirkDBorne: Nearly 300 Statistical Concepts Explained in Simple English — in 10 Parts: https://t.co/YA8aIJVho4 #abdsc \\n\\n#BigData #DataS…'),\n",
              " (449,\n",
              "  'AIBizDir',\n",
              "  'RT @AIBizDir: #ArtificialIntelligence (#AI) Business Directory https://t.co/cVozfg4nxy #Startup #MachineLearning #IoT #CyberSecurity https:…'),\n",
              " (411,\n",
              "  'vg_fco',\n",
              "  'RT @vg_fco: How Executives use Social Media! #SEO #DigitalMarketing #ContentMarketing #Marketing #SMM #IoT #GrowthHacking #Analytics #Infog…'),\n",
              " (383,\n",
              "  'DeepLearn007',\n",
              "  'RT @DeepLearn007: #AI in #FinTech, #InsurTech &amp; The Future with #5G\\n#MachineLearning #DeepLearning #BigData #Datascience #ML #DL #HealthTec…'),\n",
              " (376,\n",
              "  'KirkDBorne',\n",
              "  'RT @KirkDBorne: New #DataScience 10-page (PDF) Cheat Sheet covers basic concepts in probability, #statistics, statistical learning, #Machin…'),\n",
              " (247,\n",
              "  'DeepLearn007',\n",
              "  'RT @DeepLearn007: What is #MachineLearning &amp; why does it matter\\n@JimMarous @SpirosMargaris @ipfconline1 @BrettKing @pierrepinna @Xbond49 @T…'),\n",
              " (245,\n",
              "  'GurneyJourney',\n",
              "  'RT @GurneyJourney: A new website called \"This Person Does Not Exist\" uses generative adversarial networks (GANs) to make a new face from sc…'),\n",
              " (244,\n",
              "  'Ronald_vanLoon',\n",
              "  'RT @Ronald_vanLoon: The Future Is #Autonomous. What is the Impact on Your Business by Andrew Sutherland | \\n\\n#OracleAmbassador #OracleCloudD…')]"
            ]
          },
          "metadata": {
            "tags": []
          },
          "execution_count": 162
        }
      ]
    }
  ]
}